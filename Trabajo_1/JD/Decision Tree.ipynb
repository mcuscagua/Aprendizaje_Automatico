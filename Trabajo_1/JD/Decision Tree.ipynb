{
 "cells": [
  {
   "cell_type": "code",
   "execution_count": 260,
   "metadata": {},
   "outputs": [],
   "source": [
    "import numpy as np\n",
    "import pandas as pd\n",
    "import itertools as it\n",
    "from sklearn.model_selection import train_test_split\n",
    "from Orange.classification import tree\n",
    "from sklearn.tree import DecisionTreeClassifier\n",
    "from sklearn.metrics import accuracy_score, confusion_matrix"
   ]
  },
  {
   "cell_type": "markdown",
   "metadata": {},
   "source": [
    "## Carga de Datos"
   ]
  },
  {
   "cell_type": "code",
   "execution_count": 261,
   "metadata": {},
   "outputs": [],
   "source": [
    "DataIn = pd.read_excel('Data.xlsx')\n",
    "DataIn = DataIn.set_index('Date')\n",
    "Y = Data['Class']\n",
    "X = Data.drop('Class', axis = 1)"
   ]
  },
  {
   "cell_type": "code",
   "execution_count": 262,
   "metadata": {},
   "outputs": [],
   "source": [
    "Data = DataIn.dropna(axis=0,how='any')"
   ]
  },
  {
   "cell_type": "markdown",
   "metadata": {},
   "source": [
    "*Calcula el m para validación y pruebas, basandose en el n min optimo/estimado.*"
   ]
  },
  {
   "cell_type": "code",
   "execution_count": 268,
   "metadata": {},
   "outputs": [],
   "source": [
    "def getting_data_for_validation_and_test(n_training_data):\n",
    "    return int((0.4*n_training_data)/0.6)"
   ]
  },
  {
   "cell_type": "markdown",
   "metadata": {},
   "source": [
    "## División de datos en: Entrenamiento, Pruebas, Validación\n",
    "\n",
    "Para cada clase de hipótesis, con su n estimado/optimo dividermos la muestra de la siguiente manera:\n",
    "\n",
    "- n: Número optimo de elementos para que modelo aprenda. Serán los datos que utilizaremos para entrenar el modelo.\n",
    "- validation_data: Datos para la validación de la muestra.\n",
    "- test_data: Datos para probar modelo entrenado."
   ]
  },
  {
   "cell_type": "code",
   "execution_count": 263,
   "metadata": {},
   "outputs": [],
   "source": [
    "def split_data_for_model_training(X, Y, n, getting_data_for_validation_and_test):\n",
    "    X_tr, X_ts, Y_tr, Y_ts = train_test_split(X,\n",
    "                                              Y, \n",
    "                                              train_size = n, \n",
    "                                              test_size = getting_data_for_validation_and_test(n), \n",
    "                                              random_state=19)\n",
    "    \n",
    "    X2_va, X2_ts, Y2_va, Y2_ts = train_test_split(X_ts, \n",
    "                                                  Y_ts, \n",
    "                                                  train_size = 0.5, \n",
    "                                                  random_state=19)\n",
    "    return X_tr, Y_tr, X2_va, Y2_va, X2_ts, Y2_ts"
   ]
  },
  {
   "cell_type": "markdown",
   "metadata": {},
   "source": [
    "## Utilitario para construir un modelo con los parametros dados:\n",
    "\n",
    "- X features\n",
    "- Y Labels\n",
    "- n muestra min optima o estimada\n",
    "- max_depth hiperparámetro de Profundidad\n",
    "- max_leaf_nodes hiperparámetro de hojas"
   ]
  },
  {
   "cell_type": "code",
   "execution_count": 264,
   "metadata": {},
   "outputs": [],
   "source": [
    "def building_a_tree_model(split_data_for_model_training, \n",
    "                          getting_data_for_validation_and_test, \n",
    "                          X, \n",
    "                          Y, \n",
    "                          n, \n",
    "                          max_depth, max_leaf_nodes):\n",
    "    \n",
    "    clf = DecisionTreeClassifier(random_state=19, \n",
    "                                 max_depth = max_depth, \n",
    "                                 max_leaf_nodes = max_leaf_nodes)\n",
    "    \n",
    "    X_tr, Y_tr, X2_va, Y2_va, X2_ts, Y2_ts = split_data_for_model_training(X, \n",
    "                                                                           Y, \n",
    "                                                                           n, \n",
    "                                                                           getting_data_for_validation_and_test)\n",
    "    \n",
    "    ## Training the data\n",
    "    clf.fit(X_tr, Y_tr)\n",
    "    y_pred = clf.predict(X2_va)\n",
    "    a_score = accuracy_score(Y2_va, y_pred)\n",
    "    return clf, y_pred, a_score\n",
    "    "
   ]
  },
  {
   "cell_type": "markdown",
   "metadata": {},
   "source": [
    "## Cálculo de n min optimo para un arbol con:\n",
    "\n",
    "- profundidad \"k\"\n",
    "- error de experto \"delta\"\n",
    "- error de entrenamiento \"epsilon\"\n",
    "- y con un número de carácteristicas igual a \"features\""
   ]
  },
  {
   "cell_type": "code",
   "execution_count": 265,
   "metadata": {},
   "outputs": [],
   "source": [
    "def optim_n_for_tree( k, delta, epsilon, features ):\n",
    "    re = ((2**k) - 1)*(1 + np.log2(features))+1+np.log(delta**(-1))\n",
    "    return int((np.log(2)/(2*epsilon**2))*re)"
   ]
  },
  {
   "cell_type": "markdown",
   "metadata": {},
   "source": [
    "## Configuración"
   ]
  },
  {
   "cell_type": "code",
   "execution_count": 2,
   "metadata": {},
   "outputs": [],
   "source": [
    "Hpyer_Parameters = [[1,2,3,4,5,6,7,8,9],[4,5,6]] # profundidad del arbol y nro de hojas.\n",
    "set_parameters = [i for i in it.product(*Hpyer_Parameters)]\n",
    "Epsilon = 0.2\n",
    "delta = 0.1\n",
    "Features = 67"
   ]
  },
  {
   "cell_type": "code",
   "execution_count": 267,
   "metadata": {},
   "outputs": [
    {
     "name": "stdout",
     "output_type": "stream",
     "text": [
      "Tree parameters: \n"
     ]
    },
    {
     "data": {
      "text/plain": [
       "[(1, 4),\n",
       " (1, 5),\n",
       " (1, 6),\n",
       " (2, 4),\n",
       " (2, 5),\n",
       " (2, 6),\n",
       " (3, 4),\n",
       " (3, 5),\n",
       " (3, 6),\n",
       " (4, 4),\n",
       " (4, 5),\n",
       " (4, 6),\n",
       " (5, 4),\n",
       " (5, 5),\n",
       " (5, 6),\n",
       " (6, 4),\n",
       " (6, 5),\n",
       " (6, 6),\n",
       " (7, 4),\n",
       " (7, 5),\n",
       " (7, 6),\n",
       " (8, 4),\n",
       " (8, 5),\n",
       " (8, 6),\n",
       " (9, 4),\n",
       " (9, 5),\n",
       " (9, 6)]"
      ]
     },
     "execution_count": 267,
     "metadata": {},
     "output_type": "execute_result"
    }
   ],
   "source": [
    "print(\"Tree parameters: \")\n",
    "set_parameters"
   ]
  },
  {
   "cell_type": "markdown",
   "metadata": {},
   "source": [
    "# Modelos - N mínimo Optimo\n",
    "\n",
    "Aqui encontramos el arbol con el score mas alto y mas bajo para todos los n optimos de las clases de hipotesis"
   ]
  },
  {
   "cell_type": "code",
   "execution_count": 273,
   "metadata": {},
   "outputs": [],
   "source": [
    "def main_fun(data, epsilon, delta, features, X, Y):\n",
    "    results = []\n",
    "    # TODO - Add Try/Catch\n",
    "    for p in set_parameters:        \n",
    "        n = optim_n_for_tree(p[0], delta, epsilon, features)        \n",
    "        # Validamos si n esta dentro del sample\n",
    "        if (n + getting_data_for_validation_and_test(n)) > X.shape[0]:\n",
    "            return results\n",
    "        else: \n",
    "            clf, y_pred, a_score = building_a_tree_model(split_data_for_model_training,\n",
    "                                  getting_data_for_validation_and_test,\n",
    "                                  X,\n",
    "                                  Y,\n",
    "                                  n,\n",
    "                                  p[0],\n",
    "                                  p[1])\n",
    "            results.append((clf, a_score))\n",
    "    return results"
   ]
  },
  {
   "cell_type": "code",
   "execution_count": 298,
   "metadata": {
    "scrolled": true
   },
   "outputs": [
    {
     "name": "stderr",
     "output_type": "stream",
     "text": [
      "/anaconda3/lib/python3.7/site-packages/sklearn/model_selection/_split.py:2179: FutureWarning: From version 0.21, test_size will always complement train_size unless both are specified.\n",
      "  FutureWarning)\n",
      "/anaconda3/lib/python3.7/site-packages/sklearn/model_selection/_split.py:2179: FutureWarning: From version 0.21, test_size will always complement train_size unless both are specified.\n",
      "  FutureWarning)\n",
      "/anaconda3/lib/python3.7/site-packages/sklearn/model_selection/_split.py:2179: FutureWarning: From version 0.21, test_size will always complement train_size unless both are specified.\n",
      "  FutureWarning)\n",
      "/anaconda3/lib/python3.7/site-packages/sklearn/model_selection/_split.py:2179: FutureWarning: From version 0.21, test_size will always complement train_size unless both are specified.\n",
      "  FutureWarning)\n",
      "/anaconda3/lib/python3.7/site-packages/sklearn/model_selection/_split.py:2179: FutureWarning: From version 0.21, test_size will always complement train_size unless both are specified.\n",
      "  FutureWarning)\n",
      "/anaconda3/lib/python3.7/site-packages/sklearn/model_selection/_split.py:2179: FutureWarning: From version 0.21, test_size will always complement train_size unless both are specified.\n",
      "  FutureWarning)\n",
      "/anaconda3/lib/python3.7/site-packages/sklearn/model_selection/_split.py:2179: FutureWarning: From version 0.21, test_size will always complement train_size unless both are specified.\n",
      "  FutureWarning)\n",
      "/anaconda3/lib/python3.7/site-packages/sklearn/model_selection/_split.py:2179: FutureWarning: From version 0.21, test_size will always complement train_size unless both are specified.\n",
      "  FutureWarning)\n",
      "/anaconda3/lib/python3.7/site-packages/sklearn/model_selection/_split.py:2179: FutureWarning: From version 0.21, test_size will always complement train_size unless both are specified.\n",
      "  FutureWarning)\n",
      "/anaconda3/lib/python3.7/site-packages/sklearn/model_selection/_split.py:2179: FutureWarning: From version 0.21, test_size will always complement train_size unless both are specified.\n",
      "  FutureWarning)\n",
      "/anaconda3/lib/python3.7/site-packages/sklearn/model_selection/_split.py:2179: FutureWarning: From version 0.21, test_size will always complement train_size unless both are specified.\n",
      "  FutureWarning)\n",
      "/anaconda3/lib/python3.7/site-packages/sklearn/model_selection/_split.py:2179: FutureWarning: From version 0.21, test_size will always complement train_size unless both are specified.\n",
      "  FutureWarning)\n",
      "/anaconda3/lib/python3.7/site-packages/sklearn/model_selection/_split.py:2179: FutureWarning: From version 0.21, test_size will always complement train_size unless both are specified.\n",
      "  FutureWarning)\n",
      "/anaconda3/lib/python3.7/site-packages/sklearn/model_selection/_split.py:2179: FutureWarning: From version 0.21, test_size will always complement train_size unless both are specified.\n",
      "  FutureWarning)\n",
      "/anaconda3/lib/python3.7/site-packages/sklearn/model_selection/_split.py:2179: FutureWarning: From version 0.21, test_size will always complement train_size unless both are specified.\n",
      "  FutureWarning)\n"
     ]
    }
   ],
   "source": [
    "w = main_fun(Data, Epsilon, delta, Features, X, Y)"
   ]
  },
  {
   "cell_type": "code",
   "execution_count": 297,
   "metadata": {},
   "outputs": [
    {
     "data": {
      "text/plain": [
       "(DecisionTreeClassifier(class_weight=None, criterion='gini', max_depth=5,\n",
       "             max_features=None, max_leaf_nodes=4, min_impurity_decrease=0.0,\n",
       "             min_impurity_split=None, min_samples_leaf=1,\n",
       "             min_samples_split=2, min_weight_fraction_leaf=0.0,\n",
       "             presort=False, random_state=19, splitter='best'),\n",
       " 0.5155763239875389)"
      ]
     },
     "execution_count": 297,
     "metadata": {},
     "output_type": "execute_result"
    }
   ],
   "source": [
    "max(w, key = lambda t: t[1])"
   ]
  },
  {
   "cell_type": "code",
   "execution_count": 296,
   "metadata": {},
   "outputs": [
    {
     "data": {
      "text/plain": [
       "(DecisionTreeClassifier(class_weight=None, criterion='gini', max_depth=1,\n",
       "             max_features=None, max_leaf_nodes=4, min_impurity_decrease=0.0,\n",
       "             min_impurity_split=None, min_samples_leaf=1,\n",
       "             min_samples_split=2, min_weight_fraction_leaf=0.0,\n",
       "             presort=False, random_state=19, splitter='best'),\n",
       " 0.20689655172413793)"
      ]
     },
     "execution_count": 296,
     "metadata": {},
     "output_type": "execute_result"
    }
   ],
   "source": [
    "min(w, key = lambda t: t[1])"
   ]
  },
  {
   "cell_type": "markdown",
   "metadata": {},
   "source": [
    "## Cálculo de n min estimado para todas las clases de hipotesis:\n",
    "\n",
    "- error de experto \"delta\"\n",
    "- error de entrenamiento \"epsilon\"\n",
    "- conjunto de hiperparametros \"h_aprox\""
   ]
  },
  {
   "cell_type": "code",
   "execution_count": 6,
   "metadata": {},
   "outputs": [],
   "source": [
    "def estim_n_for_tree(epsilon, h_aprox, delta):\n",
    "    return int(np.ceil((1/epsilon)*(np.log(h_aprox) + np.log(1/delta))))"
   ]
  },
  {
   "cell_type": "markdown",
   "metadata": {},
   "source": [
    "# Modelos - N mínimo estimado\n",
    "\n",
    "Aquí encontramos el árbol con el *score* mas alto y mas bajo, utilizando el n mínimo estimado\n",
    ", para todas las clases de hipotesis."
   ]
  },
  {
   "cell_type": "code",
   "execution_count": 4,
   "metadata": {},
   "outputs": [],
   "source": [
    "def main_fun_min_estimado(data, epsilon, delta, features, X, Y, n):\n",
    "    results = []\n",
    "    # TODO - Add Try/Catch\n",
    "    for p in set_parameters:        \n",
    "        # Validamos si n esta dentro del sample\n",
    "        if (n + getting_data_for_validation_and_test(n)) > X.shape[0]:\n",
    "            return results\n",
    "        else: \n",
    "            clf, y_pred, a_score = building_a_tree_model(split_data_for_model_training,\n",
    "                                  getting_data_for_validation_and_test,\n",
    "                                  X,\n",
    "                                  Y,\n",
    "                                  n,\n",
    "                                  p[0],\n",
    "                                  p[1])\n",
    "            results.append((clf, a_score))\n",
    "    return results"
   ]
  },
  {
   "cell_type": "code",
   "execution_count": null,
   "metadata": {},
   "outputs": [],
   "source": []
  },
  {
   "cell_type": "markdown",
   "metadata": {},
   "source": [
    "## Utilidades"
   ]
  },
  {
   "cell_type": "code",
   "execution_count": null,
   "metadata": {},
   "outputs": [],
   "source": [
    "def get_best_decision_tree(set_parameters, epsilon, features, delta):\n",
    "    result = map(lambda x: )"
   ]
  },
  {
   "cell_type": "code",
   "execution_count": 158,
   "metadata": {},
   "outputs": [],
   "source": [
    "def get_optim_ms_from_H( set_parameters, epsilon, features, delta ):\n",
    "    result = map(lambda x:optim_n_for_tree(x[0], delta, epsilon, features ), set_parameters)  \n",
    "    return list(result)"
   ]
  },
  {
   "cell_type": "code",
   "execution_count": 15,
   "metadata": {},
   "outputs": [],
   "source": [
    "n_opt = int(np.ceil((1/Epsilon)*(np.log(dimVC) + np.log(1/delta))))\n",
    "X2_tr, X2_ts, Y2_tr, Y2_ts = train_test_split(X, Y, train_size = n_opt/X.shape[0], random_state=123)"
   ]
  },
  {
   "cell_type": "markdown",
   "metadata": {},
   "source": [
    "# AQUI EL ALGORITMO USANDO X2"
   ]
  },
  {
   "cell_type": "markdown",
   "metadata": {},
   "source": [
    "### $\\eta$ minimo estimado"
   ]
  },
  {
   "cell_type": "code",
   "execution_count": 209,
   "metadata": {},
   "outputs": [],
   "source": [
    "h_aprox = len(set_parameters)"
   ]
  },
  {
   "cell_type": "code",
   "execution_count": 63,
   "metadata": {},
   "outputs": [],
   "source": [
    "n_est = int(np.ceil((1/Epsilon)*(np.log(h_aprox) + np.log(1/delta))))\n"
   ]
  }
 ],
 "metadata": {
  "kernelspec": {
   "display_name": "Python 3",
   "language": "python",
   "name": "python3"
  },
  "language_info": {
   "codemirror_mode": {
    "name": "ipython",
    "version": 3
   },
   "file_extension": ".py",
   "mimetype": "text/x-python",
   "name": "python",
   "nbconvert_exporter": "python",
   "pygments_lexer": "ipython3",
   "version": "3.7.3"
  }
 },
 "nbformat": 4,
 "nbformat_minor": 2
}
