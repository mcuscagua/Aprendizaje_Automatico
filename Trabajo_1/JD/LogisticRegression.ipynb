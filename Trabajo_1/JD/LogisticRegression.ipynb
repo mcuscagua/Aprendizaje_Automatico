{
 "cells": [
  {
   "cell_type": "code",
   "execution_count": 3,
   "metadata": {},
   "outputs": [],
   "source": [
    "import numpy as np\n",
    "import pandas as pd\n",
    "import itertools as it\n",
    "from sklearn.linear_model import LogisticRegression\n",
    "from sklearn.model_selection import train_test_split, GridSearchCV\n",
    "from sklearn.model_selection import cross_val_score\n",
    "from sklearn.metrics import precision_score,confusion_matrix,recall_score,accuracy_score\n",
    "from sklearn.metrics import roc_curve, auc,precision_recall_curve, roc_curve\n",
    "import matplotlib.pylab as plt"
   ]
  },
  {
   "cell_type": "markdown",
   "metadata": {},
   "source": [
    "## Carga de Datos"
   ]
  },
  {
   "cell_type": "code",
   "execution_count": 4,
   "metadata": {},
   "outputs": [],
   "source": [
    "DataIn = pd.read_excel('Data.xlsx')\n",
    "DataIn = DataIn.set_index('Date')\n",
    "Data = DataIn.dropna(axis=0,how='any')\n",
    "Y = Data['Class']\n",
    "X = Data.drop('Class', axis = 1)"
   ]
  },
  {
   "cell_type": "code",
   "execution_count": 5,
   "metadata": {},
   "outputs": [],
   "source": [
    "Data = pd.read_excel('Data.xlsx')\n",
    "Data = Data.set_index('Date')"
   ]
  },
  {
   "cell_type": "markdown",
   "metadata": {},
   "source": [
    "# Definición de funciones para optimización de hyper parametros"
   ]
  },
  {
   "cell_type": "markdown",
   "metadata": {},
   "source": [
    "## Parametrización "
   ]
  },
  {
   "cell_type": "code",
   "execution_count": 14,
   "metadata": {},
   "outputs": [],
   "source": [
    "Epsilon = 0.2\n",
    "delta = 0.1\n",
    "Hyper_Parameters = [['l1','l2'],[100,150,200]] \n",
    "set_parameters = [i for i in it.product(*Hyper_Parameters)]\n",
    "sample_size = X.shape[0]\n",
    "training_sample_size = int(sample_size * 0.6)\n",
    "validation_sample_size = int(sample_size * 0.2)\n",
    "test_sample_size = validation_sample_size"
   ]
  },
  {
   "cell_type": "markdown",
   "metadata": {},
   "source": [
    "## División de datos en: Entrenamiento, Pruebas, Validación.\n",
    "\n",
    "*Dividimos la muestra en 60 % de Entrenamiento, 20% de Pruebas y 20% de Validación.*\n",
    "\n",
    "\n",
    "- n: Número mínimo optimo/estimado de elementos para que el modelo aprenda. Serán los datos que utilizaremos para entrenar el modelo. Se sacan del 60% total de la muestra.\n",
    "- validation_data: 20 % del total de la muestra."
   ]
  },
  {
   "cell_type": "code",
   "execution_count": 18,
   "metadata": {},
   "outputs": [],
   "source": [
    "def split_data_for_model_training(X, Y, training_sample_size, validation_sample_size):\n",
    "    X_tr, X_ts, Y_tr, Y_ts = train_test_split(X,\n",
    "                                              Y, \n",
    "                                              train_size = training_sample_size, \n",
    "                                              test_size = validation_sample_size*2, \n",
    "                                              random_state=19)\n",
    "    \n",
    "    X2_va, X2_ts, Y2_va, Y2_ts = train_test_split(X_ts, \n",
    "                                                  Y_ts, \n",
    "                                                  train_size = 0.5, \n",
    "                                                  random_state=19)\n",
    "    return X_tr, Y_tr, X2_va, Y2_va, X2_ts, Y2_ts"
   ]
  },
  {
   "cell_type": "code",
   "execution_count": 22,
   "metadata": {},
   "outputs": [],
   "source": [
    "def building_a_logistic_model(validation_data_x, validation_data_y,\n",
    "                          training_data_x, training_data_y,\n",
    "                          n, penalty, max_iter):\n",
    "    \n",
    "    log = LogisticRegression(penalty=penalty, max_iter=max_iter)\n",
    "    X_tr, X_ts, Y_tr, Y_ts = train_test_split(training_data_x, \n",
    "                                              training_data_y, \n",
    "                                              train_size = n,\n",
    "                                              random_state=19)\n",
    "    \n",
    "    log.fit(X_tr, Y_tr)\n",
    "    y_pred = log.predict(validation_data_x)\n",
    "    a_score = accuracy_score(validation_data_y, y_pred)\n",
    "    p_score = precision_score(validation_data_y, y_pred, average = 'macro')\n",
    "    r_score = recall_score(validation_data_y, y_pred, average = 'macro')\n",
    "    return log, y_pred, a_score, p_score, r_score"
   ]
  },
  {
   "cell_type": "markdown",
   "metadata": {},
   "source": [
    "## Cálculo de n min optimo:\n"
   ]
  },
  {
   "cell_type": "code",
   "execution_count": 23,
   "metadata": {},
   "outputs": [],
   "source": [
    "def optim_n_for_tree(features):\n",
    "    return features+1"
   ]
  },
  {
   "cell_type": "markdown",
   "metadata": {},
   "source": [
    "# Modelos - N mínimo Optimo\n",
    "\n",
    "Aqui encontramos la regresion logistica con el score mas alto y mas bajo para todos los n optimos de las clases de hipotesis"
   ]
  },
  {
   "cell_type": "code",
   "execution_count": 24,
   "metadata": {},
   "outputs": [],
   "source": [
    "def main_fun(epsilon, delta, validation_data_x, validation_data_y,\n",
    "                          training_data_x, training_data_y, _set_parameters, n):\n",
    "    results = []\n",
    "    # TODO - Add Try/Catch\n",
    "    for p in _set_parameters:              \n",
    "        # Validamos si n esta dentro del sample\n",
    "        if n > len(training_data_x):\n",
    "            return results\n",
    "        else:             \n",
    "            log, y_pred, a_score, p_score, r_score =  building_a_logistic_model(validation_data_x, validation_data_y,\n",
    "                                    training_data_x, training_data_y,\n",
    "                                    n,\n",
    "                                    p[0], \n",
    "                                    p[1])\n",
    "            \n",
    "            results.append((log, y_pred, a_score, p_score, r_score, n))\n",
    "    return results"
   ]
  },
  {
   "cell_type": "code",
   "execution_count": 25,
   "metadata": {},
   "outputs": [
    {
     "name": "stderr",
     "output_type": "stream",
     "text": [
      "D:\\Usuarios\\juanespe\\AppData\\Local\\Continuum\\anaconda3\\lib\\site-packages\\sklearn\\model_selection\\_split.py:2179: FutureWarning: From version 0.21, test_size will always complement train_size unless both are specified.\n",
      "  FutureWarning)\n"
     ]
    }
   ],
   "source": [
    "X_tr, Y_tr, X2_va, Y2_va, X2_ts, Y2_ts  = split_data_for_model_training(X, Y, training_sample_size, validation_sample_size)"
   ]
  },
  {
   "cell_type": "code",
   "execution_count": 30,
   "metadata": {
    "scrolled": true
   },
   "outputs": [
    {
     "name": "stderr",
     "output_type": "stream",
     "text": [
      "D:\\Usuarios\\juanespe\\AppData\\Local\\Continuum\\anaconda3\\lib\\site-packages\\sklearn\\model_selection\\_split.py:2179: FutureWarning: From version 0.21, test_size will always complement train_size unless both are specified.\n",
      "  FutureWarning)\n",
      "D:\\Usuarios\\juanespe\\AppData\\Local\\Continuum\\anaconda3\\lib\\site-packages\\sklearn\\linear_model\\logistic.py:433: FutureWarning: Default solver will be changed to 'lbfgs' in 0.22. Specify a solver to silence this warning.\n",
      "  FutureWarning)\n",
      "D:\\Usuarios\\juanespe\\AppData\\Local\\Continuum\\anaconda3\\lib\\site-packages\\sklearn\\linear_model\\logistic.py:460: FutureWarning: Default multi_class will be changed to 'auto' in 0.22. Specify the multi_class option to silence this warning.\n",
      "  \"this warning.\", FutureWarning)\n",
      "D:\\Usuarios\\juanespe\\AppData\\Local\\Continuum\\anaconda3\\lib\\site-packages\\sklearn\\metrics\\classification.py:1143: UndefinedMetricWarning: Precision is ill-defined and being set to 0.0 in labels with no predicted samples.\n",
      "  'precision', 'predicted', average, warn_for)\n",
      "D:\\Usuarios\\juanespe\\AppData\\Local\\Continuum\\anaconda3\\lib\\site-packages\\sklearn\\model_selection\\_split.py:2179: FutureWarning: From version 0.21, test_size will always complement train_size unless both are specified.\n",
      "  FutureWarning)\n",
      "D:\\Usuarios\\juanespe\\AppData\\Local\\Continuum\\anaconda3\\lib\\site-packages\\sklearn\\linear_model\\logistic.py:433: FutureWarning: Default solver will be changed to 'lbfgs' in 0.22. Specify a solver to silence this warning.\n",
      "  FutureWarning)\n",
      "D:\\Usuarios\\juanespe\\AppData\\Local\\Continuum\\anaconda3\\lib\\site-packages\\sklearn\\linear_model\\logistic.py:460: FutureWarning: Default multi_class will be changed to 'auto' in 0.22. Specify the multi_class option to silence this warning.\n",
      "  \"this warning.\", FutureWarning)\n",
      "D:\\Usuarios\\juanespe\\AppData\\Local\\Continuum\\anaconda3\\lib\\site-packages\\sklearn\\metrics\\classification.py:1143: UndefinedMetricWarning: Precision is ill-defined and being set to 0.0 in labels with no predicted samples.\n",
      "  'precision', 'predicted', average, warn_for)\n",
      "D:\\Usuarios\\juanespe\\AppData\\Local\\Continuum\\anaconda3\\lib\\site-packages\\sklearn\\model_selection\\_split.py:2179: FutureWarning: From version 0.21, test_size will always complement train_size unless both are specified.\n",
      "  FutureWarning)\n",
      "D:\\Usuarios\\juanespe\\AppData\\Local\\Continuum\\anaconda3\\lib\\site-packages\\sklearn\\linear_model\\logistic.py:433: FutureWarning: Default solver will be changed to 'lbfgs' in 0.22. Specify a solver to silence this warning.\n",
      "  FutureWarning)\n",
      "D:\\Usuarios\\juanespe\\AppData\\Local\\Continuum\\anaconda3\\lib\\site-packages\\sklearn\\linear_model\\logistic.py:460: FutureWarning: Default multi_class will be changed to 'auto' in 0.22. Specify the multi_class option to silence this warning.\n",
      "  \"this warning.\", FutureWarning)\n",
      "D:\\Usuarios\\juanespe\\AppData\\Local\\Continuum\\anaconda3\\lib\\site-packages\\sklearn\\metrics\\classification.py:1143: UndefinedMetricWarning: Precision is ill-defined and being set to 0.0 in labels with no predicted samples.\n",
      "  'precision', 'predicted', average, warn_for)\n",
      "D:\\Usuarios\\juanespe\\AppData\\Local\\Continuum\\anaconda3\\lib\\site-packages\\sklearn\\model_selection\\_split.py:2179: FutureWarning: From version 0.21, test_size will always complement train_size unless both are specified.\n",
      "  FutureWarning)\n",
      "D:\\Usuarios\\juanespe\\AppData\\Local\\Continuum\\anaconda3\\lib\\site-packages\\sklearn\\linear_model\\logistic.py:433: FutureWarning: Default solver will be changed to 'lbfgs' in 0.22. Specify a solver to silence this warning.\n",
      "  FutureWarning)\n",
      "D:\\Usuarios\\juanespe\\AppData\\Local\\Continuum\\anaconda3\\lib\\site-packages\\sklearn\\linear_model\\logistic.py:460: FutureWarning: Default multi_class will be changed to 'auto' in 0.22. Specify the multi_class option to silence this warning.\n",
      "  \"this warning.\", FutureWarning)\n",
      "D:\\Usuarios\\juanespe\\AppData\\Local\\Continuum\\anaconda3\\lib\\site-packages\\sklearn\\model_selection\\_split.py:2179: FutureWarning: From version 0.21, test_size will always complement train_size unless both are specified.\n",
      "  FutureWarning)\n",
      "D:\\Usuarios\\juanespe\\AppData\\Local\\Continuum\\anaconda3\\lib\\site-packages\\sklearn\\linear_model\\logistic.py:433: FutureWarning: Default solver will be changed to 'lbfgs' in 0.22. Specify a solver to silence this warning.\n",
      "  FutureWarning)\n",
      "D:\\Usuarios\\juanespe\\AppData\\Local\\Continuum\\anaconda3\\lib\\site-packages\\sklearn\\linear_model\\logistic.py:460: FutureWarning: Default multi_class will be changed to 'auto' in 0.22. Specify the multi_class option to silence this warning.\n",
      "  \"this warning.\", FutureWarning)\n",
      "D:\\Usuarios\\juanespe\\AppData\\Local\\Continuum\\anaconda3\\lib\\site-packages\\sklearn\\model_selection\\_split.py:2179: FutureWarning: From version 0.21, test_size will always complement train_size unless both are specified.\n",
      "  FutureWarning)\n",
      "D:\\Usuarios\\juanespe\\AppData\\Local\\Continuum\\anaconda3\\lib\\site-packages\\sklearn\\linear_model\\logistic.py:433: FutureWarning: Default solver will be changed to 'lbfgs' in 0.22. Specify a solver to silence this warning.\n",
      "  FutureWarning)\n",
      "D:\\Usuarios\\juanespe\\AppData\\Local\\Continuum\\anaconda3\\lib\\site-packages\\sklearn\\linear_model\\logistic.py:460: FutureWarning: Default multi_class will be changed to 'auto' in 0.22. Specify the multi_class option to silence this warning.\n",
      "  \"this warning.\", FutureWarning)\n"
     ]
    }
   ],
   "source": [
    "n = optim_n_for_tree(X.shape[1])\n",
    "w = main_fun(Epsilon, delta,X2_ts, Y2_ts, X_tr, Y_tr, set_parameters, n)"
   ]
  },
  {
   "cell_type": "code",
   "execution_count": 31,
   "metadata": {},
   "outputs": [
    {
     "data": {
      "text/plain": [
       "(LogisticRegression(C=1.0, class_weight=None, dual=False, fit_intercept=True,\n",
       "           intercept_scaling=1, max_iter=100, multi_class='warn',\n",
       "           n_jobs=None, penalty='l1', random_state=None, solver='warn',\n",
       "           tol=0.0001, verbose=0, warm_start=False),\n",
       " array([ 0,  0,  0, -1,  0, -1,  0,  0, -1,  0, -1,  0,  0, -1,  0,  0,  0,\n",
       "        -1,  0, -1, -1, -1, -1,  0, -1, -1,  0,  0, -1,  0, -1, -1,  0, -1,\n",
       "         0,  0,  0,  0, -1, -1,  0, -1,  0, -1, -1,  0,  0, -1,  0, -1,  0,\n",
       "         0,  0,  0,  0,  0,  0,  0,  0,  0,  0, -1, -1,  0, -1, -1,  0, -1,\n",
       "         0,  0,  0,  0, -1,  0, -1,  0, -1,  0,  0,  0, -1,  0, -1,  0, -1,\n",
       "         0,  0,  0, -1, -1,  0,  0, -1,  0, -1,  0,  0, -1,  0,  0,  0,  0,\n",
       "        -1,  0, -1,  0,  0,  0,  0,  0,  0, -1,  0,  0, -1,  0,  0, -1, -1,\n",
       "        -1,  0,  0,  0,  0, -1, -1,  0,  0,  0, -1, -1,  0,  0, -1,  0, -1,\n",
       "        -1,  0,  0, -1, -1, -1,  0,  0, -1,  0, -1, -1, -1,  0,  0,  0, -1,\n",
       "         0,  0, -1,  0,  0,  0,  0, -1,  0, -1,  0, -1,  0, -1, -1,  0,  0,\n",
       "        -1, -1,  0, -1, -1,  0,  0, -1, -1,  0, -1,  0,  0, -1,  0,  0,  0,\n",
       "        -1,  0,  0,  0,  0, -1, -1, -1,  0, -1,  0, -1,  0,  0, -1, -1,  0,\n",
       "         0,  0, -1, -1, -1,  0, -1, -1, -1,  0, -1,  0,  0, -1, -1,  0, -1,\n",
       "        -1, -1,  0,  0,  0,  0, -1, -1,  0, -1,  0,  0,  0,  0,  0,  0, -1,\n",
       "         0,  0,  0,  0, -1,  0,  0,  0,  0,  0,  0,  0, -1,  0,  0, -1, -1,\n",
       "        -1, -1,  0,  0, -1,  0,  0, -1,  0,  0, -1, -1,  0,  0, -1,  0,  0,\n",
       "         0, -1,  0,  0,  0,  0, -1,  0,  0,  0,  0,  0,  0,  0, -1, -1, -1,\n",
       "         0,  0,  0,  0, -1,  0,  0,  0, -1, -1,  0,  0,  0, -1,  0,  0,  0,\n",
       "         0,  0,  0,  0,  0, -1, -1,  0,  0,  0,  0,  0,  0, -1, -1,  0,  0,\n",
       "         0,  0,  0, -1,  0, -1, -1,  0, -1, -1,  0,  0,  0,  0,  0,  0, -1,\n",
       "        -1,  0, -1, -1, -1,  0,  0,  0,  0, -1,  0,  0,  0, -1, -1,  0, -1,\n",
       "         0,  0,  0,  0,  0,  0,  0, -1,  0, -1, -1, -1, -1,  0,  0,  0, -1,\n",
       "         0, -1,  0,  0,  0, -1,  0, -1, -1,  0,  0, -1,  0,  0,  0,  0,  0,\n",
       "         0,  0, -1,  0,  0, -1,  0, -1,  0,  0,  0, -1,  0, -1,  0, -1,  0,\n",
       "        -1, -1,  0, -1, -1,  0, -1,  0, -1, -1,  0,  0, -1, -1, -1, -1, -1,\n",
       "         0,  0,  0, -1,  0, -1,  0,  0, -1, -1, -1,  0,  0,  0, -1, -1,  0,\n",
       "         0,  0, -1, -1,  0, -1,  0,  0,  0,  0, -1,  0, -1, -1,  0,  0,  0,\n",
       "         0, -1,  0,  0,  0, -1,  0, -1, -1, -1,  0,  0, -1, -1, -1, -1,  0,\n",
       "         0,  0, -1, -1, -1,  0,  0,  0, -1,  0,  0, -1,  0, -1,  0,  0, -1,\n",
       "         0, -1, -1,  0, -1, -1,  0,  0, -1,  0, -1,  0,  0,  0,  0, -1,  0,\n",
       "         0, -1,  0, -1, -1,  0,  0,  0, -1,  0,  0, -1,  0,  0,  0, -1,  0,\n",
       "         0,  0,  0,  0, -1, -1, -1,  0,  0, -1, -1,  0, -1,  0, -1, -1, -1,\n",
       "         0,  0,  0, -1,  0, -1,  0,  0, -1,  0,  0,  0,  0,  0,  0, -1, -1,\n",
       "        -1, -1, -1,  0, -1,  0, -1,  0,  0,  0, -1,  0,  0,  0,  0, -1,  0,\n",
       "         0,  0, -1,  0,  0, -1,  0,  0,  0,  0, -1,  0, -1,  0,  0, -1,  0,\n",
       "        -1, -1,  0,  0, -1, -1,  0,  0,  0,  0, -1,  0, -1, -1,  0,  0,  0,\n",
       "         0,  0, -1,  0,  0,  0,  0,  0,  0, -1, -1, -1, -1,  0,  0,  0,  0,\n",
       "         0,  0,  0,  0,  0,  0,  0, -1,  0,  0,  0,  0, -1, -1, -1, -1,  0,\n",
       "         0, -1,  0,  0,  0,  0,  0,  0,  0, -1, -1,  0, -1,  0,  0, -1,  0,\n",
       "         0, -1, -1,  0,  0,  0,  0,  0, -1, -1,  0, -1, -1,  0, -1,  0, -1,\n",
       "         0, -1, -1,  0, -1,  0,  0, -1,  0,  0,  0, -1,  0,  0, -1,  0, -1,\n",
       "         0, -1,  0,  0,  0, -1,  0,  0,  0,  0, -1,  0, -1,  0,  0, -1, -1,\n",
       "        -1,  0,  0,  0,  0, -1,  0,  0, -1, -1, -1,  0, -1,  0,  0,  0,  0,\n",
       "         0,  0, -1, -1,  0, -1,  0,  0,  0,  0,  0,  0,  0, -1,  0,  0,  0,\n",
       "         0, -1, -1,  0,  0,  0, -1,  0, -1, -1, -1,  0, -1, -1,  0,  0,  0,\n",
       "         0, -1,  0,  0,  0,  0,  0,  0, -1,  0, -1, -1,  0,  0, -1,  0,  0,\n",
       "         0,  0,  0,  0, -1,  0,  0,  0, -1, -1,  0, -1, -1,  0, -1, -1,  0,\n",
       "         0,  0,  0,  0, -1,  0, -1, -1,  0,  0,  0, -1,  0, -1, -1, -1],\n",
       "       dtype=int64),\n",
       " 0.45153374233128835,\n",
       " 0.27773116188006153,\n",
       " 0.37691111574411895,\n",
       " 68)"
      ]
     },
     "execution_count": 31,
     "metadata": {},
     "output_type": "execute_result"
    }
   ],
   "source": [
    "max(w, key = lambda t: t[2])"
   ]
  },
  {
   "cell_type": "code",
   "execution_count": 34,
   "metadata": {},
   "outputs": [
    {
     "data": {
      "text/plain": [
       "(LogisticRegression(C=1.0, class_weight=None, dual=False, fit_intercept=True,\n",
       "           intercept_scaling=1, max_iter=100, multi_class='warn',\n",
       "           n_jobs=None, penalty='l2', random_state=None, solver='warn',\n",
       "           tol=0.0001, verbose=0, warm_start=False),\n",
       " array([ 0,  0,  0, -1,  0, -1,  0,  0,  0,  0, -1, -1,  0, -1,  0, -1,  0,\n",
       "        -1,  0, -1, -1,  0, -1,  0, -1,  0, -1,  0, -1,  0, -1, -1,  0, -1,\n",
       "         0,  0,  0,  0, -1,  0,  0, -1,  0, -1, -1,  0,  0, -1,  0, -1,  0,\n",
       "         0,  0,  0,  0,  0,  1,  0,  0, -1,  0, -1, -1, -1, -1, -1,  0, -1,\n",
       "         0,  0,  0,  0, -1,  0, -1, -1, -1, -1,  0,  0,  0,  0, -1,  0, -1,\n",
       "         0, -1,  1,  0, -1,  0,  0, -1,  0,  0,  0,  1,  0,  0,  0,  0,  0,\n",
       "        -1,  0, -1,  0,  0,  0,  0,  0, -1, -1,  0,  0, -1,  0,  0, -1, -1,\n",
       "        -1, -1,  0, -1,  0, -1, -1,  0,  0,  0, -1,  0,  0,  0, -1,  0, -1,\n",
       "        -1,  0,  0, -1, -1, -1,  0,  0, -1,  0, -1, -1, -1,  0,  0,  0, -1,\n",
       "         0,  0, -1, -1, -1,  0,  0,  0,  0,  0,  0, -1,  0, -1, -1, -1,  0,\n",
       "        -1,  0,  0, -1, -1, -1,  0, -1, -1,  0, -1,  0, -1, -1,  0, -1,  0,\n",
       "        -1,  0, -1,  0,  0, -1, -1,  0,  0, -1,  0,  0,  0,  0, -1, -1,  0,\n",
       "         0,  0, -1, -1, -1,  0, -1, -1, -1,  0, -1,  0,  0, -1, -1,  0, -1,\n",
       "        -1,  0,  0,  0,  0,  0, -1, -1,  0, -1,  0,  0,  0,  0,  0,  0,  0,\n",
       "         0,  0,  0,  0, -1, -1,  0,  0,  0,  0,  0,  0, -1,  0,  0, -1, -1,\n",
       "        -1, -1,  0,  0, -1, -1,  0,  0,  0,  0, -1, -1,  0,  0, -1,  0,  0,\n",
       "         0, -1,  0,  0,  0,  0, -1,  0,  0,  0,  0,  0,  0,  0, -1,  0,  0,\n",
       "         0,  0,  0,  0, -1, -1,  0,  0, -1, -1,  0,  0,  0, -1,  0, -1,  0,\n",
       "         0,  0,  0,  0,  0, -1, -1,  0,  0, -1,  0,  0,  0, -1,  0, -1,  0,\n",
       "         0,  0,  0, -1,  0, -1, -1,  0, -1, -1,  0,  0,  0,  0,  0,  0, -1,\n",
       "        -1,  0, -1, -1, -1,  0,  0,  0,  1,  0,  0,  0, -1, -1, -1,  0, -1,\n",
       "         0,  0,  0,  0,  0,  0,  0, -1,  0, -1,  0, -1, -1,  0,  0,  0, -1,\n",
       "         0,  0,  0,  0,  0, -1,  0, -1, -1,  0,  0, -1,  0,  0,  0,  0, -1,\n",
       "         0,  0, -1,  0,  0, -1,  0, -1,  0,  0,  0,  0,  0, -1,  0, -1,  0,\n",
       "        -1, -1,  0, -1, -1, -1, -1,  0, -1, -1,  0,  0, -1,  0, -1, -1, -1,\n",
       "         0,  0,  0, -1,  0, -1,  0,  0, -1,  0, -1,  0, -1,  1, -1, -1,  0,\n",
       "         0,  0, -1, -1,  0, -1,  0,  0,  0,  0,  0,  0, -1, -1,  0,  0,  0,\n",
       "         0, -1,  0,  0,  0, -1,  0, -1,  0,  0,  0,  0, -1, -1, -1,  0,  0,\n",
       "        -1,  0, -1,  0, -1,  0,  0,  0, -1,  1,  0, -1,  0,  0,  0,  0, -1,\n",
       "         0, -1, -1,  0,  0, -1,  0,  0, -1, -1, -1,  0,  0,  0,  0, -1,  0,\n",
       "         0, -1,  0, -1, -1,  0, -1, -1,  0,  0,  0, -1,  0,  0,  0, -1,  0,\n",
       "         0,  0,  0,  0, -1, -1, -1,  0,  0, -1, -1,  0, -1,  0, -1, -1, -1,\n",
       "         0,  0,  0,  0,  0,  0,  0,  0, -1,  0,  0,  0,  0,  0,  0, -1, -1,\n",
       "        -1,  0, -1,  0, -1,  0, -1,  0,  0,  0, -1,  0,  0,  0,  0, -1,  0,\n",
       "        -1,  0, -1,  0,  0, -1,  0,  0,  0,  0, -1, -1, -1,  0,  0, -1,  0,\n",
       "        -1, -1,  0,  0,  0, -1, -1,  0,  1,  0, -1,  0, -1, -1,  0, -1,  0,\n",
       "         0,  0, -1,  0,  0,  0,  0, -1,  0,  0, -1, -1,  0,  0,  0,  0,  0,\n",
       "         0, -1,  0,  0,  0,  0,  1, -1,  0,  0, -1,  0, -1, -1, -1, -1,  0,\n",
       "         0,  0,  0,  0, -1,  0,  0,  0,  0, -1, -1,  0,  0, -1,  0, -1,  0,\n",
       "         0, -1,  0, -1,  0,  0,  0, -1, -1, -1, -1, -1, -1,  0, -1,  0, -1,\n",
       "         0, -1, -1,  0,  0,  0,  0, -1,  0, -1,  0,  0,  0,  0, -1, -1, -1,\n",
       "         0, -1,  0,  0,  0,  0,  0,  0,  0,  0, -1,  0, -1,  0,  0,  0,  1,\n",
       "        -1,  0,  0,  0,  0, -1,  0,  0, -1, -1, -1, -1, -1,  0,  0, -1,  0,\n",
       "         0,  0, -1, -1,  1,  0, -1,  0,  0,  0,  0,  0,  0, -1,  0,  0,  0,\n",
       "         0, -1, -1, -1,  0,  0, -1,  0, -1, -1, -1,  0, -1,  0,  0,  0,  0,\n",
       "         0,  0,  0,  0,  0,  0,  0,  0, -1,  0, -1, -1,  0,  0, -1, -1,  0,\n",
       "         0,  0, -1, -1, -1,  0,  0,  0, -1,  0,  0,  1, -1,  0, -1, -1,  0,\n",
       "         0,  0,  0,  0, -1,  0, -1, -1,  0,  0,  0, -1,  0, -1, -1, -1],\n",
       "       dtype=int64),\n",
       " 0.4441717791411043,\n",
       " 0.33753313716916994,\n",
       " 0.3748518678467599,\n",
       " 68)"
      ]
     },
     "execution_count": 34,
     "metadata": {},
     "output_type": "execute_result"
    }
   ],
   "source": [
    "min(w, key = lambda t: t[2])"
   ]
  },
  {
   "cell_type": "code",
   "execution_count": null,
   "metadata": {},
   "outputs": [],
   "source": []
  }
 ],
 "metadata": {
  "kernelspec": {
   "display_name": "Python 3",
   "language": "python",
   "name": "python3"
  },
  "language_info": {
   "codemirror_mode": {
    "name": "ipython",
    "version": 3
   },
   "file_extension": ".py",
   "mimetype": "text/x-python",
   "name": "python",
   "nbconvert_exporter": "python",
   "pygments_lexer": "ipython3",
   "version": "3.7.3"
  }
 },
 "nbformat": 4,
 "nbformat_minor": 2
}
