{
 "cells": [
  {
   "cell_type": "code",
   "execution_count": 3,
   "metadata": {},
   "outputs": [],
   "source": [
    "import numpy as np\n",
    "import pandas as pd\n",
    "import itertools as it\n",
    "from sklearn.model_selection import train_test_split\n",
    "# from Orange.classification import tree"
   ]
  },
  {
   "cell_type": "code",
   "execution_count": 4,
   "metadata": {},
   "outputs": [],
   "source": [
    "Data = pd.read_excel('Data.xlsx')\n",
    "Data = Data.set_index('Date')"
   ]
  },
  {
   "cell_type": "code",
   "execution_count": 5,
   "metadata": {},
   "outputs": [
    {
     "data": {
      "text/html": [
       "<div>\n",
       "<style scoped>\n",
       "    .dataframe tbody tr th:only-of-type {\n",
       "        vertical-align: middle;\n",
       "    }\n",
       "\n",
       "    .dataframe tbody tr th {\n",
       "        vertical-align: top;\n",
       "    }\n",
       "\n",
       "    .dataframe thead th {\n",
       "        text-align: right;\n",
       "    }\n",
       "</style>\n",
       "<table border=\"1\" class=\"dataframe\">\n",
       "  <thead>\n",
       "    <tr style=\"text-align: right;\">\n",
       "      <th></th>\n",
       "      <th>Open</th>\n",
       "      <th>High</th>\n",
       "      <th>Low</th>\n",
       "      <th>Close</th>\n",
       "      <th>Volume</th>\n",
       "      <th>volume_adi</th>\n",
       "      <th>volume_obv</th>\n",
       "      <th>volume_cmf</th>\n",
       "      <th>volume_fi</th>\n",
       "      <th>volume_em</th>\n",
       "      <th>...</th>\n",
       "      <th>Ope_Max</th>\n",
       "      <th>Hig_Max</th>\n",
       "      <th>Low_Max</th>\n",
       "      <th>Vol_Min</th>\n",
       "      <th>Clo_Min</th>\n",
       "      <th>Ope_Min</th>\n",
       "      <th>Hig_Min</th>\n",
       "      <th>Low_Min</th>\n",
       "      <th>Support</th>\n",
       "      <th>Resistance</th>\n",
       "    </tr>\n",
       "  </thead>\n",
       "  <tbody>\n",
       "    <tr>\n",
       "      <th>count</th>\n",
       "      <td>4956.000000</td>\n",
       "      <td>4956.000000</td>\n",
       "      <td>4956.000000</td>\n",
       "      <td>4956.000000</td>\n",
       "      <td>4956.000000</td>\n",
       "      <td>4956.000000</td>\n",
       "      <td>4956.000000</td>\n",
       "      <td>4956.000000</td>\n",
       "      <td>4955.000000</td>\n",
       "      <td>4956.000000</td>\n",
       "      <td>...</td>\n",
       "      <td>4956.000000</td>\n",
       "      <td>4956.000000</td>\n",
       "      <td>4956.000000</td>\n",
       "      <td>4956.000000</td>\n",
       "      <td>4956.000000</td>\n",
       "      <td>4956.000000</td>\n",
       "      <td>4956.000000</td>\n",
       "      <td>4956.000000</td>\n",
       "      <td>4956.000000</td>\n",
       "      <td>4956.000000</td>\n",
       "    </tr>\n",
       "    <tr>\n",
       "      <th>mean</th>\n",
       "      <td>0.644533</td>\n",
       "      <td>0.637100</td>\n",
       "      <td>0.642480</td>\n",
       "      <td>0.645451</td>\n",
       "      <td>0.348032</td>\n",
       "      <td>0.534413</td>\n",
       "      <td>0.747393</td>\n",
       "      <td>0.498667</td>\n",
       "      <td>0.619163</td>\n",
       "      <td>0.512579</td>\n",
       "      <td>...</td>\n",
       "      <td>0.731053</td>\n",
       "      <td>0.730635</td>\n",
       "      <td>0.727456</td>\n",
       "      <td>0.549028</td>\n",
       "      <td>0.731164</td>\n",
       "      <td>0.731053</td>\n",
       "      <td>0.730635</td>\n",
       "      <td>0.727456</td>\n",
       "      <td>0.686203</td>\n",
       "      <td>0.386618</td>\n",
       "    </tr>\n",
       "    <tr>\n",
       "      <th>std</th>\n",
       "      <td>0.323364</td>\n",
       "      <td>0.335000</td>\n",
       "      <td>0.325269</td>\n",
       "      <td>0.323861</td>\n",
       "      <td>0.239485</td>\n",
       "      <td>0.233513</td>\n",
       "      <td>0.307204</td>\n",
       "      <td>0.302250</td>\n",
       "      <td>0.227427</td>\n",
       "      <td>0.280354</td>\n",
       "      <td>...</td>\n",
       "      <td>0.291627</td>\n",
       "      <td>0.299795</td>\n",
       "      <td>0.296673</td>\n",
       "      <td>0.288926</td>\n",
       "      <td>0.293263</td>\n",
       "      <td>0.291627</td>\n",
       "      <td>0.299795</td>\n",
       "      <td>0.296673</td>\n",
       "      <td>0.281731</td>\n",
       "      <td>0.273838</td>\n",
       "    </tr>\n",
       "    <tr>\n",
       "      <th>min</th>\n",
       "      <td>0.000000</td>\n",
       "      <td>0.000000</td>\n",
       "      <td>0.000000</td>\n",
       "      <td>0.000000</td>\n",
       "      <td>0.000000</td>\n",
       "      <td>0.000000</td>\n",
       "      <td>0.000000</td>\n",
       "      <td>0.000000</td>\n",
       "      <td>0.000000</td>\n",
       "      <td>0.000000</td>\n",
       "      <td>...</td>\n",
       "      <td>0.000000</td>\n",
       "      <td>0.000000</td>\n",
       "      <td>0.000000</td>\n",
       "      <td>0.000000</td>\n",
       "      <td>0.000000</td>\n",
       "      <td>0.000000</td>\n",
       "      <td>0.000000</td>\n",
       "      <td>0.000000</td>\n",
       "      <td>0.000000</td>\n",
       "      <td>0.000000</td>\n",
       "    </tr>\n",
       "    <tr>\n",
       "      <th>25%</th>\n",
       "      <td>0.387469</td>\n",
       "      <td>0.355543</td>\n",
       "      <td>0.381355</td>\n",
       "      <td>0.386527</td>\n",
       "      <td>0.171744</td>\n",
       "      <td>0.385134</td>\n",
       "      <td>0.616039</td>\n",
       "      <td>0.243193</td>\n",
       "      <td>0.476915</td>\n",
       "      <td>0.301268</td>\n",
       "      <td>...</td>\n",
       "      <td>0.562715</td>\n",
       "      <td>0.554928</td>\n",
       "      <td>0.549538</td>\n",
       "      <td>0.331625</td>\n",
       "      <td>0.562609</td>\n",
       "      <td>0.562715</td>\n",
       "      <td>0.554928</td>\n",
       "      <td>0.549538</td>\n",
       "      <td>0.515406</td>\n",
       "      <td>0.165736</td>\n",
       "    </tr>\n",
       "    <tr>\n",
       "      <th>50%</th>\n",
       "      <td>0.734889</td>\n",
       "      <td>0.736370</td>\n",
       "      <td>0.730083</td>\n",
       "      <td>0.737308</td>\n",
       "      <td>0.299520</td>\n",
       "      <td>0.547836</td>\n",
       "      <td>0.901481</td>\n",
       "      <td>0.502618</td>\n",
       "      <td>0.656904</td>\n",
       "      <td>0.528179</td>\n",
       "      <td>...</td>\n",
       "      <td>0.831895</td>\n",
       "      <td>0.840452</td>\n",
       "      <td>0.834677</td>\n",
       "      <td>0.537533</td>\n",
       "      <td>0.835380</td>\n",
       "      <td>0.831895</td>\n",
       "      <td>0.840452</td>\n",
       "      <td>0.834677</td>\n",
       "      <td>0.770847</td>\n",
       "      <td>0.341448</td>\n",
       "    </tr>\n",
       "    <tr>\n",
       "      <th>75%</th>\n",
       "      <td>0.940604</td>\n",
       "      <td>0.947531</td>\n",
       "      <td>0.939877</td>\n",
       "      <td>0.943871</td>\n",
       "      <td>0.484242</td>\n",
       "      <td>0.698471</td>\n",
       "      <td>0.968435</td>\n",
       "      <td>0.749181</td>\n",
       "      <td>0.790749</td>\n",
       "      <td>0.729938</td>\n",
       "      <td>...</td>\n",
       "      <td>0.992491</td>\n",
       "      <td>0.998750</td>\n",
       "      <td>1.000000</td>\n",
       "      <td>0.775696</td>\n",
       "      <td>0.995111</td>\n",
       "      <td>0.992491</td>\n",
       "      <td>0.998750</td>\n",
       "      <td>1.000000</td>\n",
       "      <td>0.921953</td>\n",
       "      <td>0.563445</td>\n",
       "    </tr>\n",
       "    <tr>\n",
       "      <th>max</th>\n",
       "      <td>1.000000</td>\n",
       "      <td>1.000000</td>\n",
       "      <td>1.000000</td>\n",
       "      <td>1.000000</td>\n",
       "      <td>1.000000</td>\n",
       "      <td>1.000000</td>\n",
       "      <td>1.000000</td>\n",
       "      <td>1.000000</td>\n",
       "      <td>1.000000</td>\n",
       "      <td>1.000000</td>\n",
       "      <td>...</td>\n",
       "      <td>1.000000</td>\n",
       "      <td>1.000000</td>\n",
       "      <td>1.000000</td>\n",
       "      <td>1.000000</td>\n",
       "      <td>1.000000</td>\n",
       "      <td>1.000000</td>\n",
       "      <td>1.000000</td>\n",
       "      <td>1.000000</td>\n",
       "      <td>1.000000</td>\n",
       "      <td>1.000000</td>\n",
       "    </tr>\n",
       "  </tbody>\n",
       "</table>\n",
       "<p>8 rows × 67 columns</p>\n",
       "</div>"
      ],
      "text/plain": [
       "              Open         High          Low        Close       Volume  \\\n",
       "count  4956.000000  4956.000000  4956.000000  4956.000000  4956.000000   \n",
       "mean      0.644533     0.637100     0.642480     0.645451     0.348032   \n",
       "std       0.323364     0.335000     0.325269     0.323861     0.239485   \n",
       "min       0.000000     0.000000     0.000000     0.000000     0.000000   \n",
       "25%       0.387469     0.355543     0.381355     0.386527     0.171744   \n",
       "50%       0.734889     0.736370     0.730083     0.737308     0.299520   \n",
       "75%       0.940604     0.947531     0.939877     0.943871     0.484242   \n",
       "max       1.000000     1.000000     1.000000     1.000000     1.000000   \n",
       "\n",
       "        volume_adi   volume_obv   volume_cmf    volume_fi    volume_em  ...  \\\n",
       "count  4956.000000  4956.000000  4956.000000  4955.000000  4956.000000  ...   \n",
       "mean      0.534413     0.747393     0.498667     0.619163     0.512579  ...   \n",
       "std       0.233513     0.307204     0.302250     0.227427     0.280354  ...   \n",
       "min       0.000000     0.000000     0.000000     0.000000     0.000000  ...   \n",
       "25%       0.385134     0.616039     0.243193     0.476915     0.301268  ...   \n",
       "50%       0.547836     0.901481     0.502618     0.656904     0.528179  ...   \n",
       "75%       0.698471     0.968435     0.749181     0.790749     0.729938  ...   \n",
       "max       1.000000     1.000000     1.000000     1.000000     1.000000  ...   \n",
       "\n",
       "           Ope_Max      Hig_Max      Low_Max      Vol_Min      Clo_Min  \\\n",
       "count  4956.000000  4956.000000  4956.000000  4956.000000  4956.000000   \n",
       "mean      0.731053     0.730635     0.727456     0.549028     0.731164   \n",
       "std       0.291627     0.299795     0.296673     0.288926     0.293263   \n",
       "min       0.000000     0.000000     0.000000     0.000000     0.000000   \n",
       "25%       0.562715     0.554928     0.549538     0.331625     0.562609   \n",
       "50%       0.831895     0.840452     0.834677     0.537533     0.835380   \n",
       "75%       0.992491     0.998750     1.000000     0.775696     0.995111   \n",
       "max       1.000000     1.000000     1.000000     1.000000     1.000000   \n",
       "\n",
       "           Ope_Min      Hig_Min      Low_Min      Support   Resistance  \n",
       "count  4956.000000  4956.000000  4956.000000  4956.000000  4956.000000  \n",
       "mean      0.731053     0.730635     0.727456     0.686203     0.386618  \n",
       "std       0.291627     0.299795     0.296673     0.281731     0.273838  \n",
       "min       0.000000     0.000000     0.000000     0.000000     0.000000  \n",
       "25%       0.562715     0.554928     0.549538     0.515406     0.165736  \n",
       "50%       0.831895     0.840452     0.834677     0.770847     0.341448  \n",
       "75%       0.992491     0.998750     1.000000     0.921953     0.563445  \n",
       "max       1.000000     1.000000     1.000000     1.000000     1.000000  \n",
       "\n",
       "[8 rows x 67 columns]"
      ]
     },
     "execution_count": 5,
     "metadata": {},
     "output_type": "execute_result"
    }
   ],
   "source": [
    "X.describe()\n"
   ]
  },
  {
   "cell_type": "code",
   "execution_count": 45,
   "metadata": {},
   "outputs": [],
   "source": [
    "df_no_nan = Data.dropna(axis=0,how='any')"
   ]
  },
  {
   "cell_type": "code",
   "execution_count": 46,
   "metadata": {},
   "outputs": [],
   "source": [
    "Y = df_no_nan['Class']\n",
    "X = df_no_nan.drop('Class', axis = 1)"
   ]
  },
  {
   "cell_type": "code",
   "execution_count": 47,
   "metadata": {},
   "outputs": [],
   "source": [
    "#Hpyer_Parameters = [[1,2,3,4,5,6,7,8,9,10,11,12]]\n",
    "#set_parameters = [i for i in it.product(*Hpyer_Parameters)]\n",
    "\n",
    "Epsilon = 0.2\n",
    "delta = 0.1\n",
    "\n",
    "h_aprox = 68  # para #len(set_parameters)\n",
    "dimVC = 68   # Poner aqui la dimVCand"
   ]
  },
  {
   "cell_type": "markdown",
   "metadata": {},
   "source": [
    "### $\\eta$ minimo estimado"
   ]
  },
  {
   "cell_type": "code",
   "execution_count": 48,
   "metadata": {},
   "outputs": [
    {
     "name": "stderr",
     "output_type": "stream",
     "text": [
      "D:\\Usuarios\\juanespe\\AppData\\Local\\Continuum\\anaconda3\\lib\\site-packages\\sklearn\\model_selection\\_split.py:2179: FutureWarning: From version 0.21, test_size will always complement train_size unless both are specified.\n",
      "  FutureWarning)\n"
     ]
    }
   ],
   "source": [
    "n_est = int(np.ceil((1/Epsilon)*(np.log(h_aprox) + np.log(1/delta))))\n",
    "X1_tr, X1_ts, Y1_tr, Y1_ts = train_test_split(X, Y, train_size = n_est/X.shape[0], random_state=123)"
   ]
  },
  {
   "cell_type": "code",
   "execution_count": 49,
   "metadata": {},
   "outputs": [
    {
     "data": {
      "text/plain": [
       "4075"
      ]
     },
     "execution_count": 49,
     "metadata": {},
     "output_type": "execute_result"
    }
   ],
   "source": [
    "X.shape[0]"
   ]
  },
  {
   "cell_type": "code",
   "execution_count": 50,
   "metadata": {},
   "outputs": [
    {
     "data": {
      "text/plain": [
       "33"
      ]
     },
     "execution_count": 50,
     "metadata": {},
     "output_type": "execute_result"
    }
   ],
   "source": [
    "n_est"
   ]
  },
  {
   "cell_type": "code",
   "execution_count": 51,
   "metadata": {},
   "outputs": [
    {
     "data": {
      "text/plain": [
       "4042"
      ]
     },
     "execution_count": 51,
     "metadata": {},
     "output_type": "execute_result"
    }
   ],
   "source": [
    "X1_ts.shape[0]"
   ]
  },
  {
   "cell_type": "code",
   "execution_count": 52,
   "metadata": {},
   "outputs": [
    {
     "data": {
      "text/plain": [
       "33"
      ]
     },
     "execution_count": 52,
     "metadata": {},
     "output_type": "execute_result"
    }
   ],
   "source": [
    "X1_tr.shape[0]"
   ]
  },
  {
   "cell_type": "markdown",
   "metadata": {},
   "source": [
    "### $\\eta$ minimo optimo"
   ]
  },
  {
   "cell_type": "code",
   "execution_count": 53,
   "metadata": {},
   "outputs": [],
   "source": [
    "n_opt = int(np.ceil((1/Epsilon)*(np.log(dimVC) + np.log(1/delta))))\n",
    "X2_tr, X2_ts, Y2_tr, Y2_ts = train_test_split(X, Y, train_size = n_opt/X.shape[0], random_state=123)"
   ]
  },
  {
   "cell_type": "markdown",
   "metadata": {},
   "source": [
    "# AQUI EL ALGORITMO USANDO X1"
   ]
  },
  {
   "cell_type": "code",
   "execution_count": 73,
   "metadata": {},
   "outputs": [],
   "source": [
    "import numpy as np\n",
    "from sklearn.linear_model import LinearRegression\n",
    "from sklearn.metrics import mean_squared_error, r2_score\n",
    "import matplotlib.pyplot as plt"
   ]
  },
  {
   "cell_type": "code",
   "execution_count": 55,
   "metadata": {},
   "outputs": [
    {
     "data": {
      "text/plain": [
       "33"
      ]
     },
     "execution_count": 55,
     "metadata": {},
     "output_type": "execute_result"
    }
   ],
   "source": [
    "X1_tr.shape[0]"
   ]
  },
  {
   "cell_type": "code",
   "execution_count": 56,
   "metadata": {},
   "outputs": [
    {
     "data": {
      "text/plain": [
       "33"
      ]
     },
     "execution_count": 56,
     "metadata": {},
     "output_type": "execute_result"
    }
   ],
   "source": [
    "Y1_tr.shape[0]"
   ]
  },
  {
   "cell_type": "code",
   "execution_count": 57,
   "metadata": {},
   "outputs": [],
   "source": [
    "reg = LinearRegression().fit(X1_tr, Y1_tr)"
   ]
  },
  {
   "cell_type": "code",
   "execution_count": 65,
   "metadata": {},
   "outputs": [],
   "source": [
    "y_pred = reg.predict(X1_ts)"
   ]
  },
  {
   "cell_type": "code",
   "execution_count": 84,
   "metadata": {},
   "outputs": [
    {
     "data": {
      "text/plain": [
       "pandas.core.frame.DataFrame"
      ]
     },
     "execution_count": 84,
     "metadata": {},
     "output_type": "execute_result"
    }
   ],
   "source": [
    "type(X1_ts)"
   ]
  },
  {
   "cell_type": "code",
   "execution_count": 70,
   "metadata": {},
   "outputs": [
    {
     "name": "stdout",
     "output_type": "stream",
     "text": [
      "Coefficients: \n",
      " [-0.98048322 -0.21715576 -0.40922939  0.64796133 -0.94680966 -0.05896242\n",
      " -0.45417215 -0.47395538 -1.34069338 -3.45987696 -0.23190032  0.08064047\n",
      " -0.82741425 -1.00794308  0.50450883 -0.17565639  1.10089792  1.69726492\n",
      " -0.10128724 -1.11722689 -1.3976723   0.17398753  0.29596392 -0.6204434\n",
      "  1.12995352  0.9388982   0.25068282 -1.06042144 -1.16099571 -1.0638517\n",
      " -0.15033365 -0.54413444  2.56376096 -0.71138993  1.34998124  1.07417976\n",
      "  0.75286404  0.5520399   0.25185434 -0.24120391  0.67707927 -0.32584277\n",
      " -0.67575495 -0.58171557  0.22339302 -0.45415252 -2.00854161 -0.66985836\n",
      " -0.60568407  1.35303269 -0.60568407  0.63148021  0.64475089  0.64709487\n",
      "  0.64796133 -0.14911316 -0.90606866 -0.89527132  0.73826022 -0.55760608\n",
      " -0.14911316 -0.90606866 -0.89527132  0.73826022 -0.55760608  0.91346341\n",
      "  0.45361931]\n",
      "Mean squared error: 2.07\n"
     ]
    }
   ],
   "source": [
    "# The coefficients\n",
    "print('Coefficients: \\n', reg.coef_)\n",
    "# The mean squared error\n",
    "print(\"Mean squared error: %.2f\"\n",
    "      % mean_squared_error(Y1_ts, y_pred))\n",
    "# Explained variance score: 1 is perfect prediction"
   ]
  },
  {
   "cell_type": "code",
   "execution_count": 71,
   "metadata": {},
   "outputs": [
    {
     "name": "stdout",
     "output_type": "stream",
     "text": [
      "Variance score: -3.08\n"
     ]
    }
   ],
   "source": [
    "# Explained variance score: 1 is perfect prediction\n",
    "print('Variance score: %.2f' % r2_score(Y1_ts, y_pred))"
   ]
  },
  {
   "cell_type": "code",
   "execution_count": 76,
   "metadata": {},
   "outputs": [
    {
     "data": {
      "text/plain": [
       "4042"
      ]
     },
     "execution_count": 76,
     "metadata": {},
     "output_type": "execute_result"
    }
   ],
   "source": [
    "X1_ts.shape[0]"
   ]
  },
  {
   "cell_type": "code",
   "execution_count": 77,
   "metadata": {},
   "outputs": [
    {
     "data": {
      "text/plain": [
       "4042"
      ]
     },
     "execution_count": 77,
     "metadata": {},
     "output_type": "execute_result"
    }
   ],
   "source": [
    "Y1_ts.shape[0]"
   ]
  },
  {
   "cell_type": "code",
   "execution_count": 78,
   "metadata": {},
   "outputs": [
    {
     "data": {
      "text/plain": [
       "4042"
      ]
     },
     "execution_count": 78,
     "metadata": {},
     "output_type": "execute_result"
    }
   ],
   "source": [
    "y_pred.shape[0]"
   ]
  },
  {
   "cell_type": "code",
   "execution_count": 82,
   "metadata": {},
   "outputs": [
    {
     "data": {
      "text/html": [
       "<div>\n",
       "<style scoped>\n",
       "    .dataframe tbody tr th:only-of-type {\n",
       "        vertical-align: middle;\n",
       "    }\n",
       "\n",
       "    .dataframe tbody tr th {\n",
       "        vertical-align: top;\n",
       "    }\n",
       "\n",
       "    .dataframe thead th {\n",
       "        text-align: right;\n",
       "    }\n",
       "</style>\n",
       "<table border=\"1\" class=\"dataframe\">\n",
       "  <thead>\n",
       "    <tr style=\"text-align: right;\">\n",
       "      <th></th>\n",
       "      <th>Open</th>\n",
       "      <th>High</th>\n",
       "      <th>Low</th>\n",
       "      <th>Close</th>\n",
       "      <th>Volume</th>\n",
       "      <th>volume_adi</th>\n",
       "      <th>volume_obv</th>\n",
       "      <th>volume_cmf</th>\n",
       "      <th>volume_fi</th>\n",
       "      <th>volume_em</th>\n",
       "      <th>...</th>\n",
       "      <th>Ope_Max</th>\n",
       "      <th>Hig_Max</th>\n",
       "      <th>Low_Max</th>\n",
       "      <th>Vol_Min</th>\n",
       "      <th>Clo_Min</th>\n",
       "      <th>Ope_Min</th>\n",
       "      <th>Hig_Min</th>\n",
       "      <th>Low_Min</th>\n",
       "      <th>Support</th>\n",
       "      <th>Resistance</th>\n",
       "    </tr>\n",
       "  </thead>\n",
       "  <tbody>\n",
       "    <tr>\n",
       "      <th>count</th>\n",
       "      <td>4042.000000</td>\n",
       "      <td>4042.000000</td>\n",
       "      <td>4042.000000</td>\n",
       "      <td>4042.000000</td>\n",
       "      <td>4042.000000</td>\n",
       "      <td>4042.000000</td>\n",
       "      <td>4042.000000</td>\n",
       "      <td>4042.000000</td>\n",
       "      <td>4042.000000</td>\n",
       "      <td>4042.000000</td>\n",
       "      <td>...</td>\n",
       "      <td>4042.000000</td>\n",
       "      <td>4042.000000</td>\n",
       "      <td>4042.000000</td>\n",
       "      <td>4042.000000</td>\n",
       "      <td>4042.000000</td>\n",
       "      <td>4042.000000</td>\n",
       "      <td>4042.000000</td>\n",
       "      <td>4042.000000</td>\n",
       "      <td>4042.000000</td>\n",
       "      <td>4042.000000</td>\n",
       "    </tr>\n",
       "    <tr>\n",
       "      <th>mean</th>\n",
       "      <td>0.590151</td>\n",
       "      <td>0.580125</td>\n",
       "      <td>0.588948</td>\n",
       "      <td>0.592266</td>\n",
       "      <td>0.343932</td>\n",
       "      <td>0.541100</td>\n",
       "      <td>0.722035</td>\n",
       "      <td>0.498136</td>\n",
       "      <td>0.638627</td>\n",
       "      <td>0.519553</td>\n",
       "      <td>...</td>\n",
       "      <td>0.724350</td>\n",
       "      <td>0.722108</td>\n",
       "      <td>0.722150</td>\n",
       "      <td>0.546477</td>\n",
       "      <td>0.727581</td>\n",
       "      <td>0.724350</td>\n",
       "      <td>0.722108</td>\n",
       "      <td>0.722150</td>\n",
       "      <td>0.685035</td>\n",
       "      <td>0.394065</td>\n",
       "    </tr>\n",
       "    <tr>\n",
       "      <th>std</th>\n",
       "      <td>0.326320</td>\n",
       "      <td>0.337567</td>\n",
       "      <td>0.329250</td>\n",
       "      <td>0.328098</td>\n",
       "      <td>0.240555</td>\n",
       "      <td>0.233221</td>\n",
       "      <td>0.313279</td>\n",
       "      <td>0.300495</td>\n",
       "      <td>0.225679</td>\n",
       "      <td>0.281017</td>\n",
       "      <td>...</td>\n",
       "      <td>0.294089</td>\n",
       "      <td>0.303491</td>\n",
       "      <td>0.300229</td>\n",
       "      <td>0.288807</td>\n",
       "      <td>0.293748</td>\n",
       "      <td>0.294089</td>\n",
       "      <td>0.303491</td>\n",
       "      <td>0.300229</td>\n",
       "      <td>0.283506</td>\n",
       "      <td>0.278388</td>\n",
       "    </tr>\n",
       "    <tr>\n",
       "      <th>min</th>\n",
       "      <td>0.000000</td>\n",
       "      <td>0.000000</td>\n",
       "      <td>0.000000</td>\n",
       "      <td>0.000000</td>\n",
       "      <td>0.000000</td>\n",
       "      <td>0.000000</td>\n",
       "      <td>0.000000</td>\n",
       "      <td>0.000000</td>\n",
       "      <td>0.000000</td>\n",
       "      <td>0.000000</td>\n",
       "      <td>...</td>\n",
       "      <td>0.000000</td>\n",
       "      <td>0.000000</td>\n",
       "      <td>0.000000</td>\n",
       "      <td>0.000000</td>\n",
       "      <td>0.000000</td>\n",
       "      <td>0.000000</td>\n",
       "      <td>0.000000</td>\n",
       "      <td>0.000000</td>\n",
       "      <td>0.000000</td>\n",
       "      <td>0.000000</td>\n",
       "    </tr>\n",
       "    <tr>\n",
       "      <th>25%</th>\n",
       "      <td>0.314558</td>\n",
       "      <td>0.275652</td>\n",
       "      <td>0.310905</td>\n",
       "      <td>0.316159</td>\n",
       "      <td>0.166642</td>\n",
       "      <td>0.391625</td>\n",
       "      <td>0.545347</td>\n",
       "      <td>0.246089</td>\n",
       "      <td>0.506906</td>\n",
       "      <td>0.303283</td>\n",
       "      <td>...</td>\n",
       "      <td>0.547086</td>\n",
       "      <td>0.538374</td>\n",
       "      <td>0.540357</td>\n",
       "      <td>0.333085</td>\n",
       "      <td>0.557324</td>\n",
       "      <td>0.547086</td>\n",
       "      <td>0.538374</td>\n",
       "      <td>0.540357</td>\n",
       "      <td>0.513189</td>\n",
       "      <td>0.167346</td>\n",
       "    </tr>\n",
       "    <tr>\n",
       "      <th>50%</th>\n",
       "      <td>0.635326</td>\n",
       "      <td>0.624932</td>\n",
       "      <td>0.636776</td>\n",
       "      <td>0.639180</td>\n",
       "      <td>0.292744</td>\n",
       "      <td>0.553714</td>\n",
       "      <td>0.874787</td>\n",
       "      <td>0.499082</td>\n",
       "      <td>0.678488</td>\n",
       "      <td>0.541378</td>\n",
       "      <td>...</td>\n",
       "      <td>0.824274</td>\n",
       "      <td>0.833815</td>\n",
       "      <td>0.830871</td>\n",
       "      <td>0.534855</td>\n",
       "      <td>0.830984</td>\n",
       "      <td>0.824274</td>\n",
       "      <td>0.833815</td>\n",
       "      <td>0.830871</td>\n",
       "      <td>0.772483</td>\n",
       "      <td>0.350897</td>\n",
       "    </tr>\n",
       "    <tr>\n",
       "      <th>75%</th>\n",
       "      <td>0.898771</td>\n",
       "      <td>0.906317</td>\n",
       "      <td>0.900729</td>\n",
       "      <td>0.904168</td>\n",
       "      <td>0.476181</td>\n",
       "      <td>0.702553</td>\n",
       "      <td>0.955141</td>\n",
       "      <td>0.748460</td>\n",
       "      <td>0.806792</td>\n",
       "      <td>0.740024</td>\n",
       "      <td>...</td>\n",
       "      <td>0.984332</td>\n",
       "      <td>0.994269</td>\n",
       "      <td>0.992902</td>\n",
       "      <td>0.773183</td>\n",
       "      <td>0.991433</td>\n",
       "      <td>0.984332</td>\n",
       "      <td>0.994269</td>\n",
       "      <td>0.992902</td>\n",
       "      <td>0.923331</td>\n",
       "      <td>0.574710</td>\n",
       "    </tr>\n",
       "    <tr>\n",
       "      <th>max</th>\n",
       "      <td>1.000000</td>\n",
       "      <td>1.000000</td>\n",
       "      <td>1.000000</td>\n",
       "      <td>1.000000</td>\n",
       "      <td>1.000000</td>\n",
       "      <td>1.000000</td>\n",
       "      <td>1.000000</td>\n",
       "      <td>1.000000</td>\n",
       "      <td>1.000000</td>\n",
       "      <td>1.000000</td>\n",
       "      <td>...</td>\n",
       "      <td>1.000000</td>\n",
       "      <td>1.000000</td>\n",
       "      <td>1.000000</td>\n",
       "      <td>1.000000</td>\n",
       "      <td>1.000000</td>\n",
       "      <td>1.000000</td>\n",
       "      <td>1.000000</td>\n",
       "      <td>1.000000</td>\n",
       "      <td>1.000000</td>\n",
       "      <td>1.000000</td>\n",
       "    </tr>\n",
       "  </tbody>\n",
       "</table>\n",
       "<p>8 rows × 67 columns</p>\n",
       "</div>"
      ],
      "text/plain": [
       "              Open         High          Low        Close       Volume  \\\n",
       "count  4042.000000  4042.000000  4042.000000  4042.000000  4042.000000   \n",
       "mean      0.590151     0.580125     0.588948     0.592266     0.343932   \n",
       "std       0.326320     0.337567     0.329250     0.328098     0.240555   \n",
       "min       0.000000     0.000000     0.000000     0.000000     0.000000   \n",
       "25%       0.314558     0.275652     0.310905     0.316159     0.166642   \n",
       "50%       0.635326     0.624932     0.636776     0.639180     0.292744   \n",
       "75%       0.898771     0.906317     0.900729     0.904168     0.476181   \n",
       "max       1.000000     1.000000     1.000000     1.000000     1.000000   \n",
       "\n",
       "        volume_adi   volume_obv   volume_cmf    volume_fi    volume_em  ...  \\\n",
       "count  4042.000000  4042.000000  4042.000000  4042.000000  4042.000000  ...   \n",
       "mean      0.541100     0.722035     0.498136     0.638627     0.519553  ...   \n",
       "std       0.233221     0.313279     0.300495     0.225679     0.281017  ...   \n",
       "min       0.000000     0.000000     0.000000     0.000000     0.000000  ...   \n",
       "25%       0.391625     0.545347     0.246089     0.506906     0.303283  ...   \n",
       "50%       0.553714     0.874787     0.499082     0.678488     0.541378  ...   \n",
       "75%       0.702553     0.955141     0.748460     0.806792     0.740024  ...   \n",
       "max       1.000000     1.000000     1.000000     1.000000     1.000000  ...   \n",
       "\n",
       "           Ope_Max      Hig_Max      Low_Max      Vol_Min      Clo_Min  \\\n",
       "count  4042.000000  4042.000000  4042.000000  4042.000000  4042.000000   \n",
       "mean      0.724350     0.722108     0.722150     0.546477     0.727581   \n",
       "std       0.294089     0.303491     0.300229     0.288807     0.293748   \n",
       "min       0.000000     0.000000     0.000000     0.000000     0.000000   \n",
       "25%       0.547086     0.538374     0.540357     0.333085     0.557324   \n",
       "50%       0.824274     0.833815     0.830871     0.534855     0.830984   \n",
       "75%       0.984332     0.994269     0.992902     0.773183     0.991433   \n",
       "max       1.000000     1.000000     1.000000     1.000000     1.000000   \n",
       "\n",
       "           Ope_Min      Hig_Min      Low_Min      Support   Resistance  \n",
       "count  4042.000000  4042.000000  4042.000000  4042.000000  4042.000000  \n",
       "mean      0.724350     0.722108     0.722150     0.685035     0.394065  \n",
       "std       0.294089     0.303491     0.300229     0.283506     0.278388  \n",
       "min       0.000000     0.000000     0.000000     0.000000     0.000000  \n",
       "25%       0.547086     0.538374     0.540357     0.513189     0.167346  \n",
       "50%       0.824274     0.833815     0.830871     0.772483     0.350897  \n",
       "75%       0.984332     0.994269     0.992902     0.923331     0.574710  \n",
       "max       1.000000     1.000000     1.000000     1.000000     1.000000  \n",
       "\n",
       "[8 rows x 67 columns]"
      ]
     },
     "execution_count": 82,
     "metadata": {},
     "output_type": "execute_result"
    }
   ],
   "source": [
    "X1_ts.describe()"
   ]
  },
  {
   "cell_type": "code",
   "execution_count": 102,
   "metadata": {},
   "outputs": [
    {
     "data": {
      "image/png": "[encoded data removed]",
      "text/plain": [
       "<Figure size 432x288 with 1 Axes>"
      ]
     },
     "metadata": {
      "needs_background": "light"
     },
     "output_type": "display_data"
    }
   ],
   "source": [
    "# Plot outputs\n",
    "plt.plot(X1_ts.index.values.tolist() , Y1_ts,  color='black')\n",
    "plt.plot(X1_ts.index.values.tolist() , y_pred, color='blue', linewidth=3)\n",
    "\n",
    "\n",
    "plt.show()"
   ]
  },
  {
   "cell_type": "markdown",
   "metadata": {},
   "source": [
    "# AQUI EL ALGORITMO USANDO X2"
   ]
  },
  {
   "cell_type": "code",
   "execution_count": 37,
   "metadata": {},
   "outputs": [
    {
     "data": {
      "text/plain": [
       "33"
      ]
     },
     "execution_count": 37,
     "metadata": {},
     "output_type": "execute_result"
    }
   ],
   "source": [
    "n_opt"
   ]
  },
  {
   "cell_type": "code",
   "execution_count": null,
   "metadata": {},
   "outputs": [],
   "source": []
  }
 ],
 "metadata": {
  "kernelspec": {
   "display_name": "Python 3",
   "language": "python",
   "name": "python3"
  },
  "language_info": {
   "codemirror_mode": {
    "name": "ipython",
    "version": 3
   },
   "file_extension": ".py",
   "mimetype": "text/x-python",
   "name": "python",
   "nbconvert_exporter": "python",
   "pygments_lexer": "ipython3",
   "version": "3.7.3"
  }
 },
 "nbformat": 4,
 "nbformat_minor": 2
}
