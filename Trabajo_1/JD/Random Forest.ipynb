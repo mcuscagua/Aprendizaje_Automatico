{
 "cells": [
  {
   "cell_type": "code",
   "execution_count": 32,
   "metadata": {},
   "outputs": [],
   "source": [
    "import numpy as np\n",
    "import pandas as pd\n",
    "import itertools as it\n",
    "from sklearn.model_selection import train_test_split, GridSearchCV\n",
    "from sklearn.ensemble import RandomForestClassifier\n",
    "from sklearn.model_selection import cross_val_score"
   ]
  },
  {
   "cell_type": "markdown",
   "metadata": {},
   "source": [
    "## Carga de datos"
   ]
  },
  {
   "cell_type": "code",
   "execution_count": 33,
   "metadata": {},
   "outputs": [],
   "source": [
    "DataIn = pd.read_excel('Data.xlsx')\n",
    "DataIn = DataIn.set_index('Date')\n",
    "Data = DataIn.dropna(axis=0,how='any')\n",
    "Y = Data['Class']\n",
    "X = Data.drop('Class', axis = 1)"
   ]
  },
  {
   "cell_type": "markdown",
   "metadata": {},
   "source": [
    "## Configuración"
   ]
  },
  {
   "cell_type": "code",
   "execution_count": 34,
   "metadata": {},
   "outputs": [],
   "source": [
    "sample_size = X.shape[0]\n",
    "training_sample_size = int(sample_size * 0.6)\n",
    "validation_sample_size = int(sample_size * 0.2)\n",
    "test_sample_size = validation_sample_size"
   ]
  },
  {
   "cell_type": "markdown",
   "metadata": {},
   "source": [
    "## Construcción de clases de hipótesis\n",
    "\n",
    "Vamos utilizar en este caso el objeto llamado *Random Hyperparameter Grid* el cual permite generar un grid de hiperparámetros, de los cuales seleccionaremos un rango de hiperparametros y luego mediante la evaluación de estos modelos bajo un n optimo, escogeremos el mejor.\n",
    "\n",
    "### Descripción de parámetros\n",
    "\n",
    "- Número de arboles.\n",
    "- Número de carácterísticas a considerar para cada división.\n",
    "- Número máximo de niveles por árbol.\n",
    "- Mínimo número de muestras requeridas para dividir un nodo.\n",
    "- Mínimo número de muestras requeridas para cada nodo hoja.\n",
    "- Método de selección de muestras para entrenar cada arbol"
   ]
  },
  {
   "cell_type": "code",
   "execution_count": 35,
   "metadata": {
    "scrolled": true
   },
   "outputs": [
    {
     "name": "stdout",
     "output_type": "stream",
     "text": [
      "{'max_depth': [1, 2, 3, None],\n",
      " 'min_samples_leaf': [1, 2, 3, 4, 5, 6, 7, 8, 9],\n",
      " 'n_estimators': [50, 100, 150, 200, 250, 300, 350, 400, 450]}\n"
     ]
    }
   ],
   "source": [
    "from sklearn.model_selection import RandomizedSearchCV\n",
    "\n",
    "n_arboles = [i for i in range(50,500,50)]\n",
    "max_profundidad_arbol =  [i for i in range(1,4)]\n",
    "max_profundidad_arbol.append(None)\n",
    "min_muestras_hojas = [i for i in range(1,10)]\n",
    "random_grid = {'n_estimators': n_arboles,\n",
    "               'max_depth': max_profundidad_arbol,\n",
    "               'min_samples_leaf': min_muestras_hojas}\n",
    "pprint(random_grid)"
   ]
  },
  {
   "cell_type": "code",
   "execution_count": 36,
   "metadata": {},
   "outputs": [],
   "source": [
    "def split_data_for_model_training(X, Y, training_sample_size, validation_sample_size):\n",
    "    X_tr, X_ts, Y_tr, Y_ts = train_test_split(X,\n",
    "                                              Y, \n",
    "                                              train_size = training_sample_size, \n",
    "                                              test_size = validation_sample_size*2, \n",
    "                                              random_state=19)\n",
    "    \n",
    "    X2_va, X2_ts, Y2_va, Y2_ts = train_test_split(X_ts, \n",
    "                                                  Y_ts, \n",
    "                                                  train_size = 0.5, \n",
    "                                                  random_state=19)\n",
    "    return X_tr, Y_tr, X2_va, Y2_va, X2_ts, Y2_ts"
   ]
  },
  {
   "cell_type": "code",
   "execution_count": 41,
   "metadata": {},
   "outputs": [],
   "source": [
    "# Realizaremos la búsqueda aleatoria de hiperparametros\n",
    "# Utilizaremos 5 fold - cross validation.\n",
    "\n",
    "def best_parameters(training_data_x, training_data_y):\n",
    "    randForestClassi = RandomForestClassifier()\n",
    "    clf = GridSearchCV(RandomForestClassifier(), random_grid, cv = 5)\n",
    "    clf.fit(training_data_x, training_data_y)\n",
    "    return clf.best_params_"
   ]
  },
  {
   "cell_type": "code",
   "execution_count": 42,
   "metadata": {},
   "outputs": [
    {
     "name": "stderr",
     "output_type": "stream",
     "text": [
      "D:\\Usuarios\\juanespe\\AppData\\Local\\Continuum\\anaconda3\\lib\\site-packages\\sklearn\\model_selection\\_split.py:2179: FutureWarning: From version 0.21, test_size will always complement train_size unless both are specified.\n",
      "  FutureWarning)\n"
     ]
    }
   ],
   "source": [
    "X_tr, Y_tr, X2_va, Y2_va, X2_ts, Y2_ts  = split_data_for_model_training(X, Y, training_sample_size, validation_sample_size)"
   ]
  },
  {
   "cell_type": "code",
   "execution_count": 43,
   "metadata": {},
   "outputs": [],
   "source": [
    "a = best_parameters(X_tr, Y_tr)"
   ]
  },
  {
   "cell_type": "code",
   "execution_count": 44,
   "metadata": {},
   "outputs": [
    {
     "data": {
      "text/plain": [
       "{'max_depth': None, 'min_samples_leaf': 1, 'n_estimators': 150}"
      ]
     },
     "execution_count": 44,
     "metadata": {},
     "output_type": "execute_result"
    }
   ],
   "source": [
    "a"
   ]
  },
  {
   "cell_type": "code",
   "execution_count": null,
   "metadata": {},
   "outputs": [],
   "source": []
  },
  {
   "cell_type": "code",
   "execution_count": null,
   "metadata": {},
   "outputs": [],
   "source": []
  },
  {
   "cell_type": "code",
   "execution_count": null,
   "metadata": {},
   "outputs": [],
   "source": []
  },
  {
   "cell_type": "code",
   "execution_count": 51,
   "metadata": {},
   "outputs": [],
   "source": [
    "Hpyer_Parameters = [[1,2,3,4,5,6,7,8,9],[4,5,6]] # número de arboles del arbol y nro de hojas.\n",
    "set_parameters = [i for i in it.product(*Hpyer_Parameters)]\n",
    "\n",
    "Epsilon = 0.2\n",
    "delta = 0.1\n",
    "Features = 67\n",
    "h_aprox = len(set_parameters)\n"
   ]
  },
  {
   "cell_type": "code",
   "execution_count": 59,
   "metadata": {},
   "outputs": [],
   "source": [
    "def get_optim_ms_from_H( set_parameters, epsilon, features, delta ):\n",
    "    result = map(lambda x:optim_n_for_tree(x[0], delta, epsilon, features ), set_parameters)  \n",
    "    print(list(result)) "
   ]
  },
  {
   "cell_type": "code",
   "execution_count": 60,
   "metadata": {},
   "outputs": [],
   "source": [
    "def optim_n_for_tree( k, delta, epsilon, features ):\n",
    "    re = ((2**k) - 1)*(1 + np.log2(features))+1+np.log(delta**(-1))\n",
    "    return int((np.log(2)/(2*epsilon**2))*re)"
   ]
  },
  {
   "cell_type": "markdown",
   "metadata": {},
   "source": [
    "# AQUI EL ALGORITMO USANDO X1"
   ]
  },
  {
   "cell_type": "code",
   "execution_count": null,
   "metadata": {},
   "outputs": [],
   "source": [
    "\n",
    "    "
   ]
  },
  {
   "cell_type": "code",
   "execution_count": null,
   "metadata": {},
   "outputs": [],
   "source": [
    "def getting_ready( data, n):\n",
    "    \n",
    "    "
   ]
  },
  {
   "cell_type": "code",
   "execution_count": null,
   "metadata": {},
   "outputs": [],
   "source": [
    "##\n",
    "#\n",
    "# (self, criterion=’gini’, splitter=’best’,\n",
    "# max_depth=None, min_samples_split=2, min_samples_leaf=1, \n",
    "# min_weight_fraction_leaf=0.0, max_features=None, random_state=None, \n",
    "# max_leaf_nodes=None, min_impurity_decrease=0.0, \n",
    "# min_impurity_split=None, class_weight=None, \n",
    "# presort=False)\n",
    "#\n",
    "\n",
    "ns = get_optim_ms_from_H(set_parameters , epsilon=Epsilon, features=Features, delta = delta)\n",
    "\n",
    "def decision_tree( deep, leafs, X, Y, n ):\n",
    "    # Getting ready the data.\n",
    "    if(X.shape[0] < n):\n",
    "        new_n = \n",
    "    X1_tr, X1_ts, Y1_tr, Y1_ts = train_test_split(X, Y, train_size = n_est/X.shape[0], random_state=123)\n",
    "   \n",
    "    # tree instantiation\n",
    "    clf = DecisionTreeClassifier(random_state=0, max_depth = deep, max_leaf_nodes = leafs)\n",
    "    \n",
    "\n",
    "\n",
    "    \n",
    "    \n",
    "    "
   ]
  },
  {
   "cell_type": "code",
   "execution_count": 5,
   "metadata": {},
   "outputs": [
    {
     "name": "stdout",
     "output_type": "stream",
     "text": [
      "{'bootstrap': [True, False],\n",
      " 'max_depth': [10, 20, 30, 40, 50, 60, 70, 80, 90, 100, 110, None],\n",
      " 'max_features': ['auto', 'sqrt'],\n",
      " 'min_samples_leaf': [1, 2, 4],\n",
      " 'min_samples_split': [2, 5, 10],\n",
      " 'n_estimators': [200, 400, 600, 800, 1000, 1200, 1400, 1600, 1800, 2000]}\n"
     ]
    }
   ],
   "source": [
    "from sklearn.model_selection import RandomizedSearchCV\n",
    "\n",
    "n_arboles = [int(x) for x in np.linspace(start = 200, stop = 2000, num = 10)]\n",
    "max_caracteristicas = ['auto', 'sqrt']\n",
    "max_profundidad_arbol = [int(x) for x in np.linspace(10, 110, num = 11)]\n",
    "max_profundidad_arbol.append(None)\n",
    "min_muestras_division = [2, 5, 10]\n",
    "min_muestras_hojas = [1, 2, 4]\n",
    "bootstrap = [True, False]\n",
    "random_grid = {'n_estimators': n_arboles,\n",
    "               'max_features': max_caracteristicas,\n",
    "               'max_depth': max_profundidad_arbol,\n",
    "               'min_samples_split': min_muestras_division,\n",
    "               'min_samples_leaf': min_muestras_hojas,\n",
    "               'bootstrap': bootstrap}\n",
    "pprint(random_grid)"
   ]
  }
 ],
 "metadata": {
  "kernelspec": {
   "display_name": "Python 3",
   "language": "python",
   "name": "python3"
  },
  "language_info": {
   "codemirror_mode": {
    "name": "ipython",
    "version": 3
   },
   "file_extension": ".py",
   "mimetype": "text/x-python",
   "name": "python",
   "nbconvert_exporter": "python",
   "pygments_lexer": "ipython3",
   "version": "3.7.3"
  }
 },
 "nbformat": 4,
 "nbformat_minor": 2
}
