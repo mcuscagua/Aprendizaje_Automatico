{
 "cells": [
  {
   "cell_type": "markdown",
   "metadata": {},
   "source": [
    "https://towardsdatascience.com/multi-class-metrics-made-simple-part-i-precision-and-recall-9250280bddc2"
   ]
  },
  {
   "cell_type": "code",
   "execution_count": 1,
   "metadata": {},
   "outputs": [],
   "source": [
    "import numpy as np\n",
    "import pandas as pd\n",
    "import itertools as it\n",
    "# from sklearn.tree import DecisionTreeClassifier as DTC\n",
    "from sklearn.model_selection import train_test_split\n",
    "#from Orange.classification import tree\n",
    "from sklearn.linear_model import LogisticRegression,LogisticRegressionCV\n",
    "from sklearn.linear_model import LinearRegression\n",
    "\n",
    "\n",
    "from warnings import filterwarnings\n",
    "filterwarnings('ignore')"
   ]
  },
  {
   "cell_type": "code",
   "execution_count": 50,
   "metadata": {},
   "outputs": [],
   "source": [
    "Data = pd.read_excel('Data.xlsx')\n",
    "Data = Data.set_index('Date')\n",
    "\n",
    "# Partir la data inicial en entrenamiento y validación para tomar submuestras del mismo conjunto siempre\n",
    "Datatr = Data.reset_index()[Data.reset_index().index < np.floor(0.7*len(Data))].set_index('Date')\n",
    "Datats = Data.reset_index()[Data.reset_index().index >= np.floor(0.7*len(Data))].set_index('Date')\n",
    "\n",
    "#Ytr = Datatr['Class']\n",
    "#Xtr = Datatr.drop('Class', axis = 1)\n",
    "\n",
    "#Yts = Datats['Class']\n",
    "#Xts = Datats.drop('Class', axis = 1)"
   ]
  },
  {
   "cell_type": "code",
   "execution_count": 58,
   "metadata": {},
   "outputs": [],
   "source": [
    "#Hpyer_Parameters = [[1,2,3,4,5,6,7,8,9],[4,5,6]]\n",
    "#set_parameters = [i for i in it.product(*Hpyer_Parameters)]"
   ]
  },
  {
   "cell_type": "code",
   "execution_count": 59,
   "metadata": {},
   "outputs": [],
   "source": [
    "Epsilon = 0.2\n",
    "delta = 0.1"
   ]
  },
  {
   "cell_type": "markdown",
   "metadata": {},
   "source": [
    "### Parameters"
   ]
  },
  {
   "cell_type": "code",
   "execution_count": 95,
   "metadata": {},
   "outputs": [],
   "source": [
    "param = Data.drop('Class',axis = 1).columns"
   ]
  },
  {
   "cell_type": "code",
   "execution_count": 96,
   "metadata": {},
   "outputs": [],
   "source": [
    "h_aprox = len(param)\n",
    "dimVC = h_aprox+1   # Poner aqui la dimVC"
   ]
  },
  {
   "cell_type": "code",
   "execution_count": 97,
   "metadata": {},
   "outputs": [
    {
     "name": "stdout",
     "output_type": "stream",
     "text": [
      "n_est 33 n_opt 33\n"
     ]
    }
   ],
   "source": [
    "n_est = int(np.ceil((1/Epsilon)*(np.log(h_aprox) + np.log(1/delta))))\n",
    "n_opt = int(np.ceil((1/Epsilon)*(np.log(dimVC) + np.log(1/delta))))\n",
    "print('n_est',n_est,'n_opt',n_opt)"
   ]
  },
  {
   "cell_type": "code",
   "execution_count": 62,
   "metadata": {},
   "outputs": [
    {
     "name": "stdout",
     "output_type": "stream",
     "text": [
      "[33, 33, 222, 412, 602, 792, 982, 1172, 1362, 1552, 1742, 1931, 2121, 2311, 2501, 2691, 2881, 3071, 3261, 3451]\n"
     ]
    }
   ],
   "source": [
    "#ns = [n_est+(n_opt-n_est+10*x) for x in range(1,9)]\n",
    "ns = [n_est+int(((len(Datatr)-n_est)/(len(range(1,19)))*x)) for x in range(1,19)]\n",
    "\n",
    "ns.insert(0,n_opt)\n",
    "ns.insert(0,n_est)\n",
    "print(ns)"
   ]
  },
  {
   "cell_type": "code",
   "execution_count": 194,
   "metadata": {},
   "outputs": [],
   "source": [
    "clf = LogisticRegression()#.fit(X_train,y_train)\n",
    "# Tuning\n",
    "grid_values = {'penalty': ['l1', 'l2'],'C':[0.001,.009,0.01,.09,1,5,10,25]}\n",
    "grid_clf_acc = GridSearchCV(clf, param_grid = grid_values,scoring = 'accuracy')"
   ]
  },
  {
   "cell_type": "code",
   "execution_count": 195,
   "metadata": {},
   "outputs": [
    {
     "data": {
      "text/plain": [
       "GridSearchCV(cv='warn', error_score='raise-deprecating',\n",
       "       estimator=LogisticRegression(C=1.0, class_weight=None, dual=False, fit_intercept=True,\n",
       "          intercept_scaling=1, max_iter=100, multi_class='warn',\n",
       "          n_jobs=None, penalty='l2', random_state=None, solver='warn',\n",
       "          tol=0.0001, verbose=0, warm_start=False),\n",
       "       fit_params=None, iid='warn', n_jobs=None,\n",
       "       param_grid={'penalty': ['l1', 'l2'], 'C': [0.001, 0.009, 0.01, 0.09, 1, 5, 10, 25]},\n",
       "       pre_dispatch='2*n_jobs', refit=True, return_train_score='warn',\n",
       "       scoring='accuracy', verbose=0)"
      ]
     },
     "execution_count": 195,
     "metadata": {},
     "output_type": "execute_result"
    }
   ],
   "source": [
    "grid_clf_acc"
   ]
  },
  {
   "cell_type": "code",
   "execution_count": 197,
   "metadata": {
    "scrolled": false
   },
   "outputs": [
    {
     "name": "stdout",
     "output_type": "stream",
     "text": [
      "33\n",
      "33\n",
      "222\n",
      "412\n",
      "602\n",
      "792\n",
      "982\n",
      "1172\n",
      "1362\n",
      "1552\n",
      "1742\n",
      "1931\n",
      "2121\n",
      "2311\n",
      "2501\n",
      "2691\n",
      "2881\n",
      "3071\n",
      "3261\n",
      "3451\n"
     ]
    }
   ],
   "source": [
    "from sklearn.metrics import accuracy_score,recall_score,precision_score,f1_score,confusion_matrix\n",
    "from sklearn import metrics\n",
    "from sklearn.model_selection import GridSearchCV\n",
    "\n",
    "\n",
    "\n",
    "acc=[]\n",
    "ind = []\n",
    "prec = []\n",
    "rec = []\n",
    "enes = []\n",
    "\n",
    "for var in ns:\n",
    "    print(var)\n",
    "    #X_tr, X_ts, Y_tr, Y_ts = train_test_split(X, Y, train_size = var/X.shape[0], random_state=123)\n",
    "    X_train = Datatr.sample(n=var, random_state=1).drop('Class', axis = 1)\n",
    "    y_train = Datatr.sample(n=var, random_state=1)['Class']\n",
    "    X_test = Datats.sample(n=int((var*0.3)/0.7), random_state=1).drop('Class', axis = 1)\n",
    "    y_test = Datats.sample(n=int((var*0.3)/0.7), random_state=1)['Class']\n",
    "    \n",
    "\n",
    "    grid_clf_acc.fit(X_train, y_train)\n",
    "\n",
    "    #reg = LinearRegression().fit(X_train, y_train)\n",
    "    \n",
    "    #clf = LogisticRegression().fit(X_train,y_train)\n",
    "    \n",
    "    y_pred = grid_clf_acc.predict(X_test)\n",
    "    #y_pred = clf.predict(X_test)\n",
    "    \n",
    "    #print(y_pred)\n",
    "    #print(reg.score(X, y))\n",
    "    acc.append(accuracy_score(y_test,y_pred))\n",
    "    \n",
    "\n",
    "    c1 = [x for x in metrics.classification_report(y_test, y_pred, digits=3).split('\\n')[2].split(' ') if x != '']\n",
    "    c2 = [x for x in metrics.classification_report(y_test, y_pred, digits=3).split('\\n')[3].split(' ') if x != '']\n",
    "    c3 = [x for x in metrics.classification_report(y_test, y_pred, digits=3).split('\\n')[4].split(' ') if x != '']\n",
    "    micav=[x for x in metrics.classification_report(y_test,y_pred,digits=3).split('\\n')[6].split(' ') if (x!='' and x!='avg')]\n",
    "\n",
    "    enes.append(var)\n",
    "    enes.append(var)\n",
    "    enes.append(var)\n",
    "    enes.append(var)\n",
    "    \n",
    "    ind.append(c1[0])\n",
    "    ind.append(c2[0])\n",
    "    ind.append(c3[0])\n",
    "    ind.append(micav[0])\n",
    "    \n",
    "    prec.append(c1[1])\n",
    "    prec.append(c2[1])\n",
    "    prec.append(c3[1])\n",
    "    prec.append(micav[1])\n",
    "    \n",
    "    rec.append(c1[2])\n",
    "    rec.append(c2[2])\n",
    "    rec.append(c3[2])\n",
    "    rec.append(micav[2])\n",
    "\n",
    "df = pd.DataFrame.from_dict({'muestras':enes,'ind':ind,'precision':prec,'recall':rec})\n",
    "    \n",
    "    \n",
    "#reg.coef_\n",
    "#reg.intercept_ \n",
    "#reg.predict(np.array([[3, 5]]))"
   ]
  },
  {
   "cell_type": "code",
   "execution_count": 193,
   "metadata": {},
   "outputs": [
    {
     "data": {
      "text/plain": [
       "['accuracy',\n",
       " 'adjusted_mutual_info_score',\n",
       " 'adjusted_rand_score',\n",
       " 'average_precision',\n",
       " 'balanced_accuracy',\n",
       " 'brier_score_loss',\n",
       " 'completeness_score',\n",
       " 'explained_variance',\n",
       " 'f1',\n",
       " 'f1_macro',\n",
       " 'f1_micro',\n",
       " 'f1_samples',\n",
       " 'f1_weighted',\n",
       " 'fowlkes_mallows_score',\n",
       " 'homogeneity_score',\n",
       " 'mutual_info_score',\n",
       " 'neg_log_loss',\n",
       " 'neg_mean_absolute_error',\n",
       " 'neg_mean_squared_error',\n",
       " 'neg_mean_squared_log_error',\n",
       " 'neg_median_absolute_error',\n",
       " 'normalized_mutual_info_score',\n",
       " 'precision',\n",
       " 'precision_macro',\n",
       " 'precision_micro',\n",
       " 'precision_samples',\n",
       " 'precision_weighted',\n",
       " 'r2',\n",
       " 'recall',\n",
       " 'recall_macro',\n",
       " 'recall_micro',\n",
       " 'recall_samples',\n",
       " 'recall_weighted',\n",
       " 'roc_auc',\n",
       " 'v_measure_score']"
      ]
     },
     "execution_count": 193,
     "metadata": {},
     "output_type": "execute_result"
    }
   ],
   "source": [
    "#import sklearn\n",
    "sorted(list(sklearn.metrics.SCORERS.keys()))"
   ]
  },
  {
   "cell_type": "code",
   "execution_count": 174,
   "metadata": {},
   "outputs": [
    {
     "data": {
      "text/html": [
       "<div>\n",
       "<style scoped>\n",
       "    .dataframe tbody tr th:only-of-type {\n",
       "        vertical-align: middle;\n",
       "    }\n",
       "\n",
       "    .dataframe tbody tr th {\n",
       "        vertical-align: top;\n",
       "    }\n",
       "\n",
       "    .dataframe thead th {\n",
       "        text-align: right;\n",
       "    }\n",
       "</style>\n",
       "<table border=\"1\" class=\"dataframe\">\n",
       "  <thead>\n",
       "    <tr style=\"text-align: right;\">\n",
       "      <th></th>\n",
       "      <th>muestras</th>\n",
       "      <th>ind</th>\n",
       "      <th>precision</th>\n",
       "      <th>recall</th>\n",
       "    </tr>\n",
       "  </thead>\n",
       "  <tbody>\n",
       "    <tr>\n",
       "      <th>0</th>\n",
       "      <td>33</td>\n",
       "      <td>-1</td>\n",
       "      <td>0.000</td>\n",
       "      <td>0.000</td>\n",
       "    </tr>\n",
       "    <tr>\n",
       "      <th>1</th>\n",
       "      <td>33</td>\n",
       "      <td>0</td>\n",
       "      <td>0.667</td>\n",
       "      <td>0.667</td>\n",
       "    </tr>\n",
       "    <tr>\n",
       "      <th>2</th>\n",
       "      <td>33</td>\n",
       "      <td>1</td>\n",
       "      <td>0.000</td>\n",
       "      <td>0.000</td>\n",
       "    </tr>\n",
       "    <tr>\n",
       "      <th>3</th>\n",
       "      <td>33</td>\n",
       "      <td>micro</td>\n",
       "      <td>0.429</td>\n",
       "      <td>0.429</td>\n",
       "    </tr>\n",
       "    <tr>\n",
       "      <th>4</th>\n",
       "      <td>33</td>\n",
       "      <td>-1</td>\n",
       "      <td>0.000</td>\n",
       "      <td>0.000</td>\n",
       "    </tr>\n",
       "    <tr>\n",
       "      <th>5</th>\n",
       "      <td>33</td>\n",
       "      <td>0</td>\n",
       "      <td>0.667</td>\n",
       "      <td>0.667</td>\n",
       "    </tr>\n",
       "    <tr>\n",
       "      <th>6</th>\n",
       "      <td>33</td>\n",
       "      <td>1</td>\n",
       "      <td>0.000</td>\n",
       "      <td>0.000</td>\n",
       "    </tr>\n",
       "    <tr>\n",
       "      <th>7</th>\n",
       "      <td>33</td>\n",
       "      <td>micro</td>\n",
       "      <td>0.429</td>\n",
       "      <td>0.429</td>\n",
       "    </tr>\n",
       "    <tr>\n",
       "      <th>8</th>\n",
       "      <td>222</td>\n",
       "      <td>-1</td>\n",
       "      <td>0.273</td>\n",
       "      <td>0.120</td>\n",
       "    </tr>\n",
       "    <tr>\n",
       "      <th>9</th>\n",
       "      <td>222</td>\n",
       "      <td>0</td>\n",
       "      <td>0.625</td>\n",
       "      <td>0.877</td>\n",
       "    </tr>\n",
       "    <tr>\n",
       "      <th>10</th>\n",
       "      <td>222</td>\n",
       "      <td>1</td>\n",
       "      <td>0.500</td>\n",
       "      <td>0.154</td>\n",
       "    </tr>\n",
       "    <tr>\n",
       "      <th>11</th>\n",
       "      <td>222</td>\n",
       "      <td>micro</td>\n",
       "      <td>0.579</td>\n",
       "      <td>0.579</td>\n",
       "    </tr>\n",
       "  </tbody>\n",
       "</table>\n",
       "</div>"
      ],
      "text/plain": [
       "    muestras    ind precision recall\n",
       "0         33     -1     0.000  0.000\n",
       "1         33      0     0.667  0.667\n",
       "2         33      1     0.000  0.000\n",
       "3         33  micro     0.429  0.429\n",
       "4         33     -1     0.000  0.000\n",
       "5         33      0     0.667  0.667\n",
       "6         33      1     0.000  0.000\n",
       "7         33  micro     0.429  0.429\n",
       "8        222     -1     0.273  0.120\n",
       "9        222      0     0.625  0.877\n",
       "10       222      1     0.500  0.154\n",
       "11       222  micro     0.579  0.579"
      ]
     },
     "execution_count": 174,
     "metadata": {},
     "output_type": "execute_result"
    }
   ],
   "source": [
    "df.head(12)"
   ]
  },
  {
   "cell_type": "code",
   "execution_count": 168,
   "metadata": {
    "scrolled": false
   },
   "outputs": [],
   "source": [
    "#df[df.ind == '-1']['precision']\n",
    "\n",
    "#iplot([{\"x\": df[df.ind == '-1'].sort_values('recall')['recall'], \"y\": df[df.ind == '-1'].sort_values('recall')['precision']},\n",
    "#      {\"x\": df[df.ind == '0'].sort_values('recall')['recall'], \"y\": df[df.ind == '-1'].sort_values('recall')['precision']},\n",
    "#      {\"x\": df[df.ind == '1'].sort_values('recall')['recall'], \"y\": df[df.ind == '-1'].sort_values('recall')['precision']}])"
   ]
  },
  {
   "cell_type": "code",
   "execution_count": 85,
   "metadata": {},
   "outputs": [
    {
     "name": "stdout",
     "output_type": "stream",
     "text": [
      "Accuracy Score : 0.6355645706558486\n",
      "Confusion Matrix : \n",
      "[[ 50 245  16]\n",
      " [ 41 877  11]\n",
      " [ 29 197  13]]\n"
     ]
    }
   ],
   "source": [
    "# Model Evaluation metrics \n",
    "print('Confusion Matrix : \\n' + str(confusion_matrix(y_test,y_pred)))"
   ]
  },
  {
   "cell_type": "code",
   "execution_count": 88,
   "metadata": {},
   "outputs": [
    {
     "name": "stdout",
     "output_type": "stream",
     "text": [
      "              precision    recall  f1-score   support\n",
      "\n",
      "          -1      0.417     0.161     0.232       311\n",
      "           0      0.665     0.944     0.780       929\n",
      "           1      0.325     0.054     0.093       239\n",
      "\n",
      "   micro avg      0.636     0.636     0.636      1479\n",
      "   macro avg      0.469     0.386     0.368      1479\n",
      "weighted avg      0.558     0.636     0.554      1479\n",
      "\n"
     ]
    }
   ],
   "source": [
    "#print(metrics.classification_report(y_test, y_pred, digits=3))"
   ]
  },
  {
   "cell_type": "code",
   "execution_count": 198,
   "metadata": {},
   "outputs": [
    {
     "data": {
      "text/html": [
       "        <script type=\"text/javascript\">\n",
       "        window.PlotlyConfig = {MathJaxConfig: 'local'};\n",
       "        if (window.MathJax) {MathJax.Hub.Config({SVG: {font: \"STIX-Web\"}});}\n",
       "        if (typeof require !== 'undefined') {\n",
       "        require.undef(\"plotly\");\n",
       "        requirejs.config({\n",
       "            paths: {\n",
       "                'plotly': ['https://cdn.plot.ly/plotly-latest.min']\n",
       "            }\n",
       "        });\n",
       "        require(['plotly'], function(Plotly) {\n",
       "            window._Plotly = Plotly;\n",
       "        });\n",
       "        }\n",
       "        </script>\n",
       "        "
      ]
     },
     "metadata": {},
     "output_type": "display_data"
    },
    {
     "data": {
      "application/vnd.plotly.v1+json": {
       "config": {
        "linkText": "Export to plot.ly",
        "plotlyServerURL": "https://plot.ly",
        "responsive": true,
        "showLink": false
       },
       "data": [
        {
         "type": "scatter",
         "uid": "13dd3911-87f9-4e4b-ad8a-4d099dc238c0",
         "x": [
          33,
          33,
          222,
          412,
          602,
          792,
          982,
          1172,
          1362,
          1552,
          1742,
          1931,
          2121,
          2311,
          2501,
          2691,
          2881,
          3071,
          3261,
          3451
         ],
         "y": [
          0.5,
          0.5,
          0.5789473684210527,
          0.6590909090909091,
          0.6472868217054264,
          0.6342182890855457,
          0.6214285714285714,
          0.6095617529880478,
          0.6106346483704974,
          0.606015037593985,
          0.6380697050938338,
          0.6203143893591294,
          0.6105610561056105,
          0.6101010101010101,
          0.6283846872082166,
          0.6374674761491761,
          0.6320907617504052,
          0.6261398176291794,
          0.6256263421617753,
          0.625422582826234
         ]
        }
       ],
       "layout": {}
      },
      "text/html": [
       "<div>\n",
       "        \n",
       "        \n",
       "            <div id=\"f6a81474-fab3-48c1-89ec-b28aea5937ec\" class=\"plotly-graph-div\" style=\"height:525px; width:100%;\"></div>\n",
       "            <script type=\"text/javascript\">\n",
       "                require([\"plotly\"], function(Plotly) {\n",
       "                    window.PLOTLYENV=window.PLOTLYENV || {};\n",
       "                    window.PLOTLYENV.BASE_URL='https://plot.ly';\n",
       "                    \n",
       "                if (document.getElementById(\"f6a81474-fab3-48c1-89ec-b28aea5937ec\")) {\n",
       "                    Plotly.newPlot(\n",
       "                        'f6a81474-fab3-48c1-89ec-b28aea5937ec',\n",
       "                        [{\"type\": \"scatter\", \"uid\": \"1a58d097-4aaa-43c3-bd80-367bc88b6ba7\", \"x\": [33, 33, 222, 412, 602, 792, 982, 1172, 1362, 1552, 1742, 1931, 2121, 2311, 2501, 2691, 2881, 3071, 3261, 3451], \"y\": [0.5, 0.5, 0.5789473684210527, 0.6590909090909091, 0.6472868217054264, 0.6342182890855457, 0.6214285714285714, 0.6095617529880478, 0.6106346483704974, 0.606015037593985, 0.6380697050938338, 0.6203143893591294, 0.6105610561056105, 0.6101010101010101, 0.6283846872082166, 0.6374674761491761, 0.6320907617504052, 0.6261398176291794, 0.6256263421617753, 0.625422582826234]}],\n",
       "                        {},\n",
       "                        {\"showLink\": false, \"linkText\": \"Export to plot.ly\", \"plotlyServerURL\": \"https://plot.ly\", \"responsive\": true}\n",
       "                    ).then(function(){\n",
       "                            \n",
       "var gd = document.getElementById('f6a81474-fab3-48c1-89ec-b28aea5937ec');\n",
       "var x = new MutationObserver(function (mutations, observer) {{\n",
       "        var display = window.getComputedStyle(gd).display;\n",
       "        if (!display || display === 'none') {{\n",
       "            console.log([gd, 'removed!']);\n",
       "            Plotly.purge(gd);\n",
       "            observer.disconnect();\n",
       "        }}\n",
       "}});\n",
       "\n",
       "// Listen for the removal of the full notebook cells\n",
       "var notebookContainer = gd.closest('#notebook-container');\n",
       "if (notebookContainer) {{\n",
       "    x.observe(notebookContainer, {childList: true});\n",
       "}}\n",
       "\n",
       "// Listen for the clearing of the current output cell\n",
       "var outputEl = gd.closest('.output');\n",
       "if (outputEl) {{\n",
       "    x.observe(outputEl, {childList: true});\n",
       "}}\n",
       "\n",
       "                        })\n",
       "                };\n",
       "                });\n",
       "            </script>\n",
       "        </div>"
      ]
     },
     "metadata": {},
     "output_type": "display_data"
    }
   ],
   "source": [
    "#import plotly.graph_objs as go\n",
    "#from plotly.offline import download_plotlyjs, init_notebook_mode, plot, iplot\n",
    "init_notebook_mode(connected=True)\n",
    "\n",
    "iplot([{\"x\": ns, \"y\": acc}])#,filename='acc', image='svg')"
   ]
  },
  {
   "cell_type": "code",
   "execution_count": 176,
   "metadata": {},
   "outputs": [
    {
     "data": {
      "text/html": [
       "        <script type=\"text/javascript\">\n",
       "        window.PlotlyConfig = {MathJaxConfig: 'local'};\n",
       "        if (window.MathJax) {MathJax.Hub.Config({SVG: {font: \"STIX-Web\"}});}\n",
       "        if (typeof require !== 'undefined') {\n",
       "        require.undef(\"plotly\");\n",
       "        requirejs.config({\n",
       "            paths: {\n",
       "                'plotly': ['https://cdn.plot.ly/plotly-latest.min']\n",
       "            }\n",
       "        });\n",
       "        require(['plotly'], function(Plotly) {\n",
       "            window._Plotly = Plotly;\n",
       "        });\n",
       "        }\n",
       "        </script>\n",
       "        "
      ]
     },
     "metadata": {},
     "output_type": "display_data"
    },
    {
     "data": {
      "application/vnd.plotly.v1+json": {
       "config": {
        "linkText": "Export to plot.ly",
        "plotlyServerURL": "https://plot.ly",
        "responsive": true,
        "showLink": false
       },
       "data": [
        {
         "type": "scatter",
         "uid": "a8da720c-e0d1-4ab0-8e75-edcf6e2764bc",
         "x": [
          33,
          33,
          222,
          412,
          602,
          792,
          982,
          1172,
          1362,
          1552,
          1742,
          1931,
          2121,
          2311,
          2501,
          2691,
          2881,
          3071,
          3261,
          3451
         ],
         "y": [
          0.42857142857142855,
          0.42857142857142855,
          0.5789473684210527,
          0.6420454545454546,
          0.6511627906976745,
          0.6342182890855457,
          0.6071428571428571,
          0.6215139442231076,
          0.6106346483704974,
          0.6180451127819548,
          0.6380697050938338,
          0.6287787182587666,
          0.6380638063806381,
          0.6262626262626263,
          0.6283846872082166,
          0.6313963573287077,
          0.6385737439222042,
          0.6329787234042553,
          0.6349319971367215,
          0.6355645706558486
         ]
        }
       ],
       "layout": {}
      },
      "text/html": [
       "<div>\n",
       "        \n",
       "        \n",
       "            <div id=\"53cd890a-97e0-449d-95db-5f151f73af46\" class=\"plotly-graph-div\" style=\"height:525px; width:100%;\"></div>\n",
       "            <script type=\"text/javascript\">\n",
       "                require([\"plotly\"], function(Plotly) {\n",
       "                    window.PLOTLYENV=window.PLOTLYENV || {};\n",
       "                    window.PLOTLYENV.BASE_URL='https://plot.ly';\n",
       "                    \n",
       "                if (document.getElementById(\"53cd890a-97e0-449d-95db-5f151f73af46\")) {\n",
       "                    Plotly.newPlot(\n",
       "                        '53cd890a-97e0-449d-95db-5f151f73af46',\n",
       "                        [{\"type\": \"scatter\", \"uid\": \"a18bf907-09bb-409f-bbdc-c57696542283\", \"x\": [33, 33, 222, 412, 602, 792, 982, 1172, 1362, 1552, 1742, 1931, 2121, 2311, 2501, 2691, 2881, 3071, 3261, 3451], \"y\": [0.42857142857142855, 0.42857142857142855, 0.5789473684210527, 0.6420454545454546, 0.6511627906976745, 0.6342182890855457, 0.6071428571428571, 0.6215139442231076, 0.6106346483704974, 0.6180451127819548, 0.6380697050938338, 0.6287787182587666, 0.6380638063806381, 0.6262626262626263, 0.6283846872082166, 0.6313963573287077, 0.6385737439222042, 0.6329787234042553, 0.6349319971367215, 0.6355645706558486]}],\n",
       "                        {},\n",
       "                        {\"showLink\": false, \"linkText\": \"Export to plot.ly\", \"plotlyServerURL\": \"https://plot.ly\", \"responsive\": true}\n",
       "                    ).then(function(){\n",
       "                            \n",
       "var gd = document.getElementById('53cd890a-97e0-449d-95db-5f151f73af46');\n",
       "var x = new MutationObserver(function (mutations, observer) {{\n",
       "        var display = window.getComputedStyle(gd).display;\n",
       "        if (!display || display === 'none') {{\n",
       "            console.log([gd, 'removed!']);\n",
       "            Plotly.purge(gd);\n",
       "            observer.disconnect();\n",
       "        }}\n",
       "}});\n",
       "\n",
       "// Listen for the removal of the full notebook cells\n",
       "var notebookContainer = gd.closest('#notebook-container');\n",
       "if (notebookContainer) {{\n",
       "    x.observe(notebookContainer, {childList: true});\n",
       "}}\n",
       "\n",
       "// Listen for the clearing of the current output cell\n",
       "var outputEl = gd.closest('.output');\n",
       "if (outputEl) {{\n",
       "    x.observe(outputEl, {childList: true});\n",
       "}}\n",
       "\n",
       "                        }).then(function(){\n",
       "                            function downloadimage(format, height, width, filename) {var p = document.getElementById('53cd890a-97e0-449d-95db-5f151f73af46');Plotly.downloadImage(p, {format: format, height: height, width: width, filename: filename});};if(document.readyState == 'complete') {downloadimage('svg', 600, 800, 'acc');}\n",
       "                        })\n",
       "                };\n",
       "                });\n",
       "            </script>\n",
       "        </div>"
      ]
     },
     "metadata": {},
     "output_type": "display_data"
    }
   ],
   "source": [
    "import plotly.graph_objs as go\n",
    "from plotly.offline import download_plotlyjs, init_notebook_mode, plot, iplot\n",
    "init_notebook_mode(connected=True)\n",
    "\n",
    "iplot([{\"x\": ns, \"y\": acc}])#,filename='acc', image='svg')"
   ]
  },
  {
   "cell_type": "code",
   "execution_count": null,
   "metadata": {},
   "outputs": [],
   "source": []
  },
  {
   "cell_type": "code",
   "execution_count": null,
   "metadata": {},
   "outputs": [],
   "source": []
  },
  {
   "cell_type": "code",
   "execution_count": null,
   "metadata": {},
   "outputs": [],
   "source": []
  },
  {
   "cell_type": "code",
   "execution_count": null,
   "metadata": {},
   "outputs": [],
   "source": []
  },
  {
   "cell_type": "code",
   "execution_count": 101,
   "metadata": {},
   "outputs": [
    {
     "data": {
      "text/plain": [
       "['              precision    recall  f1-score   support',\n",
       " '',\n",
       " '          -1      0.417     0.161     0.232       311',\n",
       " '           0      0.665     0.944     0.780       929',\n",
       " '           1      0.325     0.054     0.093       239',\n",
       " '',\n",
       " '   micro avg      0.636     0.636     0.636      1479',\n",
       " '   macro avg      0.469     0.386     0.368      1479',\n",
       " 'weighted avg      0.558     0.636     0.554      1479',\n",
       " '']"
      ]
     },
     "execution_count": 101,
     "metadata": {},
     "output_type": "execute_result"
    }
   ],
   "source": [
    "#{'-1':metrics.classification_report(y_test, y_pred, digits=3).split('\\n')"
   ]
  },
  {
   "cell_type": "code",
   "execution_count": 148,
   "metadata": {},
   "outputs": [
    {
     "data": {
      "text/plain": [
       "['micro', '0.636', '0.636', '0.636', '1479']"
      ]
     },
     "execution_count": 148,
     "metadata": {},
     "output_type": "execute_result"
    }
   ],
   "source": [
    "#[x for x in metrics.classification_report(y_test, y_pred, digits=3).split('\\n')[6].split(' ') if x != '' and x!='avg']"
   ]
  },
  {
   "cell_type": "code",
   "execution_count": 149,
   "metadata": {},
   "outputs": [
    {
     "data": {
      "text/plain": [
       "{'ind': ['-1'], 'precision': ['0.665'], 'recall': ['0.054']}"
      ]
     },
     "execution_count": 149,
     "metadata": {},
     "output_type": "execute_result"
    }
   ],
   "source": [
    "\n",
    "\n",
    "#"
   ]
  },
  {
   "cell_type": "code",
   "execution_count": 138,
   "metadata": {},
   "outputs": [
    {
     "data": {
      "text/plain": [
       "['-1', '0.417', '0.161', '0.232', '311']"
      ]
     },
     "execution_count": 138,
     "metadata": {},
     "output_type": "execute_result"
    }
   ],
   "source": [
    "a"
   ]
  },
  {
   "cell_type": "code",
   "execution_count": null,
   "metadata": {},
   "outputs": [],
   "source": [
    "#['liblinear','lbfgs']\n",
    "\n",
    "logreg = LogisticRegression(C=1e5, solver='liblinear', multi_class='multinomial')\n",
    "\n",
    "# Create an instance of Logistic Regression Classifier and fit the data.\n",
    "logreg.fit(X, Y)\n",
    "\n",
    "## Plot the decision boundary. For that, we will assign a color to each\n",
    "## point in the mesh [x_min, x_max]x[y_min, y_max].\n",
    "#x_min, x_max = X[:, 0].min() - .5, X[:, 0].max() + .5\n",
    "#y_min, y_max = X[:, 1].min() - .5, X[:, 1].max() + .5\n",
    "#h = .02  # step size in the mesh\n",
    "#xx, yy = np.meshgrid(np.arange(x_min, x_max, h), np.arange(y_min, y_max, h))\n",
    "#Z = logreg.predict(np.c_[xx.ravel(), yy.ravel()])\n",
    "\n",
    "## Put the result into a color plot\n",
    "#Z = Z.reshape(xx.shape)\n",
    "#plt.figure(1, figsize=(4, 3))\n",
    "#plt.pcolormesh(xx, yy, Z, cmap=plt.cm.Paired)\n",
    "\n",
    "## Plot also the training points\n",
    "#plt.scatter(X[:, 0], X[:, 1], c=Y, edgecolors='k', cmap=plt.cm.Paired)\n",
    "#plt.xlabel('Sepal length')\n",
    "#plt.ylabel('Sepal width')\n",
    "\n",
    "#plt.xlim(xx.min(), xx.max())\n",
    "#plt.ylim(yy.min(), yy.max())\n",
    "#plt.xticks(())\n",
    "#plt.yticks(())\n",
    "\n",
    "#plt.show()\n"
   ]
  },
  {
   "cell_type": "code",
   "execution_count": null,
   "metadata": {},
   "outputs": [],
   "source": []
  },
  {
   "cell_type": "code",
   "execution_count": null,
   "metadata": {},
   "outputs": [],
   "source": []
  },
  {
   "cell_type": "markdown",
   "metadata": {},
   "source": [
    "### $\\eta$ minimo estimado"
   ]
  },
  {
   "cell_type": "code",
   "execution_count": null,
   "metadata": {},
   "outputs": [],
   "source": [
    "n_est = int(np.ceil((1/Epsilon)*(np.log(h_aprox) + np.log(1/delta))))\n",
    "X1_tr, X1_ts, Y1_tr, Y1_ts = train_test_split(X, Y, train_size = n_est/X.shape[0], random_state=123)"
   ]
  },
  {
   "cell_type": "markdown",
   "metadata": {},
   "source": [
    "# AQUI EL ALGORITMO USANDO X1"
   ]
  },
  {
   "cell_type": "markdown",
   "metadata": {},
   "source": [
    "### $\\eta$ minimo optimo"
   ]
  },
  {
   "cell_type": "code",
   "execution_count": null,
   "metadata": {},
   "outputs": [],
   "source": [
    "n_opt = int(np.ceil((1/Epsilon)*(np.log(dimVC) + np.log(1/delta))))\n",
    "X2_tr, X2_ts, Y2_tr, Y2_ts = train_test_split(X, Y, train_size = n_opt/X.shape[0], random_state=123)"
   ]
  },
  {
   "cell_type": "markdown",
   "metadata": {},
   "source": [
    "# AQUI EL ALGORITMO USANDO X2"
   ]
  },
  {
   "cell_type": "code",
   "execution_count": null,
   "metadata": {},
   "outputs": [],
   "source": []
  },
  {
   "cell_type": "code",
   "execution_count": null,
   "metadata": {},
   "outputs": [],
   "source": []
  },
  {
   "cell_type": "code",
   "execution_count": null,
   "metadata": {},
   "outputs": [],
   "source": []
  },
  {
   "cell_type": "code",
   "execution_count": null,
   "metadata": {},
   "outputs": [],
   "source": []
  },
  {
   "cell_type": "code",
   "execution_count": null,
   "metadata": {},
   "outputs": [],
   "source": []
  }
 ],
 "metadata": {
  "kernelspec": {
   "display_name": "Python 3",
   "language": "python",
   "name": "python3"
  },
  "language_info": {
   "codemirror_mode": {
    "name": "ipython",
    "version": 3
   },
   "file_extension": ".py",
   "mimetype": "text/x-python",
   "name": "python",
   "nbconvert_exporter": "python",
   "pygments_lexer": "ipython3",
   "version": "3.7.3"
  }
 },
 "nbformat": 4,
 "nbformat_minor": 2
}
