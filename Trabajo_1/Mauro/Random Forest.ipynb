{
 "cells": [
  {
   "cell_type": "code",
   "execution_count": null,
   "metadata": {},
   "outputs": [],
   "source": [
    "import numpy as np\n",
    "import pandas as pd\n",
    "import itertools as it\n",
    "from sklearn.ensemble import RandomForestClassifier\n",
    "from sklearn.model_selection import train_test_split\n",
    "from sklearn.model_selection import cross_val_score\n",
    "from sklearn.metrics import accuracy_score, confusion_matrix\n",
    "import matplotlib.pylab as plt"
   ]
  },
  {
   "cell_type": "code",
   "execution_count": null,
   "metadata": {},
   "outputs": [],
   "source": [
    "Data = pd.read_excel('Data.xlsx')\n",
    "Data = Data.set_index('Date')\n",
    "Y = Data['Class']\n",
    "X = Data.drop('Class', axis = 1)"
   ]
  },
  {
   "cell_type": "markdown",
   "metadata": {},
   "source": [
    "### Parameters"
   ]
  },
  {
   "cell_type": "code",
   "execution_count": null,
   "metadata": {},
   "outputs": [],
   "source": [
    "step = 100\n",
    "ts_prop = 0.1\n",
    "va_prop = 0.2\n",
    "\n",
    "Hpyer_Parameters = [[i for i in range(50,500,50)], # n_estimators -> nro de arboles en el bosque\n",
    "                    ['gini', 'entropy'],           # criterion -> criterio de separacion\n",
    "                    [i for i in range(1,4)],       # max_depth\n",
    "                    [i for i in range(1,10)]]      # min_samples_leaf\n",
    "set_parameters = [i for i in it.product(*Hpyer_Parameters)]"
   ]
  },
  {
   "cell_type": "markdown",
   "metadata": {},
   "source": [
    "#### Error real y de entrenamiento deseados"
   ]
  },
  {
   "cell_type": "code",
   "execution_count": null,
   "metadata": {},
   "outputs": [],
   "source": [
    "Epsilon = 0.15\n",
    "delta = 0.15"
   ]
  },
  {
   "cell_type": "markdown",
   "metadata": {},
   "source": [
    "#### Garantia probable de aprendizaje ($\\eta_{estimado}$)"
   ]
  },
  {
   "cell_type": "code",
   "execution_count": null,
   "metadata": {},
   "outputs": [],
   "source": [
    "n_est = int(np.ceil((1/Epsilon)*(np.log(len(set_parameters)) + np.log(1/delta))))"
   ]
  },
  {
   "cell_type": "markdown",
   "metadata": {},
   "source": [
    "#### Division del conjunto: entrenamiento (70%), validacion (20%) y prueba (10%)"
   ]
  },
  {
   "cell_type": "code",
   "execution_count": null,
   "metadata": {},
   "outputs": [],
   "source": [
    "X1, X1_ts, Y1,Y1_ts = train_test_split(X, Y, train_size = 1-ts_prop, random_state=19)\n",
    "X1_tr, X1_va, Y1_tr, Y1_va = train_test_split(X1, Y1, train_size = 1-va_prop, random_state=19)"
   ]
  },
  {
   "cell_type": "markdown",
   "metadata": {},
   "source": [
    "#### Discretizacion para explorar el aumento de $\\eta$"
   ]
  },
  {
   "cell_type": "code",
   "execution_count": null,
   "metadata": {},
   "outputs": [],
   "source": [
    "N = range(n_est, round(X1_tr.shape[0]*(1-va_prop)), step)"
   ]
  },
  {
   "cell_type": "markdown",
   "metadata": {},
   "source": [
    "### Exploracion de modelos partiendo de $\\eta_{estimado}$"
   ]
  },
  {
   "cell_type": "code",
   "execution_count": null,
   "metadata": {},
   "outputs": [],
   "source": [
    "n_est_mod_results = {\n",
    "    'Model': [None for i in range(len(set_parameters))],\n",
    "    'Acc_Test': np.zeros((len(N),len(set_parameters))),\n",
    "    'Acc_Val': np.zeros((len(N),len(set_parameters)))\n",
    "}"
   ]
  },
  {
   "cell_type": "code",
   "execution_count": null,
   "metadata": {
    "scrolled": true
   },
   "outputs": [],
   "source": [
    "for j in range(len(set_parameters)):\n",
    "    rfc = RandomForestClassifier(n_estimators = set_parameters[j][0],\n",
    "                                 criterion = set_parameters[j][1],\n",
    "                                 max_depth = set_parameters[j][2], \n",
    "                                 min_samples_leaf = set_parameters[j][3],\n",
    "                                 random_state=19)\n",
    "    for i in range(len(N)):\n",
    "        np.random.seed(seed = 19)\n",
    "        ind1 = np.random.randint(0, X1_tr.shape[0], N[i])\n",
    "        rfc.fit(X1_tr.iloc[ind1,], Y1_tr[ind1])\n",
    "        y_pred = rfc.predict(X1_va)\n",
    "        n_est_mod_results['Acc_Val'][i,j] = accuracy_score(Y1_va, y_pred)\n",
    "    n_est_mod_results['Model'][j] = rfc\n",
    "    \n",
    "ind_bst = np.where(n_est_mod_results['Acc_Val'] == np.amax(n_est_mod_results['Acc_Val']))[1][0]\n",
    "n_est_mod_results['Best'] = set_parameters[ind_bst]"
   ]
  },
  {
   "cell_type": "markdown",
   "metadata": {},
   "source": [
    "#### Grid search"
   ]
  },
  {
   "cell_type": "code",
   "execution_count": null,
   "metadata": {},
   "outputs": [],
   "source": [
    "Hyper_Parameters = {\n",
    "    'n_estimators': [i for i in range(50,500,50)],\n",
    "    'criterion': ['gini', 'entropy'],\n",
    "    'max_depth': [i for i in range(1,4)],\n",
    "    'min_samples_leaf': [i for i in range(1,10)]\n",
    "}\n",
    "clf = GridSearchCV(RandomForestClassifier(), Hyper_Parameters, cv = 5)\n",
    "clf.fit(X1_tr.values, Y1_tr)\n",
    "clf.best_params_"
   ]
  }
 ],
 "metadata": {
  "kernelspec": {
   "display_name": "Python 3",
   "language": "python",
   "name": "python3"
  },
  "language_info": {
   "codemirror_mode": {
    "name": "ipython",
    "version": 3
   },
   "file_extension": ".py",
   "mimetype": "text/x-python",
   "name": "python",
   "nbconvert_exporter": "python",
   "pygments_lexer": "ipython3",
   "version": "3.7.3"
  }
 },
 "nbformat": 4,
 "nbformat_minor": 2
}
