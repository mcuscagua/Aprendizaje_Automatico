{
 "cells": [
  {
   "cell_type": "code",
   "execution_count": 6,
   "metadata": {},
   "outputs": [],
   "source": [
    "import numpy as np\n",
    "import pandas as pd\n",
    "import itertools as it\n",
    "from sklearn.svm import SVC\n",
    "from sklearn.model_selection import train_test_split, GridSearchCV\n",
    "from sklearn.model_selection import cross_val_score\n",
    "from sklearn.metrics import precision_score,confusion_matrix,recall_score,accuracy_score\n",
    "from sklearn.metrics import roc_curve, auc,precision_recall_curve, roc_curve\n",
    "import matplotlib.pylab as plt\n",
    "import matplotlib.patheffects as pe\n",
    "import seaborn as sns\n",
    "from tsne import *\n",
    "\n",
    "import plotly.graph_objects as go\n",
    "\n",
    "from warnings import filterwarnings\n",
    "filterwarnings('ignore')"
   ]
  },
  {
   "cell_type": "code",
   "execution_count": 3,
   "metadata": {},
   "outputs": [],
   "source": [
    "Data = pd.read_excel('Data.xlsx')\n",
    "Data = Data.set_index('Date')\n",
    "Y = Data['Class']\n",
    "X = Data.drop('Class', axis = 1)"
   ]
  },
  {
   "cell_type": "code",
   "execution_count": 4,
   "metadata": {
    "scrolled": true
   },
   "outputs": [
    {
     "name": "stdout",
     "output_type": "stream",
     "text": [
      "Preprocessing the data using PCA...\n",
      "Computing pairwise distances...\n",
      "Computing P-values for point 0 of 4931...\n",
      "Computing P-values for point 500 of 4931...\n",
      "Computing P-values for point 1000 of 4931...\n",
      "Computing P-values for point 1500 of 4931...\n",
      "Computing P-values for point 2000 of 4931...\n",
      "Computing P-values for point 2500 of 4931...\n",
      "Computing P-values for point 3000 of 4931...\n",
      "Computing P-values for point 3500 of 4931...\n",
      "Computing P-values for point 4000 of 4931...\n",
      "Computing P-values for point 4500 of 4931...\n",
      "Mean value of sigma: 0.685436\n",
      "Iteration 10: error is 22.648160\n",
      "Iteration 20: error is 22.116846\n",
      "Iteration 30: error is 18.794072\n",
      "Iteration 40: error is 17.654123\n",
      "Iteration 50: error is 17.248738\n",
      "Iteration 60: error is 17.008929\n",
      "Iteration 70: error is 16.899057\n",
      "Iteration 80: error is 16.819025\n",
      "Iteration 90: error is 16.711586\n",
      "Iteration 100: error is 16.635254\n",
      "Iteration 110: error is 2.414657\n",
      "Iteration 120: error is 2.116111\n",
      "Iteration 130: error is 1.939130\n",
      "Iteration 140: error is 1.818285\n",
      "Iteration 150: error is 1.727441\n",
      "Iteration 160: error is 1.655424\n",
      "Iteration 170: error is 1.596608\n",
      "Iteration 180: error is 1.547419\n",
      "Iteration 190: error is 1.505427\n",
      "Iteration 200: error is 1.468869\n"
     ]
    }
   ],
   "source": [
    "T = tsne(X = X, perplexity=60)\n",
    "X = pd.DataFrame(T)"
   ]
  },
  {
   "cell_type": "markdown",
   "metadata": {},
   "source": [
    "### Parameters"
   ]
  },
  {
   "cell_type": "code",
   "execution_count": 22,
   "metadata": {
    "scrolled": true
   },
   "outputs": [],
   "source": [
    "step = 100\n",
    "ts_prop = 0.1\n",
    "va_prop = 0.2\n",
    "\n",
    "Hyper_Parameters = [['linear', 'poly', 'rbf', 'sigmoid']] # kernel\n",
    "set_parameters = [i for i in it.product(*Hyper_Parameters)]"
   ]
  },
  {
   "cell_type": "markdown",
   "metadata": {},
   "source": [
    "#### Error real y de entrenamiento deseados"
   ]
  },
  {
   "cell_type": "code",
   "execution_count": 23,
   "metadata": {},
   "outputs": [],
   "source": [
    "Epsilon = 0.4\n",
    "delta = 0.15"
   ]
  },
  {
   "cell_type": "markdown",
   "metadata": {},
   "source": [
    "#### Garantia probable de aprendizaje ($\\eta_{estimado}$) y Tamaño optimo de la muestra $\\eta_{optimo}$"
   ]
  },
  {
   "cell_type": "markdown",
   "metadata": {},
   "source": [
    "#### $\\eta_{estimado}$"
   ]
  },
  {
   "cell_type": "code",
   "execution_count": 24,
   "metadata": {},
   "outputs": [],
   "source": [
    "n_est = int(np.ceil((1/Epsilon)*(np.log(len(set_parameters)) + np.log(1/delta))))"
   ]
  },
  {
   "cell_type": "markdown",
   "metadata": {},
   "source": [
    "#### $\\eta_{optimo}$"
   ]
  },
  {
   "cell_type": "code",
   "execution_count": 25,
   "metadata": {},
   "outputs": [],
   "source": [
    "n_opt = X.shape[1]+1"
   ]
  },
  {
   "cell_type": "markdown",
   "metadata": {},
   "source": [
    "#### Division del conjunto: entrenamiento (70%), validacion (20%) y prueba (10%)"
   ]
  },
  {
   "cell_type": "code",
   "execution_count": 26,
   "metadata": {},
   "outputs": [],
   "source": [
    "X1, X1_ts, Y1,Y1_ts = train_test_split(X, Y, train_size = 1-ts_prop, random_state=19)\n",
    "X1_tr, X1_va, Y1_tr, Y1_va = train_test_split(X1, Y1, train_size = 1-va_prop, random_state=19)"
   ]
  },
  {
   "cell_type": "markdown",
   "metadata": {},
   "source": [
    "#### Discretizacion para explorar el aumento de $\\eta$"
   ]
  },
  {
   "cell_type": "code",
   "execution_count": 27,
   "metadata": {},
   "outputs": [],
   "source": [
    "N = range(n_est, round(X1_tr.shape[0]*(1-va_prop)), step)"
   ]
  },
  {
   "cell_type": "markdown",
   "metadata": {},
   "source": [
    "### Exploracion de modelos partiendo de $\\eta_{estimado}$, es claro que $\\eta_{estimado}$ es tenido en cuenta ya que $\\eta_{estimado} < \\eta_{optimo}$"
   ]
  },
  {
   "cell_type": "code",
   "execution_count": 28,
   "metadata": {},
   "outputs": [],
   "source": [
    "n_est_mod_results = {\n",
    "    'Model': [None for i in range(len(set_parameters))],\n",
    "    'Accuracy': np.zeros((len(N),len(set_parameters))),\n",
    "    'Precision': np.zeros((len(N),len(set_parameters))),\n",
    "    'Recall': np.zeros((len(N),len(set_parameters)))\n",
    "}"
   ]
  },
  {
   "cell_type": "code",
   "execution_count": null,
   "metadata": {
    "scrolled": true
   },
   "outputs": [],
   "source": [
    "for j in range(len(set_parameters)):\n",
    "    svmc = SVC(kernel= set_parameters[j][0])\n",
    "    for i in range(len(N)):\n",
    "        np.random.seed(seed = 19)\n",
    "        ind1 = np.random.randint(0, X1_tr.shape[0], N[i])\n",
    "        svmc.fit(X1_tr.iloc[ind1,], Y1_tr[ind1])\n",
    "        y_pred = svmc.predict(X1_va)\n",
    "        n_est_mod_results['Accuracy'][i,j] = accuracy_score(Y1_va, y_pred)\n",
    "        n_est_mod_results['Precision'][i,j] = precision_score(Y1_va, y_pred, average = 'macro')\n",
    "        n_est_mod_results['Recall'][i,j] = recall_score(Y1_va, y_pred, average = 'macro')\n",
    "    n_est_mod_results['Model'][j] = svmc\n",
    "    \n",
    "ind_bst = np.where(n_est_mod_results['Accuracy'] == np.amax(n_est_mod_results['Accuracy']))[1][0]\n",
    "n_est_mod_results['Best'] = set_parameters[ind_bst]"
   ]
  },
  {
   "cell_type": "markdown",
   "metadata": {},
   "source": [
    "#### Grid search"
   ]
  },
  {
   "cell_type": "code",
   "execution_count": null,
   "metadata": {
    "scrolled": true
   },
   "outputs": [],
   "source": [
    "Hyper_Parameters = {\n",
    "    'kernel': ['linear', 'poly', 'rbf', 'sigmoid']\n",
    "}\n",
    "\n",
    "clf = GridSearchCV(SVC(), Hyper_Parameters, cv = 5)\n",
    "clf.fit(X1_tr.values, Y1_tr)\n",
    "clf.best_params_"
   ]
  },
  {
   "cell_type": "code",
   "execution_count": null,
   "metadata": {},
   "outputs": [],
   "source": [
    "fig1 = go.Figure(data=[go.Surface(z=n_est_mod_results['Accuracy'])])\n",
    "\n",
    "fig1.update_layout(title='Accuracy Surface', autosize=False,\n",
    "                  width=500, height=500,\n",
    "                  margin=dict(l=65, r=50, b=65, t=90))\n",
    "\n",
    "fig1.show()"
   ]
  },
  {
   "cell_type": "code",
   "execution_count": null,
   "metadata": {},
   "outputs": [],
   "source": [
    "fig2 = go.Figure(data=[go.Surface(z=n_est_mod_results['Precision'])])\n",
    "\n",
    "fig2.update_layout(title='Precision', autosize=False,\n",
    "                  width=500, height=500,\n",
    "                  margin=dict(l=65, r=50, b=65, t=90))\n",
    "\n",
    "fig2.show()"
   ]
  },
  {
   "cell_type": "code",
   "execution_count": null,
   "metadata": {},
   "outputs": [],
   "source": [
    "fig3 = go.Figure(data=[go.Surface(z=n_est_mod_results['Recall'])])\n",
    "\n",
    "fig3.update_layout(title='Recall', autosize=False,\n",
    "                  width=500, height=500,\n",
    "                  margin=dict(l=65, r=50, b=65, t=90))\n",
    "\n",
    "fig3.show()"
   ]
  }
 ],
 "metadata": {
  "kernelspec": {
   "display_name": "Python 3",
   "language": "python",
   "name": "python3"
  },
  "language_info": {
   "codemirror_mode": {
    "name": "ipython",
    "version": 3
   },
   "file_extension": ".py",
   "mimetype": "text/x-python",
   "name": "python",
   "nbconvert_exporter": "python",
   "pygments_lexer": "ipython3",
   "version": "3.7.3"
  }
 },
 "nbformat": 4,
 "nbformat_minor": 2
}
