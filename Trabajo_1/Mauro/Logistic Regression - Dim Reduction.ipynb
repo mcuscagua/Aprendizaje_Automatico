{
 "cells": [
  {
   "cell_type": "code",
   "execution_count": 1,
   "metadata": {},
   "outputs": [],
   "source": [
    "import numpy as np\n",
    "import pandas as pd\n",
    "import itertools as it\n",
    "from sklearn.linear_model import LogisticRegression\n",
    "from sklearn.multiclass import OneVsOneClassifier\n",
    "from sklearn.model_selection import train_test_split, GridSearchCV\n",
    "from sklearn.model_selection import cross_val_score\n",
    "from sklearn.metrics import precision_score,confusion_matrix,recall_score,accuracy_score\n",
    "from sklearn.metrics import roc_curve, auc,precision_recall_curve, roc_curve\n",
    "import matplotlib.pylab as plt\n",
    "import matplotlib.patheffects as pe\n",
    "import seaborn as sns\n",
    "from tsne import *\n",
    "\n",
    "import plotly.graph_objects as go\n",
    "\n",
    "from warnings import filterwarnings\n",
    "filterwarnings('ignore')"
   ]
  },
  {
   "cell_type": "code",
   "execution_count": 2,
   "metadata": {},
   "outputs": [],
   "source": [
    "Data = pd.read_excel('Data.xlsx')\n",
    "Data = Data.set_index('Date')\n",
    "Y = Data['Class']\n",
    "X = Data.drop('Class', axis = 1)"
   ]
  },
  {
   "cell_type": "code",
   "execution_count": 3,
   "metadata": {
    "scrolled": true
   },
   "outputs": [
    {
     "name": "stdout",
     "output_type": "stream",
     "text": [
      "Preprocessing the data using PCA...\n",
      "Computing pairwise distances...\n",
      "Computing P-values for point 0 of 4931...\n",
      "Computing P-values for point 500 of 4931...\n",
      "Computing P-values for point 1000 of 4931...\n",
      "Computing P-values for point 1500 of 4931...\n",
      "Computing P-values for point 2000 of 4931...\n",
      "Computing P-values for point 2500 of 4931...\n",
      "Computing P-values for point 3000 of 4931...\n",
      "Computing P-values for point 3500 of 4931...\n",
      "Computing P-values for point 4000 of 4931...\n",
      "Computing P-values for point 4500 of 4931...\n",
      "Mean value of sigma: 0.685436\n",
      "Iteration 10: error is 22.608325\n",
      "Iteration 20: error is 21.550471\n",
      "Iteration 30: error is 18.322612\n",
      "Iteration 40: error is 17.304024\n",
      "Iteration 50: error is 17.138090\n",
      "Iteration 60: error is 17.019729\n",
      "Iteration 70: error is 16.859911\n",
      "Iteration 80: error is 16.789879\n",
      "Iteration 90: error is 16.777396\n",
      "Iteration 100: error is 16.781783\n",
      "Iteration 110: error is 2.504532\n",
      "Iteration 120: error is 2.210635\n",
      "Iteration 130: error is 2.025411\n",
      "Iteration 140: error is 1.895044\n",
      "Iteration 150: error is 1.796499\n",
      "Iteration 160: error is 1.718308\n",
      "Iteration 170: error is 1.654552\n",
      "Iteration 180: error is 1.601880\n",
      "Iteration 190: error is 1.557393\n",
      "Iteration 200: error is 1.519161\n"
     ]
    }
   ],
   "source": [
    "T = tsne(X = X, perplexity=60)\n",
    "X = pd.DataFrame(T)"
   ]
  },
  {
   "cell_type": "markdown",
   "metadata": {},
   "source": [
    "### Parameters"
   ]
  },
  {
   "cell_type": "code",
   "execution_count": 14,
   "metadata": {
    "scrolled": true
   },
   "outputs": [],
   "source": [
    "step = 100\n",
    "niter = 10\n",
    "ts_prop = 0.1\n",
    "va_prop = 0.2\n",
    "\n",
    "Hyper_Parameters = [['l1','l2']] # Regresores\n",
    "set_parameters = [i for i in it.product(*Hyper_Parameters)]"
   ]
  },
  {
   "cell_type": "markdown",
   "metadata": {},
   "source": [
    "#### Error real y de entrenamiento deseados"
   ]
  },
  {
   "cell_type": "code",
   "execution_count": 15,
   "metadata": {},
   "outputs": [],
   "source": [
    "Epsilon = 0.4\n",
    "delta = 0.15"
   ]
  },
  {
   "cell_type": "markdown",
   "metadata": {},
   "source": [
    "#### Garantia probable de aprendizaje ($\\eta_{estimado}$) y Tamaño optimo de la muestra $\\eta_{optimo}$"
   ]
  },
  {
   "cell_type": "markdown",
   "metadata": {},
   "source": [
    "#### $\\eta_{estimado}$"
   ]
  },
  {
   "cell_type": "code",
   "execution_count": 16,
   "metadata": {},
   "outputs": [],
   "source": [
    "n_est = int(np.ceil((1/Epsilon)*(np.log(len(set_parameters)) + np.log(1/delta))))"
   ]
  },
  {
   "cell_type": "markdown",
   "metadata": {},
   "source": [
    "#### $\\eta_{optimo}$"
   ]
  },
  {
   "cell_type": "code",
   "execution_count": 17,
   "metadata": {},
   "outputs": [],
   "source": [
    "n_opt = X.shape[1]+1"
   ]
  },
  {
   "cell_type": "markdown",
   "metadata": {},
   "source": [
    "#### Division del conjunto: entrenamiento (70%), validacion (20%) y prueba (10%)"
   ]
  },
  {
   "cell_type": "code",
   "execution_count": 18,
   "metadata": {},
   "outputs": [],
   "source": [
    "X1, X1_ts, Y1,Y1_ts = train_test_split(X, Y, train_size = 1-ts_prop, random_state=19)\n",
    "X1_tr, X1_va, Y1_tr, Y1_va = train_test_split(X1, Y1, train_size = 1-va_prop, random_state=19)"
   ]
  },
  {
   "cell_type": "markdown",
   "metadata": {},
   "source": [
    "#### Discretizacion para explorar el aumento de $\\eta$"
   ]
  },
  {
   "cell_type": "code",
   "execution_count": 19,
   "metadata": {},
   "outputs": [],
   "source": [
    "N = range(n_est, round(X1_tr.shape[0]*(1-va_prop)), 100)"
   ]
  },
  {
   "cell_type": "markdown",
   "metadata": {},
   "source": [
    "### Exploracion de modelos partiendo de $\\eta_{estimado}$, es claro que $\\eta_{estimado}$ es tenido en cuenta ya que $\\eta_{estimado} < \\eta_{optimo}$"
   ]
  },
  {
   "cell_type": "code",
   "execution_count": 20,
   "metadata": {},
   "outputs": [],
   "source": [
    "n_est_mod_results = {\n",
    "    'Model': [None for i in range(niter)],\n",
    "    'Accuracy': np.zeros((len(N),niter)),\n",
    "    'Precision': np.zeros((len(N),niter)),\n",
    "    'Recall': np.zeros((len(N),niter))\n",
    "}"
   ]
  },
  {
   "cell_type": "code",
   "execution_count": 22,
   "metadata": {
    "scrolled": true
   },
   "outputs": [],
   "source": [
    "for j in range(niter):\n",
    "    lrc = LogisticRegression()#penalty= set_parameters[j][0])\n",
    "    for i in range(len(N)):\n",
    "        np.random.seed(seed = 19)\n",
    "        ind1 = np.random.randint(0, X1_tr.shape[0], N[i])\n",
    "        lrc.fit(X1_tr.iloc[ind1,:], Y1_tr[ind1])\n",
    "        y_pred = lrc.predict(X1_va)\n",
    "        n_est_mod_results['Accuracy'][i,j] = accuracy_score(Y1_va, y_pred)\n",
    "        n_est_mod_results['Precision'][i,j] = precision_score(Y1_va, y_pred, average = 'macro')\n",
    "        n_est_mod_results['Recall'][i,j] = recall_score(Y1_va, y_pred, average = 'macro')\n",
    "    n_est_mod_results['Model'][j] = (lrc,regresors)\n",
    "    \n",
    "ind_bst = np.where(n_est_mod_results['Accuracy'] == np.amax(n_est_mod_results['Accuracy']))[1][0]\n",
    "n_est_mod_results['Best'] = set_parameters[ind_bst]"
   ]
  },
  {
   "cell_type": "markdown",
   "metadata": {},
   "source": [
    "#### Grid search"
   ]
  },
  {
   "cell_type": "code",
   "execution_count": 23,
   "metadata": {
    "scrolled": true
   },
   "outputs": [
    {
     "data": {
      "text/plain": [
       "{'penalty': 'l1'}"
      ]
     },
     "execution_count": 23,
     "metadata": {},
     "output_type": "execute_result"
    }
   ],
   "source": [
    "Hyper_Parameters = {\n",
    "    'penalty': ['l1', 'l2']\n",
    "}\n",
    "\n",
    "clf = GridSearchCV(LogisticRegression(), Hyper_Parameters, cv = 5)\n",
    "clf.fit(X1_tr.values, Y1_tr)\n",
    "clf.best_params_"
   ]
  },
  {
   "cell_type": "code",
   "execution_count": 27,
   "metadata": {},
   "outputs": [
    {
     "data": {
      "application/vnd.plotly.v1+json": {
       "config": {
        "plotlyServerURL": "https://plot.ly"
       },
       "data": [
        {
         "type": "surface",
         "z": [
          [
           0.49211711711711714,
           0.49211711711711714,
           0.49211711711711714,
           0.49211711711711714,
           0.49211711711711714,
           0.49211711711711714,
           0.49211711711711714,
           0.49211711711711714,
           0.49211711711711714,
           0.49211711711711714
          ],
          [
           0.5123873873873874,
           0.5123873873873874,
           0.5123873873873874,
           0.5123873873873874,
           0.5123873873873874,
           0.5123873873873874,
           0.5123873873873874,
           0.5123873873873874,
           0.5123873873873874,
           0.5123873873873874
          ],
          [
           0.5146396396396397,
           0.5146396396396397,
           0.5146396396396397,
           0.5146396396396397,
           0.5146396396396397,
           0.5146396396396397,
           0.5146396396396397,
           0.5146396396396397,
           0.5146396396396397,
           0.5146396396396397
          ],
          [
           0.5135135135135135,
           0.5135135135135135,
           0.5135135135135135,
           0.5135135135135135,
           0.5135135135135135,
           0.5135135135135135,
           0.5135135135135135,
           0.5135135135135135,
           0.5135135135135135,
           0.5135135135135135
          ],
          [
           0.5180180180180181,
           0.5180180180180181,
           0.5180180180180181,
           0.5180180180180181,
           0.5180180180180181,
           0.5180180180180181,
           0.5180180180180181,
           0.5180180180180181,
           0.5180180180180181,
           0.5180180180180181
          ],
          [
           0.5123873873873874,
           0.5123873873873874,
           0.5123873873873874,
           0.5123873873873874,
           0.5123873873873874,
           0.5123873873873874,
           0.5123873873873874,
           0.5123873873873874,
           0.5123873873873874,
           0.5123873873873874
          ],
          [
           0.5135135135135135,
           0.5135135135135135,
           0.5135135135135135,
           0.5135135135135135,
           0.5135135135135135,
           0.5135135135135135,
           0.5135135135135135,
           0.5135135135135135,
           0.5135135135135135,
           0.5135135135135135
          ],
          [
           0.5123873873873874,
           0.5123873873873874,
           0.5123873873873874,
           0.5123873873873874,
           0.5123873873873874,
           0.5123873873873874,
           0.5123873873873874,
           0.5123873873873874,
           0.5123873873873874,
           0.5123873873873874
          ],
          [
           0.5146396396396397,
           0.5146396396396397,
           0.5146396396396397,
           0.5146396396396397,
           0.5146396396396397,
           0.5146396396396397,
           0.5146396396396397,
           0.5146396396396397,
           0.5146396396396397,
           0.5146396396396397
          ],
          [
           0.5112612612612613,
           0.5112612612612613,
           0.5112612612612613,
           0.5112612612612613,
           0.5112612612612613,
           0.5112612612612613,
           0.5112612612612613,
           0.5112612612612613,
           0.5112612612612613,
           0.5112612612612613
          ],
          [
           0.5123873873873874,
           0.5123873873873874,
           0.5123873873873874,
           0.5123873873873874,
           0.5123873873873874,
           0.5123873873873874,
           0.5123873873873874,
           0.5123873873873874,
           0.5123873873873874,
           0.5123873873873874
          ],
          [
           0.5112612612612613,
           0.5112612612612613,
           0.5112612612612613,
           0.5112612612612613,
           0.5112612612612613,
           0.5112612612612613,
           0.5112612612612613,
           0.5112612612612613,
           0.5112612612612613,
           0.5112612612612613
          ],
          [
           0.5135135135135135,
           0.5135135135135135,
           0.5135135135135135,
           0.5135135135135135,
           0.5135135135135135,
           0.5135135135135135,
           0.5135135135135135,
           0.5135135135135135,
           0.5135135135135135,
           0.5135135135135135
          ],
          [
           0.5123873873873874,
           0.5123873873873874,
           0.5123873873873874,
           0.5123873873873874,
           0.5123873873873874,
           0.5123873873873874,
           0.5123873873873874,
           0.5123873873873874,
           0.5123873873873874,
           0.5123873873873874
          ],
          [
           0.5157657657657657,
           0.5157657657657657,
           0.5157657657657657,
           0.5157657657657657,
           0.5157657657657657,
           0.5157657657657657,
           0.5157657657657657,
           0.5157657657657657,
           0.5157657657657657,
           0.5157657657657657
          ],
          [
           0.5157657657657657,
           0.5157657657657657,
           0.5157657657657657,
           0.5157657657657657,
           0.5157657657657657,
           0.5157657657657657,
           0.5157657657657657,
           0.5157657657657657,
           0.5157657657657657,
           0.5157657657657657
          ],
          [
           0.5123873873873874,
           0.5123873873873874,
           0.5123873873873874,
           0.5123873873873874,
           0.5123873873873874,
           0.5123873873873874,
           0.5123873873873874,
           0.5123873873873874,
           0.5123873873873874,
           0.5123873873873874
          ],
          [
           0.5168918918918919,
           0.5168918918918919,
           0.5168918918918919,
           0.5168918918918919,
           0.5168918918918919,
           0.5168918918918919,
           0.5168918918918919,
           0.5168918918918919,
           0.5168918918918919,
           0.5168918918918919
          ],
          [
           0.5101351351351351,
           0.5101351351351351,
           0.5101351351351351,
           0.5101351351351351,
           0.5101351351351351,
           0.5101351351351351,
           0.5101351351351351,
           0.5101351351351351,
           0.5101351351351351,
           0.5101351351351351
          ],
          [
           0.5112612612612613,
           0.5112612612612613,
           0.5112612612612613,
           0.5112612612612613,
           0.5112612612612613,
           0.5112612612612613,
           0.5112612612612613,
           0.5112612612612613,
           0.5112612612612613,
           0.5112612612612613
          ],
          [
           0.5101351351351351,
           0.5101351351351351,
           0.5101351351351351,
           0.5101351351351351,
           0.5101351351351351,
           0.5101351351351351,
           0.5101351351351351,
           0.5101351351351351,
           0.5101351351351351,
           0.5101351351351351
          ],
          [
           0.5146396396396397,
           0.5146396396396397,
           0.5146396396396397,
           0.5146396396396397,
           0.5146396396396397,
           0.5146396396396397,
           0.5146396396396397,
           0.5146396396396397,
           0.5146396396396397,
           0.5146396396396397
          ],
          [
           0.5202702702702703,
           0.5202702702702703,
           0.5202702702702703,
           0.5202702702702703,
           0.5202702702702703,
           0.5202702702702703,
           0.5202702702702703,
           0.5202702702702703,
           0.5202702702702703,
           0.5202702702702703
          ],
          [
           0.5135135135135135,
           0.5135135135135135,
           0.5135135135135135,
           0.5135135135135135,
           0.5135135135135135,
           0.5135135135135135,
           0.5135135135135135,
           0.5135135135135135,
           0.5135135135135135,
           0.5135135135135135
          ],
          [
           0.509009009009009,
           0.509009009009009,
           0.509009009009009,
           0.509009009009009,
           0.509009009009009,
           0.509009009009009,
           0.509009009009009,
           0.509009009009009,
           0.509009009009009,
           0.509009009009009
          ],
          [
           0.5146396396396397,
           0.5146396396396397,
           0.5146396396396397,
           0.5146396396396397,
           0.5146396396396397,
           0.5146396396396397,
           0.5146396396396397,
           0.5146396396396397,
           0.5146396396396397,
           0.5146396396396397
          ],
          [
           0.5157657657657657,
           0.5157657657657657,
           0.5157657657657657,
           0.5157657657657657,
           0.5157657657657657,
           0.5157657657657657,
           0.5157657657657657,
           0.5157657657657657,
           0.5157657657657657,
           0.5157657657657657
          ],
          [
           0.5168918918918919,
           0.5168918918918919,
           0.5168918918918919,
           0.5168918918918919,
           0.5168918918918919,
           0.5168918918918919,
           0.5168918918918919,
           0.5168918918918919,
           0.5168918918918919,
           0.5168918918918919
          ],
          [
           0.5112612612612613,
           0.5112612612612613,
           0.5112612612612613,
           0.5112612612612613,
           0.5112612612612613,
           0.5112612612612613,
           0.5112612612612613,
           0.5112612612612613,
           0.5112612612612613,
           0.5112612612612613
          ]
         ]
        }
       ],
       "layout": {
        "autosize": true,
        "scene": {
         "xaxis": {
          "title": {
           "text": "Modelos"
          }
         },
         "yaxis": {
          "title": {
           "text": "Tamaño de N"
          }
         },
         "zaxis": {
          "title": {
           "text": "Accuracy"
          }
         }
        },
        "template": {
         "data": {
          "bar": [
           {
            "error_x": {
             "color": "#2a3f5f"
            },
            "error_y": {
             "color": "#2a3f5f"
            },
            "marker": {
             "line": {
              "color": "#E5ECF6",
              "width": 0.5
             }
            },
            "type": "bar"
           }
          ],
          "barpolar": [
           {
            "marker": {
             "line": {
              "color": "#E5ECF6",
              "width": 0.5
             }
            },
            "type": "barpolar"
           }
          ],
          "carpet": [
           {
            "aaxis": {
             "endlinecolor": "#2a3f5f",
             "gridcolor": "white",
             "linecolor": "white",
             "minorgridcolor": "white",
             "startlinecolor": "#2a3f5f"
            },
            "baxis": {
             "endlinecolor": "#2a3f5f",
             "gridcolor": "white",
             "linecolor": "white",
             "minorgridcolor": "white",
             "startlinecolor": "#2a3f5f"
            },
            "type": "carpet"
           }
          ],
          "choropleth": [
           {
            "colorbar": {
             "outlinewidth": 0,
             "ticks": ""
            },
            "type": "choropleth"
           }
          ],
          "contour": [
           {
            "colorbar": {
             "outlinewidth": 0,
             "ticks": ""
            },
            "colorscale": [
             [
              0,
              "#0d0887"
             ],
             [
              0.1111111111111111,
              "#46039f"
             ],
             [
              0.2222222222222222,
              "#7201a8"
             ],
             [
              0.3333333333333333,
              "#9c179e"
             ],
             [
              0.4444444444444444,
              "#bd3786"
             ],
             [
              0.5555555555555556,
              "#d8576b"
             ],
             [
              0.6666666666666666,
              "#ed7953"
             ],
             [
              0.7777777777777778,
              "#fb9f3a"
             ],
             [
              0.8888888888888888,
              "#fdca26"
             ],
             [
              1,
              "#f0f921"
             ]
            ],
            "type": "contour"
           }
          ],
          "contourcarpet": [
           {
            "colorbar": {
             "outlinewidth": 0,
             "ticks": ""
            },
            "type": "contourcarpet"
           }
          ],
          "heatmap": [
           {
            "colorbar": {
             "outlinewidth": 0,
             "ticks": ""
            },
            "colorscale": [
             [
              0,
              "#0d0887"
             ],
             [
              0.1111111111111111,
              "#46039f"
             ],
             [
              0.2222222222222222,
              "#7201a8"
             ],
             [
              0.3333333333333333,
              "#9c179e"
             ],
             [
              0.4444444444444444,
              "#bd3786"
             ],
             [
              0.5555555555555556,
              "#d8576b"
             ],
             [
              0.6666666666666666,
              "#ed7953"
             ],
             [
              0.7777777777777778,
              "#fb9f3a"
             ],
             [
              0.8888888888888888,
              "#fdca26"
             ],
             [
              1,
              "#f0f921"
             ]
            ],
            "type": "heatmap"
           }
          ],
          "heatmapgl": [
           {
            "colorbar": {
             "outlinewidth": 0,
             "ticks": ""
            },
            "colorscale": [
             [
              0,
              "#0d0887"
             ],
             [
              0.1111111111111111,
              "#46039f"
             ],
             [
              0.2222222222222222,
              "#7201a8"
             ],
             [
              0.3333333333333333,
              "#9c179e"
             ],
             [
              0.4444444444444444,
              "#bd3786"
             ],
             [
              0.5555555555555556,
              "#d8576b"
             ],
             [
              0.6666666666666666,
              "#ed7953"
             ],
             [
              0.7777777777777778,
              "#fb9f3a"
             ],
             [
              0.8888888888888888,
              "#fdca26"
             ],
             [
              1,
              "#f0f921"
             ]
            ],
            "type": "heatmapgl"
           }
          ],
          "histogram": [
           {
            "marker": {
             "colorbar": {
              "outlinewidth": 0,
              "ticks": ""
             }
            },
            "type": "histogram"
           }
          ],
          "histogram2d": [
           {
            "colorbar": {
             "outlinewidth": 0,
             "ticks": ""
            },
            "colorscale": [
             [
              0,
              "#0d0887"
             ],
             [
              0.1111111111111111,
              "#46039f"
             ],
             [
              0.2222222222222222,
              "#7201a8"
             ],
             [
              0.3333333333333333,
              "#9c179e"
             ],
             [
              0.4444444444444444,
              "#bd3786"
             ],
             [
              0.5555555555555556,
              "#d8576b"
             ],
             [
              0.6666666666666666,
              "#ed7953"
             ],
             [
              0.7777777777777778,
              "#fb9f3a"
             ],
             [
              0.8888888888888888,
              "#fdca26"
             ],
             [
              1,
              "#f0f921"
             ]
            ],
            "type": "histogram2d"
           }
          ],
          "histogram2dcontour": [
           {
            "colorbar": {
             "outlinewidth": 0,
             "ticks": ""
            },
            "colorscale": [
             [
              0,
              "#0d0887"
             ],
             [
              0.1111111111111111,
              "#46039f"
             ],
             [
              0.2222222222222222,
              "#7201a8"
             ],
             [
              0.3333333333333333,
              "#9c179e"
             ],
             [
              0.4444444444444444,
              "#bd3786"
             ],
             [
              0.5555555555555556,
              "#d8576b"
             ],
             [
              0.6666666666666666,
              "#ed7953"
             ],
             [
              0.7777777777777778,
              "#fb9f3a"
             ],
             [
              0.8888888888888888,
              "#fdca26"
             ],
             [
              1,
              "#f0f921"
             ]
            ],
            "type": "histogram2dcontour"
           }
          ],
          "mesh3d": [
           {
            "colorbar": {
             "outlinewidth": 0,
             "ticks": ""
            },
            "type": "mesh3d"
           }
          ],
          "parcoords": [
           {
            "line": {
             "colorbar": {
              "outlinewidth": 0,
              "ticks": ""
             }
            },
            "type": "parcoords"
           }
          ],
          "scatter": [
           {
            "marker": {
             "colorbar": {
              "outlinewidth": 0,
              "ticks": ""
             }
            },
            "type": "scatter"
           }
          ],
          "scatter3d": [
           {
            "line": {
             "colorbar": {
              "outlinewidth": 0,
              "ticks": ""
             }
            },
            "marker": {
             "colorbar": {
              "outlinewidth": 0,
              "ticks": ""
             }
            },
            "type": "scatter3d"
           }
          ],
          "scattercarpet": [
           {
            "marker": {
             "colorbar": {
              "outlinewidth": 0,
              "ticks": ""
             }
            },
            "type": "scattercarpet"
           }
          ],
          "scattergeo": [
           {
            "marker": {
             "colorbar": {
              "outlinewidth": 0,
              "ticks": ""
             }
            },
            "type": "scattergeo"
           }
          ],
          "scattergl": [
           {
            "marker": {
             "colorbar": {
              "outlinewidth": 0,
              "ticks": ""
             }
            },
            "type": "scattergl"
           }
          ],
          "scattermapbox": [
           {
            "marker": {
             "colorbar": {
              "outlinewidth": 0,
              "ticks": ""
             }
            },
            "type": "scattermapbox"
           }
          ],
          "scatterpolar": [
           {
            "marker": {
             "colorbar": {
              "outlinewidth": 0,
              "ticks": ""
             }
            },
            "type": "scatterpolar"
           }
          ],
          "scatterpolargl": [
           {
            "marker": {
             "colorbar": {
              "outlinewidth": 0,
              "ticks": ""
             }
            },
            "type": "scatterpolargl"
           }
          ],
          "scatterternary": [
           {
            "marker": {
             "colorbar": {
              "outlinewidth": 0,
              "ticks": ""
             }
            },
            "type": "scatterternary"
           }
          ],
          "surface": [
           {
            "colorbar": {
             "outlinewidth": 0,
             "ticks": ""
            },
            "colorscale": [
             [
              0,
              "#0d0887"
             ],
             [
              0.1111111111111111,
              "#46039f"
             ],
             [
              0.2222222222222222,
              "#7201a8"
             ],
             [
              0.3333333333333333,
              "#9c179e"
             ],
             [
              0.4444444444444444,
              "#bd3786"
             ],
             [
              0.5555555555555556,
              "#d8576b"
             ],
             [
              0.6666666666666666,
              "#ed7953"
             ],
             [
              0.7777777777777778,
              "#fb9f3a"
             ],
             [
              0.8888888888888888,
              "#fdca26"
             ],
             [
              1,
              "#f0f921"
             ]
            ],
            "type": "surface"
           }
          ],
          "table": [
           {
            "cells": {
             "fill": {
              "color": "#EBF0F8"
             },
             "line": {
              "color": "white"
             }
            },
            "header": {
             "fill": {
              "color": "#C8D4E3"
             },
             "line": {
              "color": "white"
             }
            },
            "type": "table"
           }
          ]
         },
         "layout": {
          "annotationdefaults": {
           "arrowcolor": "#2a3f5f",
           "arrowhead": 0,
           "arrowwidth": 1
          },
          "colorscale": {
           "diverging": [
            [
             0,
             "#8e0152"
            ],
            [
             0.1,
             "#c51b7d"
            ],
            [
             0.2,
             "#de77ae"
            ],
            [
             0.3,
             "#f1b6da"
            ],
            [
             0.4,
             "#fde0ef"
            ],
            [
             0.5,
             "#f7f7f7"
            ],
            [
             0.6,
             "#e6f5d0"
            ],
            [
             0.7,
             "#b8e186"
            ],
            [
             0.8,
             "#7fbc41"
            ],
            [
             0.9,
             "#4d9221"
            ],
            [
             1,
             "#276419"
            ]
           ],
           "sequential": [
            [
             0,
             "#0d0887"
            ],
            [
             0.1111111111111111,
             "#46039f"
            ],
            [
             0.2222222222222222,
             "#7201a8"
            ],
            [
             0.3333333333333333,
             "#9c179e"
            ],
            [
             0.4444444444444444,
             "#bd3786"
            ],
            [
             0.5555555555555556,
             "#d8576b"
            ],
            [
             0.6666666666666666,
             "#ed7953"
            ],
            [
             0.7777777777777778,
             "#fb9f3a"
            ],
            [
             0.8888888888888888,
             "#fdca26"
            ],
            [
             1,
             "#f0f921"
            ]
           ],
           "sequentialminus": [
            [
             0,
             "#0d0887"
            ],
            [
             0.1111111111111111,
             "#46039f"
            ],
            [
             0.2222222222222222,
             "#7201a8"
            ],
            [
             0.3333333333333333,
             "#9c179e"
            ],
            [
             0.4444444444444444,
             "#bd3786"
            ],
            [
             0.5555555555555556,
             "#d8576b"
            ],
            [
             0.6666666666666666,
             "#ed7953"
            ],
            [
             0.7777777777777778,
             "#fb9f3a"
            ],
            [
             0.8888888888888888,
             "#fdca26"
            ],
            [
             1,
             "#f0f921"
            ]
           ]
          },
          "colorway": [
           "#636efa",
           "#EF553B",
           "#00cc96",
           "#ab63fa",
           "#FFA15A",
           "#19d3f3",
           "#FF6692",
           "#B6E880",
           "#FF97FF",
           "#FECB52"
          ],
          "font": {
           "color": "#2a3f5f"
          },
          "geo": {
           "bgcolor": "white",
           "lakecolor": "white",
           "landcolor": "#E5ECF6",
           "showlakes": true,
           "showland": true,
           "subunitcolor": "white"
          },
          "hoverlabel": {
           "align": "left"
          },
          "hovermode": "closest",
          "mapbox": {
           "style": "light"
          },
          "paper_bgcolor": "white",
          "plot_bgcolor": "#E5ECF6",
          "polar": {
           "angularaxis": {
            "gridcolor": "white",
            "linecolor": "white",
            "ticks": ""
           },
           "bgcolor": "#E5ECF6",
           "radialaxis": {
            "gridcolor": "white",
            "linecolor": "white",
            "ticks": ""
           }
          },
          "scene": {
           "xaxis": {
            "backgroundcolor": "#E5ECF6",
            "gridcolor": "white",
            "gridwidth": 2,
            "linecolor": "white",
            "showbackground": true,
            "ticks": "",
            "zerolinecolor": "white"
           },
           "yaxis": {
            "backgroundcolor": "#E5ECF6",
            "gridcolor": "white",
            "gridwidth": 2,
            "linecolor": "white",
            "showbackground": true,
            "ticks": "",
            "zerolinecolor": "white"
           },
           "zaxis": {
            "backgroundcolor": "#E5ECF6",
            "gridcolor": "white",
            "gridwidth": 2,
            "linecolor": "white",
            "showbackground": true,
            "ticks": "",
            "zerolinecolor": "white"
           }
          },
          "shapedefaults": {
           "line": {
            "color": "#2a3f5f"
           }
          },
          "ternary": {
           "aaxis": {
            "gridcolor": "white",
            "linecolor": "white",
            "ticks": ""
           },
           "baxis": {
            "gridcolor": "white",
            "linecolor": "white",
            "ticks": ""
           },
           "bgcolor": "#E5ECF6",
           "caxis": {
            "gridcolor": "white",
            "linecolor": "white",
            "ticks": ""
           }
          },
          "title": {
           "x": 0.05
          },
          "xaxis": {
           "automargin": true,
           "gridcolor": "white",
           "linecolor": "white",
           "ticks": "",
           "zerolinecolor": "white",
           "zerolinewidth": 2
          },
          "yaxis": {
           "automargin": true,
           "gridcolor": "white",
           "linecolor": "white",
           "ticks": "",
           "zerolinecolor": "white",
           "zerolinewidth": 2
          }
         }
        },
        "title": {
         "text": "Accuracy Surface"
        }
       }
      },
      "text/html": [
       "<div>\n",
       "        \n",
       "        \n",
       "            <div id=\"8ad1ac3c-340e-40ff-bc29-d3cd8ea9b042\" class=\"plotly-graph-div\" style=\"height:525px; width:100%;\"></div>\n",
       "            <script type=\"text/javascript\">\n",
       "                require([\"plotly\"], function(Plotly) {\n",
       "                    window.PLOTLYENV=window.PLOTLYENV || {};\n",
       "                    \n",
       "                if (document.getElementById(\"8ad1ac3c-340e-40ff-bc29-d3cd8ea9b042\")) {\n",
       "                    Plotly.newPlot(\n",
       "                        '8ad1ac3c-340e-40ff-bc29-d3cd8ea9b042',\n",
       "                        [{\"type\": \"surface\", \"z\": [[0.49211711711711714, 0.49211711711711714, 0.49211711711711714, 0.49211711711711714, 0.49211711711711714, 0.49211711711711714, 0.49211711711711714, 0.49211711711711714, 0.49211711711711714, 0.49211711711711714], [0.5123873873873874, 0.5123873873873874, 0.5123873873873874, 0.5123873873873874, 0.5123873873873874, 0.5123873873873874, 0.5123873873873874, 0.5123873873873874, 0.5123873873873874, 0.5123873873873874], [0.5146396396396397, 0.5146396396396397, 0.5146396396396397, 0.5146396396396397, 0.5146396396396397, 0.5146396396396397, 0.5146396396396397, 0.5146396396396397, 0.5146396396396397, 0.5146396396396397], [0.5135135135135135, 0.5135135135135135, 0.5135135135135135, 0.5135135135135135, 0.5135135135135135, 0.5135135135135135, 0.5135135135135135, 0.5135135135135135, 0.5135135135135135, 0.5135135135135135], [0.5180180180180181, 0.5180180180180181, 0.5180180180180181, 0.5180180180180181, 0.5180180180180181, 0.5180180180180181, 0.5180180180180181, 0.5180180180180181, 0.5180180180180181, 0.5180180180180181], [0.5123873873873874, 0.5123873873873874, 0.5123873873873874, 0.5123873873873874, 0.5123873873873874, 0.5123873873873874, 0.5123873873873874, 0.5123873873873874, 0.5123873873873874, 0.5123873873873874], [0.5135135135135135, 0.5135135135135135, 0.5135135135135135, 0.5135135135135135, 0.5135135135135135, 0.5135135135135135, 0.5135135135135135, 0.5135135135135135, 0.5135135135135135, 0.5135135135135135], [0.5123873873873874, 0.5123873873873874, 0.5123873873873874, 0.5123873873873874, 0.5123873873873874, 0.5123873873873874, 0.5123873873873874, 0.5123873873873874, 0.5123873873873874, 0.5123873873873874], [0.5146396396396397, 0.5146396396396397, 0.5146396396396397, 0.5146396396396397, 0.5146396396396397, 0.5146396396396397, 0.5146396396396397, 0.5146396396396397, 0.5146396396396397, 0.5146396396396397], [0.5112612612612613, 0.5112612612612613, 0.5112612612612613, 0.5112612612612613, 0.5112612612612613, 0.5112612612612613, 0.5112612612612613, 0.5112612612612613, 0.5112612612612613, 0.5112612612612613], [0.5123873873873874, 0.5123873873873874, 0.5123873873873874, 0.5123873873873874, 0.5123873873873874, 0.5123873873873874, 0.5123873873873874, 0.5123873873873874, 0.5123873873873874, 0.5123873873873874], [0.5112612612612613, 0.5112612612612613, 0.5112612612612613, 0.5112612612612613, 0.5112612612612613, 0.5112612612612613, 0.5112612612612613, 0.5112612612612613, 0.5112612612612613, 0.5112612612612613], [0.5135135135135135, 0.5135135135135135, 0.5135135135135135, 0.5135135135135135, 0.5135135135135135, 0.5135135135135135, 0.5135135135135135, 0.5135135135135135, 0.5135135135135135, 0.5135135135135135], [0.5123873873873874, 0.5123873873873874, 0.5123873873873874, 0.5123873873873874, 0.5123873873873874, 0.5123873873873874, 0.5123873873873874, 0.5123873873873874, 0.5123873873873874, 0.5123873873873874], [0.5157657657657657, 0.5157657657657657, 0.5157657657657657, 0.5157657657657657, 0.5157657657657657, 0.5157657657657657, 0.5157657657657657, 0.5157657657657657, 0.5157657657657657, 0.5157657657657657], [0.5157657657657657, 0.5157657657657657, 0.5157657657657657, 0.5157657657657657, 0.5157657657657657, 0.5157657657657657, 0.5157657657657657, 0.5157657657657657, 0.5157657657657657, 0.5157657657657657], [0.5123873873873874, 0.5123873873873874, 0.5123873873873874, 0.5123873873873874, 0.5123873873873874, 0.5123873873873874, 0.5123873873873874, 0.5123873873873874, 0.5123873873873874, 0.5123873873873874], [0.5168918918918919, 0.5168918918918919, 0.5168918918918919, 0.5168918918918919, 0.5168918918918919, 0.5168918918918919, 0.5168918918918919, 0.5168918918918919, 0.5168918918918919, 0.5168918918918919], [0.5101351351351351, 0.5101351351351351, 0.5101351351351351, 0.5101351351351351, 0.5101351351351351, 0.5101351351351351, 0.5101351351351351, 0.5101351351351351, 0.5101351351351351, 0.5101351351351351], [0.5112612612612613, 0.5112612612612613, 0.5112612612612613, 0.5112612612612613, 0.5112612612612613, 0.5112612612612613, 0.5112612612612613, 0.5112612612612613, 0.5112612612612613, 0.5112612612612613], [0.5101351351351351, 0.5101351351351351, 0.5101351351351351, 0.5101351351351351, 0.5101351351351351, 0.5101351351351351, 0.5101351351351351, 0.5101351351351351, 0.5101351351351351, 0.5101351351351351], [0.5146396396396397, 0.5146396396396397, 0.5146396396396397, 0.5146396396396397, 0.5146396396396397, 0.5146396396396397, 0.5146396396396397, 0.5146396396396397, 0.5146396396396397, 0.5146396396396397], [0.5202702702702703, 0.5202702702702703, 0.5202702702702703, 0.5202702702702703, 0.5202702702702703, 0.5202702702702703, 0.5202702702702703, 0.5202702702702703, 0.5202702702702703, 0.5202702702702703], [0.5135135135135135, 0.5135135135135135, 0.5135135135135135, 0.5135135135135135, 0.5135135135135135, 0.5135135135135135, 0.5135135135135135, 0.5135135135135135, 0.5135135135135135, 0.5135135135135135], [0.509009009009009, 0.509009009009009, 0.509009009009009, 0.509009009009009, 0.509009009009009, 0.509009009009009, 0.509009009009009, 0.509009009009009, 0.509009009009009, 0.509009009009009], [0.5146396396396397, 0.5146396396396397, 0.5146396396396397, 0.5146396396396397, 0.5146396396396397, 0.5146396396396397, 0.5146396396396397, 0.5146396396396397, 0.5146396396396397, 0.5146396396396397], [0.5157657657657657, 0.5157657657657657, 0.5157657657657657, 0.5157657657657657, 0.5157657657657657, 0.5157657657657657, 0.5157657657657657, 0.5157657657657657, 0.5157657657657657, 0.5157657657657657], [0.5168918918918919, 0.5168918918918919, 0.5168918918918919, 0.5168918918918919, 0.5168918918918919, 0.5168918918918919, 0.5168918918918919, 0.5168918918918919, 0.5168918918918919, 0.5168918918918919], [0.5112612612612613, 0.5112612612612613, 0.5112612612612613, 0.5112612612612613, 0.5112612612612613, 0.5112612612612613, 0.5112612612612613, 0.5112612612612613, 0.5112612612612613, 0.5112612612612613]]}],\n",
       "                        {\"autosize\": true, \"scene\": {\"xaxis\": {\"title\": {\"text\": \"Modelos\"}}, \"yaxis\": {\"title\": {\"text\": \"Tama\\u00f1o de N\"}}, \"zaxis\": {\"title\": {\"text\": \"Accuracy\"}}}, \"template\": {\"data\": {\"bar\": [{\"error_x\": {\"color\": \"#2a3f5f\"}, \"error_y\": {\"color\": \"#2a3f5f\"}, \"marker\": {\"line\": {\"color\": \"#E5ECF6\", \"width\": 0.5}}, \"type\": \"bar\"}], \"barpolar\": [{\"marker\": {\"line\": {\"color\": \"#E5ECF6\", \"width\": 0.5}}, \"type\": \"barpolar\"}], \"carpet\": [{\"aaxis\": {\"endlinecolor\": \"#2a3f5f\", \"gridcolor\": \"white\", \"linecolor\": \"white\", \"minorgridcolor\": \"white\", \"startlinecolor\": \"#2a3f5f\"}, \"baxis\": {\"endlinecolor\": \"#2a3f5f\", \"gridcolor\": \"white\", \"linecolor\": \"white\", \"minorgridcolor\": \"white\", \"startlinecolor\": \"#2a3f5f\"}, \"type\": \"carpet\"}], \"choropleth\": [{\"colorbar\": {\"outlinewidth\": 0, \"ticks\": \"\"}, \"type\": \"choropleth\"}], \"contour\": [{\"colorbar\": {\"outlinewidth\": 0, \"ticks\": \"\"}, \"colorscale\": [[0.0, \"#0d0887\"], [0.1111111111111111, \"#46039f\"], [0.2222222222222222, \"#7201a8\"], [0.3333333333333333, \"#9c179e\"], [0.4444444444444444, \"#bd3786\"], [0.5555555555555556, \"#d8576b\"], [0.6666666666666666, \"#ed7953\"], [0.7777777777777778, \"#fb9f3a\"], [0.8888888888888888, \"#fdca26\"], [1.0, \"#f0f921\"]], \"type\": \"contour\"}], \"contourcarpet\": [{\"colorbar\": {\"outlinewidth\": 0, \"ticks\": \"\"}, \"type\": \"contourcarpet\"}], \"heatmap\": [{\"colorbar\": {\"outlinewidth\": 0, \"ticks\": \"\"}, \"colorscale\": [[0.0, \"#0d0887\"], [0.1111111111111111, \"#46039f\"], [0.2222222222222222, \"#7201a8\"], [0.3333333333333333, \"#9c179e\"], [0.4444444444444444, \"#bd3786\"], [0.5555555555555556, \"#d8576b\"], [0.6666666666666666, \"#ed7953\"], [0.7777777777777778, \"#fb9f3a\"], [0.8888888888888888, \"#fdca26\"], [1.0, \"#f0f921\"]], \"type\": \"heatmap\"}], \"heatmapgl\": [{\"colorbar\": {\"outlinewidth\": 0, \"ticks\": \"\"}, \"colorscale\": [[0.0, \"#0d0887\"], [0.1111111111111111, \"#46039f\"], [0.2222222222222222, \"#7201a8\"], [0.3333333333333333, \"#9c179e\"], [0.4444444444444444, \"#bd3786\"], [0.5555555555555556, \"#d8576b\"], [0.6666666666666666, \"#ed7953\"], [0.7777777777777778, \"#fb9f3a\"], [0.8888888888888888, \"#fdca26\"], [1.0, \"#f0f921\"]], \"type\": \"heatmapgl\"}], \"histogram\": [{\"marker\": {\"colorbar\": {\"outlinewidth\": 0, \"ticks\": \"\"}}, \"type\": \"histogram\"}], \"histogram2d\": [{\"colorbar\": {\"outlinewidth\": 0, \"ticks\": \"\"}, \"colorscale\": [[0.0, \"#0d0887\"], [0.1111111111111111, \"#46039f\"], [0.2222222222222222, \"#7201a8\"], [0.3333333333333333, \"#9c179e\"], [0.4444444444444444, \"#bd3786\"], [0.5555555555555556, \"#d8576b\"], [0.6666666666666666, \"#ed7953\"], [0.7777777777777778, \"#fb9f3a\"], [0.8888888888888888, \"#fdca26\"], [1.0, \"#f0f921\"]], \"type\": \"histogram2d\"}], \"histogram2dcontour\": [{\"colorbar\": {\"outlinewidth\": 0, \"ticks\": \"\"}, \"colorscale\": [[0.0, \"#0d0887\"], [0.1111111111111111, \"#46039f\"], [0.2222222222222222, \"#7201a8\"], [0.3333333333333333, \"#9c179e\"], [0.4444444444444444, \"#bd3786\"], [0.5555555555555556, \"#d8576b\"], [0.6666666666666666, \"#ed7953\"], [0.7777777777777778, \"#fb9f3a\"], [0.8888888888888888, \"#fdca26\"], [1.0, \"#f0f921\"]], \"type\": \"histogram2dcontour\"}], \"mesh3d\": [{\"colorbar\": {\"outlinewidth\": 0, \"ticks\": \"\"}, \"type\": \"mesh3d\"}], \"parcoords\": [{\"line\": {\"colorbar\": {\"outlinewidth\": 0, \"ticks\": \"\"}}, \"type\": \"parcoords\"}], \"scatter\": [{\"marker\": {\"colorbar\": {\"outlinewidth\": 0, \"ticks\": \"\"}}, \"type\": \"scatter\"}], \"scatter3d\": [{\"line\": {\"colorbar\": {\"outlinewidth\": 0, \"ticks\": \"\"}}, \"marker\": {\"colorbar\": {\"outlinewidth\": 0, \"ticks\": \"\"}}, \"type\": \"scatter3d\"}], \"scattercarpet\": [{\"marker\": {\"colorbar\": {\"outlinewidth\": 0, \"ticks\": \"\"}}, \"type\": \"scattercarpet\"}], \"scattergeo\": [{\"marker\": {\"colorbar\": {\"outlinewidth\": 0, \"ticks\": \"\"}}, \"type\": \"scattergeo\"}], \"scattergl\": [{\"marker\": {\"colorbar\": {\"outlinewidth\": 0, \"ticks\": \"\"}}, \"type\": \"scattergl\"}], \"scattermapbox\": [{\"marker\": {\"colorbar\": {\"outlinewidth\": 0, \"ticks\": \"\"}}, \"type\": \"scattermapbox\"}], \"scatterpolar\": [{\"marker\": {\"colorbar\": {\"outlinewidth\": 0, \"ticks\": \"\"}}, \"type\": \"scatterpolar\"}], \"scatterpolargl\": [{\"marker\": {\"colorbar\": {\"outlinewidth\": 0, \"ticks\": \"\"}}, \"type\": \"scatterpolargl\"}], \"scatterternary\": [{\"marker\": {\"colorbar\": {\"outlinewidth\": 0, \"ticks\": \"\"}}, \"type\": \"scatterternary\"}], \"surface\": [{\"colorbar\": {\"outlinewidth\": 0, \"ticks\": \"\"}, \"colorscale\": [[0.0, \"#0d0887\"], [0.1111111111111111, \"#46039f\"], [0.2222222222222222, \"#7201a8\"], [0.3333333333333333, \"#9c179e\"], [0.4444444444444444, \"#bd3786\"], [0.5555555555555556, \"#d8576b\"], [0.6666666666666666, \"#ed7953\"], [0.7777777777777778, \"#fb9f3a\"], [0.8888888888888888, \"#fdca26\"], [1.0, \"#f0f921\"]], \"type\": \"surface\"}], \"table\": [{\"cells\": {\"fill\": {\"color\": \"#EBF0F8\"}, \"line\": {\"color\": \"white\"}}, \"header\": {\"fill\": {\"color\": \"#C8D4E3\"}, \"line\": {\"color\": \"white\"}}, \"type\": \"table\"}]}, \"layout\": {\"annotationdefaults\": {\"arrowcolor\": \"#2a3f5f\", \"arrowhead\": 0, \"arrowwidth\": 1}, \"colorscale\": {\"diverging\": [[0, \"#8e0152\"], [0.1, \"#c51b7d\"], [0.2, \"#de77ae\"], [0.3, \"#f1b6da\"], [0.4, \"#fde0ef\"], [0.5, \"#f7f7f7\"], [0.6, \"#e6f5d0\"], [0.7, \"#b8e186\"], [0.8, \"#7fbc41\"], [0.9, \"#4d9221\"], [1, \"#276419\"]], \"sequential\": [[0.0, \"#0d0887\"], [0.1111111111111111, \"#46039f\"], [0.2222222222222222, \"#7201a8\"], [0.3333333333333333, \"#9c179e\"], [0.4444444444444444, \"#bd3786\"], [0.5555555555555556, \"#d8576b\"], [0.6666666666666666, \"#ed7953\"], [0.7777777777777778, \"#fb9f3a\"], [0.8888888888888888, \"#fdca26\"], [1.0, \"#f0f921\"]], \"sequentialminus\": [[0.0, \"#0d0887\"], [0.1111111111111111, \"#46039f\"], [0.2222222222222222, \"#7201a8\"], [0.3333333333333333, \"#9c179e\"], [0.4444444444444444, \"#bd3786\"], [0.5555555555555556, \"#d8576b\"], [0.6666666666666666, \"#ed7953\"], [0.7777777777777778, \"#fb9f3a\"], [0.8888888888888888, \"#fdca26\"], [1.0, \"#f0f921\"]]}, \"colorway\": [\"#636efa\", \"#EF553B\", \"#00cc96\", \"#ab63fa\", \"#FFA15A\", \"#19d3f3\", \"#FF6692\", \"#B6E880\", \"#FF97FF\", \"#FECB52\"], \"font\": {\"color\": \"#2a3f5f\"}, \"geo\": {\"bgcolor\": \"white\", \"lakecolor\": \"white\", \"landcolor\": \"#E5ECF6\", \"showlakes\": true, \"showland\": true, \"subunitcolor\": \"white\"}, \"hoverlabel\": {\"align\": \"left\"}, \"hovermode\": \"closest\", \"mapbox\": {\"style\": \"light\"}, \"paper_bgcolor\": \"white\", \"plot_bgcolor\": \"#E5ECF6\", \"polar\": {\"angularaxis\": {\"gridcolor\": \"white\", \"linecolor\": \"white\", \"ticks\": \"\"}, \"bgcolor\": \"#E5ECF6\", \"radialaxis\": {\"gridcolor\": \"white\", \"linecolor\": \"white\", \"ticks\": \"\"}}, \"scene\": {\"xaxis\": {\"backgroundcolor\": \"#E5ECF6\", \"gridcolor\": \"white\", \"gridwidth\": 2, \"linecolor\": \"white\", \"showbackground\": true, \"ticks\": \"\", \"zerolinecolor\": \"white\"}, \"yaxis\": {\"backgroundcolor\": \"#E5ECF6\", \"gridcolor\": \"white\", \"gridwidth\": 2, \"linecolor\": \"white\", \"showbackground\": true, \"ticks\": \"\", \"zerolinecolor\": \"white\"}, \"zaxis\": {\"backgroundcolor\": \"#E5ECF6\", \"gridcolor\": \"white\", \"gridwidth\": 2, \"linecolor\": \"white\", \"showbackground\": true, \"ticks\": \"\", \"zerolinecolor\": \"white\"}}, \"shapedefaults\": {\"line\": {\"color\": \"#2a3f5f\"}}, \"ternary\": {\"aaxis\": {\"gridcolor\": \"white\", \"linecolor\": \"white\", \"ticks\": \"\"}, \"baxis\": {\"gridcolor\": \"white\", \"linecolor\": \"white\", \"ticks\": \"\"}, \"bgcolor\": \"#E5ECF6\", \"caxis\": {\"gridcolor\": \"white\", \"linecolor\": \"white\", \"ticks\": \"\"}}, \"title\": {\"x\": 0.05}, \"xaxis\": {\"automargin\": true, \"gridcolor\": \"white\", \"linecolor\": \"white\", \"ticks\": \"\", \"zerolinecolor\": \"white\", \"zerolinewidth\": 2}, \"yaxis\": {\"automargin\": true, \"gridcolor\": \"white\", \"linecolor\": \"white\", \"ticks\": \"\", \"zerolinecolor\": \"white\", \"zerolinewidth\": 2}}}, \"title\": {\"text\": \"Accuracy Surface\"}},\n",
       "                        {\"responsive\": true}\n",
       "                    ).then(function(){\n",
       "                            \n",
       "var gd = document.getElementById('8ad1ac3c-340e-40ff-bc29-d3cd8ea9b042');\n",
       "var x = new MutationObserver(function (mutations, observer) {{\n",
       "        var display = window.getComputedStyle(gd).display;\n",
       "        if (!display || display === 'none') {{\n",
       "            console.log([gd, 'removed!']);\n",
       "            Plotly.purge(gd);\n",
       "            observer.disconnect();\n",
       "        }}\n",
       "}});\n",
       "\n",
       "// Listen for the removal of the full notebook cells\n",
       "var notebookContainer = gd.closest('#notebook-container');\n",
       "if (notebookContainer) {{\n",
       "    x.observe(notebookContainer, {childList: true});\n",
       "}}\n",
       "\n",
       "// Listen for the clearing of the current output cell\n",
       "var outputEl = gd.closest('.output');\n",
       "if (outputEl) {{\n",
       "    x.observe(outputEl, {childList: true});\n",
       "}}\n",
       "\n",
       "                        })\n",
       "                };\n",
       "                });\n",
       "            </script>\n",
       "        </div>"
      ]
     },
     "metadata": {},
     "output_type": "display_data"
    }
   ],
   "source": [
    "fig1 = go.Figure(data=[go.Surface(z=n_est_mod_results['Accuracy'])])\n",
    "\n",
    "fig1.update_layout(title='Accuracy Surface', autosize=True,\n",
    "                   scene = dict(xaxis_title='Modelos',\n",
    "                                yaxis_title='Tamaño de N',\n",
    "                                zaxis_title='Accuracy'))\n",
    "\n",
    "fig1.show()\n",
    "fig1.write_html('Acc_LOG_Dim.html')"
   ]
  },
  {
   "cell_type": "code",
   "execution_count": 28,
   "metadata": {},
   "outputs": [
    {
     "data": {
      "application/vnd.plotly.v1+json": {
       "config": {
        "plotlyServerURL": "https://plot.ly"
       },
       "data": [
        {
         "type": "surface",
         "z": [
          [
           0.31813013228388093,
           0.31813013228388093,
           0.31813013228388093,
           0.31813013228388093,
           0.31813013228388093,
           0.31813013228388093,
           0.31813013228388093,
           0.31813013228388093,
           0.31813013228388093,
           0.31813013228388093
          ],
          [
           0.3095719192910545,
           0.3095719192910545,
           0.3095719192910545,
           0.3095719192910545,
           0.3095719192910545,
           0.3095719192910545,
           0.3095719192910545,
           0.3095719192910545,
           0.3095719192910545,
           0.3095719192910545
          ],
          [
           0.3092457935541277,
           0.3092457935541277,
           0.3092457935541277,
           0.3092457935541277,
           0.3092457935541277,
           0.3092457935541277,
           0.3092457935541277,
           0.3092457935541277,
           0.3092457935541277,
           0.3092457935541277
          ],
          [
           0.3087323943661972,
           0.3087323943661972,
           0.3087323943661972,
           0.3087323943661972,
           0.3087323943661972,
           0.3087323943661972,
           0.3087323943661972,
           0.3087323943661972,
           0.3087323943661972,
           0.3087323943661972
          ],
          [
           0.6444259046337063,
           0.6444259046337063,
           0.6444259046337063,
           0.6444259046337063,
           0.6444259046337063,
           0.6444259046337063,
           0.6444259046337063,
           0.6444259046337063,
           0.6444259046337063,
           0.6444259046337063
          ],
          [
           0.3074597149343158,
           0.3074597149343158,
           0.3074597149343158,
           0.3074597149343158,
           0.3074597149343158,
           0.3074597149343158,
           0.3074597149343158,
           0.3074597149343158,
           0.3074597149343158,
           0.3074597149343158
          ],
          [
           0.35644272307463126,
           0.35644272307463126,
           0.35644272307463126,
           0.35644272307463126,
           0.35644272307463126,
           0.35644272307463126,
           0.35644272307463126,
           0.35644272307463126,
           0.35644272307463126,
           0.35644272307463126
          ],
          [
           0.3041644934509686,
           0.3041644934509686,
           0.3041644934509686,
           0.3041644934509686,
           0.3041644934509686,
           0.3041644934509686,
           0.3041644934509686,
           0.3041644934509686,
           0.3041644934509686,
           0.3041644934509686
          ],
          [
           0.30551946645879346,
           0.30551946645879346,
           0.30551946645879346,
           0.30551946645879346,
           0.30551946645879346,
           0.30551946645879346,
           0.30551946645879346,
           0.30551946645879346,
           0.30551946645879346,
           0.30551946645879346
          ],
          [
           0.35854423354423354,
           0.35854423354423354,
           0.35854423354423354,
           0.35854423354423354,
           0.35854423354423354,
           0.35854423354423354,
           0.35854423354423354,
           0.35854423354423354,
           0.35854423354423354,
           0.35854423354423354
          ],
          [
           0.38761686141171464,
           0.38761686141171464,
           0.38761686141171464,
           0.38761686141171464,
           0.38761686141171464,
           0.38761686141171464,
           0.38761686141171464,
           0.38761686141171464,
           0.38761686141171464,
           0.38761686141171464
          ],
          [
           0.3027114528530959,
           0.3027114528530959,
           0.3027114528530959,
           0.3027114528530959,
           0.3027114528530959,
           0.3027114528530959,
           0.3027114528530959,
           0.3027114528530959,
           0.3027114528530959,
           0.3027114528530959
          ],
          [
           0.3046040664537774,
           0.3046040664537774,
           0.3046040664537774,
           0.3046040664537774,
           0.3046040664537774,
           0.3046040664537774,
           0.3046040664537774,
           0.3046040664537774,
           0.3046040664537774,
           0.3046040664537774
          ],
          [
           0.3039279257287145,
           0.3039279257287145,
           0.3039279257287145,
           0.3039279257287145,
           0.3039279257287145,
           0.3039279257287145,
           0.3039279257287145,
           0.3039279257287145,
           0.3039279257287145,
           0.3039279257287145
          ],
          [
           0.30677966101694915,
           0.30677966101694915,
           0.30677966101694915,
           0.30677966101694915,
           0.30677966101694915,
           0.30677966101694915,
           0.30677966101694915,
           0.30677966101694915,
           0.30677966101694915,
           0.30677966101694915
          ],
          [
           0.3074214043159163,
           0.3074214043159163,
           0.3074214043159163,
           0.3074214043159163,
           0.3074214043159163,
           0.3074214043159163,
           0.3074214043159163,
           0.3074214043159163,
           0.3074214043159163,
           0.3074214043159163
          ],
          [
           0.3050391075778946,
           0.3050391075778946,
           0.3050391075778946,
           0.3050391075778946,
           0.3050391075778946,
           0.3050391075778946,
           0.3050391075778946,
           0.3050391075778946,
           0.3050391075778946,
           0.3050391075778946
          ],
          [
           0.4199991547271882,
           0.4199991547271882,
           0.4199991547271882,
           0.4199991547271882,
           0.4199991547271882,
           0.4199991547271882,
           0.4199991547271882,
           0.4199991547271882,
           0.4199991547271882,
           0.4199991547271882
          ],
          [
           0.37522751716720437,
           0.37522751716720437,
           0.37522751716720437,
           0.37522751716720437,
           0.37522751716720437,
           0.37522751716720437,
           0.37522751716720437,
           0.37522751716720437,
           0.37522751716720437,
           0.37522751716720437
          ],
          [
           0.39899812443079635,
           0.39899812443079635,
           0.39899812443079635,
           0.39899812443079635,
           0.39899812443079635,
           0.39899812443079635,
           0.39899812443079635,
           0.39899812443079635,
           0.39899812443079635,
           0.39899812443079635
          ],
          [
           0.39057971014492754,
           0.39057971014492754,
           0.39057971014492754,
           0.39057971014492754,
           0.39057971014492754,
           0.39057971014492754,
           0.39057971014492754,
           0.39057971014492754,
           0.39057971014492754,
           0.39057971014492754
          ],
          [
           0.3773926500823859,
           0.3773926500823859,
           0.3773926500823859,
           0.3773926500823859,
           0.3773926500823859,
           0.3773926500823859,
           0.3773926500823859,
           0.3773926500823859,
           0.3773926500823859,
           0.3773926500823859
          ],
          [
           0.371534553584036,
           0.371534553584036,
           0.371534553584036,
           0.371534553584036,
           0.371534553584036,
           0.371534553584036,
           0.371534553584036,
           0.371534553584036,
           0.371534553584036,
           0.371534553584036
          ],
          [
           0.3720982013204515,
           0.3720982013204515,
           0.3720982013204515,
           0.3720982013204515,
           0.3720982013204515,
           0.3720982013204515,
           0.3720982013204515,
           0.3720982013204515,
           0.3720982013204515,
           0.3720982013204515
          ],
          [
           0.3835300664248033,
           0.3835300664248033,
           0.3835300664248033,
           0.3835300664248033,
           0.3835300664248033,
           0.3835300664248033,
           0.3835300664248033,
           0.3835300664248033,
           0.3835300664248033,
           0.3835300664248033
          ],
          [
           0.4025579812255396,
           0.4025579812255396,
           0.4025579812255396,
           0.4025579812255396,
           0.4025579812255396,
           0.4025579812255396,
           0.4025579812255396,
           0.4025579812255396,
           0.4025579812255396,
           0.4025579812255396
          ],
          [
           0.39809026277052206,
           0.39809026277052206,
           0.39809026277052206,
           0.39809026277052206,
           0.39809026277052206,
           0.39809026277052206,
           0.39809026277052206,
           0.39809026277052206,
           0.39809026277052206,
           0.39809026277052206
          ],
          [
           0.40997116582966453,
           0.40997116582966453,
           0.40997116582966453,
           0.40997116582966453,
           0.40997116582966453,
           0.40997116582966453,
           0.40997116582966453,
           0.40997116582966453,
           0.40997116582966453,
           0.40997116582966453
          ],
          [
           0.3888456904261944,
           0.3888456904261944,
           0.3888456904261944,
           0.3888456904261944,
           0.3888456904261944,
           0.3888456904261944,
           0.3888456904261944,
           0.3888456904261944,
           0.3888456904261944,
           0.3888456904261944
          ]
         ]
        }
       ],
       "layout": {
        "autosize": true,
        "scene": {
         "xaxis": {
          "title": {
           "text": "Modelos"
          }
         },
         "yaxis": {
          "title": {
           "text": "Tamaño de N"
          }
         },
         "zaxis": {
          "title": {
           "text": "Precision"
          }
         }
        },
        "template": {
         "data": {
          "bar": [
           {
            "error_x": {
             "color": "#2a3f5f"
            },
            "error_y": {
             "color": "#2a3f5f"
            },
            "marker": {
             "line": {
              "color": "#E5ECF6",
              "width": 0.5
             }
            },
            "type": "bar"
           }
          ],
          "barpolar": [
           {
            "marker": {
             "line": {
              "color": "#E5ECF6",
              "width": 0.5
             }
            },
            "type": "barpolar"
           }
          ],
          "carpet": [
           {
            "aaxis": {
             "endlinecolor": "#2a3f5f",
             "gridcolor": "white",
             "linecolor": "white",
             "minorgridcolor": "white",
             "startlinecolor": "#2a3f5f"
            },
            "baxis": {
             "endlinecolor": "#2a3f5f",
             "gridcolor": "white",
             "linecolor": "white",
             "minorgridcolor": "white",
             "startlinecolor": "#2a3f5f"
            },
            "type": "carpet"
           }
          ],
          "choropleth": [
           {
            "colorbar": {
             "outlinewidth": 0,
             "ticks": ""
            },
            "type": "choropleth"
           }
          ],
          "contour": [
           {
            "colorbar": {
             "outlinewidth": 0,
             "ticks": ""
            },
            "colorscale": [
             [
              0,
              "#0d0887"
             ],
             [
              0.1111111111111111,
              "#46039f"
             ],
             [
              0.2222222222222222,
              "#7201a8"
             ],
             [
              0.3333333333333333,
              "#9c179e"
             ],
             [
              0.4444444444444444,
              "#bd3786"
             ],
             [
              0.5555555555555556,
              "#d8576b"
             ],
             [
              0.6666666666666666,
              "#ed7953"
             ],
             [
              0.7777777777777778,
              "#fb9f3a"
             ],
             [
              0.8888888888888888,
              "#fdca26"
             ],
             [
              1,
              "#f0f921"
             ]
            ],
            "type": "contour"
           }
          ],
          "contourcarpet": [
           {
            "colorbar": {
             "outlinewidth": 0,
             "ticks": ""
            },
            "type": "contourcarpet"
           }
          ],
          "heatmap": [
           {
            "colorbar": {
             "outlinewidth": 0,
             "ticks": ""
            },
            "colorscale": [
             [
              0,
              "#0d0887"
             ],
             [
              0.1111111111111111,
              "#46039f"
             ],
             [
              0.2222222222222222,
              "#7201a8"
             ],
             [
              0.3333333333333333,
              "#9c179e"
             ],
             [
              0.4444444444444444,
              "#bd3786"
             ],
             [
              0.5555555555555556,
              "#d8576b"
             ],
             [
              0.6666666666666666,
              "#ed7953"
             ],
             [
              0.7777777777777778,
              "#fb9f3a"
             ],
             [
              0.8888888888888888,
              "#fdca26"
             ],
             [
              1,
              "#f0f921"
             ]
            ],
            "type": "heatmap"
           }
          ],
          "heatmapgl": [
           {
            "colorbar": {
             "outlinewidth": 0,
             "ticks": ""
            },
            "colorscale": [
             [
              0,
              "#0d0887"
             ],
             [
              0.1111111111111111,
              "#46039f"
             ],
             [
              0.2222222222222222,
              "#7201a8"
             ],
             [
              0.3333333333333333,
              "#9c179e"
             ],
             [
              0.4444444444444444,
              "#bd3786"
             ],
             [
              0.5555555555555556,
              "#d8576b"
             ],
             [
              0.6666666666666666,
              "#ed7953"
             ],
             [
              0.7777777777777778,
              "#fb9f3a"
             ],
             [
              0.8888888888888888,
              "#fdca26"
             ],
             [
              1,
              "#f0f921"
             ]
            ],
            "type": "heatmapgl"
           }
          ],
          "histogram": [
           {
            "marker": {
             "colorbar": {
              "outlinewidth": 0,
              "ticks": ""
             }
            },
            "type": "histogram"
           }
          ],
          "histogram2d": [
           {
            "colorbar": {
             "outlinewidth": 0,
             "ticks": ""
            },
            "colorscale": [
             [
              0,
              "#0d0887"
             ],
             [
              0.1111111111111111,
              "#46039f"
             ],
             [
              0.2222222222222222,
              "#7201a8"
             ],
             [
              0.3333333333333333,
              "#9c179e"
             ],
             [
              0.4444444444444444,
              "#bd3786"
             ],
             [
              0.5555555555555556,
              "#d8576b"
             ],
             [
              0.6666666666666666,
              "#ed7953"
             ],
             [
              0.7777777777777778,
              "#fb9f3a"
             ],
             [
              0.8888888888888888,
              "#fdca26"
             ],
             [
              1,
              "#f0f921"
             ]
            ],
            "type": "histogram2d"
           }
          ],
          "histogram2dcontour": [
           {
            "colorbar": {
             "outlinewidth": 0,
             "ticks": ""
            },
            "colorscale": [
             [
              0,
              "#0d0887"
             ],
             [
              0.1111111111111111,
              "#46039f"
             ],
             [
              0.2222222222222222,
              "#7201a8"
             ],
             [
              0.3333333333333333,
              "#9c179e"
             ],
             [
              0.4444444444444444,
              "#bd3786"
             ],
             [
              0.5555555555555556,
              "#d8576b"
             ],
             [
              0.6666666666666666,
              "#ed7953"
             ],
             [
              0.7777777777777778,
              "#fb9f3a"
             ],
             [
              0.8888888888888888,
              "#fdca26"
             ],
             [
              1,
              "#f0f921"
             ]
            ],
            "type": "histogram2dcontour"
           }
          ],
          "mesh3d": [
           {
            "colorbar": {
             "outlinewidth": 0,
             "ticks": ""
            },
            "type": "mesh3d"
           }
          ],
          "parcoords": [
           {
            "line": {
             "colorbar": {
              "outlinewidth": 0,
              "ticks": ""
             }
            },
            "type": "parcoords"
           }
          ],
          "scatter": [
           {
            "marker": {
             "colorbar": {
              "outlinewidth": 0,
              "ticks": ""
             }
            },
            "type": "scatter"
           }
          ],
          "scatter3d": [
           {
            "line": {
             "colorbar": {
              "outlinewidth": 0,
              "ticks": ""
             }
            },
            "marker": {
             "colorbar": {
              "outlinewidth": 0,
              "ticks": ""
             }
            },
            "type": "scatter3d"
           }
          ],
          "scattercarpet": [
           {
            "marker": {
             "colorbar": {
              "outlinewidth": 0,
              "ticks": ""
             }
            },
            "type": "scattercarpet"
           }
          ],
          "scattergeo": [
           {
            "marker": {
             "colorbar": {
              "outlinewidth": 0,
              "ticks": ""
             }
            },
            "type": "scattergeo"
           }
          ],
          "scattergl": [
           {
            "marker": {
             "colorbar": {
              "outlinewidth": 0,
              "ticks": ""
             }
            },
            "type": "scattergl"
           }
          ],
          "scattermapbox": [
           {
            "marker": {
             "colorbar": {
              "outlinewidth": 0,
              "ticks": ""
             }
            },
            "type": "scattermapbox"
           }
          ],
          "scatterpolar": [
           {
            "marker": {
             "colorbar": {
              "outlinewidth": 0,
              "ticks": ""
             }
            },
            "type": "scatterpolar"
           }
          ],
          "scatterpolargl": [
           {
            "marker": {
             "colorbar": {
              "outlinewidth": 0,
              "ticks": ""
             }
            },
            "type": "scatterpolargl"
           }
          ],
          "scatterternary": [
           {
            "marker": {
             "colorbar": {
              "outlinewidth": 0,
              "ticks": ""
             }
            },
            "type": "scatterternary"
           }
          ],
          "surface": [
           {
            "colorbar": {
             "outlinewidth": 0,
             "ticks": ""
            },
            "colorscale": [
             [
              0,
              "#0d0887"
             ],
             [
              0.1111111111111111,
              "#46039f"
             ],
             [
              0.2222222222222222,
              "#7201a8"
             ],
             [
              0.3333333333333333,
              "#9c179e"
             ],
             [
              0.4444444444444444,
              "#bd3786"
             ],
             [
              0.5555555555555556,
              "#d8576b"
             ],
             [
              0.6666666666666666,
              "#ed7953"
             ],
             [
              0.7777777777777778,
              "#fb9f3a"
             ],
             [
              0.8888888888888888,
              "#fdca26"
             ],
             [
              1,
              "#f0f921"
             ]
            ],
            "type": "surface"
           }
          ],
          "table": [
           {
            "cells": {
             "fill": {
              "color": "#EBF0F8"
             },
             "line": {
              "color": "white"
             }
            },
            "header": {
             "fill": {
              "color": "#C8D4E3"
             },
             "line": {
              "color": "white"
             }
            },
            "type": "table"
           }
          ]
         },
         "layout": {
          "annotationdefaults": {
           "arrowcolor": "#2a3f5f",
           "arrowhead": 0,
           "arrowwidth": 1
          },
          "colorscale": {
           "diverging": [
            [
             0,
             "#8e0152"
            ],
            [
             0.1,
             "#c51b7d"
            ],
            [
             0.2,
             "#de77ae"
            ],
            [
             0.3,
             "#f1b6da"
            ],
            [
             0.4,
             "#fde0ef"
            ],
            [
             0.5,
             "#f7f7f7"
            ],
            [
             0.6,
             "#e6f5d0"
            ],
            [
             0.7,
             "#b8e186"
            ],
            [
             0.8,
             "#7fbc41"
            ],
            [
             0.9,
             "#4d9221"
            ],
            [
             1,
             "#276419"
            ]
           ],
           "sequential": [
            [
             0,
             "#0d0887"
            ],
            [
             0.1111111111111111,
             "#46039f"
            ],
            [
             0.2222222222222222,
             "#7201a8"
            ],
            [
             0.3333333333333333,
             "#9c179e"
            ],
            [
             0.4444444444444444,
             "#bd3786"
            ],
            [
             0.5555555555555556,
             "#d8576b"
            ],
            [
             0.6666666666666666,
             "#ed7953"
            ],
            [
             0.7777777777777778,
             "#fb9f3a"
            ],
            [
             0.8888888888888888,
             "#fdca26"
            ],
            [
             1,
             "#f0f921"
            ]
           ],
           "sequentialminus": [
            [
             0,
             "#0d0887"
            ],
            [
             0.1111111111111111,
             "#46039f"
            ],
            [
             0.2222222222222222,
             "#7201a8"
            ],
            [
             0.3333333333333333,
             "#9c179e"
            ],
            [
             0.4444444444444444,
             "#bd3786"
            ],
            [
             0.5555555555555556,
             "#d8576b"
            ],
            [
             0.6666666666666666,
             "#ed7953"
            ],
            [
             0.7777777777777778,
             "#fb9f3a"
            ],
            [
             0.8888888888888888,
             "#fdca26"
            ],
            [
             1,
             "#f0f921"
            ]
           ]
          },
          "colorway": [
           "#636efa",
           "#EF553B",
           "#00cc96",
           "#ab63fa",
           "#FFA15A",
           "#19d3f3",
           "#FF6692",
           "#B6E880",
           "#FF97FF",
           "#FECB52"
          ],
          "font": {
           "color": "#2a3f5f"
          },
          "geo": {
           "bgcolor": "white",
           "lakecolor": "white",
           "landcolor": "#E5ECF6",
           "showlakes": true,
           "showland": true,
           "subunitcolor": "white"
          },
          "hoverlabel": {
           "align": "left"
          },
          "hovermode": "closest",
          "mapbox": {
           "style": "light"
          },
          "paper_bgcolor": "white",
          "plot_bgcolor": "#E5ECF6",
          "polar": {
           "angularaxis": {
            "gridcolor": "white",
            "linecolor": "white",
            "ticks": ""
           },
           "bgcolor": "#E5ECF6",
           "radialaxis": {
            "gridcolor": "white",
            "linecolor": "white",
            "ticks": ""
           }
          },
          "scene": {
           "xaxis": {
            "backgroundcolor": "#E5ECF6",
            "gridcolor": "white",
            "gridwidth": 2,
            "linecolor": "white",
            "showbackground": true,
            "ticks": "",
            "zerolinecolor": "white"
           },
           "yaxis": {
            "backgroundcolor": "#E5ECF6",
            "gridcolor": "white",
            "gridwidth": 2,
            "linecolor": "white",
            "showbackground": true,
            "ticks": "",
            "zerolinecolor": "white"
           },
           "zaxis": {
            "backgroundcolor": "#E5ECF6",
            "gridcolor": "white",
            "gridwidth": 2,
            "linecolor": "white",
            "showbackground": true,
            "ticks": "",
            "zerolinecolor": "white"
           }
          },
          "shapedefaults": {
           "line": {
            "color": "#2a3f5f"
           }
          },
          "ternary": {
           "aaxis": {
            "gridcolor": "white",
            "linecolor": "white",
            "ticks": ""
           },
           "baxis": {
            "gridcolor": "white",
            "linecolor": "white",
            "ticks": ""
           },
           "bgcolor": "#E5ECF6",
           "caxis": {
            "gridcolor": "white",
            "linecolor": "white",
            "ticks": ""
           }
          },
          "title": {
           "x": 0.05
          },
          "xaxis": {
           "automargin": true,
           "gridcolor": "white",
           "linecolor": "white",
           "ticks": "",
           "zerolinecolor": "white",
           "zerolinewidth": 2
          },
          "yaxis": {
           "automargin": true,
           "gridcolor": "white",
           "linecolor": "white",
           "ticks": "",
           "zerolinecolor": "white",
           "zerolinewidth": 2
          }
         }
        },
        "title": {
         "text": "Precision Surface"
        }
       }
      },
      "text/html": [
       "<div>\n",
       "        \n",
       "        \n",
       "            <div id=\"8621b1c1-5e3f-4740-984b-4e40f167ebcc\" class=\"plotly-graph-div\" style=\"height:525px; width:100%;\"></div>\n",
       "            <script type=\"text/javascript\">\n",
       "                require([\"plotly\"], function(Plotly) {\n",
       "                    window.PLOTLYENV=window.PLOTLYENV || {};\n",
       "                    \n",
       "                if (document.getElementById(\"8621b1c1-5e3f-4740-984b-4e40f167ebcc\")) {\n",
       "                    Plotly.newPlot(\n",
       "                        '8621b1c1-5e3f-4740-984b-4e40f167ebcc',\n",
       "                        [{\"type\": \"surface\", \"z\": [[0.31813013228388093, 0.31813013228388093, 0.31813013228388093, 0.31813013228388093, 0.31813013228388093, 0.31813013228388093, 0.31813013228388093, 0.31813013228388093, 0.31813013228388093, 0.31813013228388093], [0.3095719192910545, 0.3095719192910545, 0.3095719192910545, 0.3095719192910545, 0.3095719192910545, 0.3095719192910545, 0.3095719192910545, 0.3095719192910545, 0.3095719192910545, 0.3095719192910545], [0.3092457935541277, 0.3092457935541277, 0.3092457935541277, 0.3092457935541277, 0.3092457935541277, 0.3092457935541277, 0.3092457935541277, 0.3092457935541277, 0.3092457935541277, 0.3092457935541277], [0.3087323943661972, 0.3087323943661972, 0.3087323943661972, 0.3087323943661972, 0.3087323943661972, 0.3087323943661972, 0.3087323943661972, 0.3087323943661972, 0.3087323943661972, 0.3087323943661972], [0.6444259046337063, 0.6444259046337063, 0.6444259046337063, 0.6444259046337063, 0.6444259046337063, 0.6444259046337063, 0.6444259046337063, 0.6444259046337063, 0.6444259046337063, 0.6444259046337063], [0.3074597149343158, 0.3074597149343158, 0.3074597149343158, 0.3074597149343158, 0.3074597149343158, 0.3074597149343158, 0.3074597149343158, 0.3074597149343158, 0.3074597149343158, 0.3074597149343158], [0.35644272307463126, 0.35644272307463126, 0.35644272307463126, 0.35644272307463126, 0.35644272307463126, 0.35644272307463126, 0.35644272307463126, 0.35644272307463126, 0.35644272307463126, 0.35644272307463126], [0.3041644934509686, 0.3041644934509686, 0.3041644934509686, 0.3041644934509686, 0.3041644934509686, 0.3041644934509686, 0.3041644934509686, 0.3041644934509686, 0.3041644934509686, 0.3041644934509686], [0.30551946645879346, 0.30551946645879346, 0.30551946645879346, 0.30551946645879346, 0.30551946645879346, 0.30551946645879346, 0.30551946645879346, 0.30551946645879346, 0.30551946645879346, 0.30551946645879346], [0.35854423354423354, 0.35854423354423354, 0.35854423354423354, 0.35854423354423354, 0.35854423354423354, 0.35854423354423354, 0.35854423354423354, 0.35854423354423354, 0.35854423354423354, 0.35854423354423354], [0.38761686141171464, 0.38761686141171464, 0.38761686141171464, 0.38761686141171464, 0.38761686141171464, 0.38761686141171464, 0.38761686141171464, 0.38761686141171464, 0.38761686141171464, 0.38761686141171464], [0.3027114528530959, 0.3027114528530959, 0.3027114528530959, 0.3027114528530959, 0.3027114528530959, 0.3027114528530959, 0.3027114528530959, 0.3027114528530959, 0.3027114528530959, 0.3027114528530959], [0.3046040664537774, 0.3046040664537774, 0.3046040664537774, 0.3046040664537774, 0.3046040664537774, 0.3046040664537774, 0.3046040664537774, 0.3046040664537774, 0.3046040664537774, 0.3046040664537774], [0.3039279257287145, 0.3039279257287145, 0.3039279257287145, 0.3039279257287145, 0.3039279257287145, 0.3039279257287145, 0.3039279257287145, 0.3039279257287145, 0.3039279257287145, 0.3039279257287145], [0.30677966101694915, 0.30677966101694915, 0.30677966101694915, 0.30677966101694915, 0.30677966101694915, 0.30677966101694915, 0.30677966101694915, 0.30677966101694915, 0.30677966101694915, 0.30677966101694915], [0.3074214043159163, 0.3074214043159163, 0.3074214043159163, 0.3074214043159163, 0.3074214043159163, 0.3074214043159163, 0.3074214043159163, 0.3074214043159163, 0.3074214043159163, 0.3074214043159163], [0.3050391075778946, 0.3050391075778946, 0.3050391075778946, 0.3050391075778946, 0.3050391075778946, 0.3050391075778946, 0.3050391075778946, 0.3050391075778946, 0.3050391075778946, 0.3050391075778946], [0.4199991547271882, 0.4199991547271882, 0.4199991547271882, 0.4199991547271882, 0.4199991547271882, 0.4199991547271882, 0.4199991547271882, 0.4199991547271882, 0.4199991547271882, 0.4199991547271882], [0.37522751716720437, 0.37522751716720437, 0.37522751716720437, 0.37522751716720437, 0.37522751716720437, 0.37522751716720437, 0.37522751716720437, 0.37522751716720437, 0.37522751716720437, 0.37522751716720437], [0.39899812443079635, 0.39899812443079635, 0.39899812443079635, 0.39899812443079635, 0.39899812443079635, 0.39899812443079635, 0.39899812443079635, 0.39899812443079635, 0.39899812443079635, 0.39899812443079635], [0.39057971014492754, 0.39057971014492754, 0.39057971014492754, 0.39057971014492754, 0.39057971014492754, 0.39057971014492754, 0.39057971014492754, 0.39057971014492754, 0.39057971014492754, 0.39057971014492754], [0.3773926500823859, 0.3773926500823859, 0.3773926500823859, 0.3773926500823859, 0.3773926500823859, 0.3773926500823859, 0.3773926500823859, 0.3773926500823859, 0.3773926500823859, 0.3773926500823859], [0.371534553584036, 0.371534553584036, 0.371534553584036, 0.371534553584036, 0.371534553584036, 0.371534553584036, 0.371534553584036, 0.371534553584036, 0.371534553584036, 0.371534553584036], [0.3720982013204515, 0.3720982013204515, 0.3720982013204515, 0.3720982013204515, 0.3720982013204515, 0.3720982013204515, 0.3720982013204515, 0.3720982013204515, 0.3720982013204515, 0.3720982013204515], [0.3835300664248033, 0.3835300664248033, 0.3835300664248033, 0.3835300664248033, 0.3835300664248033, 0.3835300664248033, 0.3835300664248033, 0.3835300664248033, 0.3835300664248033, 0.3835300664248033], [0.4025579812255396, 0.4025579812255396, 0.4025579812255396, 0.4025579812255396, 0.4025579812255396, 0.4025579812255396, 0.4025579812255396, 0.4025579812255396, 0.4025579812255396, 0.4025579812255396], [0.39809026277052206, 0.39809026277052206, 0.39809026277052206, 0.39809026277052206, 0.39809026277052206, 0.39809026277052206, 0.39809026277052206, 0.39809026277052206, 0.39809026277052206, 0.39809026277052206], [0.40997116582966453, 0.40997116582966453, 0.40997116582966453, 0.40997116582966453, 0.40997116582966453, 0.40997116582966453, 0.40997116582966453, 0.40997116582966453, 0.40997116582966453, 0.40997116582966453], [0.3888456904261944, 0.3888456904261944, 0.3888456904261944, 0.3888456904261944, 0.3888456904261944, 0.3888456904261944, 0.3888456904261944, 0.3888456904261944, 0.3888456904261944, 0.3888456904261944]]}],\n",
       "                        {\"autosize\": true, \"scene\": {\"xaxis\": {\"title\": {\"text\": \"Modelos\"}}, \"yaxis\": {\"title\": {\"text\": \"Tama\\u00f1o de N\"}}, \"zaxis\": {\"title\": {\"text\": \"Precision\"}}}, \"template\": {\"data\": {\"bar\": [{\"error_x\": {\"color\": \"#2a3f5f\"}, \"error_y\": {\"color\": \"#2a3f5f\"}, \"marker\": {\"line\": {\"color\": \"#E5ECF6\", \"width\": 0.5}}, \"type\": \"bar\"}], \"barpolar\": [{\"marker\": {\"line\": {\"color\": \"#E5ECF6\", \"width\": 0.5}}, \"type\": \"barpolar\"}], \"carpet\": [{\"aaxis\": {\"endlinecolor\": \"#2a3f5f\", \"gridcolor\": \"white\", \"linecolor\": \"white\", \"minorgridcolor\": \"white\", \"startlinecolor\": \"#2a3f5f\"}, \"baxis\": {\"endlinecolor\": \"#2a3f5f\", \"gridcolor\": \"white\", \"linecolor\": \"white\", \"minorgridcolor\": \"white\", \"startlinecolor\": \"#2a3f5f\"}, \"type\": \"carpet\"}], \"choropleth\": [{\"colorbar\": {\"outlinewidth\": 0, \"ticks\": \"\"}, \"type\": \"choropleth\"}], \"contour\": [{\"colorbar\": {\"outlinewidth\": 0, \"ticks\": \"\"}, \"colorscale\": [[0.0, \"#0d0887\"], [0.1111111111111111, \"#46039f\"], [0.2222222222222222, \"#7201a8\"], [0.3333333333333333, \"#9c179e\"], [0.4444444444444444, \"#bd3786\"], [0.5555555555555556, \"#d8576b\"], [0.6666666666666666, \"#ed7953\"], [0.7777777777777778, \"#fb9f3a\"], [0.8888888888888888, \"#fdca26\"], [1.0, \"#f0f921\"]], \"type\": \"contour\"}], \"contourcarpet\": [{\"colorbar\": {\"outlinewidth\": 0, \"ticks\": \"\"}, \"type\": \"contourcarpet\"}], \"heatmap\": [{\"colorbar\": {\"outlinewidth\": 0, \"ticks\": \"\"}, \"colorscale\": [[0.0, \"#0d0887\"], [0.1111111111111111, \"#46039f\"], [0.2222222222222222, \"#7201a8\"], [0.3333333333333333, \"#9c179e\"], [0.4444444444444444, \"#bd3786\"], [0.5555555555555556, \"#d8576b\"], [0.6666666666666666, \"#ed7953\"], [0.7777777777777778, \"#fb9f3a\"], [0.8888888888888888, \"#fdca26\"], [1.0, \"#f0f921\"]], \"type\": \"heatmap\"}], \"heatmapgl\": [{\"colorbar\": {\"outlinewidth\": 0, \"ticks\": \"\"}, \"colorscale\": [[0.0, \"#0d0887\"], [0.1111111111111111, \"#46039f\"], [0.2222222222222222, \"#7201a8\"], [0.3333333333333333, \"#9c179e\"], [0.4444444444444444, \"#bd3786\"], [0.5555555555555556, \"#d8576b\"], [0.6666666666666666, \"#ed7953\"], [0.7777777777777778, \"#fb9f3a\"], [0.8888888888888888, \"#fdca26\"], [1.0, \"#f0f921\"]], \"type\": \"heatmapgl\"}], \"histogram\": [{\"marker\": {\"colorbar\": {\"outlinewidth\": 0, \"ticks\": \"\"}}, \"type\": \"histogram\"}], \"histogram2d\": [{\"colorbar\": {\"outlinewidth\": 0, \"ticks\": \"\"}, \"colorscale\": [[0.0, \"#0d0887\"], [0.1111111111111111, \"#46039f\"], [0.2222222222222222, \"#7201a8\"], [0.3333333333333333, \"#9c179e\"], [0.4444444444444444, \"#bd3786\"], [0.5555555555555556, \"#d8576b\"], [0.6666666666666666, \"#ed7953\"], [0.7777777777777778, \"#fb9f3a\"], [0.8888888888888888, \"#fdca26\"], [1.0, \"#f0f921\"]], \"type\": \"histogram2d\"}], \"histogram2dcontour\": [{\"colorbar\": {\"outlinewidth\": 0, \"ticks\": \"\"}, \"colorscale\": [[0.0, \"#0d0887\"], [0.1111111111111111, \"#46039f\"], [0.2222222222222222, \"#7201a8\"], [0.3333333333333333, \"#9c179e\"], [0.4444444444444444, \"#bd3786\"], [0.5555555555555556, \"#d8576b\"], [0.6666666666666666, \"#ed7953\"], [0.7777777777777778, \"#fb9f3a\"], [0.8888888888888888, \"#fdca26\"], [1.0, \"#f0f921\"]], \"type\": \"histogram2dcontour\"}], \"mesh3d\": [{\"colorbar\": {\"outlinewidth\": 0, \"ticks\": \"\"}, \"type\": \"mesh3d\"}], \"parcoords\": [{\"line\": {\"colorbar\": {\"outlinewidth\": 0, \"ticks\": \"\"}}, \"type\": \"parcoords\"}], \"scatter\": [{\"marker\": {\"colorbar\": {\"outlinewidth\": 0, \"ticks\": \"\"}}, \"type\": \"scatter\"}], \"scatter3d\": [{\"line\": {\"colorbar\": {\"outlinewidth\": 0, \"ticks\": \"\"}}, \"marker\": {\"colorbar\": {\"outlinewidth\": 0, \"ticks\": \"\"}}, \"type\": \"scatter3d\"}], \"scattercarpet\": [{\"marker\": {\"colorbar\": {\"outlinewidth\": 0, \"ticks\": \"\"}}, \"type\": \"scattercarpet\"}], \"scattergeo\": [{\"marker\": {\"colorbar\": {\"outlinewidth\": 0, \"ticks\": \"\"}}, \"type\": \"scattergeo\"}], \"scattergl\": [{\"marker\": {\"colorbar\": {\"outlinewidth\": 0, \"ticks\": \"\"}}, \"type\": \"scattergl\"}], \"scattermapbox\": [{\"marker\": {\"colorbar\": {\"outlinewidth\": 0, \"ticks\": \"\"}}, \"type\": \"scattermapbox\"}], \"scatterpolar\": [{\"marker\": {\"colorbar\": {\"outlinewidth\": 0, \"ticks\": \"\"}}, \"type\": \"scatterpolar\"}], \"scatterpolargl\": [{\"marker\": {\"colorbar\": {\"outlinewidth\": 0, \"ticks\": \"\"}}, \"type\": \"scatterpolargl\"}], \"scatterternary\": [{\"marker\": {\"colorbar\": {\"outlinewidth\": 0, \"ticks\": \"\"}}, \"type\": \"scatterternary\"}], \"surface\": [{\"colorbar\": {\"outlinewidth\": 0, \"ticks\": \"\"}, \"colorscale\": [[0.0, \"#0d0887\"], [0.1111111111111111, \"#46039f\"], [0.2222222222222222, \"#7201a8\"], [0.3333333333333333, \"#9c179e\"], [0.4444444444444444, \"#bd3786\"], [0.5555555555555556, \"#d8576b\"], [0.6666666666666666, \"#ed7953\"], [0.7777777777777778, \"#fb9f3a\"], [0.8888888888888888, \"#fdca26\"], [1.0, \"#f0f921\"]], \"type\": \"surface\"}], \"table\": [{\"cells\": {\"fill\": {\"color\": \"#EBF0F8\"}, \"line\": {\"color\": \"white\"}}, \"header\": {\"fill\": {\"color\": \"#C8D4E3\"}, \"line\": {\"color\": \"white\"}}, \"type\": \"table\"}]}, \"layout\": {\"annotationdefaults\": {\"arrowcolor\": \"#2a3f5f\", \"arrowhead\": 0, \"arrowwidth\": 1}, \"colorscale\": {\"diverging\": [[0, \"#8e0152\"], [0.1, \"#c51b7d\"], [0.2, \"#de77ae\"], [0.3, \"#f1b6da\"], [0.4, \"#fde0ef\"], [0.5, \"#f7f7f7\"], [0.6, \"#e6f5d0\"], [0.7, \"#b8e186\"], [0.8, \"#7fbc41\"], [0.9, \"#4d9221\"], [1, \"#276419\"]], \"sequential\": [[0.0, \"#0d0887\"], [0.1111111111111111, \"#46039f\"], [0.2222222222222222, \"#7201a8\"], [0.3333333333333333, \"#9c179e\"], [0.4444444444444444, \"#bd3786\"], [0.5555555555555556, \"#d8576b\"], [0.6666666666666666, \"#ed7953\"], [0.7777777777777778, \"#fb9f3a\"], [0.8888888888888888, \"#fdca26\"], [1.0, \"#f0f921\"]], \"sequentialminus\": [[0.0, \"#0d0887\"], [0.1111111111111111, \"#46039f\"], [0.2222222222222222, \"#7201a8\"], [0.3333333333333333, \"#9c179e\"], [0.4444444444444444, \"#bd3786\"], [0.5555555555555556, \"#d8576b\"], [0.6666666666666666, \"#ed7953\"], [0.7777777777777778, \"#fb9f3a\"], [0.8888888888888888, \"#fdca26\"], [1.0, \"#f0f921\"]]}, \"colorway\": [\"#636efa\", \"#EF553B\", \"#00cc96\", \"#ab63fa\", \"#FFA15A\", \"#19d3f3\", \"#FF6692\", \"#B6E880\", \"#FF97FF\", \"#FECB52\"], \"font\": {\"color\": \"#2a3f5f\"}, \"geo\": {\"bgcolor\": \"white\", \"lakecolor\": \"white\", \"landcolor\": \"#E5ECF6\", \"showlakes\": true, \"showland\": true, \"subunitcolor\": \"white\"}, \"hoverlabel\": {\"align\": \"left\"}, \"hovermode\": \"closest\", \"mapbox\": {\"style\": \"light\"}, \"paper_bgcolor\": \"white\", \"plot_bgcolor\": \"#E5ECF6\", \"polar\": {\"angularaxis\": {\"gridcolor\": \"white\", \"linecolor\": \"white\", \"ticks\": \"\"}, \"bgcolor\": \"#E5ECF6\", \"radialaxis\": {\"gridcolor\": \"white\", \"linecolor\": \"white\", \"ticks\": \"\"}}, \"scene\": {\"xaxis\": {\"backgroundcolor\": \"#E5ECF6\", \"gridcolor\": \"white\", \"gridwidth\": 2, \"linecolor\": \"white\", \"showbackground\": true, \"ticks\": \"\", \"zerolinecolor\": \"white\"}, \"yaxis\": {\"backgroundcolor\": \"#E5ECF6\", \"gridcolor\": \"white\", \"gridwidth\": 2, \"linecolor\": \"white\", \"showbackground\": true, \"ticks\": \"\", \"zerolinecolor\": \"white\"}, \"zaxis\": {\"backgroundcolor\": \"#E5ECF6\", \"gridcolor\": \"white\", \"gridwidth\": 2, \"linecolor\": \"white\", \"showbackground\": true, \"ticks\": \"\", \"zerolinecolor\": \"white\"}}, \"shapedefaults\": {\"line\": {\"color\": \"#2a3f5f\"}}, \"ternary\": {\"aaxis\": {\"gridcolor\": \"white\", \"linecolor\": \"white\", \"ticks\": \"\"}, \"baxis\": {\"gridcolor\": \"white\", \"linecolor\": \"white\", \"ticks\": \"\"}, \"bgcolor\": \"#E5ECF6\", \"caxis\": {\"gridcolor\": \"white\", \"linecolor\": \"white\", \"ticks\": \"\"}}, \"title\": {\"x\": 0.05}, \"xaxis\": {\"automargin\": true, \"gridcolor\": \"white\", \"linecolor\": \"white\", \"ticks\": \"\", \"zerolinecolor\": \"white\", \"zerolinewidth\": 2}, \"yaxis\": {\"automargin\": true, \"gridcolor\": \"white\", \"linecolor\": \"white\", \"ticks\": \"\", \"zerolinecolor\": \"white\", \"zerolinewidth\": 2}}}, \"title\": {\"text\": \"Precision Surface\"}},\n",
       "                        {\"responsive\": true}\n",
       "                    ).then(function(){\n",
       "                            \n",
       "var gd = document.getElementById('8621b1c1-5e3f-4740-984b-4e40f167ebcc');\n",
       "var x = new MutationObserver(function (mutations, observer) {{\n",
       "        var display = window.getComputedStyle(gd).display;\n",
       "        if (!display || display === 'none') {{\n",
       "            console.log([gd, 'removed!']);\n",
       "            Plotly.purge(gd);\n",
       "            observer.disconnect();\n",
       "        }}\n",
       "}});\n",
       "\n",
       "// Listen for the removal of the full notebook cells\n",
       "var notebookContainer = gd.closest('#notebook-container');\n",
       "if (notebookContainer) {{\n",
       "    x.observe(notebookContainer, {childList: true});\n",
       "}}\n",
       "\n",
       "// Listen for the clearing of the current output cell\n",
       "var outputEl = gd.closest('.output');\n",
       "if (outputEl) {{\n",
       "    x.observe(outputEl, {childList: true});\n",
       "}}\n",
       "\n",
       "                        })\n",
       "                };\n",
       "                });\n",
       "            </script>\n",
       "        </div>"
      ]
     },
     "metadata": {},
     "output_type": "display_data"
    }
   ],
   "source": [
    "fig2 = go.Figure(data=[go.Surface(z=n_est_mod_results['Precision'])])\n",
    "\n",
    "fig2.update_layout(title='Precision Surface', autosize=True,\n",
    "                   scene = dict(xaxis_title='Modelos',\n",
    "                                yaxis_title='Tamaño de N',\n",
    "                                zaxis_title='Precision'))\n",
    "\n",
    "fig2.show()\n",
    "fig2.write_html('Pre_LOG_Dim.html')"
   ]
  },
  {
   "cell_type": "code",
   "execution_count": 29,
   "metadata": {},
   "outputs": [
    {
     "data": {
      "application/vnd.plotly.v1+json": {
       "config": {
        "plotlyServerURL": "https://plot.ly"
       },
       "data": [
        {
         "type": "surface",
         "z": [
          [
           0.38231801319145364,
           0.38231801319145364,
           0.38231801319145364,
           0.38231801319145364,
           0.38231801319145364,
           0.38231801319145364,
           0.38231801319145364,
           0.38231801319145364,
           0.38231801319145364,
           0.38231801319145364
          ],
          [
           0.3888141504733433,
           0.3888141504733433,
           0.3888141504733433,
           0.3888141504733433,
           0.3888141504733433,
           0.3888141504733433,
           0.3888141504733433,
           0.3888141504733433,
           0.3888141504733433,
           0.3888141504733433
          ],
          [
           0.3890259093173891,
           0.3890259093173891,
           0.3890259093173891,
           0.3890259093173891,
           0.3890259093173891,
           0.3890259093173891,
           0.3890259093173891,
           0.3890259093173891,
           0.3890259093173891,
           0.3890259093173891
          ],
          [
           0.39084454409566516,
           0.39084454409566516,
           0.39084454409566516,
           0.39084454409566516,
           0.39084454409566516,
           0.39084454409566516,
           0.39084454409566516,
           0.39084454409566516,
           0.39084454409566516,
           0.39084454409566516
          ],
          [
           0.39473686157853455,
           0.39473686157853455,
           0.39473686157853455,
           0.39473686157853455,
           0.39473686157853455,
           0.39473686157853455,
           0.39473686157853455,
           0.39473686157853455,
           0.39473686157853455,
           0.39473686157853455
          ],
          [
           0.3894556552067763,
           0.3894556552067763,
           0.3894556552067763,
           0.3894556552067763,
           0.3894556552067763,
           0.3894556552067763,
           0.3894556552067763,
           0.3894556552067763,
           0.3894556552067763,
           0.3894556552067763
          ],
          [
           0.387898296556113,
           0.387898296556113,
           0.387898296556113,
           0.387898296556113,
           0.387898296556113,
           0.387898296556113,
           0.387898296556113,
           0.387898296556113,
           0.387898296556113,
           0.387898296556113
          ],
          [
           0.3849651220727454,
           0.3849651220727454,
           0.3849651220727454,
           0.3849651220727454,
           0.3849651220727454,
           0.3849651220727454,
           0.3849651220727454,
           0.3849651220727454,
           0.3849651220727454,
           0.3849651220727454
          ],
          [
           0.38196935724962633,
           0.38196935724962633,
           0.38196935724962633,
           0.38196935724962633,
           0.38196935724962633,
           0.38196935724962633,
           0.38196935724962633,
           0.38196935724962633,
           0.38196935724962633,
           0.38196935724962633
          ],
          [
           0.3761394525102735,
           0.3761394525102735,
           0.3761394525102735,
           0.3761394525102735,
           0.3761394525102735,
           0.3761394525102735,
           0.3761394525102735,
           0.3761394525102735,
           0.3761394525102735,
           0.3761394525102735
          ],
          [
           0.38178096957677826,
           0.38178096957677826,
           0.38178096957677826,
           0.38178096957677826,
           0.38178096957677826,
           0.38178096957677826,
           0.38178096957677826,
           0.38178096957677826,
           0.38178096957677826,
           0.38178096957677826
          ],
          [
           0.38101021425012455,
           0.38101021425012455,
           0.38101021425012455,
           0.38101021425012455,
           0.38101021425012455,
           0.38101021425012455,
           0.38101021425012455,
           0.38101021425012455,
           0.38101021425012455,
           0.38101021425012455
          ],
          [
           0.3812219730941704,
           0.3812219730941704,
           0.3812219730941704,
           0.3812219730941704,
           0.3812219730941704,
           0.3812219730941704,
           0.3812219730941704,
           0.3812219730941704,
           0.3812219730941704,
           0.3812219730941704
          ],
          [
           0.3830406078724464,
           0.3830406078724464,
           0.3830406078724464,
           0.3830406078724464,
           0.3830406078724464,
           0.3830406078724464,
           0.3830406078724464,
           0.3830406078724464,
           0.3830406078724464,
           0.3830406078724464
          ],
          [
           0.38464125560538115,
           0.38464125560538115,
           0.38464125560538115,
           0.38464125560538115,
           0.38464125560538115,
           0.38464125560538115,
           0.38464125560538115,
           0.38464125560538115,
           0.38464125560538115,
           0.38464125560538115
          ],
          [
           0.3827167414050822,
           0.3827167414050822,
           0.3827167414050822,
           0.3827167414050822,
           0.3827167414050822,
           0.3827167414050822,
           0.3827167414050822,
           0.3827167414050822,
           0.3827167414050822,
           0.3827167414050822
          ],
          [
           0.38111609367214744,
           0.38111609367214744,
           0.38111609367214744,
           0.38111609367214744,
           0.38111609367214744,
           0.38111609367214744,
           0.38111609367214744,
           0.38111609367214744,
           0.38111609367214744,
           0.38111609367214744
          ],
          [
           0.3846281825491966,
           0.3846281825491966,
           0.3846281825491966,
           0.3846281825491966,
           0.3846281825491966,
           0.3846281825491966,
           0.3846281825491966,
           0.3846281825491966,
           0.3846281825491966,
           0.3846281825491966
          ],
          [
           0.3790031917990005,
           0.3790031917990005,
           0.3790031917990005,
           0.3790031917990005,
           0.3790031917990005,
           0.3790031917990005,
           0.3790031917990005,
           0.3790031917990005,
           0.3790031917990005,
           0.3790031917990005
          ],
          [
           0.37915581356341915,
           0.37915581356341915,
           0.37915581356341915,
           0.37915581356341915,
           0.37915581356341915,
           0.37915581356341915,
           0.37915581356341915,
           0.37915581356341915,
           0.37915581356341915,
           0.37915581356341915
          ],
          [
           0.3772210012481069,
           0.3772210012481069,
           0.3772210012481069,
           0.3772210012481069,
           0.3772210012481069,
           0.3772210012481069,
           0.3772210012481069,
           0.3772210012481069,
           0.3772210012481069,
           0.3772210012481069
          ],
          [
           0.37878520475365923,
           0.37878520475365923,
           0.37878520475365923,
           0.37878520475365923,
           0.37878520475365923,
           0.37878520475365923,
           0.37878520475365923,
           0.37878520475365923,
           0.37878520475365923,
           0.37878520475365923
          ],
          [
           0.3810967924146675,
           0.3810967924146675,
           0.3810967924146675,
           0.3810967924146675,
           0.3810967924146675,
           0.3810967924146675,
           0.3810967924146675,
           0.3810967924146675,
           0.3810967924146675,
           0.3810967924146675
          ],
          [
           0.37803782059820334,
           0.37803782059820334,
           0.37803782059820334,
           0.37803782059820334,
           0.37803782059820334,
           0.37803782059820334,
           0.37803782059820334,
           0.37803782059820334,
           0.37803782059820334,
           0.37803782059820334
          ],
          [
           0.3780179026871297,
           0.3780179026871297,
           0.3780179026871297,
           0.3780179026871297,
           0.3780179026871297,
           0.3780179026871297,
           0.3780179026871297,
           0.3780179026871297,
           0.3780179026871297,
           0.3780179026871297
          ],
          [
           0.38175482346440925,
           0.38175482346440925,
           0.38175482346440925,
           0.38175482346440925,
           0.38175482346440925,
           0.38175482346440925,
           0.38175482346440925,
           0.38175482346440925,
           0.38175482346440925,
           0.38175482346440925
          ],
          [
           0.37903340782508743,
           0.37903340782508743,
           0.37903340782508743,
           0.37903340782508743,
           0.37903340782508743,
           0.37903340782508743,
           0.37903340782508743,
           0.37903340782508743,
           0.37903340782508743,
           0.37903340782508743
          ],
          [
           0.3784977825136773,
           0.3784977825136773,
           0.3784977825136773,
           0.3784977825136773,
           0.3784977825136773,
           0.3784977825136773,
           0.3784977825136773,
           0.3784977825136773,
           0.3784977825136773,
           0.3784977825136773
          ],
          [
           0.3735012234407297,
           0.3735012234407297,
           0.3735012234407297,
           0.3735012234407297,
           0.3735012234407297,
           0.3735012234407297,
           0.3735012234407297,
           0.3735012234407297,
           0.3735012234407297,
           0.3735012234407297
          ]
         ]
        }
       ],
       "layout": {
        "autosize": true,
        "scene": {
         "xaxis": {
          "title": {
           "text": "Modelos"
          }
         },
         "yaxis": {
          "title": {
           "text": "Tamaño de N"
          }
         },
         "zaxis": {
          "title": {
           "text": "Recall"
          }
         }
        },
        "template": {
         "data": {
          "bar": [
           {
            "error_x": {
             "color": "#2a3f5f"
            },
            "error_y": {
             "color": "#2a3f5f"
            },
            "marker": {
             "line": {
              "color": "#E5ECF6",
              "width": 0.5
             }
            },
            "type": "bar"
           }
          ],
          "barpolar": [
           {
            "marker": {
             "line": {
              "color": "#E5ECF6",
              "width": 0.5
             }
            },
            "type": "barpolar"
           }
          ],
          "carpet": [
           {
            "aaxis": {
             "endlinecolor": "#2a3f5f",
             "gridcolor": "white",
             "linecolor": "white",
             "minorgridcolor": "white",
             "startlinecolor": "#2a3f5f"
            },
            "baxis": {
             "endlinecolor": "#2a3f5f",
             "gridcolor": "white",
             "linecolor": "white",
             "minorgridcolor": "white",
             "startlinecolor": "#2a3f5f"
            },
            "type": "carpet"
           }
          ],
          "choropleth": [
           {
            "colorbar": {
             "outlinewidth": 0,
             "ticks": ""
            },
            "type": "choropleth"
           }
          ],
          "contour": [
           {
            "colorbar": {
             "outlinewidth": 0,
             "ticks": ""
            },
            "colorscale": [
             [
              0,
              "#0d0887"
             ],
             [
              0.1111111111111111,
              "#46039f"
             ],
             [
              0.2222222222222222,
              "#7201a8"
             ],
             [
              0.3333333333333333,
              "#9c179e"
             ],
             [
              0.4444444444444444,
              "#bd3786"
             ],
             [
              0.5555555555555556,
              "#d8576b"
             ],
             [
              0.6666666666666666,
              "#ed7953"
             ],
             [
              0.7777777777777778,
              "#fb9f3a"
             ],
             [
              0.8888888888888888,
              "#fdca26"
             ],
             [
              1,
              "#f0f921"
             ]
            ],
            "type": "contour"
           }
          ],
          "contourcarpet": [
           {
            "colorbar": {
             "outlinewidth": 0,
             "ticks": ""
            },
            "type": "contourcarpet"
           }
          ],
          "heatmap": [
           {
            "colorbar": {
             "outlinewidth": 0,
             "ticks": ""
            },
            "colorscale": [
             [
              0,
              "#0d0887"
             ],
             [
              0.1111111111111111,
              "#46039f"
             ],
             [
              0.2222222222222222,
              "#7201a8"
             ],
             [
              0.3333333333333333,
              "#9c179e"
             ],
             [
              0.4444444444444444,
              "#bd3786"
             ],
             [
              0.5555555555555556,
              "#d8576b"
             ],
             [
              0.6666666666666666,
              "#ed7953"
             ],
             [
              0.7777777777777778,
              "#fb9f3a"
             ],
             [
              0.8888888888888888,
              "#fdca26"
             ],
             [
              1,
              "#f0f921"
             ]
            ],
            "type": "heatmap"
           }
          ],
          "heatmapgl": [
           {
            "colorbar": {
             "outlinewidth": 0,
             "ticks": ""
            },
            "colorscale": [
             [
              0,
              "#0d0887"
             ],
             [
              0.1111111111111111,
              "#46039f"
             ],
             [
              0.2222222222222222,
              "#7201a8"
             ],
             [
              0.3333333333333333,
              "#9c179e"
             ],
             [
              0.4444444444444444,
              "#bd3786"
             ],
             [
              0.5555555555555556,
              "#d8576b"
             ],
             [
              0.6666666666666666,
              "#ed7953"
             ],
             [
              0.7777777777777778,
              "#fb9f3a"
             ],
             [
              0.8888888888888888,
              "#fdca26"
             ],
             [
              1,
              "#f0f921"
             ]
            ],
            "type": "heatmapgl"
           }
          ],
          "histogram": [
           {
            "marker": {
             "colorbar": {
              "outlinewidth": 0,
              "ticks": ""
             }
            },
            "type": "histogram"
           }
          ],
          "histogram2d": [
           {
            "colorbar": {
             "outlinewidth": 0,
             "ticks": ""
            },
            "colorscale": [
             [
              0,
              "#0d0887"
             ],
             [
              0.1111111111111111,
              "#46039f"
             ],
             [
              0.2222222222222222,
              "#7201a8"
             ],
             [
              0.3333333333333333,
              "#9c179e"
             ],
             [
              0.4444444444444444,
              "#bd3786"
             ],
             [
              0.5555555555555556,
              "#d8576b"
             ],
             [
              0.6666666666666666,
              "#ed7953"
             ],
             [
              0.7777777777777778,
              "#fb9f3a"
             ],
             [
              0.8888888888888888,
              "#fdca26"
             ],
             [
              1,
              "#f0f921"
             ]
            ],
            "type": "histogram2d"
           }
          ],
          "histogram2dcontour": [
           {
            "colorbar": {
             "outlinewidth": 0,
             "ticks": ""
            },
            "colorscale": [
             [
              0,
              "#0d0887"
             ],
             [
              0.1111111111111111,
              "#46039f"
             ],
             [
              0.2222222222222222,
              "#7201a8"
             ],
             [
              0.3333333333333333,
              "#9c179e"
             ],
             [
              0.4444444444444444,
              "#bd3786"
             ],
             [
              0.5555555555555556,
              "#d8576b"
             ],
             [
              0.6666666666666666,
              "#ed7953"
             ],
             [
              0.7777777777777778,
              "#fb9f3a"
             ],
             [
              0.8888888888888888,
              "#fdca26"
             ],
             [
              1,
              "#f0f921"
             ]
            ],
            "type": "histogram2dcontour"
           }
          ],
          "mesh3d": [
           {
            "colorbar": {
             "outlinewidth": 0,
             "ticks": ""
            },
            "type": "mesh3d"
           }
          ],
          "parcoords": [
           {
            "line": {
             "colorbar": {
              "outlinewidth": 0,
              "ticks": ""
             }
            },
            "type": "parcoords"
           }
          ],
          "scatter": [
           {
            "marker": {
             "colorbar": {
              "outlinewidth": 0,
              "ticks": ""
             }
            },
            "type": "scatter"
           }
          ],
          "scatter3d": [
           {
            "line": {
             "colorbar": {
              "outlinewidth": 0,
              "ticks": ""
             }
            },
            "marker": {
             "colorbar": {
              "outlinewidth": 0,
              "ticks": ""
             }
            },
            "type": "scatter3d"
           }
          ],
          "scattercarpet": [
           {
            "marker": {
             "colorbar": {
              "outlinewidth": 0,
              "ticks": ""
             }
            },
            "type": "scattercarpet"
           }
          ],
          "scattergeo": [
           {
            "marker": {
             "colorbar": {
              "outlinewidth": 0,
              "ticks": ""
             }
            },
            "type": "scattergeo"
           }
          ],
          "scattergl": [
           {
            "marker": {
             "colorbar": {
              "outlinewidth": 0,
              "ticks": ""
             }
            },
            "type": "scattergl"
           }
          ],
          "scattermapbox": [
           {
            "marker": {
             "colorbar": {
              "outlinewidth": 0,
              "ticks": ""
             }
            },
            "type": "scattermapbox"
           }
          ],
          "scatterpolar": [
           {
            "marker": {
             "colorbar": {
              "outlinewidth": 0,
              "ticks": ""
             }
            },
            "type": "scatterpolar"
           }
          ],
          "scatterpolargl": [
           {
            "marker": {
             "colorbar": {
              "outlinewidth": 0,
              "ticks": ""
             }
            },
            "type": "scatterpolargl"
           }
          ],
          "scatterternary": [
           {
            "marker": {
             "colorbar": {
              "outlinewidth": 0,
              "ticks": ""
             }
            },
            "type": "scatterternary"
           }
          ],
          "surface": [
           {
            "colorbar": {
             "outlinewidth": 0,
             "ticks": ""
            },
            "colorscale": [
             [
              0,
              "#0d0887"
             ],
             [
              0.1111111111111111,
              "#46039f"
             ],
             [
              0.2222222222222222,
              "#7201a8"
             ],
             [
              0.3333333333333333,
              "#9c179e"
             ],
             [
              0.4444444444444444,
              "#bd3786"
             ],
             [
              0.5555555555555556,
              "#d8576b"
             ],
             [
              0.6666666666666666,
              "#ed7953"
             ],
             [
              0.7777777777777778,
              "#fb9f3a"
             ],
             [
              0.8888888888888888,
              "#fdca26"
             ],
             [
              1,
              "#f0f921"
             ]
            ],
            "type": "surface"
           }
          ],
          "table": [
           {
            "cells": {
             "fill": {
              "color": "#EBF0F8"
             },
             "line": {
              "color": "white"
             }
            },
            "header": {
             "fill": {
              "color": "#C8D4E3"
             },
             "line": {
              "color": "white"
             }
            },
            "type": "table"
           }
          ]
         },
         "layout": {
          "annotationdefaults": {
           "arrowcolor": "#2a3f5f",
           "arrowhead": 0,
           "arrowwidth": 1
          },
          "colorscale": {
           "diverging": [
            [
             0,
             "#8e0152"
            ],
            [
             0.1,
             "#c51b7d"
            ],
            [
             0.2,
             "#de77ae"
            ],
            [
             0.3,
             "#f1b6da"
            ],
            [
             0.4,
             "#fde0ef"
            ],
            [
             0.5,
             "#f7f7f7"
            ],
            [
             0.6,
             "#e6f5d0"
            ],
            [
             0.7,
             "#b8e186"
            ],
            [
             0.8,
             "#7fbc41"
            ],
            [
             0.9,
             "#4d9221"
            ],
            [
             1,
             "#276419"
            ]
           ],
           "sequential": [
            [
             0,
             "#0d0887"
            ],
            [
             0.1111111111111111,
             "#46039f"
            ],
            [
             0.2222222222222222,
             "#7201a8"
            ],
            [
             0.3333333333333333,
             "#9c179e"
            ],
            [
             0.4444444444444444,
             "#bd3786"
            ],
            [
             0.5555555555555556,
             "#d8576b"
            ],
            [
             0.6666666666666666,
             "#ed7953"
            ],
            [
             0.7777777777777778,
             "#fb9f3a"
            ],
            [
             0.8888888888888888,
             "#fdca26"
            ],
            [
             1,
             "#f0f921"
            ]
           ],
           "sequentialminus": [
            [
             0,
             "#0d0887"
            ],
            [
             0.1111111111111111,
             "#46039f"
            ],
            [
             0.2222222222222222,
             "#7201a8"
            ],
            [
             0.3333333333333333,
             "#9c179e"
            ],
            [
             0.4444444444444444,
             "#bd3786"
            ],
            [
             0.5555555555555556,
             "#d8576b"
            ],
            [
             0.6666666666666666,
             "#ed7953"
            ],
            [
             0.7777777777777778,
             "#fb9f3a"
            ],
            [
             0.8888888888888888,
             "#fdca26"
            ],
            [
             1,
             "#f0f921"
            ]
           ]
          },
          "colorway": [
           "#636efa",
           "#EF553B",
           "#00cc96",
           "#ab63fa",
           "#FFA15A",
           "#19d3f3",
           "#FF6692",
           "#B6E880",
           "#FF97FF",
           "#FECB52"
          ],
          "font": {
           "color": "#2a3f5f"
          },
          "geo": {
           "bgcolor": "white",
           "lakecolor": "white",
           "landcolor": "#E5ECF6",
           "showlakes": true,
           "showland": true,
           "subunitcolor": "white"
          },
          "hoverlabel": {
           "align": "left"
          },
          "hovermode": "closest",
          "mapbox": {
           "style": "light"
          },
          "paper_bgcolor": "white",
          "plot_bgcolor": "#E5ECF6",
          "polar": {
           "angularaxis": {
            "gridcolor": "white",
            "linecolor": "white",
            "ticks": ""
           },
           "bgcolor": "#E5ECF6",
           "radialaxis": {
            "gridcolor": "white",
            "linecolor": "white",
            "ticks": ""
           }
          },
          "scene": {
           "xaxis": {
            "backgroundcolor": "#E5ECF6",
            "gridcolor": "white",
            "gridwidth": 2,
            "linecolor": "white",
            "showbackground": true,
            "ticks": "",
            "zerolinecolor": "white"
           },
           "yaxis": {
            "backgroundcolor": "#E5ECF6",
            "gridcolor": "white",
            "gridwidth": 2,
            "linecolor": "white",
            "showbackground": true,
            "ticks": "",
            "zerolinecolor": "white"
           },
           "zaxis": {
            "backgroundcolor": "#E5ECF6",
            "gridcolor": "white",
            "gridwidth": 2,
            "linecolor": "white",
            "showbackground": true,
            "ticks": "",
            "zerolinecolor": "white"
           }
          },
          "shapedefaults": {
           "line": {
            "color": "#2a3f5f"
           }
          },
          "ternary": {
           "aaxis": {
            "gridcolor": "white",
            "linecolor": "white",
            "ticks": ""
           },
           "baxis": {
            "gridcolor": "white",
            "linecolor": "white",
            "ticks": ""
           },
           "bgcolor": "#E5ECF6",
           "caxis": {
            "gridcolor": "white",
            "linecolor": "white",
            "ticks": ""
           }
          },
          "title": {
           "x": 0.05
          },
          "xaxis": {
           "automargin": true,
           "gridcolor": "white",
           "linecolor": "white",
           "ticks": "",
           "zerolinecolor": "white",
           "zerolinewidth": 2
          },
          "yaxis": {
           "automargin": true,
           "gridcolor": "white",
           "linecolor": "white",
           "ticks": "",
           "zerolinecolor": "white",
           "zerolinewidth": 2
          }
         }
        },
        "title": {
         "text": "Recall Surface"
        }
       }
      },
      "text/html": [
       "<div>\n",
       "        \n",
       "        \n",
       "            <div id=\"2d2d4e55-c439-4fd3-bdff-d0de837c56f4\" class=\"plotly-graph-div\" style=\"height:525px; width:100%;\"></div>\n",
       "            <script type=\"text/javascript\">\n",
       "                require([\"plotly\"], function(Plotly) {\n",
       "                    window.PLOTLYENV=window.PLOTLYENV || {};\n",
       "                    \n",
       "                if (document.getElementById(\"2d2d4e55-c439-4fd3-bdff-d0de837c56f4\")) {\n",
       "                    Plotly.newPlot(\n",
       "                        '2d2d4e55-c439-4fd3-bdff-d0de837c56f4',\n",
       "                        [{\"type\": \"surface\", \"z\": [[0.38231801319145364, 0.38231801319145364, 0.38231801319145364, 0.38231801319145364, 0.38231801319145364, 0.38231801319145364, 0.38231801319145364, 0.38231801319145364, 0.38231801319145364, 0.38231801319145364], [0.3888141504733433, 0.3888141504733433, 0.3888141504733433, 0.3888141504733433, 0.3888141504733433, 0.3888141504733433, 0.3888141504733433, 0.3888141504733433, 0.3888141504733433, 0.3888141504733433], [0.3890259093173891, 0.3890259093173891, 0.3890259093173891, 0.3890259093173891, 0.3890259093173891, 0.3890259093173891, 0.3890259093173891, 0.3890259093173891, 0.3890259093173891, 0.3890259093173891], [0.39084454409566516, 0.39084454409566516, 0.39084454409566516, 0.39084454409566516, 0.39084454409566516, 0.39084454409566516, 0.39084454409566516, 0.39084454409566516, 0.39084454409566516, 0.39084454409566516], [0.39473686157853455, 0.39473686157853455, 0.39473686157853455, 0.39473686157853455, 0.39473686157853455, 0.39473686157853455, 0.39473686157853455, 0.39473686157853455, 0.39473686157853455, 0.39473686157853455], [0.3894556552067763, 0.3894556552067763, 0.3894556552067763, 0.3894556552067763, 0.3894556552067763, 0.3894556552067763, 0.3894556552067763, 0.3894556552067763, 0.3894556552067763, 0.3894556552067763], [0.387898296556113, 0.387898296556113, 0.387898296556113, 0.387898296556113, 0.387898296556113, 0.387898296556113, 0.387898296556113, 0.387898296556113, 0.387898296556113, 0.387898296556113], [0.3849651220727454, 0.3849651220727454, 0.3849651220727454, 0.3849651220727454, 0.3849651220727454, 0.3849651220727454, 0.3849651220727454, 0.3849651220727454, 0.3849651220727454, 0.3849651220727454], [0.38196935724962633, 0.38196935724962633, 0.38196935724962633, 0.38196935724962633, 0.38196935724962633, 0.38196935724962633, 0.38196935724962633, 0.38196935724962633, 0.38196935724962633, 0.38196935724962633], [0.3761394525102735, 0.3761394525102735, 0.3761394525102735, 0.3761394525102735, 0.3761394525102735, 0.3761394525102735, 0.3761394525102735, 0.3761394525102735, 0.3761394525102735, 0.3761394525102735], [0.38178096957677826, 0.38178096957677826, 0.38178096957677826, 0.38178096957677826, 0.38178096957677826, 0.38178096957677826, 0.38178096957677826, 0.38178096957677826, 0.38178096957677826, 0.38178096957677826], [0.38101021425012455, 0.38101021425012455, 0.38101021425012455, 0.38101021425012455, 0.38101021425012455, 0.38101021425012455, 0.38101021425012455, 0.38101021425012455, 0.38101021425012455, 0.38101021425012455], [0.3812219730941704, 0.3812219730941704, 0.3812219730941704, 0.3812219730941704, 0.3812219730941704, 0.3812219730941704, 0.3812219730941704, 0.3812219730941704, 0.3812219730941704, 0.3812219730941704], [0.3830406078724464, 0.3830406078724464, 0.3830406078724464, 0.3830406078724464, 0.3830406078724464, 0.3830406078724464, 0.3830406078724464, 0.3830406078724464, 0.3830406078724464, 0.3830406078724464], [0.38464125560538115, 0.38464125560538115, 0.38464125560538115, 0.38464125560538115, 0.38464125560538115, 0.38464125560538115, 0.38464125560538115, 0.38464125560538115, 0.38464125560538115, 0.38464125560538115], [0.3827167414050822, 0.3827167414050822, 0.3827167414050822, 0.3827167414050822, 0.3827167414050822, 0.3827167414050822, 0.3827167414050822, 0.3827167414050822, 0.3827167414050822, 0.3827167414050822], [0.38111609367214744, 0.38111609367214744, 0.38111609367214744, 0.38111609367214744, 0.38111609367214744, 0.38111609367214744, 0.38111609367214744, 0.38111609367214744, 0.38111609367214744, 0.38111609367214744], [0.3846281825491966, 0.3846281825491966, 0.3846281825491966, 0.3846281825491966, 0.3846281825491966, 0.3846281825491966, 0.3846281825491966, 0.3846281825491966, 0.3846281825491966, 0.3846281825491966], [0.3790031917990005, 0.3790031917990005, 0.3790031917990005, 0.3790031917990005, 0.3790031917990005, 0.3790031917990005, 0.3790031917990005, 0.3790031917990005, 0.3790031917990005, 0.3790031917990005], [0.37915581356341915, 0.37915581356341915, 0.37915581356341915, 0.37915581356341915, 0.37915581356341915, 0.37915581356341915, 0.37915581356341915, 0.37915581356341915, 0.37915581356341915, 0.37915581356341915], [0.3772210012481069, 0.3772210012481069, 0.3772210012481069, 0.3772210012481069, 0.3772210012481069, 0.3772210012481069, 0.3772210012481069, 0.3772210012481069, 0.3772210012481069, 0.3772210012481069], [0.37878520475365923, 0.37878520475365923, 0.37878520475365923, 0.37878520475365923, 0.37878520475365923, 0.37878520475365923, 0.37878520475365923, 0.37878520475365923, 0.37878520475365923, 0.37878520475365923], [0.3810967924146675, 0.3810967924146675, 0.3810967924146675, 0.3810967924146675, 0.3810967924146675, 0.3810967924146675, 0.3810967924146675, 0.3810967924146675, 0.3810967924146675, 0.3810967924146675], [0.37803782059820334, 0.37803782059820334, 0.37803782059820334, 0.37803782059820334, 0.37803782059820334, 0.37803782059820334, 0.37803782059820334, 0.37803782059820334, 0.37803782059820334, 0.37803782059820334], [0.3780179026871297, 0.3780179026871297, 0.3780179026871297, 0.3780179026871297, 0.3780179026871297, 0.3780179026871297, 0.3780179026871297, 0.3780179026871297, 0.3780179026871297, 0.3780179026871297], [0.38175482346440925, 0.38175482346440925, 0.38175482346440925, 0.38175482346440925, 0.38175482346440925, 0.38175482346440925, 0.38175482346440925, 0.38175482346440925, 0.38175482346440925, 0.38175482346440925], [0.37903340782508743, 0.37903340782508743, 0.37903340782508743, 0.37903340782508743, 0.37903340782508743, 0.37903340782508743, 0.37903340782508743, 0.37903340782508743, 0.37903340782508743, 0.37903340782508743], [0.3784977825136773, 0.3784977825136773, 0.3784977825136773, 0.3784977825136773, 0.3784977825136773, 0.3784977825136773, 0.3784977825136773, 0.3784977825136773, 0.3784977825136773, 0.3784977825136773], [0.3735012234407297, 0.3735012234407297, 0.3735012234407297, 0.3735012234407297, 0.3735012234407297, 0.3735012234407297, 0.3735012234407297, 0.3735012234407297, 0.3735012234407297, 0.3735012234407297]]}],\n",
       "                        {\"autosize\": true, \"scene\": {\"xaxis\": {\"title\": {\"text\": \"Modelos\"}}, \"yaxis\": {\"title\": {\"text\": \"Tama\\u00f1o de N\"}}, \"zaxis\": {\"title\": {\"text\": \"Recall\"}}}, \"template\": {\"data\": {\"bar\": [{\"error_x\": {\"color\": \"#2a3f5f\"}, \"error_y\": {\"color\": \"#2a3f5f\"}, \"marker\": {\"line\": {\"color\": \"#E5ECF6\", \"width\": 0.5}}, \"type\": \"bar\"}], \"barpolar\": [{\"marker\": {\"line\": {\"color\": \"#E5ECF6\", \"width\": 0.5}}, \"type\": \"barpolar\"}], \"carpet\": [{\"aaxis\": {\"endlinecolor\": \"#2a3f5f\", \"gridcolor\": \"white\", \"linecolor\": \"white\", \"minorgridcolor\": \"white\", \"startlinecolor\": \"#2a3f5f\"}, \"baxis\": {\"endlinecolor\": \"#2a3f5f\", \"gridcolor\": \"white\", \"linecolor\": \"white\", \"minorgridcolor\": \"white\", \"startlinecolor\": \"#2a3f5f\"}, \"type\": \"carpet\"}], \"choropleth\": [{\"colorbar\": {\"outlinewidth\": 0, \"ticks\": \"\"}, \"type\": \"choropleth\"}], \"contour\": [{\"colorbar\": {\"outlinewidth\": 0, \"ticks\": \"\"}, \"colorscale\": [[0.0, \"#0d0887\"], [0.1111111111111111, \"#46039f\"], [0.2222222222222222, \"#7201a8\"], [0.3333333333333333, \"#9c179e\"], [0.4444444444444444, \"#bd3786\"], [0.5555555555555556, \"#d8576b\"], [0.6666666666666666, \"#ed7953\"], [0.7777777777777778, \"#fb9f3a\"], [0.8888888888888888, \"#fdca26\"], [1.0, \"#f0f921\"]], \"type\": \"contour\"}], \"contourcarpet\": [{\"colorbar\": {\"outlinewidth\": 0, \"ticks\": \"\"}, \"type\": \"contourcarpet\"}], \"heatmap\": [{\"colorbar\": {\"outlinewidth\": 0, \"ticks\": \"\"}, \"colorscale\": [[0.0, \"#0d0887\"], [0.1111111111111111, \"#46039f\"], [0.2222222222222222, \"#7201a8\"], [0.3333333333333333, \"#9c179e\"], [0.4444444444444444, \"#bd3786\"], [0.5555555555555556, \"#d8576b\"], [0.6666666666666666, \"#ed7953\"], [0.7777777777777778, \"#fb9f3a\"], [0.8888888888888888, \"#fdca26\"], [1.0, \"#f0f921\"]], \"type\": \"heatmap\"}], \"heatmapgl\": [{\"colorbar\": {\"outlinewidth\": 0, \"ticks\": \"\"}, \"colorscale\": [[0.0, \"#0d0887\"], [0.1111111111111111, \"#46039f\"], [0.2222222222222222, \"#7201a8\"], [0.3333333333333333, \"#9c179e\"], [0.4444444444444444, \"#bd3786\"], [0.5555555555555556, \"#d8576b\"], [0.6666666666666666, \"#ed7953\"], [0.7777777777777778, \"#fb9f3a\"], [0.8888888888888888, \"#fdca26\"], [1.0, \"#f0f921\"]], \"type\": \"heatmapgl\"}], \"histogram\": [{\"marker\": {\"colorbar\": {\"outlinewidth\": 0, \"ticks\": \"\"}}, \"type\": \"histogram\"}], \"histogram2d\": [{\"colorbar\": {\"outlinewidth\": 0, \"ticks\": \"\"}, \"colorscale\": [[0.0, \"#0d0887\"], [0.1111111111111111, \"#46039f\"], [0.2222222222222222, \"#7201a8\"], [0.3333333333333333, \"#9c179e\"], [0.4444444444444444, \"#bd3786\"], [0.5555555555555556, \"#d8576b\"], [0.6666666666666666, \"#ed7953\"], [0.7777777777777778, \"#fb9f3a\"], [0.8888888888888888, \"#fdca26\"], [1.0, \"#f0f921\"]], \"type\": \"histogram2d\"}], \"histogram2dcontour\": [{\"colorbar\": {\"outlinewidth\": 0, \"ticks\": \"\"}, \"colorscale\": [[0.0, \"#0d0887\"], [0.1111111111111111, \"#46039f\"], [0.2222222222222222, \"#7201a8\"], [0.3333333333333333, \"#9c179e\"], [0.4444444444444444, \"#bd3786\"], [0.5555555555555556, \"#d8576b\"], [0.6666666666666666, \"#ed7953\"], [0.7777777777777778, \"#fb9f3a\"], [0.8888888888888888, \"#fdca26\"], [1.0, \"#f0f921\"]], \"type\": \"histogram2dcontour\"}], \"mesh3d\": [{\"colorbar\": {\"outlinewidth\": 0, \"ticks\": \"\"}, \"type\": \"mesh3d\"}], \"parcoords\": [{\"line\": {\"colorbar\": {\"outlinewidth\": 0, \"ticks\": \"\"}}, \"type\": \"parcoords\"}], \"scatter\": [{\"marker\": {\"colorbar\": {\"outlinewidth\": 0, \"ticks\": \"\"}}, \"type\": \"scatter\"}], \"scatter3d\": [{\"line\": {\"colorbar\": {\"outlinewidth\": 0, \"ticks\": \"\"}}, \"marker\": {\"colorbar\": {\"outlinewidth\": 0, \"ticks\": \"\"}}, \"type\": \"scatter3d\"}], \"scattercarpet\": [{\"marker\": {\"colorbar\": {\"outlinewidth\": 0, \"ticks\": \"\"}}, \"type\": \"scattercarpet\"}], \"scattergeo\": [{\"marker\": {\"colorbar\": {\"outlinewidth\": 0, \"ticks\": \"\"}}, \"type\": \"scattergeo\"}], \"scattergl\": [{\"marker\": {\"colorbar\": {\"outlinewidth\": 0, \"ticks\": \"\"}}, \"type\": \"scattergl\"}], \"scattermapbox\": [{\"marker\": {\"colorbar\": {\"outlinewidth\": 0, \"ticks\": \"\"}}, \"type\": \"scattermapbox\"}], \"scatterpolar\": [{\"marker\": {\"colorbar\": {\"outlinewidth\": 0, \"ticks\": \"\"}}, \"type\": \"scatterpolar\"}], \"scatterpolargl\": [{\"marker\": {\"colorbar\": {\"outlinewidth\": 0, \"ticks\": \"\"}}, \"type\": \"scatterpolargl\"}], \"scatterternary\": [{\"marker\": {\"colorbar\": {\"outlinewidth\": 0, \"ticks\": \"\"}}, \"type\": \"scatterternary\"}], \"surface\": [{\"colorbar\": {\"outlinewidth\": 0, \"ticks\": \"\"}, \"colorscale\": [[0.0, \"#0d0887\"], [0.1111111111111111, \"#46039f\"], [0.2222222222222222, \"#7201a8\"], [0.3333333333333333, \"#9c179e\"], [0.4444444444444444, \"#bd3786\"], [0.5555555555555556, \"#d8576b\"], [0.6666666666666666, \"#ed7953\"], [0.7777777777777778, \"#fb9f3a\"], [0.8888888888888888, \"#fdca26\"], [1.0, \"#f0f921\"]], \"type\": \"surface\"}], \"table\": [{\"cells\": {\"fill\": {\"color\": \"#EBF0F8\"}, \"line\": {\"color\": \"white\"}}, \"header\": {\"fill\": {\"color\": \"#C8D4E3\"}, \"line\": {\"color\": \"white\"}}, \"type\": \"table\"}]}, \"layout\": {\"annotationdefaults\": {\"arrowcolor\": \"#2a3f5f\", \"arrowhead\": 0, \"arrowwidth\": 1}, \"colorscale\": {\"diverging\": [[0, \"#8e0152\"], [0.1, \"#c51b7d\"], [0.2, \"#de77ae\"], [0.3, \"#f1b6da\"], [0.4, \"#fde0ef\"], [0.5, \"#f7f7f7\"], [0.6, \"#e6f5d0\"], [0.7, \"#b8e186\"], [0.8, \"#7fbc41\"], [0.9, \"#4d9221\"], [1, \"#276419\"]], \"sequential\": [[0.0, \"#0d0887\"], [0.1111111111111111, \"#46039f\"], [0.2222222222222222, \"#7201a8\"], [0.3333333333333333, \"#9c179e\"], [0.4444444444444444, \"#bd3786\"], [0.5555555555555556, \"#d8576b\"], [0.6666666666666666, \"#ed7953\"], [0.7777777777777778, \"#fb9f3a\"], [0.8888888888888888, \"#fdca26\"], [1.0, \"#f0f921\"]], \"sequentialminus\": [[0.0, \"#0d0887\"], [0.1111111111111111, \"#46039f\"], [0.2222222222222222, \"#7201a8\"], [0.3333333333333333, \"#9c179e\"], [0.4444444444444444, \"#bd3786\"], [0.5555555555555556, \"#d8576b\"], [0.6666666666666666, \"#ed7953\"], [0.7777777777777778, \"#fb9f3a\"], [0.8888888888888888, \"#fdca26\"], [1.0, \"#f0f921\"]]}, \"colorway\": [\"#636efa\", \"#EF553B\", \"#00cc96\", \"#ab63fa\", \"#FFA15A\", \"#19d3f3\", \"#FF6692\", \"#B6E880\", \"#FF97FF\", \"#FECB52\"], \"font\": {\"color\": \"#2a3f5f\"}, \"geo\": {\"bgcolor\": \"white\", \"lakecolor\": \"white\", \"landcolor\": \"#E5ECF6\", \"showlakes\": true, \"showland\": true, \"subunitcolor\": \"white\"}, \"hoverlabel\": {\"align\": \"left\"}, \"hovermode\": \"closest\", \"mapbox\": {\"style\": \"light\"}, \"paper_bgcolor\": \"white\", \"plot_bgcolor\": \"#E5ECF6\", \"polar\": {\"angularaxis\": {\"gridcolor\": \"white\", \"linecolor\": \"white\", \"ticks\": \"\"}, \"bgcolor\": \"#E5ECF6\", \"radialaxis\": {\"gridcolor\": \"white\", \"linecolor\": \"white\", \"ticks\": \"\"}}, \"scene\": {\"xaxis\": {\"backgroundcolor\": \"#E5ECF6\", \"gridcolor\": \"white\", \"gridwidth\": 2, \"linecolor\": \"white\", \"showbackground\": true, \"ticks\": \"\", \"zerolinecolor\": \"white\"}, \"yaxis\": {\"backgroundcolor\": \"#E5ECF6\", \"gridcolor\": \"white\", \"gridwidth\": 2, \"linecolor\": \"white\", \"showbackground\": true, \"ticks\": \"\", \"zerolinecolor\": \"white\"}, \"zaxis\": {\"backgroundcolor\": \"#E5ECF6\", \"gridcolor\": \"white\", \"gridwidth\": 2, \"linecolor\": \"white\", \"showbackground\": true, \"ticks\": \"\", \"zerolinecolor\": \"white\"}}, \"shapedefaults\": {\"line\": {\"color\": \"#2a3f5f\"}}, \"ternary\": {\"aaxis\": {\"gridcolor\": \"white\", \"linecolor\": \"white\", \"ticks\": \"\"}, \"baxis\": {\"gridcolor\": \"white\", \"linecolor\": \"white\", \"ticks\": \"\"}, \"bgcolor\": \"#E5ECF6\", \"caxis\": {\"gridcolor\": \"white\", \"linecolor\": \"white\", \"ticks\": \"\"}}, \"title\": {\"x\": 0.05}, \"xaxis\": {\"automargin\": true, \"gridcolor\": \"white\", \"linecolor\": \"white\", \"ticks\": \"\", \"zerolinecolor\": \"white\", \"zerolinewidth\": 2}, \"yaxis\": {\"automargin\": true, \"gridcolor\": \"white\", \"linecolor\": \"white\", \"ticks\": \"\", \"zerolinecolor\": \"white\", \"zerolinewidth\": 2}}}, \"title\": {\"text\": \"Recall Surface\"}},\n",
       "                        {\"responsive\": true}\n",
       "                    ).then(function(){\n",
       "                            \n",
       "var gd = document.getElementById('2d2d4e55-c439-4fd3-bdff-d0de837c56f4');\n",
       "var x = new MutationObserver(function (mutations, observer) {{\n",
       "        var display = window.getComputedStyle(gd).display;\n",
       "        if (!display || display === 'none') {{\n",
       "            console.log([gd, 'removed!']);\n",
       "            Plotly.purge(gd);\n",
       "            observer.disconnect();\n",
       "        }}\n",
       "}});\n",
       "\n",
       "// Listen for the removal of the full notebook cells\n",
       "var notebookContainer = gd.closest('#notebook-container');\n",
       "if (notebookContainer) {{\n",
       "    x.observe(notebookContainer, {childList: true});\n",
       "}}\n",
       "\n",
       "// Listen for the clearing of the current output cell\n",
       "var outputEl = gd.closest('.output');\n",
       "if (outputEl) {{\n",
       "    x.observe(outputEl, {childList: true});\n",
       "}}\n",
       "\n",
       "                        })\n",
       "                };\n",
       "                });\n",
       "            </script>\n",
       "        </div>"
      ]
     },
     "metadata": {},
     "output_type": "display_data"
    }
   ],
   "source": [
    "fig3 = go.Figure(data=[go.Surface(z=n_est_mod_results['Recall'])])\n",
    "\n",
    "fig3.update_layout(title='Recall Surface', autosize=True,\n",
    "                   scene = dict(xaxis_title='Modelos',\n",
    "                                yaxis_title='Tamaño de N',\n",
    "                                zaxis_title='Recall'))\n",
    "\n",
    "fig3.show()\n",
    "fig3.write_html('Rec_LOG_Dim.html')"
   ]
  }
 ],
 "metadata": {
  "kernelspec": {
   "display_name": "Python 3",
   "language": "python",
   "name": "python3"
  },
  "language_info": {
   "codemirror_mode": {
    "name": "ipython",
    "version": 3
   },
   "file_extension": ".py",
   "mimetype": "text/x-python",
   "name": "python",
   "nbconvert_exporter": "python",
   "pygments_lexer": "ipython3",
   "version": "3.7.3"
  }
 },
 "nbformat": 4,
 "nbformat_minor": 2
}
