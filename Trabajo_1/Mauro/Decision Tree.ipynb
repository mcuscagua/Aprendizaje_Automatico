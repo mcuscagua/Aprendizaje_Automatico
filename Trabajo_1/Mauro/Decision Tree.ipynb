{
 "cells": [
  {
   "cell_type": "code",
   "execution_count": 1,
   "metadata": {},
   "outputs": [],
   "source": [
    "import numpy as np\n",
    "import pandas as pd\n",
    "import itertools as it\n",
    "from sklearn.tree import DecisionTreeClassifier\n",
    "from sklearn.model_selection import train_test_split\n",
    "from sklearn.model_selection import cross_val_score\n",
    "from sklearn.metrics import accuracy_score, confusion_matrix\n",
    "import matplotlib.pylab as plt"
   ]
  },
  {
   "cell_type": "code",
   "execution_count": 2,
   "metadata": {},
   "outputs": [],
   "source": [
    "Data = pd.read_excel('Data.xlsx')\n",
    "Data = Data.set_index('Date')\n",
    "Y = Data['Class']\n",
    "X = Data.drop('Class', axis = 1)"
   ]
  },
  {
   "cell_type": "markdown",
   "metadata": {},
   "source": [
    "### Parameters"
   ]
  },
  {
   "cell_type": "code",
   "execution_count": 3,
   "metadata": {
    "scrolled": true
   },
   "outputs": [],
   "source": [
    "step = 10\n",
    "ts_prop = 0.1\n",
    "va_prop = 0.2"
   ]
  },
  {
   "cell_type": "markdown",
   "metadata": {},
   "source": [
    "https://scikit-learn.org/stable/modules/generated/sklearn.tree.DecisionTreeClassifier.html\n",
    "\n",
    "https://www.oreilly.com/library/view/machine-learning-with/9781789343700/e3b1b1fd-ddff-435e-aff8-44eb01608b91.xhtml"
   ]
  },
  {
   "cell_type": "code",
   "execution_count": 4,
   "metadata": {},
   "outputs": [],
   "source": [
    "Hpyer_Parameters = [[i for i in range(1,5)], # max_depth\n",
    "                    [i for i in range(1,10)]] # min_samples_leaf\n",
    "set_parameters = [i for i in it.product(*Hpyer_Parameters)]\n",
    "k = 5\n",
    "\n",
    "Epsilon = 0.15\n",
    "delta = 0.15"
   ]
  },
  {
   "cell_type": "markdown",
   "metadata": {},
   "source": [
    "### $\\eta$ minimo estimado"
   ]
  },
  {
   "cell_type": "markdown",
   "metadata": {},
   "source": [
    "##### Model exploration"
   ]
  },
  {
   "cell_type": "code",
   "execution_count": 5,
   "metadata": {},
   "outputs": [],
   "source": [
    "X1, X1_ts, Y1, Y1_ts = train_test_split(X, Y, train_size = 1-ts_prop, random_state=19)\n",
    "X1_tr, X1_va, Y1_tr, Y1_va = train_test_split(X1, Y1, train_size = 1-va_prop, random_state=19)\n",
    "\n",
    "n_est = int(np.ceil((1/Epsilon)*(np.log(len(set_parameters)) + np.log(1/delta))))\n",
    "N = range(n_est, round(X1.shape[0]*(1-va_prop)), step)"
   ]
  },
  {
   "cell_type": "code",
   "execution_count": 6,
   "metadata": {},
   "outputs": [],
   "source": [
    "n_est_mod_results = {\n",
    "    'Model': [None for i in range(len(set_parameters))],\n",
    "    'Acc_Test': np.zeros((len(N),len(set_parameters))),\n",
    "    'Acc_Val': np.zeros((len(N),len(set_parameters)))\n",
    "}"
   ]
  },
  {
   "cell_type": "code",
   "execution_count": 7,
   "metadata": {
    "scrolled": true
   },
   "outputs": [],
   "source": [
    "for j in range(len(set_parameters)):\n",
    "    dtc = DecisionTreeClassifier(max_depth = set_parameters[j][0], min_samples_leaf= set_parameters[j][1], random_state=19)\n",
    "    for i in range(len(N)):\n",
    "        np.random.seed(seed = 19)\n",
    "        ind1 = np.random.randint(0, X1_tr.shape[0], N[i])\n",
    "        dtc.fit(X1_tr.iloc[ind1,], Y1_tr[ind1])\n",
    "        ind2 = np.random.randint(0, X1_va.shape[0], int(30*n_est/70))\n",
    "        y_pred = dtc.predict(X1_va.iloc[ind2,])\n",
    "        n_est_mod_results['Acc_Val'][i,j] = accuracy_score(Y1_va[ind2], y_pred)\n",
    "    n_est_mod_results['Model'][j] = dtc\n",
    "    \n",
    "ind_bst = np.where(n_est_mod_results['Acc_Val'] == np.amax(n_est_mod_results['Acc_Val']))[1][0]\n",
    "n_est_mod_results['Best'] = set_parameters[ind_bst]"
   ]
  },
  {
   "cell_type": "markdown",
   "metadata": {},
   "source": [
    "### $\\eta$ minimo optimo"
   ]
  },
  {
   "cell_type": "code",
   "execution_count": 8,
   "metadata": {},
   "outputs": [],
   "source": [
    "X2, X2_ts, Y2, Y2_ts = train_test_split(X, Y, train_size = 1-ts_prop, random_state=19)\n",
    "X2_tr, X2_va, Y2_tr, Y2_va = train_test_split(X2, Y2, train_size = 1-va_prop, random_state=19)\n",
    "\n",
    "n_opt = int((np.log(2)/(2*Epsilon**2))*((2**k - 1)*(1 + np.log2(X.shape[1])) + 1 + np.log(delta**(-1))))\n",
    "N_opt = range(n_est, round(X1.shape[0]*(1-va_prop)), step)"
   ]
  },
  {
   "cell_type": "code",
   "execution_count": 9,
   "metadata": {},
   "outputs": [],
   "source": [
    "n_opt_mod_results = {\n",
    "    'Model': [None for i in range(len(set_parameters))],\n",
    "    'Acc_Test': np.zeros((len(N_opt),len(set_parameters))),\n",
    "    'Acc_Val': np.zeros((len(N_opt),len(set_parameters)))\n",
    "}"
   ]
  },
  {
   "cell_type": "code",
   "execution_count": 10,
   "metadata": {},
   "outputs": [],
   "source": [
    "for j in range(len(set_parameters)):\n",
    "    dtc = DecisionTreeClassifier(max_depth = set_parameters[j][0], min_samples_leaf= set_parameters[j][1], random_state=19)\n",
    "    for i in range(len(N_opt)):\n",
    "        np.random.seed(seed = 19)\n",
    "        ind1 = np.random.randint(0, X1_tr.shape[0], N[i])\n",
    "        dtc.fit(X1_tr.iloc[ind1,], Y1_tr[ind1])\n",
    "        ind2 = np.random.randint(0, X1_va.shape[0], int(30*n_est/70))\n",
    "        y_pred = dtc.predict(X1_va.iloc[ind2,])\n",
    "        n_opt_mod_results['Acc_Val'][i,j] = accuracy_score(Y1_va[ind2], y_pred)\n",
    "    n_opt_mod_results['Model'][j] = dtc\n",
    "    \n",
    "ind_bst = np.where(n_opt_mod_results['Acc_Val'] == np.amax(n_opt_mod_results['Acc_Val']))[1][0]\n",
    "n_opt_mod_results['Best'] = set_parameters[ind_bst]"
   ]
  }
 ],
 "metadata": {
  "kernelspec": {
   "display_name": "Python 3",
   "language": "python",
   "name": "python3"
  },
  "language_info": {
   "codemirror_mode": {
    "name": "ipython",
    "version": 3
   },
   "file_extension": ".py",
   "mimetype": "text/x-python",
   "name": "python",
   "nbconvert_exporter": "python",
   "pygments_lexer": "ipython3",
   "version": "3.7.3"
  }
 },
 "nbformat": 4,
 "nbformat_minor": 2
}
