{
 "cells": [
  {
   "cell_type": "code",
   "execution_count": 1,
   "metadata": {},
   "outputs": [],
   "source": [
    "import numpy as np\n",
    "import pandas as pd\n",
    "import itertools as it\n",
    "from sklearn.tree import DecisionTreeClassifier\n",
    "from sklearn.model_selection import train_test_split\n",
    "from sklearn.model_selection import cross_val_score\n",
    "from sklearn.metrics import accuracy_score, confusion_matrix\n",
    "import matplotlib.pylab as plt"
   ]
  },
  {
   "cell_type": "code",
   "execution_count": 2,
   "metadata": {},
   "outputs": [],
   "source": [
    "Data = pd.read_excel('Data.xlsx')\n",
    "Data = Data.set_index('Date')\n",
    "Y = Data['Class']\n",
    "X = Data.drop('Class', axis = 1)"
   ]
  },
  {
   "cell_type": "markdown",
   "metadata": {},
   "source": [
    "### Parameters"
   ]
  },
  {
   "cell_type": "code",
   "execution_count": 3,
   "metadata": {},
   "outputs": [],
   "source": [
    "step = 10\n",
    "ts_prop = 0.1\n",
    "va_prop = 0.2"
   ]
  },
  {
   "cell_type": "markdown",
   "metadata": {},
   "source": [
    "https://scikit-learn.org/stable/modules/generated/sklearn.tree.DecisionTreeClassifier.html\n",
    "\n",
    "https://www.oreilly.com/library/view/machine-learning-with/9781789343700/e3b1b1fd-ddff-435e-aff8-44eb01608b91.xhtml"
   ]
  },
  {
   "cell_type": "code",
   "execution_count": 13,
   "metadata": {},
   "outputs": [],
   "source": [
    "Hpyer_Parameters = [[i for i in range(1,30)], # max_depth\n",
    "                    [i for i in range(1,4)]] # min_samples_leaf\n",
    "set_parameters = [i for i in it.product(*Hpyer_Parameters)]\n",
    "k = 5\n",
    "\n",
    "Epsilon = 0.15\n",
    "delta = 0.15\n",
    "\n",
    "n_est = int(np.ceil((1/Epsilon)*(np.log(len(set_parameters)) + np.log(1/delta))))\n",
    "n_opt = (np.log(2)/(2*Epsilon**2))*((2**k - 1)*(1 + np.log2(X.shape[1])) + 1 + np.log(delta**(-1)))"
   ]
  },
  {
   "cell_type": "code",
   "execution_count": 6,
   "metadata": {},
   "outputs": [
    {
     "data": {
      "text/plain": [
       "58"
      ]
     },
     "execution_count": 6,
     "metadata": {},
     "output_type": "execute_result"
    }
   ],
   "source": [
    "n_est"
   ]
  },
  {
   "cell_type": "code",
   "execution_count": 14,
   "metadata": {},
   "outputs": [
    {
     "data": {
      "text/plain": [
       "116143895919.01358"
      ]
     },
     "execution_count": 14,
     "metadata": {},
     "output_type": "execute_result"
    }
   ],
   "source": [
    "n_opt"
   ]
  },
  {
   "cell_type": "markdown",
   "metadata": {},
   "source": [
    "# REVISAR ESTO DE ARRIBA"
   ]
  },
  {
   "cell_type": "markdown",
   "metadata": {},
   "source": [
    "### $\\eta$ minimo estimado"
   ]
  },
  {
   "cell_type": "markdown",
   "metadata": {},
   "source": [
    "##### Model exploration"
   ]
  },
  {
   "cell_type": "code",
   "execution_count": 5,
   "metadata": {},
   "outputs": [],
   "source": [
    "X1, X1_ts, Y1, Y1_ts = train_test_split(X, Y, train_size = 1-ts_prop, random_state=19)\n",
    "X1_tr, X1_va, Y1_tr, Y1_va = train_test_split(X1, Y1, train_size = n_est/X1.shape[0], random_state=19)\n",
    "\n",
    "N = range(n_est, round(X1.shape[0]*(1-va_prop)), step)"
   ]
  },
  {
   "cell_type": "code",
   "execution_count": 6,
   "metadata": {},
   "outputs": [],
   "source": [
    "n_est_mod_results = {\n",
    "    'Model': [None for i in range(len(set_parameters))],\n",
    "    'Acc_Test': np.zeros(len(set_parameters)),\n",
    "    'Acc_Val': np.zeros(len(set_parameters)),\n",
    "    'Conf_Mat': np.zeros((len(set_parameters),3,3))\n",
    "}\n",
    "n_est_effect = {\n",
    "    'Accuracy': np.zeros(len(N)),\n",
    "    'Conf_Mat': np.zeros((len(N),3,3))\n",
    "}"
   ]
  },
  {
   "cell_type": "code",
   "execution_count": 7,
   "metadata": {
    "scrolled": true
   },
   "outputs": [],
   "source": [
    "for i in range(len(set_parameters)):\n",
    "    dtc = DecisionTreeClassifier(max_depth = set_parameters[i][0], min_samples_leaf= set_parameters[i][1], random_state=19)\n",
    "    dtc.fit(X1_tr, Y1_tr)\n",
    "    y_pred = dtc.predict(X1_va)\n",
    "    n_est_mod_results['Model'][i] = dtc\n",
    "    n_est_mod_results['Acc_Val'][i] = accuracy_score(Y1_va, y_pred)\n",
    "    n_est_mod_results['Conf_Mat'][i,:,:] = confusion_matrix(Y1_va, y_pred)\n",
    "    \n",
    "ind_bst = np.where(n_est_mod_results['Acc_Val'] == np.amax(n_est_mod_results['Acc_Val']))[0][0]\n",
    "n_est_mod_results['Best'] = set_parameters[ind_bst]"
   ]
  },
  {
   "cell_type": "markdown",
   "metadata": {},
   "source": [
    "##### Accuracy vs traning size"
   ]
  },
  {
   "cell_type": "code",
   "execution_count": 8,
   "metadata": {},
   "outputs": [],
   "source": [
    "best_dtc = DecisionTreeClassifier(max_depth = set_parameters[ind_bst][0],\n",
    "                                  min_samples_leaf= set_parameters[ind_bst][1], random_state=19)\n",
    "for i in range(len(N)):\n",
    "    Xi_tr, Xi_va, Yi_tr, Yi_va = train_test_split(X1, Y1, train_size = N[i]/X1.shape[0], random_state=19)\n",
    "    best_dtc.fit(Xi_tr, Yi_tr)\n",
    "    y_pred = dtc.predict(Xi_va)\n",
    "    n_est_effect['Accuracy'][i] = accuracy_score(Yi_va, y_pred)\n",
    "    n_est_effect['Conf_Mat'][i,:,:] = confusion_matrix(Yi_va, y_pred)"
   ]
  },
  {
   "cell_type": "code",
   "execution_count": 9,
   "metadata": {},
   "outputs": [
    {
     "data": {
      "text/plain": [
       "[<matplotlib.lines.Line2D at 0x2383e805f98>]"
      ]
     },
     "execution_count": 9,
     "metadata": {},
     "output_type": "execute_result"
    },
    {
     "data": {
      "image/png": "[encoded data removed]",
      "text/plain": [
       "<Figure size 432x288 with 1 Axes>"
      ]
     },
     "metadata": {
      "needs_background": "light"
     },
     "output_type": "display_data"
    }
   ],
   "source": [
    "plt.plot(N,n_est_effect['Accuracy'])"
   ]
  },
  {
   "cell_type": "markdown",
   "metadata": {},
   "source": [
    "### $\\eta$ minimo optimo"
   ]
  },
  {
   "cell_type": "code",
   "execution_count": 10,
   "metadata": {},
   "outputs": [],
   "source": [
    "X2_tr, X2_ts, Y2_tr, Y2_ts = train_test_split(X, Y, train_size = n_est/X.shape[0], random_state=19)\n",
    "X2_va, X2_ts, Y2_va, Y2_ts = train_test_split(X2_ts, Y2_ts, train_size = 0.5, random_state=19)\n",
    "\n",
    "N_opt = range(n_opt, round(X1.shape[0]*(1-va_prop)), step)"
   ]
  },
  {
   "cell_type": "code",
   "execution_count": 11,
   "metadata": {},
   "outputs": [],
   "source": [
    "n_opt_mod_results = {\n",
    "    'Model': [None for i in range(len(set_parameters))],\n",
    "    'Acc_Test': np.zeros(len(set_parameters)),\n",
    "    'Acc_Val': np.zeros(len(set_parameters)),\n",
    "    'Conf_Mat': np.zeros((len(set_parameters),3,3))\n",
    "}\n",
    "n_opt_effect = {\n",
    "    'Accuracy': np.zeros(len(N_opt)),\n",
    "    'Conf_Mat': np.zeros((len(N_opt),3,3))\n",
    "}"
   ]
  },
  {
   "cell_type": "code",
   "execution_count": 12,
   "metadata": {},
   "outputs": [],
   "source": [
    "for i in range(len(set_parameters)):\n",
    "    dtc = DecisionTreeClassifier(max_depth = set_parameters[i][0], min_samples_leaf= set_parameters[i][1], random_state=19)\n",
    "    dtc.fit(X2_tr, Y2_tr)\n",
    "    y_pred = dtc.predict(X2_va)\n",
    "    n_opt_mod_results['Model'][i] = dtc\n",
    "    n_opt_mod_results['Acc_Val'][i] = accuracy_score(Y2_va, y_pred)\n",
    "    n_opt_mod_results['Conf_Mat'][i,:,:] = confusion_matrix(Y2_va, y_pred)\n",
    "    \n",
    "ind_bst = np.where(n_opt_mod_results['Acc_Val'] == np.amax(n_opt_mod_results['Acc_Val']))[0][0]\n",
    "n_opt_mod_results['Best'] = set_parameters[ind_bst]"
   ]
  },
  {
   "cell_type": "markdown",
   "metadata": {},
   "source": [
    "##### Accuracy vs traning size"
   ]
  },
  {
   "cell_type": "code",
   "execution_count": 13,
   "metadata": {},
   "outputs": [],
   "source": [
    "best_dtc = DecisionTreeClassifier(max_depth = set_parameters[ind_bst][0],\n",
    "                                  min_samples_leaf= set_parameters[ind_bst][1], random_state=19)\n",
    "for i in range(len(N_opt)):\n",
    "    Xi_tr, Xi_va, Yi_tr, Yi_va = train_test_split(X1, Y1, train_size = N[i]/X1.shape[0], random_state=19)\n",
    "    best_dtc.fit(Xi_tr, Yi_tr)\n",
    "    y_pred = dtc.predict(Xi_va)\n",
    "    n_opt_effect['Accuracy'][i] = accuracy_score(Yi_va, y_pred)\n",
    "    n_opt_effect['Conf_Mat'][i,:,:] = confusion_matrix(Yi_va, y_pred)"
   ]
  },
  {
   "cell_type": "code",
   "execution_count": 14,
   "metadata": {},
   "outputs": [
    {
     "data": {
      "text/plain": [
       "[<matplotlib.lines.Line2D at 0x2384096b390>]"
      ]
     },
     "execution_count": 14,
     "metadata": {},
     "output_type": "execute_result"
    },
    {
     "data": {
      "image/png": "[encoded data removed]",
      "text/plain": [
       "<Figure size 432x288 with 1 Axes>"
      ]
     },
     "metadata": {
      "needs_background": "light"
     },
     "output_type": "display_data"
    }
   ],
   "source": [
    "plt.plot(N,n_opt_effect['Accuracy'])"
   ]
  }
 ],
 "metadata": {
  "kernelspec": {
   "display_name": "Python 3",
   "language": "python",
   "name": "python3"
  },
  "language_info": {
   "codemirror_mode": {
    "name": "ipython",
    "version": 3
   },
   "file_extension": ".py",
   "mimetype": "text/x-python",
   "name": "python",
   "nbconvert_exporter": "python",
   "pygments_lexer": "ipython3",
   "version": "3.7.3"
  }
 },
 "nbformat": 4,
 "nbformat_minor": 2
}
