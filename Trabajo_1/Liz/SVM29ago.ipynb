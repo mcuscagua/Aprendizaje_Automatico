{
 "cells": [
  {
   "cell_type": "markdown",
   "metadata": {},
   "source": [
    "# Modelo Support Vector Machine\n",
    " Liceth Mosquera"
   ]
  },
  {
   "cell_type": "markdown",
   "metadata": {},
   "source": [
    "## Librerias necesarias"
   ]
  },
  {
   "cell_type": "code",
   "execution_count": 1,
   "metadata": {},
   "outputs": [],
   "source": [
    "import numpy as np\n",
    "import pandas as pd\n",
    "import itertools as it\n",
    "import matplotlib.pyplot as plt \n",
    "import seaborn as sns\n",
    "\n",
    "from sklearn.datasets import make_classification\n",
    "from sklearn.ensemble import RandomForestClassifier\n",
    "from sklearn import model_selection\n",
    "\n",
    "from scipy import interp\n",
    "\n",
    "\n",
    "from sklearn.linear_model import LinearRegression,LogisticRegression,LogisticRegressionCV\n",
    "from sklearn import metrics,model_selection,svm\n",
    "from sklearn.metrics import roc_curve, roc_auc_score,auc,classification_report,accuracy_score,precision_score,recall_score\n",
    "from sklearn.metrics import f1_score,precision_recall_fscore_support,precision_recall_curve,confusion_matrix\n",
    "from scipy import interp\n",
    "from sklearn.model_selection import train_test_split,cross_val_score,GridSearchCV # Grid Search\n",
    "\n",
    "from sklearn.preprocessing import label_binarize\n",
    "from sklearn.multiclass import OneVsRestClassifier\n",
    "from itertools import cycle\n",
    "\n",
    "from sklearn.preprocessing import StandardScaler\n",
    "from sklearn.svm import SVC,LinearSVC# prepare configuration for cross validation test harness\n",
    "from sklearn.tree import DecisionTreeClassifier\n",
    "\n",
    "from sklearn.svm import SVC# prepare configuration for cross validation test harness"
   ]
  },
  {
   "cell_type": "markdown",
   "metadata": {},
   "source": [
    "### Explorando los datos"
   ]
  },
  {
   "cell_type": "code",
   "execution_count": 2,
   "metadata": {},
   "outputs": [
    {
     "data": {
      "text/plain": [
       "Class\n",
       "-1    1111\n",
       " 0    2001\n",
       " 1     963\n",
       "dtype: int64"
      ]
     },
     "execution_count": 2,
     "metadata": {},
     "output_type": "execute_result"
    }
   ],
   "source": [
    "Data = pd.read_excel('Data.xlsx')\n",
    "Data = Data.set_index('Date')\n",
    "df1 = Data.dropna(axis=0,how='any')\n",
    "Y = df1['Class']\n",
    "X = df1.drop('Class', axis = 1)\n",
    "df1.groupby('Class').size()"
   ]
  },
  {
   "cell_type": "markdown",
   "metadata": {},
   "source": [
    "###  1. Error real deseado $\\epsilon$  y 2. Error de entrenamiento deseado $\\delta$ .Parametros"
   ]
  },
  {
   "cell_type": "code",
   "execution_count": 3,
   "metadata": {},
   "outputs": [],
   "source": [
    "Epsilon = 0.2 #error real\n",
    "delta = 0.1  #error de entrenamiento\n",
    "h_aprox= len(list(df1))"
   ]
  },
  {
   "cell_type": "markdown",
   "metadata": {},
   "source": [
    "## 3. Garantia probable de aprendizaje"
   ]
  },
  {
   "cell_type": "code",
   "execution_count": 4,
   "metadata": {},
   "outputs": [
    {
     "data": {
      "text/plain": [
       "33"
      ]
     },
     "execution_count": 4,
     "metadata": {},
     "output_type": "execute_result"
    }
   ],
   "source": [
    "n_est = int(np.ceil((1/Epsilon)*(np.log(h_aprox) + np.log(1/delta))))\n",
    "n_est"
   ]
  },
  {
   "cell_type": "markdown",
   "metadata": {},
   "source": [
    "## 4. Tamaño óptimo de la muestra"
   ]
  },
  {
   "cell_type": "markdown",
   "metadata": {},
   "source": [
    "Igual al tamaño de la garantía probable de apredizaje"
   ]
  },
  {
   "cell_type": "code",
   "execution_count": 5,
   "metadata": {},
   "outputs": [
    {
     "data": {
      "text/plain": [
       "SVC(C=1.0, cache_size=200, class_weight=None, coef0=0.0,\n",
       "    decision_function_shape='ovr', degree=3, gamma='scale', kernel='rbf',\n",
       "    max_iter=-1, probability=False, random_state=None, shrinking=True,\n",
       "    tol=0.001, verbose=False)"
      ]
     },
     "execution_count": 5,
     "metadata": {},
     "output_type": "execute_result"
    }
   ],
   "source": [
    "classifier = svm.SVC(kernel=\"rbf\",gamma='scale')\n",
    "classifier.fit(X,np.ravel(Y))"
   ]
  },
  {
   "cell_type": "markdown",
   "metadata": {},
   "source": [
    "Modelo 2 separando 70% para entrenamiento"
   ]
  },
  {
   "cell_type": "markdown",
   "metadata": {},
   "source": [
    "## 5. Dividir el conjunto de muestra en: entrenamiento, validación y prueba."
   ]
  },
  {
   "cell_type": "markdown",
   "metadata": {},
   "source": [
    "Dividiendo las clases"
   ]
  },
  {
   "cell_type": "code",
   "execution_count": 6,
   "metadata": {},
   "outputs": [
    {
     "data": {
      "text/plain": [
       "67"
      ]
     },
     "execution_count": 6,
     "metadata": {},
     "output_type": "execute_result"
    }
   ],
   "source": [
    "# Binarize the output\n",
    "y = label_binarize(Y, classes=[-1, 0, 1])\n",
    "n_classes = y.shape[1]\n",
    "n_classes\n",
    "X.shape[1]"
   ]
  },
  {
   "cell_type": "code",
   "execution_count": 7,
   "metadata": {},
   "outputs": [],
   "source": [
    "Xb_tr, X2_o, Yb_tr, y2_o = train_test_split(X, y,test_size=0.4,random_state=19)\n",
    "Xb_va2, Xb_test2, Yb_va2, Yb_test2 = train_test_split(X2_o, y2_o, test_size=0.5, train_size = 0.5, random_state=19)  "
   ]
  },
  {
   "cell_type": "markdown",
   "metadata": {},
   "source": [
    "## 8.\tEntrenar el modelo con los datos en altas dimensiones (espacio original)\n",
    "SVM con Kernel rbf"
   ]
  },
  {
   "cell_type": "code",
   "execution_count": 8,
   "metadata": {},
   "outputs": [],
   "source": [
    "#Import svm model\n",
    "from sklearn import svm\n",
    "#Create a svm Classifier\n",
    "clf = svm.SVC(kernel='rbf',gamma='scale') # Linear Kernel"
   ]
  },
  {
   "cell_type": "code",
   "execution_count": 9,
   "metadata": {},
   "outputs": [],
   "source": [
    "clf = OneVsRestClassifier(svm.SVC(kernel='rbf',gamma='scale', probability=True))\n",
    "y_score = clf.fit(Xb_tr, Yb_tr).decision_function(X2_o)\n",
    "y_pred = clf.predict(X2_o)\n",
    "Y_proba = clf.predict_proba(X2_o)\n",
    "score=clf.score(X2_o, y_pred)"
   ]
  },
  {
   "cell_type": "markdown",
   "metadata": {},
   "source": [
    "https://stackoverflow.com/questions/54589669/confusion-matrix-error-classification-metrics-cant-handle-a-mix-of-multilabel\n",
    "Conf_Mat = multilabel_confusion_matrix(y_test,Y_pred,labels=[-1,0,1])"
   ]
  },
  {
   "cell_type": "markdown",
   "metadata": {},
   "source": [
    "https://stackoverflow.com/questions/31421413/how-to-compute-precision-recall-accuracy-and-f1-score-for-the-multiclass-case"
   ]
  },
  {
   "cell_type": "code",
   "execution_count": 10,
   "metadata": {},
   "outputs": [
    {
     "name": "stdout",
     "output_type": "stream",
     "text": [
      "Accuracy: 0.3177914110429448\n",
      "F1 score: 0.24005614642098227\n",
      "Recall: 0.21862871799442454\n",
      "Precision: 0.44241108354011577\n",
      "\n",
      " clasification report:\n",
      "               precision    recall  f1-score   support\n",
      "\n",
      "           0       0.65      0.04      0.08       413\n",
      "           1       0.67      0.61      0.64       815\n",
      "           2       0.00      0.00      0.00       402\n",
      "\n",
      "   micro avg       0.67      0.32      0.43      1630\n",
      "   macro avg       0.44      0.22      0.24      1630\n",
      "weighted avg       0.50      0.32      0.34      1630\n",
      " samples avg       0.32      0.32      0.32      1630\n",
      "\n"
     ]
    },
    {
     "name": "stderr",
     "output_type": "stream",
     "text": [
      "C:\\Users\\lmosquera\\AppData\\Local\\Continuum\\anaconda3\\lib\\site-packages\\sklearn\\metrics\\classification.py:1437: UndefinedMetricWarning: F-score is ill-defined and being set to 0.0 in labels with no predicted samples.\n",
      "  'precision', 'predicted', average, warn_for)\n",
      "C:\\Users\\lmosquera\\AppData\\Local\\Continuum\\anaconda3\\lib\\site-packages\\sklearn\\metrics\\classification.py:1437: UndefinedMetricWarning: Precision is ill-defined and being set to 0.0 in labels with no predicted samples.\n",
      "  'precision', 'predicted', average, warn_for)\n",
      "C:\\Users\\lmosquera\\AppData\\Local\\Continuum\\anaconda3\\lib\\site-packages\\sklearn\\metrics\\classification.py:1437: UndefinedMetricWarning: Precision and F-score are ill-defined and being set to 0.0 in labels with no predicted samples.\n",
      "  'precision', 'predicted', average, warn_for)\n",
      "C:\\Users\\lmosquera\\AppData\\Local\\Continuum\\anaconda3\\lib\\site-packages\\sklearn\\metrics\\classification.py:1437: UndefinedMetricWarning: Precision and F-score are ill-defined and being set to 0.0 in labels with no predicted samples.\n",
      "  'precision', 'predicted', average, warn_for)\n",
      "C:\\Users\\lmosquera\\AppData\\Local\\Continuum\\anaconda3\\lib\\site-packages\\sklearn\\metrics\\classification.py:1437: UndefinedMetricWarning: Precision and F-score are ill-defined and being set to 0.0 in labels with no predicted samples.\n",
      "  'precision', 'predicted', average, warn_for)\n",
      "C:\\Users\\lmosquera\\AppData\\Local\\Continuum\\anaconda3\\lib\\site-packages\\sklearn\\metrics\\classification.py:1437: UndefinedMetricWarning: Precision and F-score are ill-defined and being set to 0.0 in samples with no predicted labels.\n",
      "  'precision', 'predicted', average, warn_for)\n"
     ]
    }
   ],
   "source": [
    "print ('Accuracy:', accuracy_score(y2_o, y_pred))\n",
    "print ('F1 score:', f1_score(y2_o, y_pred, average='macro'))\n",
    "print ('Recall:', recall_score(y2_o, y_pred, average='macro'))\n",
    "print ('Precision:', precision_score(y2_o, y_pred, average='macro'))\n",
    "print ('\\n clasification report:\\n', classification_report(y2_o,y_pred))"
   ]
  },
  {
   "cell_type": "code",
   "execution_count": 11,
   "metadata": {},
   "outputs": [
    {
     "data": {
      "image/png": "[encoded data removed]",
      "text/plain": [
       "<Figure size 432x288 with 1 Axes>"
      ]
     },
     "metadata": {
      "needs_background": "light"
     },
     "output_type": "display_data"
    }
   ],
   "source": [
    "# precision recall curve\n",
    "precision = dict()\n",
    "recall = dict()\n",
    "for i in range(n_classes):\n",
    "    precision[i], recall[i], _ = precision_recall_curve(y2_o[:, i],y_score[:, i])\n",
    "    plt.plot(recall[i], precision[i], lw=2, label='class {}'.format(i))\n",
    "\n",
    "plt.xlabel(\"recall\")\n",
    "plt.ylabel(\"precision\")\n",
    "plt.legend(loc=\"best\")\n",
    "plt.title(\"precision vs. recall curve SMV\")\n",
    "plt.show()"
   ]
  },
  {
   "cell_type": "markdown",
   "metadata": {},
   "source": [
    "https://www.programcreek.com/python/example/94869/sklearn.multiclass.OneVsRestClassifier"
   ]
  },
  {
   "cell_type": "code",
   "execution_count": 12,
   "metadata": {},
   "outputs": [],
   "source": [
    "# Compute ROC curve and ROC area for each class\n",
    "fpr = dict()\n",
    "tpr = dict()\n",
    "roc_auc = dict()\n",
    "for i in range(n_classes):\n",
    "    fpr[i], tpr[i], _ = roc_curve(y2_o[:, i], y_score[:, i])\n",
    "    roc_auc[i] = auc(fpr[i], tpr[i])\n",
    "\n",
    "# Compute micro-average ROC curve and ROC area\n",
    "fpr[\"micro\"], tpr[\"micro\"], _ = roc_curve(y2_o.ravel(), y_score.ravel())\n",
    "roc_auc[\"micro\"] = auc(fpr[\"micro\"], tpr[\"micro\"])"
   ]
  },
  {
   "cell_type": "code",
   "execution_count": 13,
   "metadata": {},
   "outputs": [
    {
     "data": {
      "image/png": "[encoded data removed]",
      "text/plain": [
       "<Figure size 432x288 with 1 Axes>"
      ]
     },
     "metadata": {
      "needs_background": "light"
     },
     "output_type": "display_data"
    }
   ],
   "source": [
    "plt.figure()\n",
    "lw = 2\n",
    "plt.plot(fpr[2], tpr[2], color='darkorange',\n",
    "         lw=lw, label='ROC curve (area = %0.2f)' % roc_auc[2])\n",
    "plt.plot([0, 1], [0, 1], color='navy', lw=lw, linestyle='--')\n",
    "plt.xlim([0.0, 1.0])\n",
    "plt.ylim([0.0, 1.05])\n",
    "plt.xlabel('False Positive Rate')\n",
    "plt.ylabel('True Positive Rate')\n",
    "plt.title('Curva ROC SVM')\n",
    "plt.legend(loc=\"lower right\")\n",
    "plt.show()"
   ]
  },
  {
   "cell_type": "markdown",
   "metadata": {},
   "source": [
    "## Graficar ROC por clases"
   ]
  },
  {
   "cell_type": "code",
   "execution_count": 14,
   "metadata": {},
   "outputs": [
    {
     "data": {
      "image/png": "[encoded data removed]",
      "text/plain": [
       "<Figure size 432x288 with 1 Axes>"
      ]
     },
     "metadata": {
      "needs_background": "light"
     },
     "output_type": "display_data"
    }
   ],
   "source": [
    "#Compute macro-average ROC curve and ROC area\n",
    "\n",
    "# Primero agregamos la tasa de todos los falsos positivos\n",
    "all_fpr = np.unique(np.concatenate([fpr[i] for i in range(n_classes)]))\n",
    "\n",
    "#despues interpolamos todas las curvas ROC en este punto\n",
    "mean_tpr = np.zeros_like(all_fpr)\n",
    "for i in range(n_classes):\n",
    "    mean_tpr += interp(all_fpr, fpr[i], tpr[i])\n",
    "\n",
    "# Finalmente lo promediamos y computamos AUC\n",
    "mean_tpr /= n_classes\n",
    "\n",
    "fpr[\"macro\"] = all_fpr\n",
    "tpr[\"macro\"] = mean_tpr\n",
    "roc_auc[\"macro\"] = auc(fpr[\"macro\"], tpr[\"macro\"])\n",
    "\n",
    "# Plot all ROC curves\n",
    "plt.figure()\n",
    "plt.plot(fpr[\"micro\"], tpr[\"micro\"],\n",
    "         label='micro-average ROC curve (area = {0:0.2f})'\n",
    "               ''.format(roc_auc[\"micro\"]),\n",
    "         color='deeppink', linestyle=':', linewidth=4)\n",
    "\n",
    "plt.plot(fpr[\"macro\"], tpr[\"macro\"],\n",
    "         label='macro-average ROC curve (area = {0:0.2f})'\n",
    "               ''.format(roc_auc[\"macro\"]),\n",
    "         color='navy', linestyle=':', linewidth=4)\n",
    "\n",
    "colors = cycle(['aqua', 'darkorange', 'cornflowerblue'])\n",
    "for i, color in zip(range(n_classes), colors):\n",
    "    plt.plot(fpr[i], tpr[i], color=color, lw=lw,\n",
    "             label='ROC curve of class {0} (area = {1:0.2f})'\n",
    "             ''.format(i, roc_auc[i]))\n",
    "\n",
    "plt.plot([0, 1], [0, 1], 'k--', lw=lw)\n",
    "plt.xlim([0.0, 1.0])\n",
    "plt.ylim([0.0, 1.05])\n",
    "plt.xlabel('False Positive Rate')\n",
    "plt.ylabel('True Positive Rate')\n",
    "plt.title('Curva ROC SVM to multi-class')\n",
    "plt.legend(loc=\"lower right\")\n",
    "plt.show()"
   ]
  },
  {
   "cell_type": "markdown",
   "metadata": {},
   "source": [
    "# Iterando la cantidad de datos"
   ]
  },
  {
   "cell_type": "markdown",
   "metadata": {},
   "source": [
    "https://relopezbriega.github.io/blog/2016/05/29/machine-learning-con-python-sobreajuste/ quitar vf\n",
    "https://stackoverflow.com/questions/51378105/plot-multi-class-roc-curve-for-decisiontreeclassifier\n",
    "https://www.coursera.org/lecture/clasificacion-imagenes/support-vector-machines-svm-cuestiones-practicas-d8ECB"
   ]
  },
  {
   "cell_type": "code",
   "execution_count": 15,
   "metadata": {},
   "outputs": [],
   "source": [
    "step=10\n",
    "Pred=[np.zeros(len(X))]\n",
    "Prob=np.zeros(int((len(X)*0.6)/step))\n",
    "Conf_Mat= np.zeros((int((len(X)*0.6)/step),3,3))\n",
    "accur=np.zeros(int((len(X)*0.6)/step))\n",
    "\n",
    "R_rta=pd.DataFrame(accur,Conf_Mat)\n",
    "R_rta.all()\n",
    "\n",
    "num=list(range(len(accur)))\n",
    "n=n_est\n",
    "N=range(n,round(len(X)*0.6),step)\n",
    "#Conf_Mat\n",
    "precision = dict()\n",
    "recall = dict()\n",
    "average_precision = dict()"
   ]
  },
  {
   "cell_type": "code",
   "execution_count": 16,
   "metadata": {},
   "outputs": [
    {
     "data": {
      "text/plain": [
       "244.5"
      ]
     },
     "execution_count": 16,
     "metadata": {},
     "output_type": "execute_result"
    }
   ],
   "source": [
    "(len(X)*0.6)/step"
   ]
  },
  {
   "cell_type": "markdown",
   "metadata": {},
   "source": [
    "https://machinelearningmastery.com/compare-machine-learning-algorithms-python-scikit-learn/"
   ]
  },
  {
   "cell_type": "markdown",
   "metadata": {},
   "source": [
    "https://www.kaggle.com/s7uff3r/multiple-classifiers-accuracy-tests-roc-curves"
   ]
  },
  {
   "cell_type": "markdown",
   "metadata": {},
   "source": [
    "Prueba aumentando la muestra"
   ]
  },
  {
   "cell_type": "code",
   "execution_count": 17,
   "metadata": {},
   "outputs": [],
   "source": [
    "x_train, x_test, y_train, y_test = train_test_split(X, Y, test_size=0.4,random_state=109) # 60% training and 40% test"
   ]
  },
  {
   "cell_type": "code",
   "execution_count": 18,
   "metadata": {},
   "outputs": [
    {
     "data": {
      "text/plain": [
       "SVC(C=1.0, cache_size=200, class_weight=None, coef0=0.0,\n",
       "    decision_function_shape='ovr', degree=3, gamma='auto_deprecated',\n",
       "    kernel='linear', max_iter=-1, probability=False, random_state=None,\n",
       "    shrinking=True, tol=0.001, verbose=False)"
      ]
     },
     "execution_count": 18,
     "metadata": {},
     "output_type": "execute_result"
    }
   ],
   "source": [
    "clf = svm.SVC(kernel='linear')\n",
    "# Train classifier \n",
    "clf.fit(x_train, y_train)"
   ]
  },
  {
   "cell_type": "code",
   "execution_count": 19,
   "metadata": {},
   "outputs": [],
   "source": [
    "clf =svm.SVC(kernel='linear')#,gamma='scale' decision_function_shape='ovr' LinearSVC(random_state=0, tol=1e-5,multi_class='ovr')\n",
    "\n",
    "n_svm = np.ndarray((len(N),1))#el 1 se cambia por la cantidad de datos en el arreglo\n",
    "\n",
    "for i in range(len(N)):\n",
    "    Xb_tr, Xb_o, Yb_tr, Yb_o = train_test_split(x_train,y_train ,test_size=((N[i]/X.shape[0])*0.3/0.7)\n",
    "                                                ,train_size=N[i]/X.shape[0],random_state=19)  \n",
    "    #Xb_va, Xb_ts, Yb_va, Yb_ts = train_test_split(Xb_o, Yb_o, test_size=0.5, train_size = 0.5, random_state=19)\n",
    "    \n",
    "    #porbando el modelo\n",
    "    y_score = clf.fit(Xb_tr, Yb_tr).decision_function(x_test)\n",
    "    y_pred2= clf.predict(x_test)\n",
    "   # Pred= score(clf,Xb_o, y_score)\n",
    "    n_svm[i]=(clf.score(x_test, y_test)) #  n_svm[i,:]"
   ]
  },
  {
   "cell_type": "code",
   "execution_count": 20,
   "metadata": {},
   "outputs": [
    {
     "data": {
      "text/plain": [
       "array([0.51349693])"
      ]
     },
     "execution_count": 20,
     "metadata": {},
     "output_type": "execute_result"
    }
   ],
   "source": [
    "max(n_svm)"
   ]
  },
  {
   "cell_type": "code",
   "execution_count": 21,
   "metadata": {},
   "outputs": [
    {
     "data": {
      "text/plain": [
       "array([69, 80], dtype=int64)"
      ]
     },
     "execution_count": 21,
     "metadata": {},
     "output_type": "execute_result"
    }
   ],
   "source": [
    "n_bst = np.where(n_svm == np.amax(n_svm))[0]\n",
    "n_bst"
   ]
  },
  {
   "cell_type": "code",
   "execution_count": 22,
   "metadata": {},
   "outputs": [],
   "source": [
    "a = []\n",
    "for i in range(0,242): #len(N)-1\n",
    "    i=n+i*step\n",
    "    a.append(i)\n",
    "#print(a)"
   ]
  },
  {
   "cell_type": "code",
   "execution_count": 23,
   "metadata": {},
   "outputs": [
    {
     "data": {
      "text/plain": [
       "Text(0.5, 0, 'Cantidad datos')"
      ]
     },
     "execution_count": 23,
     "metadata": {},
     "output_type": "execute_result"
    },
    {
     "data": {
      "image/png": "[encoded data removed]",
      "text/plain": [
       "<Figure size 432x288 with 1 Axes>"
      ]
     },
     "metadata": {
      "needs_background": "light"
     },
     "output_type": "display_data"
    }
   ],
   "source": [
    "plt.plot(a,n_svm)\n",
    "plt.title('Accuracy SVM', y=1.1)\n",
    "plt.ylabel('Accuracy')\n",
    "plt.xlabel('Cantidad datos')"
   ]
  },
  {
   "cell_type": "code",
   "execution_count": 24,
   "metadata": {},
   "outputs": [],
   "source": [
    "M_N=n+n_bst[0]*step"
   ]
  },
  {
   "cell_type": "code",
   "execution_count": 25,
   "metadata": {},
   "outputs": [
    {
     "name": "stdout",
     "output_type": "stream",
     "text": [
      "El tamaño de los datos para entrenar con el que se obtiene el mejor modelo es 723\n"
     ]
    }
   ],
   "source": [
    "n_bst\n",
    "print('El tamaño de los datos para entrenar con el que se obtiene el mejor modelo es {0}'.format(M_N))\n"
   ]
  },
  {
   "cell_type": "code",
   "execution_count": 26,
   "metadata": {},
   "outputs": [
    {
     "name": "stdout",
     "output_type": "stream",
     "text": [
      "Fitting 3 folds for each of 24 candidates, totalling 72 fits\n"
     ]
    },
    {
     "name": "stderr",
     "output_type": "stream",
     "text": [
      "C:\\Users\\lmosquera\\AppData\\Local\\Continuum\\anaconda3\\lib\\site-packages\\sklearn\\model_selection\\_split.py:1978: FutureWarning: The default value of cv will change from 3 to 5 in version 0.22. Specify it explicitly to silence this warning.\n",
      "  warnings.warn(CV_WARNING, FutureWarning)\n",
      "[Parallel(n_jobs=1)]: Using backend SequentialBackend with 1 concurrent workers.\n",
      "[Parallel(n_jobs=1)]: Done  72 out of  72 | elapsed:   10.9s finished\n"
     ]
    },
    {
     "data": {
      "text/plain": [
       "GridSearchCV(cv='warn', error_score='raise-deprecating',\n",
       "             estimator=SVC(C=1.0, cache_size=200, class_weight=None, coef0=0.0,\n",
       "                           decision_function_shape='ovr', degree=3,\n",
       "                           gamma='auto_deprecated', kernel='rbf', max_iter=-1,\n",
       "                           probability=False, random_state=None, shrinking=True,\n",
       "                           tol=0.001, verbose=False),\n",
       "             iid='warn', n_jobs=None,\n",
       "             param_grid={'C': [0.1, 1, 10, 100],\n",
       "                         'gamma': [1, 0.1, 0.01, 0.001, 1e-05, 10]},\n",
       "             pre_dispatch='2*n_jobs', refit=True, return_train_score=False,\n",
       "             scoring=None, verbose=1)"
      ]
     },
     "execution_count": 26,
     "metadata": {},
     "output_type": "execute_result"
    }
   ],
   "source": [
    "# Parameter Grid\n",
    "param_grid = {'C': [0.1, 1, 10, 100], 'gamma': [1, 0.1, 0.01, 0.001, 0.00001, 10]}\n",
    " \n",
    "# Make grid search classifier\n",
    "clf_grid = GridSearchCV(svm.SVC(), param_grid, verbose=1)\n",
    "clf_grid.fit(Xb_tr, Yb_tr)"
   ]
  },
  {
   "cell_type": "markdown",
   "metadata": {},
   "source": [
    "# Matriz de confusión"
   ]
  },
  {
   "cell_type": "markdown",
   "metadata": {},
   "source": [
    "https://gtas.unican.es/files/docencia/APS/apuntes/07_svm_kernel.pdf"
   ]
  },
  {
   "cell_type": "markdown",
   "metadata": {},
   "source": [
    "https://scikit-learn.org/stable/auto_examples/calibration/plot_calibration_curve.html#sphx-glr-auto-examples-calibration-plot-calibration-curve-py\n",
    "   ROC para todos los modelos"
   ]
  },
  {
   "cell_type": "code",
   "execution_count": 27,
   "metadata": {},
   "outputs": [],
   "source": [
    "x_train, x_test, y_train, y_test = train_test_split(X, Y, test_size=0.4,random_state=109) # 60% training and 40% test"
   ]
  },
  {
   "cell_type": "code",
   "execution_count": 28,
   "metadata": {},
   "outputs": [],
   "source": [
    "smv=SVC(kernel='linear').fit(x_train, y_train)\n",
    "smv_predicted=smv.predict( x_test)\n",
    "confusion_mc=confusion_matrix(y_test,smv_predicted)\n",
    "df_cm=pd.DataFrame(confusion_mc)"
   ]
  },
  {
   "cell_type": "code",
   "execution_count": 29,
   "metadata": {},
   "outputs": [
    {
     "data": {
      "text/plain": [
       "Text(0.5, 15.0, 'Predicted label')"
      ]
     },
     "execution_count": 29,
     "metadata": {},
     "output_type": "execute_result"
    },
    {
     "data": {
      "image/png": "[encoded data removed]",
      "text/plain": [
       "<Figure size 396x288 with 2 Axes>"
      ]
     },
     "metadata": {
      "needs_background": "light"
     },
     "output_type": "display_data"
    }
   ],
   "source": [
    "import seaborn as sns\n",
    "plt.figure(figsize=(5.5,4))\n",
    "sns.heatmap(df_cm,annot=True)\n",
    "plt.title('SVM Linear Kernel \\nAccuracy: {0:3f}'.format(accuracy_score(y_test,smv_predicted)))\n",
    "plt.ylabel('True label')\n",
    "plt.xlabel('Predicted label')"
   ]
  },
  {
   "cell_type": "code",
   "execution_count": 30,
   "metadata": {},
   "outputs": [
    {
     "name": "stderr",
     "output_type": "stream",
     "text": [
      "C:\\Users\\lmosquera\\AppData\\Local\\Continuum\\anaconda3\\lib\\site-packages\\sklearn\\svm\\base.py:193: FutureWarning: The default value of gamma will change from 'auto' to 'scale' in version 0.22 to account better for unscaled features. Set gamma explicitly to 'auto' or 'scale' to avoid this warning.\n",
      "  \"avoid this warning.\", FutureWarning)\n"
     ]
    }
   ],
   "source": [
    "smv_rbf=SVC(kernel='rbf').fit(x_train, y_train)\n",
    "smv_predicted_rbf=smv.predict( x_test)\n",
    "confusion_mc_rbf=confusion_matrix(y_test,smv_predicted_rbf)\n",
    "df_cm_rbf=pd.DataFrame(confusion_mc_rbf)"
   ]
  },
  {
   "cell_type": "code",
   "execution_count": 31,
   "metadata": {},
   "outputs": [
    {
     "data": {
      "text/plain": [
       "Text(0.5, 15.0, 'Predicted label')"
      ]
     },
     "execution_count": 31,
     "metadata": {},
     "output_type": "execute_result"
    },
    {
     "data": {
      "image/png": "[encoded data removed]",
      "text/plain": [
       "<Figure size 396x288 with 2 Axes>"
      ]
     },
     "metadata": {
      "needs_background": "light"
     },
     "output_type": "display_data"
    }
   ],
   "source": [
    "plt.figure(figsize=(5.5,4))\n",
    "sns.heatmap(df_cm_rbf,annot=True)\n",
    "plt.title('SVM RBF Kernel \\nAccuracy: {0:3f}'.format(accuracy_score(y_test,smv_predicted_rbf)))\n",
    "plt.ylabel('True label')\n",
    "plt.xlabel('Predicted label')"
   ]
  },
  {
   "cell_type": "code",
   "execution_count": 32,
   "metadata": {},
   "outputs": [
    {
     "name": "stdout",
     "output_type": "stream",
     "text": [
      "              precision    recall  f1-score   support\n",
      "\n",
      "          -1       0.39      0.27      0.32       466\n",
      "           0       0.55      0.83      0.66       782\n",
      "           1       0.39      0.13      0.19       382\n",
      "\n",
      "    accuracy                           0.51      1630\n",
      "   macro avg       0.44      0.41      0.39      1630\n",
      "weighted avg       0.47      0.51      0.45      1630\n",
      "\n"
     ]
    }
   ],
   "source": [
    "print(classification_report(y_test,smv_predicted_rbf))"
   ]
  },
  {
   "cell_type": "code",
   "execution_count": 33,
   "metadata": {},
   "outputs": [
    {
     "name": "stdout",
     "output_type": "stream",
     "text": [
      "Micro-averaged precision _lineal=0.51 (treat instances equally)\n",
      "Macro-averaged precision _lineal=0.44 (treat instances equally)\n",
      "Micro-averaged precision RBF=0.51 (treat instances equally)\n",
      "Macro-averaged precision RBF=0.44 (treat instances equally)\n"
     ]
    }
   ],
   "source": [
    "print('Micro-averaged precision _lineal={:.2f} (treat instances equally)'\n",
    "      .format(precision_score(y_test,smv_predicted,average='micro')))\n",
    "print('Macro-averaged precision _lineal={:.2f} (treat instances equally)'\n",
    "      .format(precision_score(y_test,smv_predicted,average='macro')))\n",
    "print('Micro-averaged precision RBF={:.2f} (treat instances equally)'\n",
    "      .format(precision_score(y_test,smv_predicted_rbf,average='micro')))\n",
    "print('Macro-averaged precision RBF={:.2f} (treat instances equally)'\n",
    "      .format(precision_score(y_test,smv_predicted_rbf,average='macro')))"
   ]
  },
  {
   "cell_type": "code",
   "execution_count": 34,
   "metadata": {},
   "outputs": [
    {
     "name": "stdout",
     "output_type": "stream",
     "text": [
      "Micro-averaged precision _lineal=0.51 (treat instances equally)\n",
      "Macro-averaged precision _lineal=0.39 (treat instances equally)\n",
      "Micro-averaged precision RBF=0.51 (treat instances equally)\n",
      "Macro-averaged precision RBF=0.39 (treat instances equally)\n"
     ]
    }
   ],
   "source": [
    "print('Micro-averaged precision _lineal={:.2f} (treat instances equally)'\n",
    "      .format(f1_score(y_test,smv_predicted,average='micro')))\n",
    "print('Macro-averaged precision _lineal={:.2f} (treat instances equally)'\n",
    "      .format(f1_score(y_test,smv_predicted,average='macro')))\n",
    "print('Micro-averaged precision RBF={:.2f} (treat instances equally)'\n",
    "      .format(f1_score(y_test,smv_predicted_rbf,average='micro')))\n",
    "print('Macro-averaged precision RBF={:.2f} (treat instances equally)'\n",
    "      .format(f1_score(y_test,smv_predicted_rbf,average='macro')))"
   ]
  },
  {
   "cell_type": "code",
   "execution_count": 35,
   "metadata": {},
   "outputs": [
    {
     "name": "stdout",
     "output_type": "stream",
     "text": [
      "Cross-Validation (accuracy) [0.53265306 0.52965235 0.54192229 0.54396728 0.55122951]\n"
     ]
    }
   ],
   "source": [
    "print('Cross-Validation (accuracy)', cross_val_score(smv,x_train,y_train,cv=5))\n",
    "#print('Cross-Validation (AUC)', cross_val_score(smv,x_train,y_train,cv=skf,scoring='roc_auc'))\n",
    "#print('Cross-Validation (Recall)', cross_val_score(smv,x_train,y_train,cv=5,scoring='recall'))"
   ]
  }
 ],
 "metadata": {
  "kernelspec": {
   "display_name": "Python 3",
   "language": "python",
   "name": "python3"
  },
  "language_info": {
   "codemirror_mode": {
    "name": "ipython",
    "version": 3
   },
   "file_extension": ".py",
   "mimetype": "text/x-python",
   "name": "python",
   "nbconvert_exporter": "python",
   "pygments_lexer": "ipython3",
   "version": "3.7.1"
  }
 },
 "nbformat": 4,
 "nbformat_minor": 2
}
