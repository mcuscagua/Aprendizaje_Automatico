{
 "cells": [
  {
   "cell_type": "markdown",
   "metadata": {},
   "source": [
    "# Código Ramdom Forest trabajo evaluativo 1 Aprendizaje Automático\n",
    "Liceth Mosquera"
   ]
  },
  {
   "cell_type": "code",
   "execution_count": 1,
   "metadata": {},
   "outputs": [],
   "source": [
    "import numpy as np\n",
    "import pandas as pd\n",
    "import itertools as it\n",
    "# from sklearn.tree import DecisionTreeClassifier as DTC\n",
    "from sklearn.model_selection import train_test_split, RandomizedSearchCV\n",
    "#from Orange.classification import tree\n",
    "# https://stackoverflow.com/questions/56090541/how-to-plot-precision-and-recall-of-multiclass-classifier\n",
    "from sklearn.datasets import fetch_mldata\n",
    "from sklearn.ensemble import RandomForestClassifier\n",
    "from sklearn.multiclass import OneVsRestClassifier\n",
    "from sklearn.model_selection import RandomizedSearchCV\n",
    "from sklearn.metrics import precision_recall_curve, roc_curve\n",
    "from sklearn.preprocessing import label_binarize\n",
    "from pprint import pprint\n",
    "\n",
    "\n",
    "import matplotlib.pyplot as plt\n",
    "#%matplotlib inline"
   ]
  },
  {
   "cell_type": "code",
   "execution_count": 2,
   "metadata": {},
   "outputs": [
    {
     "data": {
      "text/plain": [
       "Class\n",
       "-1    1111\n",
       " 0    2001\n",
       " 1     963\n",
       "dtype: int64"
      ]
     },
     "execution_count": 2,
     "metadata": {},
     "output_type": "execute_result"
    }
   ],
   "source": [
    "Data = pd.read_excel('Data.xlsx')\n",
    "Data = Data.set_index('Date')\n",
    "#Data.isnull().any()\n",
    "#Data = Data.fillna(method='ffill')\n",
    "df1 = Data.dropna(axis=0,how='any')\n",
    "Y = df1['Class']\n",
    "X = df1.drop('Class', axis = 1)\n",
    "df1.groupby('Class').size()"
   ]
  },
  {
   "cell_type": "code",
   "execution_count": 3,
   "metadata": {},
   "outputs": [],
   "source": [
    "Hpyer_Parameters = [[1,2,3,4,5,6,7,8,9],[4,5,6]]\n",
    "set_parameters = [i for i in it.product(*Hpyer_Parameters)]\n",
    "\n",
    "Epsilon = 0.2\n",
    "delta = 0.1"
   ]
  },
  {
   "cell_type": "markdown",
   "metadata": {},
   "source": [
    "## 5. Dividir el conjunto de muestra en: entrenamiento, validación y prueba."
   ]
  },
  {
   "cell_type": "code",
   "execution_count": 4,
   "metadata": {},
   "outputs": [],
   "source": [
    "X1_tr, X1_o, Y1_tr, Y1_o = train_test_split(X, Y, test_size=0.4, train_size = 0.6,random_state=19)\n",
    "X1_va, X1_ts, Y1_va, Y1_ts = train_test_split(X1_o, Y1_o, test_size=0.5,train_size = 0.5, random_state=19)"
   ]
  },
  {
   "cell_type": "code",
   "execution_count": 5,
   "metadata": {},
   "outputs": [
    {
     "name": "stdout",
     "output_type": "stream",
     "text": [
      "Parameters currently in use:\n",
      "\n",
      "{'bootstrap': True,\n",
      " 'class_weight': None,\n",
      " 'criterion': 'gini',\n",
      " 'max_depth': None,\n",
      " 'max_features': 'auto',\n",
      " 'max_leaf_nodes': None,\n",
      " 'min_impurity_decrease': 0.0,\n",
      " 'min_impurity_split': None,\n",
      " 'min_samples_leaf': 1,\n",
      " 'min_samples_split': 2,\n",
      " 'min_weight_fraction_leaf': 0.0,\n",
      " 'n_estimators': 'warn',\n",
      " 'n_jobs': None,\n",
      " 'oob_score': False,\n",
      " 'random_state': 42,\n",
      " 'verbose': 0,\n",
      " 'warm_start': False}\n"
     ]
    }
   ],
   "source": [
    "rf = RandomForestClassifier(random_state = 42)\n",
    "# Look at parameters used by our current forest\n",
    "print('Parameters currently in use:\\n')\n",
    "pprint(rf.get_params())"
   ]
  },
  {
   "cell_type": "code",
   "execution_count": 6,
   "metadata": {},
   "outputs": [
    {
     "name": "stdout",
     "output_type": "stream",
     "text": [
      "{'bootstrap': [True, False],\n",
      " 'max_depth': [10, 20, 30, 40, 50, 60, 70, 80, 90, 100, 110, None],\n",
      " 'max_features': ['auto', 'sqrt'],\n",
      " 'min_samples_leaf': [1, 2, 4],\n",
      " 'min_samples_split': [2, 5, 10],\n",
      " 'n_estimators': [200, 400, 600, 800, 1000, 1200, 1400, 1600, 1800, 2000]}\n"
     ]
    }
   ],
   "source": [
    "# Number of trees in random forest\n",
    "n_estimators = [int(x) for x in np.linspace(start = 200, stop = 2000, num = 10)]\n",
    "# Number of features to consider at every split\n",
    "max_features = ['auto', 'sqrt']\n",
    "# Maximum number of levels in tree\n",
    "max_depth = [int(x) for x in np.linspace(10, 110, num = 11)]\n",
    "max_depth.append(None)\n",
    "# Minimum number of samples required to split a node\n",
    "min_samples_split = [2, 5, 10]\n",
    "# Minimum number of samples required at each leaf node\n",
    "min_samples_leaf = [1, 2, 4]\n",
    "# Method of selecting samples for training each tree\n",
    "bootstrap = [True, False]\n",
    "# Create the random grid\n",
    "random_grid = {'n_estimators': n_estimators,\n",
    "               'max_features': max_features,\n",
    "               'max_depth': max_depth,\n",
    "               'min_samples_split': min_samples_split,\n",
    "               'min_samples_leaf': min_samples_leaf,\n",
    "               'bootstrap': bootstrap}\n",
    "pprint(random_grid)"
   ]
  },
  {
   "cell_type": "code",
   "execution_count": 7,
   "metadata": {},
   "outputs": [
    {
     "name": "stdout",
     "output_type": "stream",
     "text": [
      "Fitting 3 folds for each of 100 candidates, totalling 300 fits\n"
     ]
    },
    {
     "name": "stderr",
     "output_type": "stream",
     "text": [
      "[Parallel(n_jobs=-1)]: Using backend LokyBackend with 8 concurrent workers.\n",
      "[Parallel(n_jobs=-1)]: Done  25 tasks      | elapsed:  2.1min\n",
      "[Parallel(n_jobs=-1)]: Done 146 tasks      | elapsed:  9.6min\n",
      "[Parallel(n_jobs=-1)]: Done 300 out of 300 | elapsed: 18.8min finished\n"
     ]
    },
    {
     "name": "stdout",
     "output_type": "stream",
     "text": [
      "Fitting 3 folds for each of 100 candidates, totalling 300 fits\n"
     ]
    },
    {
     "name": "stderr",
     "output_type": "stream",
     "text": [
      "[Parallel(n_jobs=-1)]: Using backend LokyBackend with 8 concurrent workers.\n",
      "[Parallel(n_jobs=-1)]: Done  25 tasks      | elapsed:  1.8min\n",
      "[Parallel(n_jobs=-1)]: Done 146 tasks      | elapsed:  9.1min\n",
      "[Parallel(n_jobs=-1)]: Done 300 out of 300 | elapsed: 18.1min finished\n"
     ]
    },
    {
     "name": "stdout",
     "output_type": "stream",
     "text": [
      "Fitting 3 folds for each of 100 candidates, totalling 300 fits\n"
     ]
    },
    {
     "name": "stderr",
     "output_type": "stream",
     "text": [
      "[Parallel(n_jobs=-1)]: Using backend LokyBackend with 8 concurrent workers.\n",
      "[Parallel(n_jobs=-1)]: Done  25 tasks      | elapsed:  1.7min\n",
      "[Parallel(n_jobs=-1)]: Done 146 tasks      | elapsed:  9.2min\n",
      "[Parallel(n_jobs=-1)]: Done 300 out of 300 | elapsed: 18.8min finished\n"
     ]
    },
    {
     "data": {
      "text/plain": [
       "OneVsRestClassifier(estimator=RandomizedSearchCV(cv=3,\n",
       "                                                 error_score='raise-deprecating',\n",
       "                                                 estimator=RandomForestClassifier(bootstrap=True,\n",
       "                                                                                  class_weight=None,\n",
       "                                                                                  criterion='gini',\n",
       "                                                                                  max_depth=None,\n",
       "                                                                                  max_features='auto',\n",
       "                                                                                  max_leaf_nodes=None,\n",
       "                                                                                  min_impurity_decrease=0.0,\n",
       "                                                                                  min_impurity_split=None,\n",
       "                                                                                  min_samples_leaf=1,\n",
       "                                                                                  min_samples_split=2,\n",
       "                                                                                  min_weight_fraction_leaf=0.0,\n",
       "                                                                                  n_estima...\n",
       "                                                 param_distributions={'bootstrap': [True,\n",
       "                                                                                    False],\n",
       "                                                                      'max_depth': [10,\n",
       "                                                                                    20,\n",
       "                                                                                    30,\n",
       "                                                                                    40,\n",
       "                                                                                    50,\n",
       "                                                                                    60,\n",
       "                                                                                    70,\n",
       "                                                                                    80,\n",
       "                                                                                    90,\n",
       "                                                                                    100,\n",
       "                                                                                    110,\n",
       "                                                                                    None],\n",
       "                                                                      'max_features': ['auto',\n",
       "                                                                                       'sqrt'],\n",
       "                                                                      'min_samples_leaf': [1,\n",
       "                                                                                           2,\n",
       "                                                                                           4],\n",
       "                                                                      'min_samples_split': [2,\n",
       "                                                                                            5,\n",
       "                                                                                            10],\n",
       "                                                                      'n_estimators': [200,\n",
       "                                                                                       400,\n",
       "                                                                                       600,\n",
       "                                                                                       800,\n",
       "                                                                                       1000,\n",
       "                                                                                       1200,\n",
       "                                                                                       1400,\n",
       "                                                                                       1600,\n",
       "                                                                                       1800,\n",
       "                                                                                       2000]},\n",
       "                                                 pre_dispatch='2*n_jobs',\n",
       "                                                 random_state=42, refit=True,\n",
       "                                                 return_train_score=False,\n",
       "                                                 scoring=None, verbose=2),\n",
       "                    n_jobs=None)"
      ]
     },
     "execution_count": 7,
     "metadata": {},
     "output_type": "execute_result"
    }
   ],
   "source": [
    "# Use the random grid to search for best hyperparameters\n",
    "# First create the base model to tune\n",
    "rf = RandomForestClassifier()\n",
    "# Random search of parameters, using 3 fold cross validation, \n",
    "# search across 100 different combinations, and use all available cores\n",
    "rf_random = OneVsRestClassifier(RandomizedSearchCV(estimator = rf, param_distributions = random_grid, n_iter = 100, cv = 3, verbose=2, \n",
    "                               random_state=42, n_jobs = -1))\n",
    "# Fit the random search model\n",
    "rf_random.fit(X1_tr, Y1_tr)"
   ]
  },
  {
   "cell_type": "code",
   "execution_count": 23,
   "metadata": {},
   "outputs": [],
   "source": [
    "def evaluate(model, X1_tr, Y1_tr):\n",
    "    predictions = model.predict(X1_ts)\n",
    "    errors = abs(predictions - Y1_ts)\n",
    "    mape = 100 * np.mean(errors / Y1_ts)\n",
    "    accuracy = 100 - mape\n",
    "    print('Model Performance')\n",
    "    print('Average Error: {:0.4f} degrees.'.format(np.mean(errors)))\n",
    "    print('Accuracy = {:0.2f}%.'.format(accuracy))\n",
    "    \n",
    "    return accuracy"
   ]
  },
  {
   "cell_type": "code",
   "execution_count": 9,
   "metadata": {},
   "outputs": [
    {
     "name": "stdout",
     "output_type": "stream",
     "text": [
      "Model Performance\n",
      "Average Error: 0.4564 degrees.\n",
      "Accuracy = -inf%.\n"
     ]
    },
    {
     "data": {
      "text/plain": [
       "-inf"
      ]
     },
     "execution_count": 9,
     "metadata": {},
     "output_type": "execute_result"
    }
   ],
   "source": [
    "evaluate(rf_random,X1_o, Y1_o)\n"
   ]
  },
  {
   "cell_type": "code",
   "execution_count": 10,
   "metadata": {},
   "outputs": [
    {
     "name": "stdout",
     "output_type": "stream",
     "text": [
      "Model Performance\n",
      "Average Error: 0.4564 degrees.\n",
      "Accuracy = -inf%.\n"
     ]
    }
   ],
   "source": [
    "base_model = OneVsRestClassifier(RandomForestClassifier(n_estimators = 1000, random_state = 400))\n",
    "base_model.fit(X1_tr, Y1_tr)\n",
    "base_accuracy = evaluate(rf_random,X1_o, Y1_o)"
   ]
  },
  {
   "cell_type": "markdown",
   "metadata": {},
   "source": [
    "# Para un boque en parqicular con 50 arboles de profundidad 3"
   ]
  },
  {
   "cell_type": "code",
   "execution_count": 11,
   "metadata": {},
   "outputs": [
    {
     "data": {
      "text/plain": [
       "3"
      ]
     },
     "execution_count": 11,
     "metadata": {},
     "output_type": "execute_result"
    }
   ],
   "source": [
    "# Binarize the output\n",
    "y = label_binarize(Y, classes=[-1, 0, 1])\n",
    "n_classes = y.shape[1]\n",
    "n_classes"
   ]
  },
  {
   "cell_type": "code",
   "execution_count": 12,
   "metadata": {},
   "outputs": [],
   "source": [
    "Xl_tr, X_ts, Yl_tr, Y_ts = train_test_split(X, y, test_size=0.6, train_size = 0.4,random_state=19)\n",
    "Xl_va, Xl_ts, Yl_va, Yl_ts = train_test_split(X_ts, Y_ts, test_size=0.5,train_size = 0.5, random_state=19)"
   ]
  },
  {
   "cell_type": "code",
   "execution_count": 13,
   "metadata": {},
   "outputs": [],
   "source": [
    "clf = OneVsRestClassifier(RandomForestClassifier(n_estimators=50, max_depth=3,random_state=0))\n",
    "clf.fit(Xl_tr, Yl_tr)\n",
    "y_score = clf.predict_proba(Xl_ts)"
   ]
  },
  {
   "cell_type": "code",
   "execution_count": 14,
   "metadata": {},
   "outputs": [
    {
     "data": {
      "image/png": "[encoded data removed]",
      "text/plain": [
       "<Figure size 432x288 with 1 Axes>"
      ]
     },
     "metadata": {
      "needs_background": "light"
     },
     "output_type": "display_data"
    }
   ],
   "source": [
    "# precision recall curve\n",
    "precision = dict()\n",
    "recall = dict()\n",
    "for i in range(n_classes):\n",
    "    precision[i], recall[i], _ = precision_recall_curve(Yl_ts[:, i], y_score[:, i])\n",
    "    plt.plot(recall[i], precision[i], lw=2, label='class {}'.format(i))\n",
    "\n",
    "plt.xlabel(\"recall\")\n",
    "plt.ylabel(\"precision\")\n",
    "plt.legend(loc=\"best\")\n",
    "plt.title(\"precision vs. recall curve RF\")\n",
    "plt.show()"
   ]
  },
  {
   "cell_type": "code",
   "execution_count": 15,
   "metadata": {},
   "outputs": [
    {
     "data": {
      "image/png": "[encoded data removed]",
      "text/plain": [
       "<Figure size 432x288 with 1 Axes>"
      ]
     },
     "metadata": {
      "needs_background": "light"
     },
     "output_type": "display_data"
    }
   ],
   "source": [
    "# roc curve\n",
    "fpr = dict()\n",
    "tpr = dict()\n",
    "\n",
    "for i in range(n_classes):\n",
    "    fpr[i], tpr[i], _ = roc_curve(Yl_ts[:, i],y_score[:, i])\n",
    "    plt.plot(fpr[i], tpr[i], lw=2, label='class {}'.format(i))\n",
    "\n",
    "plt.xlabel(\"false positive rate\")\n",
    "plt.ylabel(\"true positive rate\")\n",
    "plt.legend(loc=\"best\")\n",
    "plt.title(\"ROC curve RF\")\n",
    "plt.show()"
   ]
  },
  {
   "cell_type": "code",
   "execution_count": 16,
   "metadata": {},
   "outputs": [],
   "source": [
    "Epsilon = 0.2 #error real\n",
    "delta = 0.1  #error de entrenamiento\n",
    "step=10\n",
    "h_aprox = len(set_parameters) #hipotesis para una regresión linealn_est = int(np.ceil((1/Epsilon)*(np.log(len(set_parameters)) + np.log(1/delta))))\n",
    "n=100"
   ]
  },
  {
   "cell_type": "code",
   "execution_count": 17,
   "metadata": {},
   "outputs": [
    {
     "data": {
      "text/plain": [
       "235"
      ]
     },
     "execution_count": 17,
     "metadata": {},
     "output_type": "execute_result"
    }
   ],
   "source": [
    "from sklearn.model_selection import cross_val_score\n",
    "Accuracy= []\n",
    "scores=[]\n",
    "RF_m=RandomForestClassifier(n_estimators=50, max_depth=3,random_state=0) \n",
    "for i in range (n,int(len(df1)*0.6),step):\n",
    "    X1_tr, X1_t, Y1_tr, Y1_t = train_test_split(X, Y,test_size= i/X.shape[0]*0.4/0.6, train_size = i/X.shape[0], random_state=19)\n",
    "    X1_va, X1_ts, Y1_va, Y1_ts = train_test_split(X1_t, Y1_t, test_size = 0.5, train_size = 0.5, random_state=19)\n",
    "    model = RF_m.fit(X1_tr, Y1_tr)\n",
    "    predictions = RF_m.predict(X1_ts)\n",
    "    Accuracy.append(RF_m.score(X1_ts, Y1_ts))\n",
    "    scores.append(cross_val_score(RF_m, X1_ts, Y1_ts, cv=3))\n",
    "len(Accuracy)"
   ]
  },
  {
   "cell_type": "code",
   "execution_count": 18,
   "metadata": {},
   "outputs": [
    {
     "data": {
      "text/plain": [
       "0.6493506493506493"
      ]
     },
     "execution_count": 18,
     "metadata": {},
     "output_type": "execute_result"
    }
   ],
   "source": [
    "max(Accuracy)"
   ]
  },
  {
   "cell_type": "code",
   "execution_count": 19,
   "metadata": {},
   "outputs": [
    {
     "data": {
      "text/plain": [
       "array([13], dtype=int64)"
      ]
     },
     "execution_count": 19,
     "metadata": {},
     "output_type": "execute_result"
    }
   ],
   "source": [
    "n_bst = np.where(Accuracy == np.amax(Accuracy))[0]\n",
    "n_bst"
   ]
  },
  {
   "cell_type": "code",
   "execution_count": 20,
   "metadata": {},
   "outputs": [
    {
     "name": "stdout",
     "output_type": "stream",
     "text": [
      "El tamaño de los datos para entrenar con el que se obtiene el mejor modelo es 230\n"
     ]
    }
   ],
   "source": [
    "M_N=n+n_bst[0]*step\n",
    "n_bst\n",
    "print('El tamaño de los datos para entrenar con el que se obtiene el mejor modelo es {0}'.format(M_N))"
   ]
  },
  {
   "cell_type": "code",
   "execution_count": 21,
   "metadata": {},
   "outputs": [],
   "source": [
    "a = []\n",
    "for i in range(0,len(Accuracy)): #len(N)-1\n",
    "    i=n+i*step\n",
    "    a.append(i)\n",
    "#print(a)"
   ]
  },
  {
   "cell_type": "code",
   "execution_count": 22,
   "metadata": {},
   "outputs": [
    {
     "data": {
      "text/plain": [
       "Text(0.5, 0, 'Cantidad datos')"
      ]
     },
     "execution_count": 22,
     "metadata": {},
     "output_type": "execute_result"
    },
    {
     "data": {
      "image/png": "[encoded data removed]",
      "text/plain": [
       "<Figure size 432x288 with 1 Axes>"
      ]
     },
     "metadata": {
      "needs_background": "light"
     },
     "output_type": "display_data"
    }
   ],
   "source": [
    "plt.plot(a,Accuracy)\n",
    "plt.title('Accuracy RF', y=1.1)\n",
    "plt.ylabel('Accuracy')\n",
    "plt.xlabel('Cantidad datos')"
   ]
  }
 ],
 "metadata": {
  "kernelspec": {
   "display_name": "Python 3",
   "language": "python",
   "name": "python3"
  },
  "language_info": {
   "codemirror_mode": {
    "name": "ipython",
    "version": 3
   },
   "file_extension": ".py",
   "mimetype": "text/x-python",
   "name": "python",
   "nbconvert_exporter": "python",
   "pygments_lexer": "ipython3",
   "version": "3.7.3"
  }
 },
 "nbformat": 4,
 "nbformat_minor": 2
}
