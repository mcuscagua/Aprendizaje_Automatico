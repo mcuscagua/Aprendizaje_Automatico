{
 "cells": [
  {
   "cell_type": "code",
   "execution_count": 2,
   "metadata": {},
   "outputs": [],
   "source": [
    "import numpy as np\n",
    "import pandas as pd\n",
    "import itertools as it\n",
    "import matplotlib.pyplot as plt \n",
    "# from sklearn.tree import DecisionTreeClassifier as DTC\n",
    "from sklearn.model_selection import train_test_split\n",
    "from Orange.classification import tree\n",
    "from itertools import cycle\n",
    "from sklearn import svm, datasets\n",
    "from sklearn.metrics import roc_curve, auc\n",
    "from sklearn.preprocessing import label_binarize\n",
    "from sklearn.multiclass import OneVsRestClassifier\n",
    "from scipy import interp"
   ]
  },
  {
   "cell_type": "code",
   "execution_count": 2,
   "metadata": {},
   "outputs": [],
   "source": [
    "Data = pd.read_excel('Data.xlsx')\n",
    "Data = Data.set_index('Date')"
   ]
  },
  {
   "cell_type": "code",
   "execution_count": null,
   "metadata": {},
   "outputs": [],
   "source": [
    "Data.isnull().any():"
   ]
  },
  {
   "cell_type": "code",
   "execution_count": 3,
   "metadata": {},
   "outputs": [],
   "source": [
    "df1 = Data.dropna(axis=0,how='any')\n",
    "#Data = Data.fillna(method='ffill')\n",
    "Y = df1['Class']\n",
    "X = df1.drop('Class', axis = 1)"
   ]
  },
  {
   "cell_type": "code",
   "execution_count": null,
   "metadata": {},
   "outputs": [],
   "source": [
    "df1.corr();"
   ]
  },
  {
   "cell_type": "code",
   "execution_count": 4,
   "metadata": {},
   "outputs": [
    {
     "name": "stderr",
     "output_type": "stream",
     "text": [
      "C:\\Users\\lmosquera\\AppData\\Local\\Continuum\\anaconda3\\lib\\site-packages\\scipy\\stats\\stats.py:1713: FutureWarning: Using a non-tuple sequence for multidimensional indexing is deprecated; use `arr[tuple(seq)]` instead of `arr[seq]`. In the future this will be interpreted as an array index, `arr[np.array(seq)]`, which will result either in an error or a different result.\n",
      "  return np.add.reduce(sorted[indexer] * weights, axis=axis) / sumval\n"
     ]
    },
    {
     "data": {
      "text/plain": [
       "<seaborn.axisgrid.JointGrid at 0x1ba653f2cc0>"
      ]
     },
     "execution_count": 4,
     "metadata": {},
     "output_type": "execute_result"
    },
    {
     "data": {
      "image/png": "[encoded data removed]",
      "text/plain": [
       "<Figure size 432x432 with 3 Axes>"
      ]
     },
     "metadata": {
      "needs_background": "light"
     },
     "output_type": "display_data"
    }
   ],
   "source": [
    "import seaborn as sns\n",
    "%matplotlib inline\n",
    "sns.jointplot(x=\"Class\",y=\"Open\",data=df1)"
   ]
  },
  {
   "cell_type": "code",
   "execution_count": 5,
   "metadata": {},
   "outputs": [
    {
     "name": "stdout",
     "output_type": "stream",
     "text": [
      "4075\n"
     ]
    }
   ],
   "source": [
    "Num_cols = len (df1.columns)\n",
    "Num_cols\n",
    "df1.shape\n",
    "df1.ndim\n",
    "row_count = 0\n",
    "  \n",
    "# iterating over indices \n",
    "for col in df1.index: \n",
    "    row_count += 1\n",
    "  \n",
    "# print the row count \n",
    "print(row_count) "
   ]
  },
  {
   "cell_type": "code",
   "execution_count": 3,
   "metadata": {},
   "outputs": [
    {
     "data": {
      "text/plain": [
       "65"
      ]
     },
     "execution_count": 3,
     "metadata": {},
     "output_type": "execute_result"
    }
   ],
   "source": [
    "Epsilon = 0.2\n",
    "delta = 0.1\n",
    "h_aprox =40320 # len (df1.columns)\n",
    "dimVC =h_aprox   # Poner aqui la dimVC\n",
    "\n",
    "def n_min(Epsilon,h_aprox,delta):\n",
    "    n=int(np.ceil((1/Epsilon)*(np.log(h_aprox) + np.log(1/delta))))\n",
    "    return n\n",
    "n=n_min(Epsilon,h_aprox,delta)\n",
    "n"
   ]
  },
  {
   "cell_type": "code",
   "execution_count": 11,
   "metadata": {},
   "outputs": [
    {
     "data": {
      "text/plain": [
       "4075"
      ]
     },
     "execution_count": 11,
     "metadata": {},
     "output_type": "execute_result"
    }
   ],
   "source": [
    "X.shape[0]"
   ]
  },
  {
   "cell_type": "code",
   "execution_count": 13,
   "metadata": {},
   "outputs": [
    {
     "data": {
      "text/plain": [
       "4073"
      ]
     },
     "execution_count": 13,
     "metadata": {},
     "output_type": "execute_result"
    }
   ],
   "source": [
    "Xlen=[]\n",
    "\n",
    "for n in range(n,len(X),10):\n",
    "    X1_tr, X1_ts, Y1_tr, Y1_ts = train_test_split(X, Y, train_size = n/X.shape[0], random_state=19)\n",
    "    X1_va, X1_ts, Y1_va, Y1_ts = train_test_split(X1_ts, Y1_ts, train_size = 0.5, random_state=19)\n",
    "    #Xlen[n]=len(X1_tr)\n",
    "len(X1_tr)"
   ]
  },
  {
   "cell_type": "markdown",
   "metadata": {},
   "source": [
    "### $\\eta$ minimo estimado"
   ]
  },
  {
   "cell_type": "code",
   "execution_count": 14,
   "metadata": {},
   "outputs": [],
   "source": [
    "#n_min (Epsilon,h_aprox,delta)\n",
    "X1_tr, X1_ts, Y1_tr, Y1_ts = train_test_split(X, Y, train_size = n/X.shape[0], random_state=123)"
   ]
  },
  {
   "cell_type": "code",
   "execution_count": 15,
   "metadata": {},
   "outputs": [],
   "source": [
    "X1_va, X1_ts, Y1_va, Y1_ts = train_test_split(X1_ts, Y1_ts, train_size = 0.5, random_state=19)"
   ]
  },
  {
   "cell_type": "markdown",
   "metadata": {},
   "source": [
    "# AQUI EL ALGORITMO USANDO X1"
   ]
  },
  {
   "cell_type": "markdown",
   "metadata": {},
   "source": [
    "### $\\eta$ minimo optimo"
   ]
  },
  {
   "cell_type": "code",
   "execution_count": 33,
   "metadata": {},
   "outputs": [],
   "source": [
    "# Binarize the output\n",
    "y = label_binarize(Y, classes=[-1, 0, 1])\n",
    "n_classes = y.shape[1]"
   ]
  },
  {
   "cell_type": "code",
   "execution_count": 34,
   "metadata": {},
   "outputs": [
    {
     "name": "stderr",
     "output_type": "stream",
     "text": [
      "C:\\Users\\lmosquera\\AppData\\Local\\Continuum\\anaconda3\\lib\\site-packages\\sklearn\\model_selection\\_split.py:2179: FutureWarning: From version 0.21, test_size will always complement train_size unless both are specified.\n",
      "  FutureWarning)\n"
     ]
    }
   ],
   "source": [
    "n_opt = int(np.ceil((1/Epsilon)*(np.log(dimVC) + np.log(1/delta))))\n",
    "X2_tr, X2_ts, Y2_tr, Y2_ts = train_test_split(X, y, train_size = n_opt/X.shape[0], random_state=123)"
   ]
  },
  {
   "cell_type": "markdown",
   "metadata": {},
   "source": [
    "# AQUI EL ALGORITMO USANDO X2"
   ]
  },
  {
   "cell_type": "code",
   "execution_count": 22,
   "metadata": {},
   "outputs": [],
   "source": [
    "from sklearn.metrics import precision_score,confusion_matrix,recall_score,accuracy_score"
   ]
  },
  {
   "cell_type": "code",
   "execution_count": 17,
   "metadata": {},
   "outputs": [],
   "source": [
    "from sklearn.linear_model import LinearRegression\n",
    "from sklearn import metrics\n",
    "%matplotlib inline"
   ]
  },
  {
   "cell_type": "code",
   "execution_count": 18,
   "metadata": {},
   "outputs": [
    {
     "data": {
      "text/html": [
       "<div>\n",
       "<style scoped>\n",
       "    .dataframe tbody tr th:only-of-type {\n",
       "        vertical-align: middle;\n",
       "    }\n",
       "\n",
       "    .dataframe tbody tr th {\n",
       "        vertical-align: top;\n",
       "    }\n",
       "\n",
       "    .dataframe thead th {\n",
       "        text-align: right;\n",
       "    }\n",
       "</style>\n",
       "<table border=\"1\" class=\"dataframe\">\n",
       "  <thead>\n",
       "    <tr style=\"text-align: right;\">\n",
       "      <th></th>\n",
       "      <th>Class</th>\n",
       "      <th>Open</th>\n",
       "      <th>High</th>\n",
       "      <th>Low</th>\n",
       "      <th>Close</th>\n",
       "      <th>Volume</th>\n",
       "      <th>volume_adi</th>\n",
       "      <th>volume_obv</th>\n",
       "      <th>volume_cmf</th>\n",
       "      <th>volume_fi</th>\n",
       "      <th>...</th>\n",
       "      <th>Ope_Max</th>\n",
       "      <th>Hig_Max</th>\n",
       "      <th>Low_Max</th>\n",
       "      <th>Vol_Min</th>\n",
       "      <th>Clo_Min</th>\n",
       "      <th>Ope_Min</th>\n",
       "      <th>Hig_Min</th>\n",
       "      <th>Low_Min</th>\n",
       "      <th>Support</th>\n",
       "      <th>Resistance</th>\n",
       "    </tr>\n",
       "  </thead>\n",
       "  <tbody>\n",
       "    <tr>\n",
       "      <th>count</th>\n",
       "      <td>4075.000000</td>\n",
       "      <td>4075.000000</td>\n",
       "      <td>4075.000000</td>\n",
       "      <td>4075.000000</td>\n",
       "      <td>4075.000000</td>\n",
       "      <td>4075.000000</td>\n",
       "      <td>4075.000000</td>\n",
       "      <td>4075.000000</td>\n",
       "      <td>4075.000000</td>\n",
       "      <td>4075.000000</td>\n",
       "      <td>...</td>\n",
       "      <td>4075.000000</td>\n",
       "      <td>4075.000000</td>\n",
       "      <td>4075.000000</td>\n",
       "      <td>4075.000000</td>\n",
       "      <td>4075.000000</td>\n",
       "      <td>4075.000000</td>\n",
       "      <td>4075.000000</td>\n",
       "      <td>4075.000000</td>\n",
       "      <td>4075.000000</td>\n",
       "      <td>4075.000000</td>\n",
       "    </tr>\n",
       "    <tr>\n",
       "      <th>mean</th>\n",
       "      <td>-0.036319</td>\n",
       "      <td>0.590257</td>\n",
       "      <td>0.580197</td>\n",
       "      <td>0.589019</td>\n",
       "      <td>0.592268</td>\n",
       "      <td>0.344043</td>\n",
       "      <td>0.541117</td>\n",
       "      <td>0.722314</td>\n",
       "      <td>0.496906</td>\n",
       "      <td>0.638600</td>\n",
       "      <td>...</td>\n",
       "      <td>0.723613</td>\n",
       "      <td>0.721381</td>\n",
       "      <td>0.721504</td>\n",
       "      <td>0.546550</td>\n",
       "      <td>0.726893</td>\n",
       "      <td>0.723613</td>\n",
       "      <td>0.721381</td>\n",
       "      <td>0.721504</td>\n",
       "      <td>0.684468</td>\n",
       "      <td>0.393750</td>\n",
       "    </tr>\n",
       "    <tr>\n",
       "      <th>std</th>\n",
       "      <td>0.712575</td>\n",
       "      <td>0.326031</td>\n",
       "      <td>0.337365</td>\n",
       "      <td>0.328892</td>\n",
       "      <td>0.327860</td>\n",
       "      <td>0.240709</td>\n",
       "      <td>0.233415</td>\n",
       "      <td>0.313028</td>\n",
       "      <td>0.300572</td>\n",
       "      <td>0.225858</td>\n",
       "      <td>...</td>\n",
       "      <td>0.294296</td>\n",
       "      <td>0.303761</td>\n",
       "      <td>0.300488</td>\n",
       "      <td>0.288637</td>\n",
       "      <td>0.294071</td>\n",
       "      <td>0.294296</td>\n",
       "      <td>0.303761</td>\n",
       "      <td>0.300488</td>\n",
       "      <td>0.283691</td>\n",
       "      <td>0.278469</td>\n",
       "    </tr>\n",
       "    <tr>\n",
       "      <th>min</th>\n",
       "      <td>-1.000000</td>\n",
       "      <td>0.000000</td>\n",
       "      <td>0.000000</td>\n",
       "      <td>0.000000</td>\n",
       "      <td>0.000000</td>\n",
       "      <td>0.000000</td>\n",
       "      <td>0.000000</td>\n",
       "      <td>0.000000</td>\n",
       "      <td>0.000000</td>\n",
       "      <td>0.000000</td>\n",
       "      <td>...</td>\n",
       "      <td>0.000000</td>\n",
       "      <td>0.000000</td>\n",
       "      <td>0.000000</td>\n",
       "      <td>0.000000</td>\n",
       "      <td>0.000000</td>\n",
       "      <td>0.000000</td>\n",
       "      <td>0.000000</td>\n",
       "      <td>0.000000</td>\n",
       "      <td>0.000000</td>\n",
       "      <td>0.000000</td>\n",
       "    </tr>\n",
       "    <tr>\n",
       "      <th>25%</th>\n",
       "      <td>-1.000000</td>\n",
       "      <td>0.315708</td>\n",
       "      <td>0.277357</td>\n",
       "      <td>0.311266</td>\n",
       "      <td>0.316808</td>\n",
       "      <td>0.166706</td>\n",
       "      <td>0.391286</td>\n",
       "      <td>0.545536</td>\n",
       "      <td>0.245324</td>\n",
       "      <td>0.506869</td>\n",
       "      <td>...</td>\n",
       "      <td>0.546861</td>\n",
       "      <td>0.536755</td>\n",
       "      <td>0.539257</td>\n",
       "      <td>0.333115</td>\n",
       "      <td>0.556980</td>\n",
       "      <td>0.546861</td>\n",
       "      <td>0.536755</td>\n",
       "      <td>0.539257</td>\n",
       "      <td>0.512814</td>\n",
       "      <td>0.167924</td>\n",
       "    </tr>\n",
       "    <tr>\n",
       "      <th>50%</th>\n",
       "      <td>0.000000</td>\n",
       "      <td>0.635394</td>\n",
       "      <td>0.625498</td>\n",
       "      <td>0.636634</td>\n",
       "      <td>0.637622</td>\n",
       "      <td>0.292758</td>\n",
       "      <td>0.553456</td>\n",
       "      <td>0.875003</td>\n",
       "      <td>0.497192</td>\n",
       "      <td>0.678596</td>\n",
       "      <td>...</td>\n",
       "      <td>0.823513</td>\n",
       "      <td>0.833252</td>\n",
       "      <td>0.829943</td>\n",
       "      <td>0.534658</td>\n",
       "      <td>0.830793</td>\n",
       "      <td>0.823513</td>\n",
       "      <td>0.833252</td>\n",
       "      <td>0.829943</td>\n",
       "      <td>0.770584</td>\n",
       "      <td>0.349522</td>\n",
       "    </tr>\n",
       "    <tr>\n",
       "      <th>75%</th>\n",
       "      <td>0.000000</td>\n",
       "      <td>0.898464</td>\n",
       "      <td>0.905599</td>\n",
       "      <td>0.900373</td>\n",
       "      <td>0.904023</td>\n",
       "      <td>0.477052</td>\n",
       "      <td>0.702674</td>\n",
       "      <td>0.955035</td>\n",
       "      <td>0.746276</td>\n",
       "      <td>0.807013</td>\n",
       "      <td>...</td>\n",
       "      <td>0.983995</td>\n",
       "      <td>0.993983</td>\n",
       "      <td>0.992667</td>\n",
       "      <td>0.773139</td>\n",
       "      <td>0.991234</td>\n",
       "      <td>0.983995</td>\n",
       "      <td>0.993983</td>\n",
       "      <td>0.992667</td>\n",
       "      <td>0.923285</td>\n",
       "      <td>0.573778</td>\n",
       "    </tr>\n",
       "    <tr>\n",
       "      <th>max</th>\n",
       "      <td>1.000000</td>\n",
       "      <td>1.000000</td>\n",
       "      <td>1.000000</td>\n",
       "      <td>1.000000</td>\n",
       "      <td>1.000000</td>\n",
       "      <td>1.000000</td>\n",
       "      <td>1.000000</td>\n",
       "      <td>1.000000</td>\n",
       "      <td>1.000000</td>\n",
       "      <td>1.000000</td>\n",
       "      <td>...</td>\n",
       "      <td>1.000000</td>\n",
       "      <td>1.000000</td>\n",
       "      <td>1.000000</td>\n",
       "      <td>1.000000</td>\n",
       "      <td>1.000000</td>\n",
       "      <td>1.000000</td>\n",
       "      <td>1.000000</td>\n",
       "      <td>1.000000</td>\n",
       "      <td>1.000000</td>\n",
       "      <td>1.000000</td>\n",
       "    </tr>\n",
       "  </tbody>\n",
       "</table>\n",
       "<p>8 rows × 68 columns</p>\n",
       "</div>"
      ],
      "text/plain": [
       "             Class         Open         High          Low        Close  \\\n",
       "count  4075.000000  4075.000000  4075.000000  4075.000000  4075.000000   \n",
       "mean     -0.036319     0.590257     0.580197     0.589019     0.592268   \n",
       "std       0.712575     0.326031     0.337365     0.328892     0.327860   \n",
       "min      -1.000000     0.000000     0.000000     0.000000     0.000000   \n",
       "25%      -1.000000     0.315708     0.277357     0.311266     0.316808   \n",
       "50%       0.000000     0.635394     0.625498     0.636634     0.637622   \n",
       "75%       0.000000     0.898464     0.905599     0.900373     0.904023   \n",
       "max       1.000000     1.000000     1.000000     1.000000     1.000000   \n",
       "\n",
       "            Volume   volume_adi   volume_obv   volume_cmf    volume_fi  \\\n",
       "count  4075.000000  4075.000000  4075.000000  4075.000000  4075.000000   \n",
       "mean      0.344043     0.541117     0.722314     0.496906     0.638600   \n",
       "std       0.240709     0.233415     0.313028     0.300572     0.225858   \n",
       "min       0.000000     0.000000     0.000000     0.000000     0.000000   \n",
       "25%       0.166706     0.391286     0.545536     0.245324     0.506869   \n",
       "50%       0.292758     0.553456     0.875003     0.497192     0.678596   \n",
       "75%       0.477052     0.702674     0.955035     0.746276     0.807013   \n",
       "max       1.000000     1.000000     1.000000     1.000000     1.000000   \n",
       "\n",
       "          ...           Ope_Max      Hig_Max      Low_Max      Vol_Min  \\\n",
       "count     ...       4075.000000  4075.000000  4075.000000  4075.000000   \n",
       "mean      ...          0.723613     0.721381     0.721504     0.546550   \n",
       "std       ...          0.294296     0.303761     0.300488     0.288637   \n",
       "min       ...          0.000000     0.000000     0.000000     0.000000   \n",
       "25%       ...          0.546861     0.536755     0.539257     0.333115   \n",
       "50%       ...          0.823513     0.833252     0.829943     0.534658   \n",
       "75%       ...          0.983995     0.993983     0.992667     0.773139   \n",
       "max       ...          1.000000     1.000000     1.000000     1.000000   \n",
       "\n",
       "           Clo_Min      Ope_Min      Hig_Min      Low_Min      Support  \\\n",
       "count  4075.000000  4075.000000  4075.000000  4075.000000  4075.000000   \n",
       "mean      0.726893     0.723613     0.721381     0.721504     0.684468   \n",
       "std       0.294071     0.294296     0.303761     0.300488     0.283691   \n",
       "min       0.000000     0.000000     0.000000     0.000000     0.000000   \n",
       "25%       0.556980     0.546861     0.536755     0.539257     0.512814   \n",
       "50%       0.830793     0.823513     0.833252     0.829943     0.770584   \n",
       "75%       0.991234     0.983995     0.993983     0.992667     0.923285   \n",
       "max       1.000000     1.000000     1.000000     1.000000     1.000000   \n",
       "\n",
       "        Resistance  \n",
       "count  4075.000000  \n",
       "mean      0.393750  \n",
       "std       0.278469  \n",
       "min       0.000000  \n",
       "25%       0.167924  \n",
       "50%       0.349522  \n",
       "75%       0.573778  \n",
       "max       1.000000  \n",
       "\n",
       "[8 rows x 68 columns]"
      ]
     },
     "execution_count": 18,
     "metadata": {},
     "output_type": "execute_result"
    }
   ],
   "source": [
    "df1.describe()"
   ]
  },
  {
   "cell_type": "code",
   "execution_count": 20,
   "metadata": {},
   "outputs": [],
   "source": [
    "N=range(n_opt,round(len(X)),10)"
   ]
  },
  {
   "cell_type": "code",
   "execution_count": 37,
   "metadata": {},
   "outputs": [
    {
     "name": "stderr",
     "output_type": "stream",
     "text": [
      "C:\\Users\\lmosquera\\AppData\\Local\\Continuum\\anaconda3\\lib\\site-packages\\sklearn\\model_selection\\_split.py:2179: FutureWarning: From version 0.21, test_size will always complement train_size unless both are specified.\n",
      "  FutureWarning)\n"
     ]
    },
    {
     "ename": "ValueError",
     "evalue": "Classification metrics can't handle a mix of multilabel-indicator and continuous-multioutput targets",
     "output_type": "error",
     "traceback": [
      "\u001b[1;31m---------------------------------------------------------------------------\u001b[0m",
      "\u001b[1;31mValueError\u001b[0m                                Traceback (most recent call last)",
      "\u001b[1;32m<ipython-input-37-ff8a64790757>\u001b[0m in \u001b[0;36m<module>\u001b[1;34m\u001b[0m\n\u001b[0;32m      6\u001b[0m     \u001b[0mregressor\u001b[0m\u001b[1;33m.\u001b[0m\u001b[0mfit\u001b[0m\u001b[1;33m(\u001b[0m\u001b[0mX2_tr\u001b[0m\u001b[1;33m,\u001b[0m\u001b[0mY2_tr\u001b[0m\u001b[1;33m)\u001b[0m \u001b[1;31m#training the algorithm\u001b[0m\u001b[1;33m\u001b[0m\u001b[1;33m\u001b[0m\u001b[0m\n\u001b[0;32m      7\u001b[0m     \u001b[0my_pred_\u001b[0m\u001b[1;33m=\u001b[0m\u001b[0mregressor\u001b[0m\u001b[1;33m.\u001b[0m\u001b[0mpredict\u001b[0m\u001b[1;33m(\u001b[0m\u001b[0mX2_ts\u001b[0m\u001b[1;33m)\u001b[0m\u001b[1;33m\u001b[0m\u001b[1;33m\u001b[0m\u001b[0m\n\u001b[1;32m----> 8\u001b[1;33m     \u001b[0maccuracy_score\u001b[0m\u001b[1;33m(\u001b[0m\u001b[0mY2_ts\u001b[0m\u001b[1;33m,\u001b[0m \u001b[0my_pred_\u001b[0m\u001b[1;33m)\u001b[0m\u001b[1;33m\u001b[0m\u001b[1;33m\u001b[0m\u001b[0m\n\u001b[0m\u001b[0;32m      9\u001b[0m    \u001b[1;31m# accur[i] = accuracy_score(Y2_ts, y_pred_)\u001b[0m\u001b[1;33m\u001b[0m\u001b[1;33m\u001b[0m\u001b[1;33m\u001b[0m\u001b[0m\n\u001b[0;32m     10\u001b[0m     \u001b[1;31m#Conf_Mat[i,:,:] = confusion_matrix(Y2_ts, y_pred_)\u001b[0m\u001b[1;33m\u001b[0m\u001b[1;33m\u001b[0m\u001b[1;33m\u001b[0m\u001b[0m\n",
      "\u001b[1;32m~\\AppData\\Local\\Continuum\\anaconda3\\lib\\site-packages\\sklearn\\metrics\\classification.py\u001b[0m in \u001b[0;36maccuracy_score\u001b[1;34m(y_true, y_pred, normalize, sample_weight)\u001b[0m\n\u001b[0;32m    174\u001b[0m \u001b[1;33m\u001b[0m\u001b[0m\n\u001b[0;32m    175\u001b[0m     \u001b[1;31m# Compute accuracy for each possible representation\u001b[0m\u001b[1;33m\u001b[0m\u001b[1;33m\u001b[0m\u001b[1;33m\u001b[0m\u001b[0m\n\u001b[1;32m--> 176\u001b[1;33m     \u001b[0my_type\u001b[0m\u001b[1;33m,\u001b[0m \u001b[0my_true\u001b[0m\u001b[1;33m,\u001b[0m \u001b[0my_pred\u001b[0m \u001b[1;33m=\u001b[0m \u001b[0m_check_targets\u001b[0m\u001b[1;33m(\u001b[0m\u001b[0my_true\u001b[0m\u001b[1;33m,\u001b[0m \u001b[0my_pred\u001b[0m\u001b[1;33m)\u001b[0m\u001b[1;33m\u001b[0m\u001b[1;33m\u001b[0m\u001b[0m\n\u001b[0m\u001b[0;32m    177\u001b[0m     \u001b[0mcheck_consistent_length\u001b[0m\u001b[1;33m(\u001b[0m\u001b[0my_true\u001b[0m\u001b[1;33m,\u001b[0m \u001b[0my_pred\u001b[0m\u001b[1;33m,\u001b[0m \u001b[0msample_weight\u001b[0m\u001b[1;33m)\u001b[0m\u001b[1;33m\u001b[0m\u001b[1;33m\u001b[0m\u001b[0m\n\u001b[0;32m    178\u001b[0m     \u001b[1;32mif\u001b[0m \u001b[0my_type\u001b[0m\u001b[1;33m.\u001b[0m\u001b[0mstartswith\u001b[0m\u001b[1;33m(\u001b[0m\u001b[1;34m'multilabel'\u001b[0m\u001b[1;33m)\u001b[0m\u001b[1;33m:\u001b[0m\u001b[1;33m\u001b[0m\u001b[1;33m\u001b[0m\u001b[0m\n",
      "\u001b[1;32m~\\AppData\\Local\\Continuum\\anaconda3\\lib\\site-packages\\sklearn\\metrics\\classification.py\u001b[0m in \u001b[0;36m_check_targets\u001b[1;34m(y_true, y_pred)\u001b[0m\n\u001b[0;32m     79\u001b[0m     \u001b[1;32mif\u001b[0m \u001b[0mlen\u001b[0m\u001b[1;33m(\u001b[0m\u001b[0my_type\u001b[0m\u001b[1;33m)\u001b[0m \u001b[1;33m>\u001b[0m \u001b[1;36m1\u001b[0m\u001b[1;33m:\u001b[0m\u001b[1;33m\u001b[0m\u001b[1;33m\u001b[0m\u001b[0m\n\u001b[0;32m     80\u001b[0m         raise ValueError(\"Classification metrics can't handle a mix of {0} \"\n\u001b[1;32m---> 81\u001b[1;33m                          \"and {1} targets\".format(type_true, type_pred))\n\u001b[0m\u001b[0;32m     82\u001b[0m \u001b[1;33m\u001b[0m\u001b[0m\n\u001b[0;32m     83\u001b[0m     \u001b[1;31m# We can't have more than one value on y_type => The set is no more needed\u001b[0m\u001b[1;33m\u001b[0m\u001b[1;33m\u001b[0m\u001b[1;33m\u001b[0m\u001b[0m\n",
      "\u001b[1;31mValueError\u001b[0m: Classification metrics can't handle a mix of multilabel-indicator and continuous-multioutput targets"
     ]
    }
   ],
   "source": [
    "regressor = LinearRegression()  \n",
    "regressor.fit(X2_tr,Y2_tr) #training the algorithm\n",
    "for i in range(len(N)):\n",
    "    X2_tr, X2_ts, Y2_tr, Y2_ts = train_test_split(X, y, train_size = N[i]/X.shape[0], random_state=19)\n",
    "    # fit the model with data\n",
    "    regressor.fit(X2_tr,Y2_tr) #training the algorithm\n",
    "    y_pred_=regressor.predict(X2_ts)\n",
    "    accuracy_score(Y2_ts, y_pred_) \n",
    "   # accur[i] = accuracy_score(Y2_ts, y_pred_) \n",
    "    #Conf_Mat[i,:,:] = confusion_matrix(Y2_ts, y_pred_)\n",
    "    #Press[i]=precision_score(Y2_ts, y_pred_,average='macro')\n",
    "    #Recall[i]=recall_score(Y2_ts, y_pred_, average='macro')\n",
    "    \n",
    "   \n"
   ]
  },
  {
   "cell_type": "code",
   "execution_count": null,
   "metadata": {},
   "outputs": [],
   "source": [
    "#To retrieve the intercept:\n",
    "print(regressor.intercept_)\n",
    "#For retrieving the slope:\n",
    "print(regressor.coef_)"
   ]
  },
  {
   "cell_type": "code",
   "execution_count": null,
   "metadata": {},
   "outputs": [],
   "source": [
    "y_pred = regressor.predict(X2_ts)"
   ]
  },
  {
   "cell_type": "code",
   "execution_count": null,
   "metadata": {},
   "outputs": [],
   "source": [
    "df = pd.DataFrame({'Actual': Y2_ts, 'Predicted': y_pred})\n",
    "df.head(5)"
   ]
  },
  {
   "cell_type": "code",
   "execution_count": null,
   "metadata": {},
   "outputs": [],
   "source": [
    "y_pred"
   ]
  },
  {
   "cell_type": "code",
   "execution_count": null,
   "metadata": {},
   "outputs": [],
   "source": [
    "df2 = df.head(100)\n",
    "df2.plot(kind='bar',figsize=(16,10))\n",
    "plt.grid(which='major', linestyle='-', linewidth='0.5', color='green')\n",
    "plt.grid(which='minor', linestyle=':', linewidth='0.5', color='black')\n",
    "plt.show()"
   ]
  },
  {
   "cell_type": "code",
   "execution_count": null,
   "metadata": {},
   "outputs": [],
   "source": [
    "len(X2_ts)"
   ]
  },
  {
   "cell_type": "code",
   "execution_count": null,
   "metadata": {},
   "outputs": [],
   "source": [
    "#plt.scatter(X2_ts, Y2_ts,  color='gray')\n",
    "plt.plot(X2_ts, y_pred, color='red') #, linewidth=2\n",
    "plt.show()"
   ]
  },
  {
   "cell_type": "code",
   "execution_count": null,
   "metadata": {},
   "outputs": [],
   "source": [
    "print('Mean Absolute Error:', metrics.mean_absolute_error(Y2_ts, y_pred))  \n",
    "print('Mean Squared Error:', metrics.mean_squared_error(Y2_ts, y_pred))  \n",
    "print('Root Mean Squared Error:', np.sqrt(metrics.mean_squared_error(Y2_ts, y_pred)))"
   ]
  },
  {
   "cell_type": "code",
   "execution_count": null,
   "metadata": {},
   "outputs": [],
   "source": [
    "coeff_df = pd.DataFrame(regressor.coef_, X.columns, columns=['Coefficient'])  \n",
    "coeff_df"
   ]
  },
  {
   "cell_type": "markdown",
   "metadata": {},
   "source": [
    "# Regresion logística"
   ]
  },
  {
   "cell_type": "code",
   "execution_count": null,
   "metadata": {},
   "outputs": [],
   "source": [
    "from sklearn import metrics\n",
    "from sklearn.metrics import precision_score,confusion_matrix,recall_score,accuracy_score"
   ]
  },
  {
   "cell_type": "markdown",
   "metadata": {},
   "source": [
    "https://stackoverflow.com/questions/45890328/sklearn-metrics-for-multiclass-classification"
   ]
  },
  {
   "cell_type": "code",
   "execution_count": null,
   "metadata": {},
   "outputs": [],
   "source": [
    "n_opt = int(np.ceil((1/Epsilon)*(np.log(dimVC) + np.log(1/delta))))\n",
    "N=range(n_opt,round(len(X)),10)\n",
    "accur=np.zeros(int((len(X)-n_opt)/10))\n",
    "Conf_Mat= np.zeros(shape=(int((len(X)-n_opt)/10),3,3))\n",
    "Press=np.zeros(int((len(X)-n_opt)/10))\n",
    "Recall=np.zeros(int((len(X)-n_opt)/10))\n",
    "R_rta=pd.DataFrame(accur,Conf_Mat)\n",
    "R_rta.all()"
   ]
  },
  {
   "cell_type": "code",
   "execution_count": null,
   "metadata": {},
   "outputs": [],
   "source": [
    "# import the class\n",
    "from sklearn.linear_model import LogisticRegression\n",
    "\n",
    "# instantiate the model (using the default parameters)\n",
    "logreg = LogisticRegression()\n",
    "\n",
    "for i in range(len(N)):\n",
    "    X2_tr, X2_ts, Y2_tr, Y2_ts = train_test_split(X, Y, train_size = N[i]/X.shape[0], random_state=19)\n",
    "    # fit the model with data\n",
    "    logreg.fit(X2_tr,Y2_tr)\n",
    "    y_pred_lg=logreg.predict(X2_ts)\n",
    "    accur[i] = accuracy_score(Y2_ts, y_pred_lg)\n",
    "    Conf_Mat[i,:,:] = confusion_matrix(Y2_ts, y_pred_lg)\n",
    "    Press[i]=precision_score(Y2_ts, y_pred_lg,average='macro')\n",
    "    Recall[i]=recall_score(Y2_ts, y_pred_lg, average='macro')\n",
    "    \n"
   ]
  },
  {
   "cell_type": "code",
   "execution_count": null,
   "metadata": {},
   "outputs": [],
   "source": [
    "Press[350]"
   ]
  },
  {
   "cell_type": "code",
   "execution_count": null,
   "metadata": {},
   "outputs": [],
   "source": [
    "num=list(range(len(accur)))\n",
    "accur;"
   ]
  },
  {
   "cell_type": "code",
   "execution_count": null,
   "metadata": {},
   "outputs": [],
   "source": [
    "plt.subplot(3, 1, 1)\n",
    "plt.plot(num,accur, 'o-')\n",
    "plt.title('A tale of 2 subplots')\n",
    "plt.ylabel('Muestra')\n",
    "\n",
    "plt.subplot(3, 1, 2)\n",
    "plt.plot(num, Press, '.-')\n",
    "plt.xlabel('Precision')\n",
    "plt.ylabel('Muestra')\n",
    "\n",
    "plt.subplot(3, 1, 3)\n",
    "plt.plot(num, Recall, '.-')\n",
    "plt.xlabel('Recall')\n",
    "plt.ylabel('Muestra')\n",
    "plt.show()"
   ]
  },
  {
   "cell_type": "code",
   "execution_count": null,
   "metadata": {},
   "outputs": [],
   "source": [
    "print(\"Accuracy:\",metrics.accuracy_score(Y2_ts, y_pred_lg))\n",
    "print(\"Precision de cada clase:\",metrics.precision_score(Y2_ts, y_pred_lg, average=None))\n",
    "print(\"Recall de cada clase:\",metrics.recall_score(Y2_ts, y_pred_lg, average=None))\n",
    "print(\"Precision razon total:\",metrics.precision_score(Y2_ts, y_pred_lg,average='micro'))\n",
    "print(\"Recall razon total:\",metrics.recall_score(Y2_ts, y_pred_lg, average='micro'))"
   ]
  },
  {
   "cell_type": "code",
   "execution_count": null,
   "metadata": {},
   "outputs": [],
   "source": [
    "y_pred_proba = logreg.predict_proba(X2_ts)[::,1]\n",
    "fpr, tpr, _ = metrics.roc_curve(Y2_ts,  y_pred_proba)\n",
    "auc = metrics.roc_auc_score(Y2_ts, y_pred_proba)\n",
    "plt.plot(fpr,tpr,label=\"data 1, auc=\"+str(auc))\n",
    "plt.legend(loc=4)\n",
    "plt.show()"
   ]
  },
  {
   "cell_type": "code",
   "execution_count": null,
   "metadata": {},
   "outputs": [],
   "source": [
    "#INTENTANDO QUE RECONOZCA TRES ESTADOS\n",
    "LR_m=LogisticRegression(multi_class=\"multinomial\",solver =\"newton-cg\").fit(X2_tr,Y2_tr)\n",
    "#\n",
    "y_pred_LM=LR_m.predict(X2_ts)"
   ]
  },
  {
   "cell_type": "code",
   "execution_count": null,
   "metadata": {},
   "outputs": [],
   "source": [
    "cnf_matrix_m = metrics.confusion_matrix(Y2_ts, y_pred_LM)\n",
    "cnf_matrix_m"
   ]
  },
  {
   "cell_type": "code",
   "execution_count": null,
   "metadata": {},
   "outputs": [],
   "source": [
    "class_names=[-1,0,1] # name  of classes\n",
    "fig, ax = plt.subplots()\n",
    "tick_marks = np.arange(len(class_names))\n",
    "plt.xticks(tick_marks, class_names)\n",
    "plt.yticks(tick_marks, class_names)\n",
    "# create heatmap\n",
    "sns.heatmap(pd.DataFrame(cnf_matrix_m), annot=True, cmap=\"YlGnBu\" ,fmt='g')\n",
    "ax.xaxis.set_label_position(\"top\")\n",
    "plt.tight_layout()\n",
    "plt.title('Confusion matrix', y=1.1)\n",
    "plt.ylabel('Actual label')\n",
    "plt.xlabel('Predicted label')"
   ]
  }
 ],
 "metadata": {
  "kernelspec": {
   "display_name": "Python 3",
   "language": "python",
   "name": "python3"
  },
  "language_info": {
   "codemirror_mode": {
    "name": "ipython",
    "version": 3
   },
   "file_extension": ".py",
   "mimetype": "text/x-python",
   "name": "python",
   "nbconvert_exporter": "python",
   "pygments_lexer": "ipython3",
   "version": "3.7.1"
  }
 },
 "nbformat": 4,
 "nbformat_minor": 2
}
