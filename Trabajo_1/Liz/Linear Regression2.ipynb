{
 "cells": [
  {
   "cell_type": "code",
   "execution_count": 47,
   "metadata": {},
   "outputs": [],
   "source": [
    "import numpy as np\n",
    "import pandas as pd\n",
    "import itertools as it\n",
    "import matplotlib.pyplot as plt \n",
    "import seaborn as sns\n",
    "from sklearn.linear_model import LinearRegression,LogisticRegression,LogisticRegressionCV\n",
    "from sklearn import metrics,model_selection\n",
    "from sklearn.metrics import roc_curve, roc_auc_score,auc,classification_report,accuracy_score,precision_score,recall_score\n",
    "from sklearn.metrics import f1_score,precision_recall_fscore_support\n",
    "\n",
    "from sklearn.model_selection import train_test_split,cross_val_score\n",
    "\n",
    "from sklearn.preprocessing import label_binarize\n",
    "from sklearn.multiclass import OneVsRestClassifier\n",
    "from itertools import cycle\n",
    "\n",
    "from sklearn.preprocessing import StandardScaler\n"
   ]
  },
  {
   "cell_type": "code",
   "execution_count": 2,
   "metadata": {},
   "outputs": [],
   "source": [
    "Data = pd.read_excel('Data.xlsx')\n",
    "Data = Data.set_index('Date')"
   ]
  },
  {
   "cell_type": "code",
   "execution_count": 3,
   "metadata": {},
   "outputs": [],
   "source": [
    "df1 = Data.dropna(axis=0,how='any')\n",
    "#Data.isnull().any();\n",
    "#Data = Data.fillna(method='ffill')\n",
    "Y = df1['Class']\n",
    "X = df1.drop('Class', axis = 1)"
   ]
  },
  {
   "cell_type": "code",
   "execution_count": 4,
   "metadata": {},
   "outputs": [],
   "source": [
    "df1.corr();#no funciona porque el target es categórico"
   ]
  },
  {
   "cell_type": "code",
   "execution_count": 5,
   "metadata": {},
   "outputs": [
    {
     "name": "stderr",
     "output_type": "stream",
     "text": [
      "C:\\Users\\lmosquera\\AppData\\Local\\Continuum\\anaconda3\\lib\\site-packages\\scipy\\stats\\stats.py:1713: FutureWarning: Using a non-tuple sequence for multidimensional indexing is deprecated; use `arr[tuple(seq)]` instead of `arr[seq]`. In the future this will be interpreted as an array index, `arr[np.array(seq)]`, which will result either in an error or a different result.\n",
      "  return np.add.reduce(sorted[indexer] * weights, axis=axis) / sumval\n"
     ]
    },
    {
     "data": {
      "text/plain": [
       "<seaborn.axisgrid.JointGrid at 0x26b19216e80>"
      ]
     },
     "execution_count": 5,
     "metadata": {},
     "output_type": "execute_result"
    },
    {
     "data": {
      "image/png": "[encoded data removed]",
      "text/plain": [
       "<Figure size 432x432 with 3 Axes>"
      ]
     },
     "metadata": {
      "needs_background": "light"
     },
     "output_type": "display_data"
    }
   ],
   "source": [
    "#https://jakevdp.github.io/PythonDataScienceHandbook/04.14-visualization-with-seaborn.html\n",
    "\n",
    "%matplotlib inline\n",
    "sns.jointplot(x=\"Class\",y=\"Open\",data=df1,kind='hex') #kind='hex' kind='kde'"
   ]
  },
  {
   "cell_type": "code",
   "execution_count": 6,
   "metadata": {},
   "outputs": [
    {
     "data": {
      "text/plain": [
       "4075"
      ]
     },
     "execution_count": 6,
     "metadata": {},
     "output_type": "execute_result"
    }
   ],
   "source": [
    "df1.shape\n",
    "len(df1)\n",
    "#len(df1.columns)\n",
    "X.shape[0]"
   ]
  },
  {
   "cell_type": "code",
   "execution_count": 7,
   "metadata": {},
   "outputs": [
    {
     "data": {
      "text/plain": [
       "33"
      ]
     },
     "execution_count": 7,
     "metadata": {},
     "output_type": "execute_result"
    }
   ],
   "source": [
    "Epsilon = 0.2\n",
    "delta = 0.1\n",
    "h_aprox = len(df1.columns)\n",
    "dimVC =h_aprox   # Poner aqui la dimVC\n",
    "def n_est(Epsilon,delta,h_aprox):\n",
    "    return int(np.ceil((1/Epsilon)*(np.log(h_aprox) + np.log(1/delta))))\n",
    "     \n",
    "n=n_est(Epsilon,delta,h_aprox)\n",
    "step=10\n",
    "n"
   ]
  },
  {
   "cell_type": "markdown",
   "metadata": {},
   "source": [
    "### $\\eta$ minimo estimado"
   ]
  },
  {
   "cell_type": "code",
   "execution_count": 24,
   "metadata": {},
   "outputs": [
    {
     "name": "stderr",
     "output_type": "stream",
     "text": [
      "C:\\Users\\lmosquera\\AppData\\Local\\Continuum\\anaconda3\\lib\\site-packages\\sklearn\\model_selection\\_split.py:657: Warning: The least populated class in y has only 2 members, which is too few. The minimum number of members in any class cannot be less than n_splits=3.\n",
      "  % (min_groups, self.n_splits)), Warning)\n",
      "C:\\Users\\lmosquera\\AppData\\Local\\Continuum\\anaconda3\\lib\\site-packages\\sklearn\\model_selection\\_split.py:657: Warning: The least populated class in y has only 1 members, which is too few. The minimum number of members in any class cannot be less than n_splits=3.\n",
      "  % (min_groups, self.n_splits)), Warning)\n"
     ]
    },
    {
     "data": {
      "text/plain": [
       "242"
      ]
     },
     "execution_count": 24,
     "metadata": {},
     "output_type": "execute_result"
    }
   ],
   "source": [
    "Accuracy= []\n",
    "scores=[]\n",
    "LR_m=LogisticRegression(multi_class=\"multinomial\",solver =\"newton-cg\") \n",
    "for i in range (n,int(len(df1)*0.6),step):\n",
    "    X1_tr, X1_t, Y1_tr, Y1_t = train_test_split(X, Y,test_size= i/X.shape[0]*0.4/0.6, train_size = i/X.shape[0], random_state=19)\n",
    "    X1_va, X1_ts, Y1_va, Y1_ts = train_test_split(X1_t, Y1_t, test_size = 0.5, train_size = 0.5, random_state=19)\n",
    "    model = LR_m.fit(X1_tr, Y1_tr)\n",
    "    predictions = LR_m.predict(X1_ts)\n",
    "    Accuracy.append(LR_m.score(X1_ts, Y1_ts))\n",
    "    scores.append(cross_val_score(model, X1_ts, Y1_ts, cv=3))\n",
    "len(Accuracy)"
   ]
  },
  {
   "cell_type": "code",
   "execution_count": 17,
   "metadata": {},
   "outputs": [],
   "source": [
    "a = []\n",
    "for i in range(0,len(scores)): #len(N)-1\n",
    "    i=n+i*step\n",
    "    a.append(i)\n",
    "N=list(range(len(scores)))"
   ]
  },
  {
   "cell_type": "code",
   "execution_count": 25,
   "metadata": {},
   "outputs": [
    {
     "data": {
      "text/plain": [
       "[0.5454545454545454,\n",
       " 0.4,\n",
       " 0.5,\n",
       " 0.5454545454545454,\n",
       " 0.36,\n",
       " 0.4642857142857143,\n",
       " 0.53125,\n",
       " 0.45714285714285713,\n",
       " 0.5263157894736842,\n",
       " 0.42857142857142855,\n",
       " 0.5111111111111111,\n",
       " 0.5208333333333334,\n",
       " 0.4807692307692308,\n",
       " 0.509090909090909,\n",
       " 0.5,\n",
       " 0.5,\n",
       " 0.5076923076923077,\n",
       " 0.5441176470588235,\n",
       " 0.5277777777777778,\n",
       " 0.5866666666666667,\n",
       " 0.6153846153846154,\n",
       " 0.524390243902439,\n",
       " 0.4823529411764706,\n",
       " 0.5568181818181818,\n",
       " 0.5494505494505495,\n",
       " 0.5368421052631579,\n",
       " 0.5102040816326531,\n",
       " 0.5,\n",
       " 0.5238095238095238,\n",
       " 0.6018518518518519,\n",
       " 0.5714285714285714,\n",
       " 0.5826086956521739,\n",
       " 0.576271186440678,\n",
       " 0.5737704918032787,\n",
       " 0.552,\n",
       " 0.6015625,\n",
       " 0.5606060606060606,\n",
       " 0.5407407407407407,\n",
       " 0.5144927536231884,\n",
       " 0.5673758865248227,\n",
       " 0.5172413793103449,\n",
       " 0.5,\n",
       " 0.543046357615894,\n",
       " 0.567741935483871,\n",
       " 0.5379746835443038,\n",
       " 0.5493827160493827,\n",
       " 0.5454545454545454,\n",
       " 0.5833333333333334,\n",
       " 0.5348837209302325,\n",
       " 0.5085714285714286,\n",
       " 0.5168539325842697,\n",
       " 0.510989010989011,\n",
       " 0.5027027027027027,\n",
       " 0.526595744680851,\n",
       " 0.5260416666666666,\n",
       " 0.5435897435897435,\n",
       " 0.5404040404040404,\n",
       " 0.5024875621890548,\n",
       " 0.5365853658536586,\n",
       " 0.5096153846153846,\n",
       " 0.5377358490566038,\n",
       " 0.5209302325581395,\n",
       " 0.5504587155963303,\n",
       " 0.5475113122171946,\n",
       " 0.5244444444444445,\n",
       " 0.5307017543859649,\n",
       " 0.5387931034482759,\n",
       " 0.5191489361702127,\n",
       " 0.5294117647058824,\n",
       " 0.5311203319502075,\n",
       " 0.5306122448979592,\n",
       " 0.532258064516129,\n",
       " 0.5119047619047619,\n",
       " 0.5215686274509804,\n",
       " 0.5077519379844961,\n",
       " 0.4942528735632184,\n",
       " 0.5169811320754717,\n",
       " 0.5149253731343284,\n",
       " 0.4889705882352941,\n",
       " 0.48727272727272725,\n",
       " 0.5035971223021583,\n",
       " 0.4716312056737589,\n",
       " 0.5052631578947369,\n",
       " 0.5173611111111112,\n",
       " 0.5102739726027398,\n",
       " 0.5254237288135594,\n",
       " 0.5134228187919463,\n",
       " 0.5264900662251656,\n",
       " 0.5475409836065573,\n",
       " 0.5,\n",
       " 0.4935897435897436,\n",
       " 0.4888888888888889,\n",
       " 0.5062893081761006,\n",
       " 0.5062111801242236,\n",
       " 0.5015384615384615,\n",
       " 0.5121951219512195,\n",
       " 0.4879518072289157,\n",
       " 0.5044776119402985,\n",
       " 0.5088757396449705,\n",
       " 0.5043988269794721,\n",
       " 0.5362318840579711,\n",
       " 0.514367816091954,\n",
       " 0.5142045454545454,\n",
       " 0.5183098591549296,\n",
       " 0.5251396648044693,\n",
       " 0.505524861878453,\n",
       " 0.5260273972602739,\n",
       " 0.5108695652173914,\n",
       " 0.5134408602150538,\n",
       " 0.5253333333333333,\n",
       " 0.48677248677248675,\n",
       " 0.518324607329843,\n",
       " 0.5298701298701298,\n",
       " 0.5154639175257731,\n",
       " 0.5063938618925832,\n",
       " 0.5164556962025316,\n",
       " 0.5276381909547738,\n",
       " 0.5248756218905473,\n",
       " 0.5111111111111111,\n",
       " 0.5098039215686274,\n",
       " 0.5255474452554745,\n",
       " 0.5108433734939759,\n",
       " 0.5239234449760766,\n",
       " 0.5273159144893111,\n",
       " 0.5270588235294118,\n",
       " 0.5257009345794392,\n",
       " 0.5266821345707656,\n",
       " 0.5218390804597701,\n",
       " 0.5273972602739726,\n",
       " 0.5180995475113123,\n",
       " 0.5325842696629214,\n",
       " 0.5223214285714286,\n",
       " 0.5309734513274337,\n",
       " 0.5208791208791209,\n",
       " 0.5109170305676856,\n",
       " 0.5206073752711496,\n",
       " 0.5333333333333333,\n",
       " 0.5341880341880342,\n",
       " 0.5201698513800425,\n",
       " 0.5136842105263157,\n",
       " 0.5209205020920502,\n",
       " 0.5135135135135135,\n",
       " 0.5298969072164949,\n",
       " 0.5061475409836066,\n",
       " 0.5426829268292683,\n",
       " 0.5292929292929293,\n",
       " 0.5240963855421686,\n",
       " 0.5318725099601593,\n",
       " 0.5188118811881188,\n",
       " 0.5236220472440944,\n",
       " 0.5303326810176126,\n",
       " 0.5339805825242718,\n",
       " 0.5115830115830116,\n",
       " 0.5172413793103449,\n",
       " 0.5238095238095238,\n",
       " 0.5189393939393939,\n",
       " 0.5357142857142857,\n",
       " 0.5289719626168224,\n",
       " 0.5297397769516728,\n",
       " 0.5202952029520295,\n",
       " 0.5339449541284403,\n",
       " 0.5237226277372263,\n",
       " 0.5408348457350273,\n",
       " 0.5495495495495496,\n",
       " 0.5394265232974911,\n",
       " 0.5302491103202847,\n",
       " 0.5398230088495575,\n",
       " 0.5369718309859155,\n",
       " 0.5297202797202797,\n",
       " 0.5304347826086957,\n",
       " 0.5484429065743944,\n",
       " 0.5412371134020618,\n",
       " 0.5418803418803418,\n",
       " 0.5340136054421769,\n",
       " 0.5405405405405406,\n",
       " 0.5260504201680672,\n",
       " 0.5384615384615384,\n",
       " 0.5481727574750831,\n",
       " 0.540495867768595,\n",
       " 0.5263157894736842,\n",
       " 0.5400981996726678,\n",
       " 0.5138211382113821,\n",
       " 0.5323624595469255,\n",
       " 0.534621578099839,\n",
       " 0.5504,\n",
       " 0.5461783439490446,\n",
       " 0.5443037974683544,\n",
       " 0.5496062992125984,\n",
       " 0.5454545454545454,\n",
       " 0.5522620904836193,\n",
       " 0.537984496124031,\n",
       " 0.5370370370370371,\n",
       " 0.5407066052227343,\n",
       " 0.5297709923664122,\n",
       " 0.5455927051671733,\n",
       " 0.5377643504531722,\n",
       " 0.5383458646616541,\n",
       " 0.5449101796407185,\n",
       " 0.5505952380952381,\n",
       " 0.5362962962962963,\n",
       " 0.5530973451327433,\n",
       " 0.5550660792951542,\n",
       " 0.5372262773722628,\n",
       " 0.5537790697674418,\n",
       " 0.5433526011560693,\n",
       " 0.5482014388489208,\n",
       " 0.5487106017191977,\n",
       " 0.5534950071326676,\n",
       " 0.5546099290780142,\n",
       " 0.5494350282485876,\n",
       " 0.5393258426966292,\n",
       " 0.5468531468531469,\n",
       " 0.5376044568245125,\n",
       " 0.5395284327323162,\n",
       " 0.5544827586206896,\n",
       " 0.5618131868131868,\n",
       " 0.5519125683060109,\n",
       " 0.545578231292517,\n",
       " 0.5650406504065041,\n",
       " 0.5398110661268556,\n",
       " 0.5570469798657718,\n",
       " 0.5614973262032086,\n",
       " 0.5446071904127829,\n",
       " 0.5443708609271524,\n",
       " 0.5554089709762533,\n",
       " 0.5459317585301837,\n",
       " 0.5437908496732026,\n",
       " 0.5494791666666666,\n",
       " 0.5582901554404145,\n",
       " 0.5470967741935484,\n",
       " 0.5552699228791774,\n",
       " 0.5339308578745199,\n",
       " 0.5515923566878981,\n",
       " 0.5444162436548223,\n",
       " 0.5542929292929293,\n",
       " 0.5371069182389937,\n",
       " 0.5451127819548872,\n",
       " 0.5555555555555556,\n",
       " 0.5490683229813664,\n",
       " 0.5420792079207921,\n",
       " 0.5369458128078818,\n",
       " 0.5337423312883436]"
      ]
     },
     "execution_count": 25,
     "metadata": {},
     "output_type": "execute_result"
    }
   ],
   "source": [
    "Accuracy"
   ]
  },
  {
   "cell_type": "code",
   "execution_count": 26,
   "metadata": {},
   "outputs": [
    {
     "data": {
      "text/plain": [
       "[<matplotlib.lines.Line2D at 0x26b1ab31b00>]"
      ]
     },
     "execution_count": 26,
     "metadata": {},
     "output_type": "execute_result"
    },
    {
     "data": {
      "image/png": "[encoded data removed]",
      "text/plain": [
       "<Figure size 432x288 with 1 Axes>"
      ]
     },
     "metadata": {
      "needs_background": "light"
     },
     "output_type": "display_data"
    }
   ],
   "source": [
    "plt.plot(a,Accuracy)"
   ]
  },
  {
   "cell_type": "code",
   "execution_count": 30,
   "metadata": {},
   "outputs": [
    {
     "data": {
      "image/png": "[encoded data removed]",
      "text/plain": [
       "<Figure size 432x288 with 1 Axes>"
      ]
     },
     "metadata": {
      "needs_background": "light"
     },
     "output_type": "display_data"
    }
   ],
   "source": [
    "#plt.scatter(X2_ts, Y2_ts,  color='gray')\n",
    "plt.plot(X1_ts, predictions, color='red') #, linewidth=2\n",
    "plt.show()"
   ]
  },
  {
   "cell_type": "code",
   "execution_count": 31,
   "metadata": {},
   "outputs": [
    {
     "name": "stdout",
     "output_type": "stream",
     "text": [
      "Mean Absolute Error: 0.5533742331288344\n",
      "Mean Squared Error: 0.7276073619631902\n",
      "Root Mean Squared Error: 0.8529990398372029\n"
     ]
    }
   ],
   "source": [
    "print('Mean Absolute Error:', metrics.mean_absolute_error(Y1_ts, predictions))  \n",
    "print('Mean Squared Error:', metrics.mean_squared_error(Y1_ts, predictions))  \n",
    "print('Root Mean Squared Error:', np.sqrt(metrics.mean_squared_error(Y1_ts, predictions)))"
   ]
  },
  {
   "cell_type": "code",
   "execution_count": 33,
   "metadata": {},
   "outputs": [
    {
     "data": {
      "text/plain": [
       "3"
      ]
     },
     "execution_count": 33,
     "metadata": {},
     "output_type": "execute_result"
    }
   ],
   "source": [
    "# Binarize the output no se utiliza\n",
    "y = label_binarize(Y, classes=[-1, 0, 1])\n",
    "n_classes = y.shape[1]\n",
    "n_classes"
   ]
  },
  {
   "cell_type": "code",
   "execution_count": 34,
   "metadata": {},
   "outputs": [],
   "source": [
    "Xb_tr, Xb_o, Yb_tr, Yb_o = train_test_split(X, Y,test_size=0.4,train_size=0.6,random_state=19)  \n",
    "Xb_va, Xb_ts, Yb_va, Yb_ts = train_test_split(Xb_o, Yb_o, test_size=0.5, train_size = 0.5, random_state=19)  "
   ]
  },
  {
   "cell_type": "code",
   "execution_count": 39,
   "metadata": {},
   "outputs": [
    {
     "name": "stderr",
     "output_type": "stream",
     "text": [
      "C:\\Users\\lmosquera\\AppData\\Local\\Continuum\\anaconda3\\lib\\site-packages\\sklearn\\linear_model\\logistic.py:432: FutureWarning: Default solver will be changed to 'lbfgs' in 0.22. Specify a solver to silence this warning.\n",
      "  FutureWarning)\n",
      "C:\\Users\\lmosquera\\AppData\\Local\\Continuum\\anaconda3\\lib\\site-packages\\sklearn\\linear_model\\logistic.py:469: FutureWarning: Default multi_class will be changed to 'auto' in 0.22. Specify the multi_class option to silence this warning.\n",
      "  \"this warning.\", FutureWarning)\n"
     ]
    },
    {
     "data": {
      "text/plain": [
       "LogisticRegression(C=1.0, class_weight=None, dual=False, fit_intercept=True,\n",
       "                   intercept_scaling=1, l1_ratio=None, max_iter=100,\n",
       "                   multi_class='warn', n_jobs=None, penalty='l2',\n",
       "                   random_state=None, solver='warn', tol=0.0001, verbose=0,\n",
       "                   warm_start=False)"
      ]
     },
     "execution_count": 39,
     "metadata": {},
     "output_type": "execute_result"
    }
   ],
   "source": [
    "logreg = LogisticRegression()\n",
    "logreg.fit(Xb_tr, Yb_tr)"
   ]
  },
  {
   "cell_type": "code",
   "execution_count": 42,
   "metadata": {},
   "outputs": [
    {
     "name": "stdout",
     "output_type": "stream",
     "text": [
      "Misclassified samples: 380\n",
      "Accuracy: 0.53\n"
     ]
    }
   ],
   "source": [
    "# use the model to make predictions with the test data\n",
    "y_pred = model.predict(Xb_ts)\n",
    "# how did our model perform?\n",
    "count_misclassified = (Yb_ts != y_pred).sum()\n",
    "print('Misclassified samples: {}'.format(count_misclassified))\n",
    "accuracy = metrics.accuracy_score(Yb_ts, y_pred)\n",
    "print('Accuracy: {:.2f}'.format(accuracy))"
   ]
  },
  {
   "cell_type": "code",
   "execution_count": 52,
   "metadata": {},
   "outputs": [],
   "source": [
    "y_pred_lg=logreg.predict(Xb_ts)\n",
    "Precision=precision_score(y_pred_lg, Yb_ts, average='macro')  \n",
    "Recall=recall_score(Yb_ts, y_pred_lg, average='micro')\n",
    "#f1_score=f1_score(Yb_ts, y_pred_lg, average='weighted')  \n",
    "#fbeta_score=fbeta_score(Yb_ts, y_pred_lg, average='macro', beta=0.5)  \n",
    "#precision_recall_fscore_support=precision_recall_fscore_support(Yb_ts, y_pred_lg, beta=0.5, average=None)\n"
   ]
  },
  {
   "cell_type": "code",
   "execution_count": 54,
   "metadata": {},
   "outputs": [
    {
     "data": {
      "text/plain": [
       "array([[ 52, 114,  15],\n",
       "       [ 47, 354,  23],\n",
       "       [ 57, 125,  28]], dtype=int64)"
      ]
     },
     "execution_count": 54,
     "metadata": {},
     "output_type": "execute_result"
    }
   ],
   "source": [
    "# import the metrics class\n",
    "from sklearn import metrics\n",
    "cnf_matrix = metrics.confusion_matrix(Yb_ts, y_pred_lg)\n",
    "cnf_matrix"
   ]
  },
  {
   "cell_type": "code",
   "execution_count": 55,
   "metadata": {},
   "outputs": [
    {
     "data": {
      "text/plain": [
       "Text(0.5, 257.44, 'Predicted label')"
      ]
     },
     "execution_count": 55,
     "metadata": {},
     "output_type": "execute_result"
    },
    {
     "data": {
      "image/png": "[encoded data removed]",
      "text/plain": [
       "<Figure size 432x288 with 2 Axes>"
      ]
     },
     "metadata": {
      "needs_background": "light"
     },
     "output_type": "display_data"
    }
   ],
   "source": [
    "class_names=[-1,0,1] # name  of classes\n",
    "fig, ax = plt.subplots()\n",
    "tick_marks = np.arange(len(class_names))\n",
    "plt.xticks(tick_marks, class_names)\n",
    "plt.yticks(tick_marks, class_names)\n",
    "# create heatmap\n",
    "sns.heatmap(pd.DataFrame(cnf_matrix), annot=True, cmap=\"YlGnBu\" ,fmt='g')\n",
    "ax.xaxis.set_label_position(\"top\")\n",
    "plt.tight_layout()\n",
    "plt.title('Confusion matrix', y=1.1)\n",
    "plt.ylabel('Actual label')\n",
    "plt.xlabel('Predicted label')"
   ]
  },
  {
   "cell_type": "code",
   "execution_count": 56,
   "metadata": {},
   "outputs": [
    {
     "name": "stdout",
     "output_type": "stream",
     "text": [
      "Accuracy: 0.5325153374233129\n",
      "Precision: 0.5325153374233129\n",
      "Recall: 0.5325153374233129\n"
     ]
    }
   ],
   "source": [
    "print(\"Accuracy:\",metrics.accuracy_score(Yb_ts, y_pred_lg))\n",
    "print(\"Precision:\",metrics.precision_score(Yb_ts, y_pred_lg,average=\"micro\"))\n",
    "print(\"Recall:\",metrics.recall_score(Yb_ts, y_pred_lg,average=\"micro\"))"
   ]
  },
  {
   "cell_type": "code",
   "execution_count": 59,
   "metadata": {},
   "outputs": [],
   "source": [
    "#INTENTANDO QUE RECONOZCA TRES ESTADOS\n",
    "LR_m=LogisticRegression(multi_class=\"multinomial\",solver =\"newton-cg\").fit(Xb_tr, Yb_tr,)\n",
    "#\n",
    "y_pred_LM=LR_m.predict( Xb_o,)"
   ]
  },
  {
   "cell_type": "code",
   "execution_count": 62,
   "metadata": {},
   "outputs": [
    {
     "data": {
      "text/plain": [
       "array([[136, 228,  49],\n",
       "       [109, 667,  39],\n",
       "       [103, 228,  71]], dtype=int64)"
      ]
     },
     "execution_count": 62,
     "metadata": {},
     "output_type": "execute_result"
    }
   ],
   "source": [
    "cnf_matrix_m = metrics.confusion_matrix(Yb_o, y_pred_LM)\n",
    "cnf_matrix_m"
   ]
  },
  {
   "cell_type": "code",
   "execution_count": 63,
   "metadata": {},
   "outputs": [
    {
     "data": {
      "text/plain": [
       "Text(0.5, 257.44, 'Predicted label')"
      ]
     },
     "execution_count": 63,
     "metadata": {},
     "output_type": "execute_result"
    },
    {
     "data": {
      "image/png": "[encoded data removed]",
      "text/plain": [
       "<Figure size 432x288 with 2 Axes>"
      ]
     },
     "metadata": {
      "needs_background": "light"
     },
     "output_type": "display_data"
    }
   ],
   "source": [
    "class_names=[-1,0,1] # name  of classes\n",
    "fig, ax = plt.subplots()\n",
    "tick_marks = np.arange(len(class_names))\n",
    "plt.xticks(tick_marks, class_names)\n",
    "plt.yticks(tick_marks, class_names)\n",
    "# create heatmap\n",
    "sns.heatmap(pd.DataFrame(cnf_matrix_m), annot=True, cmap=\"YlGnBu\" ,fmt='g')\n",
    "ax.xaxis.set_label_position(\"top\")\n",
    "plt.tight_layout()\n",
    "plt.title('Confusion matrix', y=1.1)\n",
    "plt.ylabel('Actual label')\n",
    "plt.xlabel('Predicted label')"
   ]
  },
  {
   "cell_type": "code",
   "execution_count": 64,
   "metadata": {},
   "outputs": [],
   "source": [
    "from sklearn.metrics import precision_recall_curve, average_precision_score, precision_score, recall_score\n",
    "from sklearn.metrics import f1_score,fbeta_score,precision_recall_fscore_support"
   ]
  },
  {
   "cell_type": "code",
   "execution_count": 66,
   "metadata": {},
   "outputs": [],
   "source": [
    "Precision=precision_score(y_pred_LM, Yb_o, average='macro')  \n",
    "Recall=recall_score(Yb_o, y_pred_LM, average='micro')\n",
    "f1_score=f1_score(Yb_o, y_pred_LM, average='weighted')  \n",
    "fbeta_score=fbeta_score(Yb_o, y_pred_LM, average='macro', beta=0.5)  \n",
    "precision_recall_fscore_support=precision_recall_fscore_support(Yb_o, y_pred_LM, beta=0.5, average=None)"
   ]
  },
  {
   "cell_type": "code",
   "execution_count": 67,
   "metadata": {},
   "outputs": [
    {
     "name": "stdout",
     "output_type": "stream",
     "text": [
      "precisión: 0.44143988140719675\n",
      "Recall: 0.5361963190184049\n",
      "f1_score  : 0.497157163851381\n",
      "fbeta_score  : 0.44905015201668447\n",
      "precision_recall_fscore_support: (array([0.3908046 , 0.59394479, 0.44654088]), array([0.32929782, 0.81840491, 0.17661692]), array([0.3767313 , 0.6284153 , 0.34200385]), array([413, 815, 402], dtype=int64))\n"
     ]
    }
   ],
   "source": [
    "print('precisión:' , Precision)\n",
    "print('Recall:' ,Recall)\n",
    "print('f1_score  :' , f1_score)\n",
    "print('fbeta_score  :' , fbeta_score)\n",
    "print('precision_recall_fscore_support:' ,precision_recall_fscore_support)\n"
   ]
  },
  {
   "cell_type": "code",
   "execution_count": 69,
   "metadata": {},
   "outputs": [
    {
     "name": "stdout",
     "output_type": "stream",
     "text": [
      "              precision    recall  f1-score   support\n",
      "\n",
      "      Vender       0.39      0.33      0.36       413\n",
      "     Esperar       0.59      0.82      0.69       815\n",
      "     Comprar       0.45      0.18      0.25       402\n",
      "\n",
      "    accuracy                           0.54      1630\n",
      "   macro avg       0.48      0.44      0.43      1630\n",
      "weighted avg       0.51      0.54      0.50      1630\n",
      "\n"
     ]
    }
   ],
   "source": [
    "target_names = ['Vender', 'Esperar', 'Comprar']\n",
    "print(classification_report(Yb_o, y_pred_LM, target_names=target_names))"
   ]
  },
  {
   "cell_type": "markdown",
   "metadata": {},
   "source": [
    "# curvas ROC"
   ]
  },
  {
   "cell_type": "code",
   "execution_count": 70,
   "metadata": {},
   "outputs": [],
   "source": [
    "X_train, X_test, y_train, y_test = train_test_split(X, y,test_size=0.3,train_size=0.7,random_state=19)  \n",
    "Xb_va, Xb_ts, Yb_va, Yb_ts = train_test_split(Xb_o, Yb_o, test_size=0.5, train_size = 0.5, random_state=19) "
   ]
  },
  {
   "cell_type": "code",
   "execution_count": 76,
   "metadata": {},
   "outputs": [],
   "source": [
    "classifier2 = OneVsRestClassifier((LogisticRegression(multi_class=\"multinomial\",solver =\"newton-cg\") ))\n",
    "y_score = classifier2.fit(X_train, y_train).predict_proba(X_test)"
   ]
  },
  {
   "cell_type": "code",
   "execution_count": 78,
   "metadata": {},
   "outputs": [],
   "source": [
    "fpr = dict()\n",
    "tpr = dict()\n",
    "roc_auc = dict()\n",
    "for i in range(n_classes):\n",
    "    fpr[i], tpr[i], _ = roc_curve(y_test[:, i], y_score[:, i])\n",
    "    roc_auc[i] = auc(fpr[i], tpr[i])\n",
    "colors = cycle(['blue', 'red', 'green'])"
   ]
  },
  {
   "cell_type": "code",
   "execution_count": 83,
   "metadata": {},
   "outputs": [],
   "source": [
    "# Compute micro-average ROC curve and ROC area\n",
    "fpr[\"micro\"], tpr[\"micro\"], _ = roc_curve(y_test.ravel(), y_score.ravel())\n",
    "roc_auc[\"micro\"] = auc(fpr[\"micro\"], tpr[\"micro\"])"
   ]
  },
  {
   "cell_type": "code",
   "execution_count": 86,
   "metadata": {},
   "outputs": [
    {
     "data": {
      "image/png": "[encoded data removed]",
      "text/plain": [
       "<Figure size 432x288 with 1 Axes>"
      ]
     },
     "metadata": {
      "needs_background": "light"
     },
     "output_type": "display_data"
    }
   ],
   "source": [
    "plt.figure()\n",
    "lw = 2\n",
    "plt.plot(fpr[2], tpr[2], color='darkorange',\n",
    "         lw=lw, label='ROC curve (area = %0.2f)' % roc_auc[2])\n",
    "plt.plot([0, 1], [0, 1], color='navy', lw=lw, linestyle='--')\n",
    "plt.xlim([0.0, 1.0])\n",
    "plt.ylim([0.0, 1.05])\n",
    "plt.xlabel('False Positive Rate')\n",
    "plt.ylabel('True Positive Rate')\n",
    "plt.title('Receiver operating characteristic example- Logic')\n",
    "plt.legend(loc=\"lower right\")\n",
    "plt.show()"
   ]
  },
  {
   "cell_type": "code",
   "execution_count": 85,
   "metadata": {},
   "outputs": [
    {
     "data": {
      "image/png": "[encoded data removed]",
      "text/plain": [
       "<Figure size 432x288 with 1 Axes>"
      ]
     },
     "metadata": {
      "needs_background": "light"
     },
     "output_type": "display_data"
    }
   ],
   "source": [
    "from scipy import interp\n",
    "# Compute macro-average ROC curve and ROC area\n",
    "\n",
    "# First aggregate all false positive rates\n",
    "all_fpr = np.unique(np.concatenate([fpr[i] for i in range(n_classes)]))\n",
    "\n",
    "# Then interpolate all ROC curves at this points\n",
    "mean_tpr = np.zeros_like(all_fpr)\n",
    "for i in range(n_classes):\n",
    "    mean_tpr += interp(all_fpr, fpr[i], tpr[i])\n",
    "\n",
    "# Finally average it and compute AUC\n",
    "mean_tpr /= n_classes\n",
    "\n",
    "fpr[\"macro\"] = all_fpr\n",
    "tpr[\"macro\"] = mean_tpr\n",
    "roc_auc[\"macro\"] = auc(fpr[\"macro\"], tpr[\"macro\"])\n",
    "\n",
    "# Plot all ROC curves\n",
    "plt.figure()\n",
    "plt.plot(fpr['micro'], tpr['micro'],\n",
    "         label='micro-average ROC curve (area = {0:0.2f})'\n",
    "               ''.format(roc_auc['micro']),\n",
    "         color='deeppink', linestyle=':', linewidth=4)\n",
    "\n",
    "plt.plot(fpr['macro'], tpr['macro'],\n",
    "         label='macro-average ROC curve (area = {0:0.2f})'\n",
    "               ''.format(roc_auc['macro']),\n",
    "         color='navy', linestyle=':', linewidth=4)\n",
    "\n",
    "colors = cycle(['aqua', 'darkorange', 'cornflowerblue'])\n",
    "for i, color in zip(range(n_classes), colors):\n",
    "    plt.plot(fpr[i], tpr[i], color=color, lw=lw,\n",
    "             label='ROC curve of class {0} (area = {1:0.2f})'\n",
    "             ''.format(i, roc_auc[i]))\n",
    "\n",
    "plt.plot([0, 1], [0, 1], 'k--', lw=lw)\n",
    "plt.xlim([0.0, 1.0])\n",
    "plt.ylim([0.0, 1.05])\n",
    "plt.xlabel('False Positive Rate')\n",
    "plt.ylabel('True Positive Rate')\n",
    "plt.title('Some extension of Receiver operating characteristic to multi-class_Logic')\n",
    "plt.legend(loc=\"lower right\")\n",
    "plt.show()"
   ]
  },
  {
   "cell_type": "code",
   "execution_count": null,
   "metadata": {},
   "outputs": [],
   "source": []
  }
 ],
 "metadata": {
  "kernelspec": {
   "display_name": "Python 3",
   "language": "python",
   "name": "python3"
  },
  "language_info": {
   "codemirror_mode": {
    "name": "ipython",
    "version": 3
   },
   "file_extension": ".py",
   "mimetype": "text/x-python",
   "name": "python",
   "nbconvert_exporter": "python",
   "pygments_lexer": "ipython3",
   "version": "3.7.1"
  }
 },
 "nbformat": 4,
 "nbformat_minor": 2
}
