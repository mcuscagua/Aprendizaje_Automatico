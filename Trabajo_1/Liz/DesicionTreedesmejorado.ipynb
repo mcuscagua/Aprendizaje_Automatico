{
 "cells": [
  {
   "cell_type": "code",
   "execution_count": 1,
   "metadata": {},
   "outputs": [],
   "source": [
    "# Imports needed for the script\n",
    "import numpy as np\n",
    "import pandas as pd\n",
    "import itertools as it\n",
    "import seaborn as sns\n",
    "# from sklearn.tree import DecisionTreeClassifier as DTC\n",
    "\n",
    "from Orange.classification import tree\n",
    "\n",
    "from sklearn import metrics #Import scikit-learn metrics module for accuracy calculation\n",
    "from sklearn.model_selection import train_test_split\n",
    "from sklearn.metrics import accuracy_score, confusion_matrix\n",
    "from sklearn.model_selection import KFold\n",
    "from sklearn.model_selection import cross_val_score\n",
    "from sklearn import tree\n",
    "from sklearn.tree import DecisionTreeClassifier # Import Decision Tree Classifier\n",
    "\n",
    "from IPython.display import Image as PImage\n",
    "from subprocess import check_call\n",
    "from PIL import Image, ImageDraw, ImageFont\n",
    "import matplotlib.pyplot as plt\n",
    "%matplotlib inline\n",
    "plt.rcParams['figure.figsize'] = (16, 9)\n",
    "plt.style.use('ggplot')"
   ]
  },
  {
   "cell_type": "code",
   "execution_count": 2,
   "metadata": {},
   "outputs": [
    {
     "data": {
      "text/plain": [
       "Class\n",
       "-1    1111\n",
       " 0    2001\n",
       " 1     963\n",
       "dtype: int64"
      ]
     },
     "execution_count": 2,
     "metadata": {},
     "output_type": "execute_result"
    }
   ],
   "source": [
    "Data = pd.read_excel('Data.xlsx')\n",
    "Data = Data.set_index('Date')\n",
    "#Data.isnull().any()\n",
    "#Data = Data.fillna(method='ffill')\n",
    "df1 = Data.dropna(axis=0,how='any')\n",
    "Y = df1['Class']\n",
    "X = df1.drop('Class', axis = 1)\n",
    "df1.groupby('Class').size()"
   ]
  },
  {
   "cell_type": "code",
   "execution_count": 3,
   "metadata": {},
   "outputs": [
    {
     "name": "stderr",
     "output_type": "stream",
     "text": [
      "C:\\Users\\lmosquera\\AppData\\Local\\Continuum\\anaconda3\\lib\\site-packages\\seaborn\\categorical.py:3666: UserWarning: The `factorplot` function has been renamed to `catplot`. The original name will be removed in a future release. Please update your code. Note that the default `kind` in `factorplot` (`'point'`) has changed `'strip'` in `catplot`.\n",
      "  warnings.warn(msg)\n"
     ]
    },
    {
     "data": {
      "text/plain": [
       "<seaborn.axisgrid.FacetGrid at 0x141fdc2df60>"
      ]
     },
     "execution_count": 3,
     "metadata": {},
     "output_type": "execute_result"
    },
    {
     "data": {
      "image/png": "[encoded data removed]",
      "text/plain": [
       "<Figure size 360x360 with 1 Axes>"
      ]
     },
     "metadata": {
      "needs_background": "light"
     },
     "output_type": "display_data"
    }
   ],
   "source": [
    "sns.factorplot('Class',data=df1,kind=\"count\")"
   ]
  },
  {
   "cell_type": "code",
   "execution_count": 5,
   "metadata": {},
   "outputs": [],
   "source": [
    "#Por el momento no se utiliza ninguna de estas variables\n",
    "cv = KFold(n_splits=10) # Numero deseado de \"folds\" que haremos\n",
    "accuracies = list()"
   ]
  },
  {
   "cell_type": "markdown",
   "metadata": {},
   "source": [
    "### $\\eta$ minimo estimado"
   ]
  },
  {
   "cell_type": "code",
   "execution_count": 6,
   "metadata": {},
   "outputs": [],
   "source": [
    "Hpyer_Parameters = [[i for i in range(1,5)], # max_depth sin embargo dada la cantidad de datos la profundidad maxima es de 5\n",
    "                    [i for i in range(1,100)]] # min_samples_leaf\n",
    "set_parameters = [i for i in it.product(*Hpyer_Parameters)]\n",
    "\n",
    "Epsilon = 0.2 #error real\n",
    "delta = 0.1  #error de entrenamiento\n",
    "\n",
    "h_aprox = len(set_parameters) #hipotesis para una regresión lineal\n",
    "#n =   # Poner aqui la dimVC\n",
    "#len(Hpyer_Parameters)\n",
    "#h_aprox"
   ]
  },
  {
   "cell_type": "code",
   "execution_count": 7,
   "metadata": {},
   "outputs": [
    {
     "data": {
      "text/html": [
       "<div>\n",
       "<style scoped>\n",
       "    .dataframe tbody tr th:only-of-type {\n",
       "        vertical-align: middle;\n",
       "    }\n",
       "\n",
       "    .dataframe tbody tr th {\n",
       "        vertical-align: top;\n",
       "    }\n",
       "\n",
       "    .dataframe thead th {\n",
       "        text-align: right;\n",
       "    }\n",
       "</style>\n",
       "<table border=\"1\" class=\"dataframe\">\n",
       "  <thead>\n",
       "    <tr style=\"text-align: right;\">\n",
       "      <th></th>\n",
       "      <th>0</th>\n",
       "    </tr>\n",
       "  </thead>\n",
       "  <tbody>\n",
       "    <tr>\n",
       "      <th>0</th>\n",
       "      <td>28.0</td>\n",
       "    </tr>\n",
       "    <tr>\n",
       "      <th>1</th>\n",
       "      <td>89.0</td>\n",
       "    </tr>\n",
       "    <tr>\n",
       "      <th>2</th>\n",
       "      <td>212.0</td>\n",
       "    </tr>\n",
       "    <tr>\n",
       "      <th>3</th>\n",
       "      <td>457.0</td>\n",
       "    </tr>\n",
       "    <tr>\n",
       "      <th>4</th>\n",
       "      <td>946.0</td>\n",
       "    </tr>\n",
       "    <tr>\n",
       "      <th>5</th>\n",
       "      <td>1926.0</td>\n",
       "    </tr>\n",
       "    <tr>\n",
       "      <th>6</th>\n",
       "      <td>3885.0</td>\n",
       "    </tr>\n",
       "    <tr>\n",
       "      <th>7</th>\n",
       "      <td>7803.0</td>\n",
       "    </tr>\n",
       "  </tbody>\n",
       "</table>\n",
       "</div>"
      ],
      "text/plain": [
       "        0\n",
       "0    28.0\n",
       "1    89.0\n",
       "2   212.0\n",
       "3   457.0\n",
       "4   946.0\n",
       "5  1926.0\n",
       "6  3885.0\n",
       "7  7803.0"
      ]
     },
     "execution_count": 7,
     "metadata": {},
     "output_type": "execute_result"
    }
   ],
   "source": [
    "muestra=np.zeros(8)\n",
    "num=list(range(8))\n",
    "max_attributes = len(list(df1)) #esta si se usa\n",
    "depth_range = range(1, max_attributes + 1)\n",
    "def m_opt_tree(k,delta,Epsilon,max_attributes):\n",
    "            return int((np.log(2)/(2*Epsilon**2))*(((2**k)-1)*(1+np.log2(max_attributes-1))+1+np.log(1/delta)))\n",
    "for k in range(0,8): #profundidad del arbol\n",
    "    muestra[k]=(m_opt_tree(k,delta,Epsilon,max_attributes))\n",
    "muestra #muestra minima para entrenar un arbol de las diferentes profundidades\n",
    "min_n=pd.DataFrame(muestra,num)\n",
    "min_n"
   ]
  },
  {
   "cell_type": "markdown",
   "metadata": {},
   "source": [
    "Dado que mi cantidad de datos es 4075 solo puedo entregar arboles de maxima profundidad de 5. el 60% de los datos que necesito para entrenar el modelo maximo podría tomar 2455 datos, por lo que una profundidad de 6 ya no aplica."
   ]
  },
  {
   "cell_type": "code",
   "execution_count": 8,
   "metadata": {},
   "outputs": [],
   "source": [
    "n=int(muestra[5])\n",
    "#X1_tr, X1_ts, Y1_tr, Y1_ts = train_test_split(X, Y, test_size=((n/X.shape[0])*0.4/0.6), train_size = n/X.shape[0],random_state=19)\n",
    "#X1_va, X1_ts, Y1_va, Y1_ts = train_test_split(X1_ts, Y1_ts, train_size = 0.5, random_state=19)"
   ]
  },
  {
   "cell_type": "code",
   "execution_count": 9,
   "metadata": {},
   "outputs": [],
   "source": [
    "X1_tr, X1_ts, Y1_tr, Y1_ts = train_test_split(X, Y, test_size=0.6, train_size = 0.4,random_state=19)\n",
    "X1_va, X1_ts, Y1_va, Y1_ts = train_test_split(X1_ts, Y1_ts, test_size=0.5,train_size = 0.5, random_state=19)"
   ]
  },
  {
   "cell_type": "code",
   "execution_count": 10,
   "metadata": {},
   "outputs": [
    {
     "data": {
      "text/plain": [
       "(3, 96)"
      ]
     },
     "execution_count": 10,
     "metadata": {},
     "output_type": "execute_result"
    }
   ],
   "source": [
    "#parametros para encontrar el mejor arbol\n",
    "#Profundidad=5\n",
    "best_accur=np.zeros(len(set_parameters))\n",
    "for i in range(len(set_parameters)):\n",
    "    dtc = DecisionTreeClassifier(max_depth = set_parameters[i][0], min_samples_leaf= set_parameters[i][1], random_state=19)\n",
    "    dtc.fit(X1_tr, Y1_tr)\n",
    "    y_pred = dtc.predict(X1_ts)\n",
    "    best_accur[i]=accuracy_score(Y1_ts, y_pred)\n",
    "ind_bst = np.where(best_accur == np.amax(best_accur))[0][0]\n",
    "ind_bst\n",
    "set_parameters[ind_bst]\n",
    "#n_est_mod_results['Best'] = set_parameters[ind_bst]       "
   ]
  },
  {
   "cell_type": "code",
   "execution_count": 11,
   "metadata": {},
   "outputs": [],
   "source": [
    "Prof=set_parameters[ind_bst][0]\n",
    "n=int(muestra[set_parameters[ind_bst][0]])\n",
    "n\n",
    "step=10"
   ]
  },
  {
   "cell_type": "code",
   "execution_count": 12,
   "metadata": {},
   "outputs": [],
   "source": [
    "accur=np.zeros(int((len(X)*0.6)/step))\n",
    "Conf_Mat= np.zeros((int((len(X)*0.6)/step),3,3))\n",
    "R_rta=pd.DataFrame(accur,Conf_Mat)\n",
    "R_rta.all()\n",
    "accur\n",
    "num=list(range(len(accur)))\n",
    "#Conf_Mat"
   ]
  },
  {
   "cell_type": "code",
   "execution_count": 13,
   "metadata": {},
   "outputs": [
    {
     "data": {
      "text/plain": [
       "range(457, 2445, 10)"
      ]
     },
     "execution_count": 13,
     "metadata": {},
     "output_type": "execute_result"
    }
   ],
   "source": [
    "N=range(n,round(len(X)*0.6),step) #round(len(X)) se multiplica por 0.6 que es el maximo de datos que puedo utilizar para\n",
    "#que el modelo aprenda N[198] X.shape[0]\n",
    "#N[198]/X.shape[0]*0.4/0.6+N[198]/X.shape[0]\n",
    "N"
   ]
  },
  {
   "cell_type": "code",
   "execution_count": 14,
   "metadata": {},
   "outputs": [],
   "source": [
    "best_dtc = DecisionTreeClassifier(max_depth = set_parameters[ind_bst][0],min_samples_leaf= set_parameters[ind_bst][1], random_state=19)\n",
    "for i in range(len(N)):\n",
    "    Xb_tr, Xb_o, Yb_tr, Yb_o = train_test_split(X, Y,test_size=((N[i]/X.shape[0])*0.4/0.6),train_size=N[i]/X.shape[0],random_state=19)  \n",
    "    Xb_va, Xb_ts, Yb_va, Yb_ts = train_test_split(Xb_o, Yb_o, test_size=0.5, train_size = 0.5, random_state=19)                                        \n",
    "    y_pred = dtc.predict(Xb_ts)\n",
    "    accur[i] = accuracy_score(Yb_ts,y_pred)\n",
    "    Conf_Mat[i,:,:] = confusion_matrix(Yb_ts,y_pred)"
   ]
  },
  {
   "cell_type": "markdown",
   "metadata": {},
   "source": [
    "La cantidad de datos son 4075, como se debe ir aumentando la muestra para el entrenamiento del modelo maximo esta puede llegar maximo a 2,437, que representa alrededor del 60% de los datos, de ahi en adelante no hay forma de seguir entrenando. \n",
    "El mejor accuracy está es para un tamaño de muestra de 2,227, llegando a 0.536 de ahi el modelo empieza a desmejorar."
   ]
  },
  {
   "cell_type": "code",
   "execution_count": 15,
   "metadata": {},
   "outputs": [
    {
     "data": {
      "text/plain": [
       "0.5349794238683128"
      ]
     },
     "execution_count": 15,
     "metadata": {},
     "output_type": "execute_result"
    }
   ],
   "source": [
    "max(accur)"
   ]
  },
  {
   "cell_type": "code",
   "execution_count": 16,
   "metadata": {},
   "outputs": [
    {
     "data": {
      "text/plain": [
       "array([173], dtype=int64)"
      ]
     },
     "execution_count": 16,
     "metadata": {},
     "output_type": "execute_result"
    }
   ],
   "source": [
    "n_bst = np.where(accur == np.amax(accur))[0]\n",
    "n_bst"
   ]
  },
  {
   "cell_type": "code",
   "execution_count": 17,
   "metadata": {},
   "outputs": [
    {
     "data": {
      "text/plain": [
       "array([0.53497942])"
      ]
     },
     "execution_count": 17,
     "metadata": {},
     "output_type": "execute_result"
    }
   ],
   "source": [
    "accur[n_bst]"
   ]
  },
  {
   "cell_type": "code",
   "execution_count": 18,
   "metadata": {},
   "outputs": [],
   "source": [
    "a = []\n",
    "for i in range(0,244): #len(N)-1\n",
    "    i=n+i*step\n",
    "    a.append(i)\n",
    "#print(a)"
   ]
  },
  {
   "cell_type": "code",
   "execution_count": 19,
   "metadata": {},
   "outputs": [
    {
     "data": {
      "text/plain": [
       "Text(0.5, 0, 'Cantidad datos')"
      ]
     },
     "execution_count": 19,
     "metadata": {},
     "output_type": "execute_result"
    },
    {
     "data": {
      "image/png": "[encoded data removed]",
      "text/plain": [
       "<Figure size 432x288 with 1 Axes>"
      ]
     },
     "metadata": {
      "needs_background": "light"
     },
     "output_type": "display_data"
    }
   ],
   "source": [
    "plt.plot(a,accur)\n",
    "plt.title('Accuracy', y=1.1)\n",
    "plt.ylabel('Accuracy')\n",
    "plt.xlabel('Cantidad datos')"
   ]
  },
  {
   "cell_type": "code",
   "execution_count": 20,
   "metadata": {},
   "outputs": [
    {
     "data": {
      "text/plain": [
       "Text(0.5, 257.44, 'Predicted label')"
      ]
     },
     "execution_count": 20,
     "metadata": {},
     "output_type": "execute_result"
    },
    {
     "data": {
      "image/png": "[encoded data removed]",
      "text/plain": [
       "<Figure size 432x288 with 2 Axes>"
      ]
     },
     "metadata": {
      "needs_background": "light"
     },
     "output_type": "display_data"
    }
   ],
   "source": [
    "class_names=[-1,0,1] # name  of classes\n",
    "fig, ax = plt.subplots()\n",
    "tick_marks = np.arange(len(class_names))\n",
    "plt.xticks(tick_marks, class_names)\n",
    "plt.yticks(tick_marks, class_names)\n",
    "# create heatmap\n",
    "sns.heatmap(pd.DataFrame(Conf_Mat[159]), annot=True, cmap=\"YlGnBu\" ,fmt='g')\n",
    "ax.xaxis.set_label_position(\"top\")\n",
    "plt.tight_layout()\n",
    "plt.title('Confusion matrix', y=1.1)\n",
    "plt.ylabel('Actual label')\n",
    "plt.xlabel('Predicted label')"
   ]
  },
  {
   "cell_type": "markdown",
   "metadata": {},
   "source": [
    "# Tratando de convertir el problema binario"
   ]
  },
  {
   "cell_type": "code",
   "execution_count": 32,
   "metadata": {},
   "outputs": [],
   "source": [
    "from sklearn.metrics import roc_curve, roc_auc_score,auc\n",
    "from matplotlib import pyplot as plt\n",
    "from sklearn.preprocessing import label_binarize\n",
    "from sklearn.multiclass import OneVsRestClassifier\n",
    "from itertools import cycle"
   ]
  },
  {
   "cell_type": "code",
   "execution_count": 34,
   "metadata": {},
   "outputs": [
    {
     "data": {
      "text/plain": [
       "3"
      ]
     },
     "execution_count": 34,
     "metadata": {},
     "output_type": "execute_result"
    }
   ],
   "source": [
    "# Binarize the output\n",
    "y = label_binarize(Y, classes=[-1, 0, 1])\n",
    "n_classes = y.shape[1]\n",
    "n_classes\n"
   ]
  },
  {
   "cell_type": "code",
   "execution_count": 35,
   "metadata": {},
   "outputs": [],
   "source": [
    "Xb_tr, Xb_o, Yb_tr, Yb_o = train_test_split(X, y,test_size=((N[int(n_bst)]/X.shape[0])*0.4/0.6),train_size=N[int(n_bst)]/X.shape[0],random_state=19)  \n",
    "Xb_va, Xb_ts, Yb_va, Yb_ts = train_test_split(Xb_o, Yb_o, test_size=0.5, train_size = 0.5, random_state=19)  \n",
    "Tree = DecisionTreeClassifier(max_depth = set_parameters[ind_bst][0],min_samples_leaf= set_parameters[ind_bst][1], random_state=19)\n",
    "y_pred = dtc.predict(Xb_ts)\n",
    "#accur= accuracy_score(Yb_ts,y_pred)\n",
    "#Conf_Mat = confusion_matrix(Yb_ts,y_pred)\n",
    "#np.ravel(Y)"
   ]
  },
  {
   "cell_type": "code",
   "execution_count": 36,
   "metadata": {},
   "outputs": [],
   "source": [
    "# https://www.programcreek.com/python/example/94869/sklearn.multiclass.OneVsRestClassifier\n",
    "classifier = OneVsRestClassifier(DecisionTreeClassifier(max_depth =3,min_samples_leaf= 98, random_state=0))\n",
    "y_score = classifier.fit(Xb_tr, Yb_tr).predict_proba(Xb_ts)"
   ]
  },
  {
   "cell_type": "code",
   "execution_count": 37,
   "metadata": {},
   "outputs": [
    {
     "data": {
      "image/png": "[encoded data removed]",
      "text/plain": [
       "<Figure size 432x288 with 1 Axes>"
      ]
     },
     "metadata": {
      "needs_background": "light"
     },
     "output_type": "display_data"
    }
   ],
   "source": [
    "# Compute ROC curve and ROC area for each class\n",
    "fpr = dict()\n",
    "tpr = dict()\n",
    "\n",
    "roc_auc = dict()\n",
    "for i in range(n_classes):\n",
    "    fpr[i], tpr[i], _ = roc_curve(Yb_ts[:, i], y_score[:, i])\n",
    "    roc_auc[i] = auc(fpr[i], tpr[i])\n",
    "\n",
    "# Compute micro-average ROC curve and ROC area\n",
    "fpr[\"micro\"], tpr[\"micro\"], _ = roc_curve(Yb_ts.ravel(), y_score.ravel())\n",
    "roc_auc[\"micro\"] = auc(fpr[\"micro\"], tpr[\"micro\"])\n",
    "plt.figure()\n",
    "lw = 1\n",
    "plt.plot(fpr[0], tpr[0], color='darkorange', lw=lw, label='ROC curve (area = %0.2f)' % roc_auc[0])\n",
    "plt.plot([0, 1], [0, 1], color='navy', lw=lw, linestyle='--')\n",
    "plt.xlim([0.0, 1.0])\n",
    "plt.ylim([0.0, 1.05])\n",
    "plt.xlabel('False Positive Rate')\n",
    "plt.ylabel('True Positive Rate')\n",
    "plt.title('Receiver operating characteristic example')\n",
    "plt.legend(loc=\"lower right\")\n",
    "plt.show()"
   ]
  },
  {
   "cell_type": "markdown",
   "metadata": {},
   "source": [
    "# ROC  por clase"
   ]
  },
  {
   "cell_type": "code",
   "execution_count": null,
   "metadata": {},
   "outputs": [],
   "source": [
    "X_train, X_o, y_train, y_o = train_test_split(X, y,test_size=((N[int(n_bst)]/X.shape[0])*0.4/0.6),train_size=N[int(n_bst)]/X.shape[0],random_state=19)  \n",
    "Xb_va, Xb_test, Yb_va, Yb_test = train_test_split(Xb_o, Yb_o, test_size=0.5, train_size = 0.5, random_state=19)  \n",
    "\n",
    "classifier2 = OneVsRestClassifier(DecisionTreeClassifier(max_depth = set_parameters[ind_bst][0],min_samples_leaf= set_parameters[ind_bst][1],random_state=0))\n",
    "y_score2 = classifier2.fit(X_train, y_train).predict_proba(X_test)"
   ]
  },
  {
   "cell_type": "code",
   "execution_count": 46,
   "metadata": {},
   "outputs": [],
   "source": [
    "fpr = dict()\n",
    "tpr = dict()\n",
    "roc_auc = dict()\n",
    "for i in range(n_classes):\n",
    "    fpr[i], tpr[i], _ = roc_curve(y_test[:, i], y_score2[:, i])\n",
    "    roc_auc[i] = auc(fpr[i], tpr[i])\n",
    "colors = cycle(['blue', 'red', 'green'])"
   ]
  },
  {
   "cell_type": "code",
   "execution_count": 47,
   "metadata": {},
   "outputs": [
    {
     "data": {
      "image/png": "[encoded data removed]",
      "text/plain": [
       "<Figure size 432x288 with 1 Axes>"
      ]
     },
     "metadata": {
      "needs_background": "light"
     },
     "output_type": "display_data"
    }
   ],
   "source": [
    "for i, color in zip(range(n_classes), colors):\n",
    "    plt.plot(fpr[i], tpr[i], color=color, lw=lw,\n",
    "             label='ROC curve of class {0} (area = {1:0.2f})'\n",
    "             ''.format(i, roc_auc[i]))\n",
    "\n",
    "plt.plot([0, 1], [0, 1], 'k--', lw=lw)\n",
    "plt.xlim([-0.05, 1.0])\n",
    "plt.ylim([0.0, 1.05])\n",
    "plt.xlabel('False Positive Rate')\n",
    "plt.ylabel('True Positive Rate')\n",
    "plt.title('Receiver operating characteristic for multi-class data')\n",
    "plt.legend(loc=\"lower right\")\n",
    "plt.show()"
   ]
  },
  {
   "cell_type": "code",
   "execution_count": null,
   "metadata": {},
   "outputs": [],
   "source": []
  }
 ],
 "metadata": {
  "kernelspec": {
   "display_name": "Python 3",
   "language": "python",
   "name": "python3"
  },
  "language_info": {
   "codemirror_mode": {
    "name": "ipython",
    "version": 3
   },
   "file_extension": ".py",
   "mimetype": "text/x-python",
   "name": "python",
   "nbconvert_exporter": "python",
   "pygments_lexer": "ipython3",
   "version": "3.7.1"
  }
 },
 "nbformat": 4,
 "nbformat_minor": 2
}
