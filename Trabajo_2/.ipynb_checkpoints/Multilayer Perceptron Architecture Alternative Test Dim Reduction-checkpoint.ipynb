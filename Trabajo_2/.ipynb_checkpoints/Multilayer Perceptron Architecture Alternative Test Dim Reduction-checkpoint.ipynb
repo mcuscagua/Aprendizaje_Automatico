{
 "cells": [
  {
   "cell_type": "code",
   "execution_count": 3,
   "metadata": {},
   "outputs": [],
   "source": [
    "import time\n",
    "import numpy as np\n",
    "import pandas as pd\n",
    "import itertools as it\n",
    "from sklearn.model_selection import train_test_split, GridSearchCV, cross_val_score, learning_curve\n",
    "from sklearn.neural_network import MLPClassifier\n",
    "from sklearn.metrics import roc_curve, precision_score, accuracy_score, roc_auc_score\n",
    "from sklearn.preprocessing import StandardScaler\n",
    "import matplotlib.pylab as plt\n",
    "\n",
    "from sklearn.manifold import TSNE\n",
    "\n",
    "import plotly.graph_objects as go\n",
    "\n",
    "standarscaler = StandardScaler()\n",
    "\n",
    "from warnings import filterwarnings\n",
    "filterwarnings('ignore')"
   ]
  },
  {
   "cell_type": "code",
   "execution_count": 4,
   "metadata": {},
   "outputs": [],
   "source": [
    "Data = pd.read_csv('https://raw.githubusercontent.com/mcuscagua/Aprendizaje_Automatico/master/Trabajo_2/Data.csv')\n",
    "Data = Data.set_index('Date')\n",
    "Y = Data['Class']\n",
    "X = Data.drop('Class', axis = 1)\n",
    "\n",
    "X_train, X_test, Y_train, Y_test = train_test_split(X, Y, test_size=0.2)\n",
    "\n",
    "X_train_Stand = standarscaler.fit_transform(X_train)\n",
    "X_test_Stand = standarscaler.transform(X_test)"
   ]
  },
  {
   "cell_type": "code",
   "execution_count": 5,
   "metadata": {},
   "outputs": [],
   "source": [
    "Neurons = [x+1 for x in range(10)]\n",
    "all_combinations = [[] for k in range(len(Neurons))]\n",
    "for i in range(10):\n",
    "    for j in range(10):\n",
    "        all_combinations[i].append(tuple((i+1 for k in range(j+1))))"
   ]
  },
  {
   "cell_type": "code",
   "execution_count": 6,
   "metadata": {},
   "outputs": [],
   "source": [
    "TrSCr_LC_V02 = np.ndarray((len(all_combinations), 5, len(all_combinations[0])))\n",
    "TeSCr_LC_V02 = np.ndarray((len(all_combinations), 5, len(all_combinations[0])))\n",
    "AUC_v02 = np.zeros((len(all_combinations), len(all_combinations[0])))\n",
    "Accuracy_v02 = np.zeros((len(all_combinations), len(all_combinations[0])))\n",
    "\n",
    "TrSCr_LC_V05 = np.ndarray((len(all_combinations), 5, len(all_combinations[0])))\n",
    "TeSCr_LC_V05 = np.ndarray((len(all_combinations), 5, len(all_combinations[0])))\n",
    "AUC_v05 = np.zeros((len(all_combinations), len(all_combinations[0])))\n",
    "Accuracy_v05 = np.zeros((len(all_combinations), len(all_combinations[0])))\n",
    "\n",
    "TrSCr_LC_V09 = np.ndarray((len(all_combinations), 5, len(all_combinations[0])))\n",
    "TeSCr_LC_V09 = np.ndarray((len(all_combinations), 5, len(all_combinations[0])))\n",
    "AUC_v09 = np.zeros((len(all_combinations), len(all_combinations[0])))\n",
    "Accuracy_v09 = np.zeros((len(all_combinations), len(all_combinations[0])))"
   ]
  },
  {
   "cell_type": "code",
   "execution_count": null,
   "metadata": {},
   "outputs": [],
   "source": [
    "start_time = time.time()\n",
    "for i in range(len(all_combinations)):\n",
    "    for j in range(len(all_combinations[i])):\n",
    "        #--------- LR = 0.2 ---------#\n",
    "        MLPC = MLPClassifier(hidden_layer_sizes=all_combinations[i][j],\n",
    "                                 learning_rate = 'constant',\n",
    "                                 learning_rate_init = 0.2,\n",
    "                                 random_state=0)\n",
    "\n",
    "        MLPP = MLPClassifier(hidden_layer_sizes=all_combinations[i][j],\n",
    "                                 learning_rate = 'constant',\n",
    "                                 learning_rate_init = 0.2,\n",
    "                                 random_state=0)\n",
    "\n",
    "        MLPC.fit(X_train_Stand, Y_train)\n",
    "        y_score = MLPC.predict_proba(X_test_Stand)\n",
    "        y_pred = MLPC.predict(X_test_Stand)\n",
    "\n",
    "        train_sizes, train_scores, test_scores = learning_curve(MLPP, X, Y)\n",
    "\n",
    "        TSZ_LC_V02 = train_sizes\n",
    "        TrSCr_LC_V02[i,:,j] = np.median(train_scores, axis=1)\n",
    "        TeSCr_LC_V02[i,:,j] = np.median(test_scores, axis=1)\n",
    "        AUC_v02[i,j] = roc_auc_score(Y_test, y_pred)\n",
    "        Accuracy_v02[i,j] = accuracy_score(Y_test, y_pred)\n",
    "\n",
    "        #--------- LR = 0.5 ---------#\n",
    "\n",
    "        MLPC = MLPClassifier(hidden_layer_sizes=all_combinations[i][j],\n",
    "                                 learning_rate = 'constant',\n",
    "                                 learning_rate_init = 0.5,\n",
    "                                 random_state=0)\n",
    "\n",
    "        MLPP = MLPClassifier(hidden_layer_sizes=all_combinations[i][j],\n",
    "                                 learning_rate = 'constant',\n",
    "                                 learning_rate_init = 0.5,\n",
    "                                 random_state=0)\n",
    "\n",
    "        MLPC.fit(X_train_Stand, Y_train)\n",
    "        y_score = MLPC.predict_proba(X_test_Stand)\n",
    "        y_pred = MLPC.predict(X_test_Stand)\n",
    "\n",
    "        train_sizes, train_scores, test_scores = learning_curve(MLPP, X, Y)\n",
    "\n",
    "        TrSCr_LC_V05[i,:,j] = np.median(train_scores, axis=1)\n",
    "        TeSCr_LC_V05[i,:,j] = np.median(test_scores, axis=1)\n",
    "        AUC_v05[i,j] = roc_auc_score(Y_test, y_pred)\n",
    "        Accuracy_v05[i,j] = accuracy_score(Y_test, y_pred)\n",
    "\n",
    "        #--------- LR = 0.9 ---------#\n",
    "\n",
    "        MLPC = MLPClassifier(hidden_layer_sizes=all_combinations[i][j],\n",
    "                                 learning_rate = 'constant',\n",
    "                                 learning_rate_init = 0.9,\n",
    "                                 random_state=0)\n",
    "\n",
    "        MLPP = MLPClassifier(hidden_layer_sizes=all_combinations[i][j],\n",
    "                                 learning_rate = 'constant',\n",
    "                                 learning_rate_init = 0.9,\n",
    "                                 random_state=0)\n",
    "\n",
    "        MLPC.fit(X_train_Stand, Y_train)\n",
    "        y_score = MLPC.predict_proba(X_test_Stand)\n",
    "        y_pred = MLPC.predict(X_test_Stand)\n",
    "\n",
    "        train_sizes, train_scores, test_scores = learning_curve(MLPP, X, Y)\n",
    "\n",
    "        TrSCr_LC_V09[i,:,j] = np.median(train_scores, axis=1)\n",
    "        TeSCr_LC_V09[i,:,j] = np.median(test_scores, axis=1)\n",
    "        AUC_v09[i,j] = roc_auc_score(Y_test, y_pred)\n",
    "        Accuracy_v09[i,j] = accuracy_score(Y_test, y_pred)\n",
    "\n",
    "elapsed_time = time.time() - start_time\n",
    "print(elapsed_time)"
   ]
  },
  {
   "cell_type": "markdown",
   "metadata": {},
   "source": [
    "# Resultados"
   ]
  },
  {
   "cell_type": "code",
   "execution_count": null,
   "metadata": {
    "scrolled": false
   },
   "outputs": [],
   "source": [
    "fig1 = go.Figure(data=[go.Surface(z=AUC_v02)])\n",
    "\n",
    "fig1.update_layout(title='AUC Surface', autosize=True,\n",
    "                   scene = dict(xaxis_title='Neurons',\n",
    "                                yaxis_title='Layers',\n",
    "                                zaxis_title='AUC'))\n",
    "fig1.update_yaxes(tickvals=[x+30 for x in range(10)])\n",
    "fig1.update_xaxes(tickvals=[x+30 for x in range(10)])\n",
    "\n",
    "fig1.show()\n",
    "fig1.write_html('AUC_02.html')"
   ]
  },
  {
   "cell_type": "code",
   "execution_count": null,
   "metadata": {},
   "outputs": [],
   "source": [
    "fig2 = go.Figure(data=[go.Surface(z=AUC_v05)])\n",
    "\n",
    "fig2.update_layout(title='AUC Surface', autosize=True,\n",
    "                   scene = dict(xaxis_title='Neurons',\n",
    "                                yaxis_title='Layers',\n",
    "                                zaxis_title='AUC'))\n",
    "fig2.update_yaxes(tickvals=[x+30 for x in range(10)])\n",
    "fig2.update_xaxes(tickvals=[x+30 for x in range(10)])\n",
    "\n",
    "fig2.show()\n",
    "fig2.write_html('AUC_05.html')"
   ]
  },
  {
   "cell_type": "code",
   "execution_count": null,
   "metadata": {},
   "outputs": [],
   "source": [
    "fig3 = go.Figure(data=[go.Surface(z=AUC_v09)])\n",
    "\n",
    "fig3.update_layout(title='AUC Surface', autosize=True,\n",
    "                   scene = dict(xaxis_title='Neurons',\n",
    "                                yaxis_title='Layers',\n",
    "                                zaxis_title='AUC'))\n",
    "fig3.update_yaxes(tickvals=[x+30 for x in range(10)])\n",
    "fig3.update_xaxes(tickvals=[x+30 for x in range(10)])\n",
    "\n",
    "fig3.show()\n",
    "fig3.write_html('AUC_09.html')"
   ]
  },
  {
   "cell_type": "code",
   "execution_count": null,
   "metadata": {},
   "outputs": [],
   "source": [
    "fig4 = go.Figure(data=[go.Surface(z=Accuracy_v02)])\n",
    "\n",
    "fig4.update_layout(title='Accuracy Surface', autosize=True,\n",
    "                   scene = dict(xaxis_title='Neurons',\n",
    "                                yaxis_title='Layers',\n",
    "                                zaxis_title='Accuracy'))\n",
    "fig4.update_yaxes(tickvals=[x+30 for x in range(10)])\n",
    "fig4.update_xaxes(tickvals=[x+30 for x in range(10)])\n",
    "\n",
    "fig4.show()\n",
    "fig4.write_html('ACC_02.html')"
   ]
  },
  {
   "cell_type": "code",
   "execution_count": null,
   "metadata": {},
   "outputs": [],
   "source": [
    "fig5 = go.Figure(data=[go.Surface(z=Accuracy_v05)])\n",
    "\n",
    "fig5.update_layout(title='Accuracy Surface', autosize=True,\n",
    "                   scene = dict(xaxis_title='Neurons',\n",
    "                                yaxis_title='Layers',\n",
    "                                zaxis_title='Accuracy'))\n",
    "fig5.update_yaxes(tickvals=[x+30 for x in range(10)])\n",
    "fig5.update_xaxes(tickvals=[x+30 for x in range(10)])\n",
    "\n",
    "fig5.show()\n",
    "fig5.write_html('ACC_05.html')"
   ]
  },
  {
   "cell_type": "code",
   "execution_count": null,
   "metadata": {},
   "outputs": [],
   "source": [
    "fig6 = go.Figure(data=[go.Surface(z=Accuracy_v09)])\n",
    "\n",
    "fig6.update_layout(title='Accuracy Surface', autosize=True,\n",
    "                   scene = dict(xaxis_title='Neurons',\n",
    "                                yaxis_title='Layers',\n",
    "                                zaxis_title='Accuracy'))\n",
    "fig6.update_yaxes(tickvals=[x+30 for x in range(10)])\n",
    "fig6.update_xaxes(tickvals=[x+30 for x in range(10)])\n",
    "\n",
    "fig6.show()\n",
    "fig6.write_html('ACC_09.html')"
   ]
  },
  {
   "cell_type": "code",
   "execution_count": null,
   "metadata": {
    "scrolled": false
   },
   "outputs": [],
   "source": [
    "for i in range(10):\n",
    "    for j in range(10):\n",
    "        plt.figure()\n",
    "        \n",
    "        plt.title(str(all_combinations[i][j]))\n",
    "        plt.xlabel(\"Training examples\")\n",
    "        plt.ylabel(\"Score\")\n",
    "\n",
    "        plt.grid()\n",
    "        plt.plot(TSZ_LC_V02, TrSCr_LC_V02[i,:,j], 'o-', color=\"r\",\n",
    "                 label=\"Training score\")\n",
    "        plt.plot(TSZ_LC_V02, TeSCr_LC_V02[i,:,j], 'o-', color=\"g\",\n",
    "                 label=\"Cross-validation score\")\n",
    "\n",
    "        plt.legend(loc=\"best\")\n",
    "        plt.show()"
   ]
  },
  {
   "cell_type": "code",
   "execution_count": null,
   "metadata": {},
   "outputs": [],
   "source": []
  },
  {
   "cell_type": "code",
   "execution_count": null,
   "metadata": {},
   "outputs": [],
   "source": []
  },
  {
   "cell_type": "code",
   "execution_count": null,
   "metadata": {},
   "outputs": [],
   "source": []
  },
  {
   "cell_type": "code",
   "execution_count": null,
   "metadata": {},
   "outputs": [],
   "source": []
  },
  {
   "cell_type": "code",
   "execution_count": null,
   "metadata": {},
   "outputs": [],
   "source": []
  },
  {
   "cell_type": "code",
   "execution_count": null,
   "metadata": {},
   "outputs": [],
   "source": []
  },
  {
   "cell_type": "code",
   "execution_count": null,
   "metadata": {},
   "outputs": [],
   "source": []
  },
  {
   "cell_type": "code",
   "execution_count": null,
   "metadata": {},
   "outputs": [],
   "source": []
  }
 ],
 "metadata": {
  "kernelspec": {
   "display_name": "Python 3",
   "language": "python",
   "name": "python3"
  },
  "language_info": {
   "codemirror_mode": {
    "name": "ipython",
    "version": 3
   },
   "file_extension": ".py",
   "mimetype": "text/x-python",
   "name": "python",
   "nbconvert_exporter": "python",
   "pygments_lexer": "ipython3",
   "version": "3.7.3"
  }
 },
 "nbformat": 4,
 "nbformat_minor": 2
}
